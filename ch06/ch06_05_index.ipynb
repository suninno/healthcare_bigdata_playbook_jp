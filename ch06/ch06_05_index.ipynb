{
 "cells": [
  {
   "attachments": {},
   "cell_type": "markdown",
   "id": "4afc3491",
   "metadata": {},
   "source": [
    "## 6.5. Index"
   ]
  },
  {
   "cell_type": "code",
   "execution_count": 1,
   "id": "8efadcb1",
   "metadata": {},
   "outputs": [
    {
     "data": {
      "text/plain": [
       "Int64Index([0, 1, 2, 3, 4, 5, 6, 7, 8, 9], dtype='int64')"
      ]
     },
     "execution_count": 1,
     "metadata": {},
     "output_type": "execute_result"
    }
   ],
   "source": [
    "import pandas as pd\n",
    "import numpy  as np\n",
    "\n",
    "idx1 = pd.Index(np.arange(10))\n",
    "idx1"
   ]
  },
  {
   "cell_type": "code",
   "execution_count": 2,
   "id": "25a52b32",
   "metadata": {},
   "outputs": [
    {
     "data": {
      "text/plain": [
       "2"
      ]
     },
     "execution_count": 2,
     "metadata": {},
     "output_type": "execute_result"
    }
   ],
   "source": [
    "# インデクスでアクセス\n",
    "idx1[2]"
   ]
  },
  {
   "cell_type": "code",
   "execution_count": 3,
   "id": "0c3582b1",
   "metadata": {},
   "outputs": [
    {
     "data": {
      "text/plain": [
       "Int64Index([0, 3, 6, 9], dtype='int64')"
      ]
     },
     "execution_count": 3,
     "metadata": {},
     "output_type": "execute_result"
    }
   ],
   "source": [
    "# スライスでアクセス\n",
    "idx1[::3]"
   ]
  },
  {
   "cell_type": "code",
   "execution_count": 4,
   "id": "99c7a713",
   "metadata": {},
   "outputs": [
    {
     "data": {
      "text/plain": [
       "Int64Index([0, 1, 2, 3, 4], dtype='int64')"
      ]
     },
     "execution_count": 4,
     "metadata": {},
     "output_type": "execute_result"
    }
   ],
   "source": [
    "# マスキング\n",
    "idx1[ idx1 < 5]"
   ]
  },
  {
   "cell_type": "code",
   "execution_count": 5,
   "id": "80c4dd91",
   "metadata": {},
   "outputs": [
    {
     "data": {
      "text/plain": [
       "(10,)"
      ]
     },
     "execution_count": 5,
     "metadata": {},
     "output_type": "execute_result"
    }
   ],
   "source": [
    "# 形状\n",
    "idx1.shape"
   ]
  },
  {
   "cell_type": "code",
   "execution_count": 6,
   "id": "8c4eb4dd",
   "metadata": {},
   "outputs": [],
   "source": [
    "# インデクスの名前変更\n",
    "idx1.name = 'idx1'"
   ]
  },
  {
   "cell_type": "code",
   "execution_count": 7,
   "id": "509eaf5a",
   "metadata": {},
   "outputs": [
    {
     "ename": "TypeError",
     "evalue": "Index does not support mutable operations",
     "output_type": "error",
     "traceback": [
      "\u001b[1;31m---------------------------------------------------------------------------\u001b[0m",
      "\u001b[1;31mTypeError\u001b[0m                                 Traceback (most recent call last)",
      "\u001b[1;32mc:\\works\\healthcare_bigdata\\ch06\\ch06_05_index.ipynb Cell 8\u001b[0m line \u001b[0;36m1\n\u001b[1;32m----> <a href='vscode-notebook-cell:/c%3A/works/healthcare_bigdata/ch06/ch06_05_index.ipynb#X10sZmlsZQ%3D%3D?line=0'>1</a>\u001b[0m idx1[\u001b[39m0\u001b[39;49m] \u001b[39m=\u001b[39m \u001b[39m4\u001b[39m\n",
      "File \u001b[1;32mc:\\Python310\\lib\\site-packages\\pandas\\core\\indexes\\base.py:5345\u001b[0m, in \u001b[0;36mIndex.__setitem__\u001b[1;34m(self, key, value)\u001b[0m\n\u001b[0;32m   5343\u001b[0m \u001b[39m@final\u001b[39m\n\u001b[0;32m   5344\u001b[0m \u001b[39mdef\u001b[39;00m \u001b[39m__setitem__\u001b[39m(\u001b[39mself\u001b[39m, key, value):\n\u001b[1;32m-> 5345\u001b[0m     \u001b[39mraise\u001b[39;00m \u001b[39mTypeError\u001b[39;00m(\u001b[39m\"\u001b[39m\u001b[39mIndex does not support mutable operations\u001b[39m\u001b[39m\"\u001b[39m)\n",
      "\u001b[1;31mTypeError\u001b[0m: Index does not support mutable operations"
     ]
    }
   ],
   "source": [
    "idx1[0] = 4"
   ]
  },
  {
   "cell_type": "markdown",
   "id": "55429bbb",
   "metadata": {},
   "source": [
    "### 6.5.1 マルチ（階層的）インデックス"
   ]
  },
  {
   "cell_type": "code",
   "execution_count": 8,
   "id": "72eafa8a",
   "metadata": {},
   "outputs": [
    {
     "data": {
      "text/plain": [
       "        20230102  20230103  20230104\n",
       "Adams         80        90        95\n",
       "Moses         70        75        72\n",
       "Miriam        75        82        89"
      ]
     },
     "execution_count": 8,
     "metadata": {},
     "output_type": "execute_result"
    }
   ],
   "source": [
    "import pandas as pd\n",
    "import numpy as np\n",
    "\n",
    "pd.set_option('display.notebook_repr_html', False)\n",
    "\n",
    "activities_val = {'20230102': [80, 70, 75],\n",
    "                  '20230103': [90, 75, 82],\n",
    "                  '20230104': [95, 72, 89]}\n",
    "df = pd.DataFrame(data=activities_val, index=['Adams', 'Moses', 'Miriam'])\n",
    "df"
   ]
  },
  {
   "cell_type": "code",
   "execution_count": 9,
   "id": "eb76c3a9",
   "metadata": {},
   "outputs": [
    {
     "data": {
      "text/plain": [
       "                 Act  Breath\n",
       "Adams  20230102   82      64\n",
       "       20230103   58      72\n",
       "       20230104   57      95\n",
       "Moses  20230102   87      67\n",
       "       20230103   64      98\n",
       "       20230104   96      90\n",
       "Miriam 20230102   90      76\n",
       "       20230103   68      55\n",
       "       20230104   88      57"
      ]
     },
     "execution_count": 9,
     "metadata": {},
     "output_type": "execute_result"
    }
   ],
   "source": [
    "multi_idx_df = pd.DataFrame(\n",
    "                # np.random.randint(50, 100, 18).reshape(9,2),\n",
    "                [[82,64],[58,72],[57,95],\n",
    "                 [87,67],[64,98],[96,90],\n",
    "                 [90,76],[68,55],[88,57]],\n",
    "                index=[['Adams','Adams','Adams', 'Moses', 'Moses',\n",
    "                        'Moses','Miriam','Miriam','Miriam'],\n",
    "              ['20230102','20230103','20230104','20230102','20230103',\n",
    "              '20230104','20230102','20230103','20230104']],\n",
    "              columns=['Act', 'Breath'])\n",
    "multi_idx_df"
   ]
  },
  {
   "cell_type": "code",
   "execution_count": 10,
   "id": "b54e55d0",
   "metadata": {},
   "outputs": [
    {
     "name": "stdout",
     "output_type": "stream",
     "text": [
      "<class 'pandas.core.frame.DataFrame'>\n",
      "MultiIndex: 9 entries, ('Adams', '20230102') to ('Miriam', '20230104')\n",
      "Data columns (total 2 columns):\n",
      " #   Column  Non-Null Count  Dtype\n",
      "---  ------  --------------  -----\n",
      " 0   Act     9 non-null      int64\n",
      " 1   Breath  9 non-null      int64\n",
      "dtypes: int64(2)\n",
      "memory usage: 458.0+ bytes\n"
     ]
    }
   ],
   "source": [
    "multi_idx_df.info()"
   ]
  },
  {
   "cell_type": "code",
   "execution_count": 11,
   "id": "e84c042f",
   "metadata": {},
   "outputs": [
    {
     "data": {
      "text/plain": [
       "                 Act  Breath\n",
       "Adams  20230102   57      83\n",
       "       20230103   82      62\n",
       "       20230104   75      69\n",
       "Moses  20230102   81      88\n",
       "       20230103   78      86\n",
       "       20230104   76      78\n",
       "Miriam 20230102   68      99\n",
       "       20230103   99      87\n",
       "       20230104   63      62"
      ]
     },
     "execution_count": 11,
     "metadata": {},
     "output_type": "execute_result"
    }
   ],
   "source": [
    "idx = pd.MultiIndex.from_product([['Adams','Moses', 'Miriam'],\n",
    "                                  ['20230102','20230103','20230104']])\n",
    "multi_idx_product_df = pd.DataFrame(\n",
    "  # np.random.randint(50, 100, 18).reshape(9,2),\n",
    "                  [[57,83],[82,62],[75,69],\n",
    "                 [81,88],[78,86],[76,78],\n",
    "                 [68,99],[99,87],[63,62]],\n",
    "                 index=idx, columns=['Act', 'Breath'])\n",
    "multi_idx_product_df"
   ]
  },
  {
   "cell_type": "code",
   "execution_count": 12,
   "id": "b70fe8cd",
   "metadata": {},
   "outputs": [
    {
     "data": {
      "text/plain": [
       "                    Act  Breath\n",
       "FirstName Date                 \n",
       "Adams     20230102   92      96\n",
       "          20230103   90      98\n",
       "          20230104   66      86\n",
       "Moses     20230102   87      58\n",
       "          20230103   57      82\n",
       "          20230104   98      98\n",
       "Miriam    20230102   76      83\n",
       "          20230103   58      76\n",
       "          20230104   62      99"
      ]
     },
     "execution_count": 12,
     "metadata": {},
     "output_type": "execute_result"
    }
   ],
   "source": [
    "tuple_index = \\\n",
    "   [('Adams', '20230102'), ('Adams', '20230103'), ('Adams', '20230104'),\n",
    "   ('Moses', '20230102'),('Moses', '20230103'),('Moses', '20230104'),\n",
    "   ('Miriam', '20230102'),('Miriam', '20230103'),('Miriam', '20230104')\n",
    "   ]\n",
    "\n",
    "multi_index = pd.MultiIndex.from_tuples(tuple_index)\n",
    "multi_index.names = ['FirstName','Date'] # インデクスの名前変更\n",
    "#data=np.random.randint(50, 100, 18).reshape(9,2),\n",
    "multi_idx_tuple_df = pd.DataFrame(\n",
    "                          data=np.array([[92,96],[90,98],[66,86],[87,58],[57,82],\n",
    "                                         [98,98],[76,83],[58,76],[62,99]]),\n",
    "                          index=multi_index, columns=['Act', 'Breath'])\n",
    "multi_idx_tuple_df"
   ]
  },
  {
   "cell_type": "code",
   "execution_count": 13,
   "id": "28b58870",
   "metadata": {},
   "outputs": [
    {
     "data": {
      "text/plain": [
       "                    Act  Breath\n",
       "FirstName Date                 \n",
       "Adams     20230102   92      96\n",
       "          20230103   90      98\n",
       "          20230104   66      86\n",
       "Miriam    20230102   76      83\n",
       "          20230103   58      76\n",
       "          20230104   62      99\n",
       "Moses     20230102   87      58\n",
       "          20230103   57      82\n",
       "          20230104   98      98"
      ]
     },
     "execution_count": 13,
     "metadata": {},
     "output_type": "execute_result"
    }
   ],
   "source": [
    "multi_idx_tuple_df.sort_index(inplace=True)\n",
    "multi_idx_tuple_df"
   ]
  },
  {
   "attachments": {},
   "cell_type": "markdown",
   "id": "e580c255",
   "metadata": {},
   "source": [
    "### 6.5.2 インデックスを使用してデータにアクセスする"
   ]
  },
  {
   "cell_type": "markdown",
   "id": "f9a28524",
   "metadata": {},
   "source": [
    "#### iloc, loc[]属性"
   ]
  },
  {
   "cell_type": "code",
   "execution_count": 14,
   "id": "76086e4e",
   "metadata": {},
   "outputs": [
    {
     "data": {
      "text/plain": [
       "                    Act\n",
       "FirstName Date         \n",
       "Adams     20230102   92\n",
       "          20230103   90\n",
       "          20230104   66"
      ]
     },
     "execution_count": 14,
     "metadata": {},
     "output_type": "execute_result"
    }
   ],
   "source": [
    "# 暗黙的インデクスでアクセス（3行目まで、1列目まで）\n",
    "multi_idx_tuple_df.iloc[:3, :1]"
   ]
  },
  {
   "cell_type": "code",
   "execution_count": 15,
   "id": "f2947d51",
   "metadata": {},
   "outputs": [
    {
     "data": {
      "text/plain": [
       "          Act  Breath\n",
       "Date                 \n",
       "20230102   92      96\n",
       "20230103   90      98\n",
       "20230104   66      86"
      ]
     },
     "execution_count": 15,
     "metadata": {},
     "output_type": "execute_result"
    }
   ],
   "source": [
    "# 明示的インデックスでのアクセス\n",
    "multi_idx_tuple_df.loc['Adams',:]"
   ]
  },
  {
   "cell_type": "code",
   "execution_count": 16,
   "id": "015057e4",
   "metadata": {},
   "outputs": [
    {
     "data": {
      "text/plain": [
       "Act       90\n",
       "Breath    98\n",
       "Name: (Adams, 20230103), dtype: int32"
      ]
     },
     "execution_count": 16,
     "metadata": {},
     "output_type": "execute_result"
    }
   ],
   "source": [
    "# 明示的インデックスでのアクセス\n",
    "multi_idx_tuple_df.loc['Adams','20230103']"
   ]
  },
  {
   "cell_type": "code",
   "execution_count": 17,
   "id": "bcc6f7b6",
   "metadata": {},
   "outputs": [
    {
     "data": {
      "text/plain": [
       "                    Act  Breath\n",
       "FirstName Date                 \n",
       "Adams     20230102   92      96\n",
       "          20230103   90      98\n",
       "          20230104   66      86\n",
       "Miriam    20230102   76      83\n",
       "          20230103   58      76\n",
       "          20230104   62      99"
      ]
     },
     "execution_count": 17,
     "metadata": {},
     "output_type": "execute_result"
    }
   ],
   "source": [
    "# ファンシーインデックスも可能\n",
    "multi_idx_tuple_df.loc[['Adams','Miriam']]"
   ]
  },
  {
   "cell_type": "code",
   "execution_count": 18,
   "id": "0532a004",
   "metadata": {},
   "outputs": [
    {
     "ename": "KeyError",
     "evalue": "'20230103'",
     "output_type": "error",
     "traceback": [
      "\u001b[1;31m---------------------------------------------------------------------------\u001b[0m",
      "\u001b[1;31mKeyError\u001b[0m                                  Traceback (most recent call last)",
      "File \u001b[1;32mc:\\Python310\\lib\\site-packages\\pandas\\core\\indexes\\base.py:3803\u001b[0m, in \u001b[0;36mIndex.get_loc\u001b[1;34m(self, key, method, tolerance)\u001b[0m\n\u001b[0;32m   3802\u001b[0m \u001b[39mtry\u001b[39;00m:\n\u001b[1;32m-> 3803\u001b[0m     \u001b[39mreturn\u001b[39;00m \u001b[39mself\u001b[39;49m\u001b[39m.\u001b[39;49m_engine\u001b[39m.\u001b[39;49mget_loc(casted_key)\n\u001b[0;32m   3804\u001b[0m \u001b[39mexcept\u001b[39;00m \u001b[39mKeyError\u001b[39;00m \u001b[39mas\u001b[39;00m err:\n",
      "File \u001b[1;32mc:\\Python310\\lib\\site-packages\\pandas\\_libs\\index.pyx:138\u001b[0m, in \u001b[0;36mpandas._libs.index.IndexEngine.get_loc\u001b[1;34m()\u001b[0m\n",
      "File \u001b[1;32mc:\\Python310\\lib\\site-packages\\pandas\\_libs\\index.pyx:165\u001b[0m, in \u001b[0;36mpandas._libs.index.IndexEngine.get_loc\u001b[1;34m()\u001b[0m\n",
      "File \u001b[1;32mpandas\\_libs\\hashtable_class_helper.pxi:5745\u001b[0m, in \u001b[0;36mpandas._libs.hashtable.PyObjectHashTable.get_item\u001b[1;34m()\u001b[0m\n",
      "File \u001b[1;32mpandas\\_libs\\hashtable_class_helper.pxi:5753\u001b[0m, in \u001b[0;36mpandas._libs.hashtable.PyObjectHashTable.get_item\u001b[1;34m()\u001b[0m\n",
      "\u001b[1;31mKeyError\u001b[0m: '20230103'",
      "\nThe above exception was the direct cause of the following exception:\n",
      "\u001b[1;31mKeyError\u001b[0m                                  Traceback (most recent call last)",
      "\u001b[1;32mc:\\works\\healthcare_bigdata\\ch06\\ch06_05_index.ipynb Cell 22\u001b[0m line \u001b[0;36m1\n\u001b[1;32m----> <a href='vscode-notebook-cell:/c%3A/works/healthcare_bigdata/ch06/ch06_05_index.ipynb#X30sZmlsZQ%3D%3D?line=0'>1</a>\u001b[0m multi_idx_df\u001b[39m.\u001b[39;49mloc[:, \u001b[39m'\u001b[39;49m\u001b[39m20230103\u001b[39;49m\u001b[39m'\u001b[39;49m]\n",
      "File \u001b[1;32mc:\\Python310\\lib\\site-packages\\pandas\\core\\indexing.py:1067\u001b[0m, in \u001b[0;36m_LocationIndexer.__getitem__\u001b[1;34m(self, key)\u001b[0m\n\u001b[0;32m   1065\u001b[0m     \u001b[39mif\u001b[39;00m \u001b[39mself\u001b[39m\u001b[39m.\u001b[39m_is_scalar_access(key):\n\u001b[0;32m   1066\u001b[0m         \u001b[39mreturn\u001b[39;00m \u001b[39mself\u001b[39m\u001b[39m.\u001b[39mobj\u001b[39m.\u001b[39m_get_value(\u001b[39m*\u001b[39mkey, takeable\u001b[39m=\u001b[39m\u001b[39mself\u001b[39m\u001b[39m.\u001b[39m_takeable)\n\u001b[1;32m-> 1067\u001b[0m     \u001b[39mreturn\u001b[39;00m \u001b[39mself\u001b[39;49m\u001b[39m.\u001b[39;49m_getitem_tuple(key)\n\u001b[0;32m   1068\u001b[0m \u001b[39melse\u001b[39;00m:\n\u001b[0;32m   1069\u001b[0m     \u001b[39m# we by definition only have the 0th axis\u001b[39;00m\n\u001b[0;32m   1070\u001b[0m     axis \u001b[39m=\u001b[39m \u001b[39mself\u001b[39m\u001b[39m.\u001b[39maxis \u001b[39mor\u001b[39;00m \u001b[39m0\u001b[39m\n",
      "File \u001b[1;32mc:\\Python310\\lib\\site-packages\\pandas\\core\\indexing.py:1247\u001b[0m, in \u001b[0;36m_LocIndexer._getitem_tuple\u001b[1;34m(self, tup)\u001b[0m\n\u001b[0;32m   1245\u001b[0m \u001b[39mwith\u001b[39;00m suppress(IndexingError):\n\u001b[0;32m   1246\u001b[0m     tup \u001b[39m=\u001b[39m \u001b[39mself\u001b[39m\u001b[39m.\u001b[39m_expand_ellipsis(tup)\n\u001b[1;32m-> 1247\u001b[0m     \u001b[39mreturn\u001b[39;00m \u001b[39mself\u001b[39;49m\u001b[39m.\u001b[39;49m_getitem_lowerdim(tup)\n\u001b[0;32m   1249\u001b[0m \u001b[39m# no multi-index, so validate all of the indexers\u001b[39;00m\n\u001b[0;32m   1250\u001b[0m tup \u001b[39m=\u001b[39m \u001b[39mself\u001b[39m\u001b[39m.\u001b[39m_validate_tuple_indexer(tup)\n",
      "File \u001b[1;32mc:\\Python310\\lib\\site-packages\\pandas\\core\\indexing.py:941\u001b[0m, in \u001b[0;36m_LocationIndexer._getitem_lowerdim\u001b[1;34m(self, tup)\u001b[0m\n\u001b[0;32m    939\u001b[0m \u001b[39m# we may have a nested tuples indexer here\u001b[39;00m\n\u001b[0;32m    940\u001b[0m \u001b[39mif\u001b[39;00m \u001b[39mself\u001b[39m\u001b[39m.\u001b[39m_is_nested_tuple_indexer(tup):\n\u001b[1;32m--> 941\u001b[0m     \u001b[39mreturn\u001b[39;00m \u001b[39mself\u001b[39;49m\u001b[39m.\u001b[39;49m_getitem_nested_tuple(tup)\n\u001b[0;32m    943\u001b[0m \u001b[39m# we maybe be using a tuple to represent multiple dimensions here\u001b[39;00m\n\u001b[0;32m    944\u001b[0m ax0 \u001b[39m=\u001b[39m \u001b[39mself\u001b[39m\u001b[39m.\u001b[39mobj\u001b[39m.\u001b[39m_get_axis(\u001b[39m0\u001b[39m)\n",
      "File \u001b[1;32mc:\\Python310\\lib\\site-packages\\pandas\\core\\indexing.py:1047\u001b[0m, in \u001b[0;36m_LocationIndexer._getitem_nested_tuple\u001b[1;34m(self, tup)\u001b[0m\n\u001b[0;32m   1044\u001b[0m     axis \u001b[39m-\u001b[39m\u001b[39m=\u001b[39m \u001b[39m1\u001b[39m\n\u001b[0;32m   1045\u001b[0m     \u001b[39mcontinue\u001b[39;00m\n\u001b[1;32m-> 1047\u001b[0m obj \u001b[39m=\u001b[39m \u001b[39mgetattr\u001b[39;49m(obj, \u001b[39mself\u001b[39;49m\u001b[39m.\u001b[39;49mname)\u001b[39m.\u001b[39;49m_getitem_axis(key, axis\u001b[39m=\u001b[39;49maxis)\n\u001b[0;32m   1048\u001b[0m axis \u001b[39m-\u001b[39m\u001b[39m=\u001b[39m \u001b[39m1\u001b[39m\n\u001b[0;32m   1050\u001b[0m \u001b[39m# if we have a scalar, we are done\u001b[39;00m\n",
      "File \u001b[1;32mc:\\Python310\\lib\\site-packages\\pandas\\core\\indexing.py:1312\u001b[0m, in \u001b[0;36m_LocIndexer._getitem_axis\u001b[1;34m(self, key, axis)\u001b[0m\n\u001b[0;32m   1310\u001b[0m \u001b[39m# fall thru to straight lookup\u001b[39;00m\n\u001b[0;32m   1311\u001b[0m \u001b[39mself\u001b[39m\u001b[39m.\u001b[39m_validate_key(key, axis)\n\u001b[1;32m-> 1312\u001b[0m \u001b[39mreturn\u001b[39;00m \u001b[39mself\u001b[39;49m\u001b[39m.\u001b[39;49m_get_label(key, axis\u001b[39m=\u001b[39;49maxis)\n",
      "File \u001b[1;32mc:\\Python310\\lib\\site-packages\\pandas\\core\\indexing.py:1260\u001b[0m, in \u001b[0;36m_LocIndexer._get_label\u001b[1;34m(self, label, axis)\u001b[0m\n\u001b[0;32m   1258\u001b[0m \u001b[39mdef\u001b[39;00m \u001b[39m_get_label\u001b[39m(\u001b[39mself\u001b[39m, label, axis: \u001b[39mint\u001b[39m):\n\u001b[0;32m   1259\u001b[0m     \u001b[39m# GH#5567 this will fail if the label is not present in the axis.\u001b[39;00m\n\u001b[1;32m-> 1260\u001b[0m     \u001b[39mreturn\u001b[39;00m \u001b[39mself\u001b[39;49m\u001b[39m.\u001b[39;49mobj\u001b[39m.\u001b[39;49mxs(label, axis\u001b[39m=\u001b[39;49maxis)\n",
      "File \u001b[1;32mc:\\Python310\\lib\\site-packages\\pandas\\core\\generic.py:4041\u001b[0m, in \u001b[0;36mNDFrame.xs\u001b[1;34m(self, key, axis, level, drop_level)\u001b[0m\n\u001b[0;32m   4039\u001b[0m \u001b[39mif\u001b[39;00m axis \u001b[39m==\u001b[39m \u001b[39m1\u001b[39m:\n\u001b[0;32m   4040\u001b[0m     \u001b[39mif\u001b[39;00m drop_level:\n\u001b[1;32m-> 4041\u001b[0m         \u001b[39mreturn\u001b[39;00m \u001b[39mself\u001b[39;49m[key]\n\u001b[0;32m   4042\u001b[0m     index \u001b[39m=\u001b[39m \u001b[39mself\u001b[39m\u001b[39m.\u001b[39mcolumns\n\u001b[0;32m   4043\u001b[0m \u001b[39melse\u001b[39;00m:\n",
      "File \u001b[1;32mc:\\Python310\\lib\\site-packages\\pandas\\core\\frame.py:3805\u001b[0m, in \u001b[0;36mDataFrame.__getitem__\u001b[1;34m(self, key)\u001b[0m\n\u001b[0;32m   3803\u001b[0m \u001b[39mif\u001b[39;00m \u001b[39mself\u001b[39m\u001b[39m.\u001b[39mcolumns\u001b[39m.\u001b[39mnlevels \u001b[39m>\u001b[39m \u001b[39m1\u001b[39m:\n\u001b[0;32m   3804\u001b[0m     \u001b[39mreturn\u001b[39;00m \u001b[39mself\u001b[39m\u001b[39m.\u001b[39m_getitem_multilevel(key)\n\u001b[1;32m-> 3805\u001b[0m indexer \u001b[39m=\u001b[39m \u001b[39mself\u001b[39;49m\u001b[39m.\u001b[39;49mcolumns\u001b[39m.\u001b[39;49mget_loc(key)\n\u001b[0;32m   3806\u001b[0m \u001b[39mif\u001b[39;00m is_integer(indexer):\n\u001b[0;32m   3807\u001b[0m     indexer \u001b[39m=\u001b[39m [indexer]\n",
      "File \u001b[1;32mc:\\Python310\\lib\\site-packages\\pandas\\core\\indexes\\base.py:3805\u001b[0m, in \u001b[0;36mIndex.get_loc\u001b[1;34m(self, key, method, tolerance)\u001b[0m\n\u001b[0;32m   3803\u001b[0m     \u001b[39mreturn\u001b[39;00m \u001b[39mself\u001b[39m\u001b[39m.\u001b[39m_engine\u001b[39m.\u001b[39mget_loc(casted_key)\n\u001b[0;32m   3804\u001b[0m \u001b[39mexcept\u001b[39;00m \u001b[39mKeyError\u001b[39;00m \u001b[39mas\u001b[39;00m err:\n\u001b[1;32m-> 3805\u001b[0m     \u001b[39mraise\u001b[39;00m \u001b[39mKeyError\u001b[39;00m(key) \u001b[39mfrom\u001b[39;00m \u001b[39merr\u001b[39;00m\n\u001b[0;32m   3806\u001b[0m \u001b[39mexcept\u001b[39;00m \u001b[39mTypeError\u001b[39;00m:\n\u001b[0;32m   3807\u001b[0m     \u001b[39m# If we have a listlike key, _check_indexing_error will raise\u001b[39;00m\n\u001b[0;32m   3808\u001b[0m     \u001b[39m#  InvalidIndexError. Otherwise we fall through and re-raise\u001b[39;00m\n\u001b[0;32m   3809\u001b[0m     \u001b[39m#  the TypeError.\u001b[39;00m\n\u001b[0;32m   3810\u001b[0m     \u001b[39mself\u001b[39m\u001b[39m.\u001b[39m_check_indexing_error(key)\n",
      "\u001b[1;31mKeyError\u001b[0m: '20230103'"
     ]
    }
   ],
   "source": [
    "multi_idx_df.loc[:, '20230103']"
   ]
  },
  {
   "cell_type": "code",
   "execution_count": 19,
   "id": "804cd745",
   "metadata": {},
   "outputs": [
    {
     "data": {
      "text/plain": [
       "                 Act  Breath\n",
       "Adams  20230102   82      64\n",
       "Moses  20230102   87      67\n",
       "Miriam 20230102   90      76"
      ]
     },
     "execution_count": 19,
     "metadata": {},
     "output_type": "execute_result"
    }
   ],
   "source": [
    "multi_idx_df.loc[(slice(None), '20230102'), :]"
   ]
  },
  {
   "cell_type": "code",
   "execution_count": 20,
   "id": "2ace0903",
   "metadata": {},
   "outputs": [
    {
     "data": {
      "text/plain": [
       "                    Act  Breath\n",
       "FirstName Date                 \n",
       "Adams     20230102   92      96\n",
       "Miriam    20230102   76      83\n",
       "Moses     20230102   87      58"
      ]
     },
     "execution_count": 20,
     "metadata": {},
     "output_type": "execute_result"
    }
   ],
   "source": [
    "# pd.IndexSliceで「レベル0」検索\n",
    "idx = pd.IndexSlice\n",
    "multi_idx_tuple_df.loc[ idx[:, '20230102'], : ]"
   ]
  },
  {
   "cell_type": "code",
   "execution_count": 21,
   "id": "5d1b8f4c",
   "metadata": {},
   "outputs": [
    {
     "data": {
      "text/plain": [
       "                    Act  Breath\n",
       "FirstName Date                 \n",
       "Adams     20230102   92      96\n",
       "Miriam    20230102   76      83\n",
       "Moses     20230102   87      58"
      ]
     },
     "execution_count": 21,
     "metadata": {},
     "output_type": "execute_result"
    }
   ],
   "source": [
    "# queryメソッドで「レベル1」検索\n",
    "multi_idx_tuple_df.query(\"Date == '20230102'\")"
   ]
  },
  {
   "cell_type": "markdown",
   "id": "dd97c2b7",
   "metadata": {},
   "source": [
    "#### xs() メソッド"
   ]
  },
  {
   "cell_type": "code",
   "execution_count": 22,
   "id": "3d8d7d8e",
   "metadata": {},
   "outputs": [
    {
     "data": {
      "text/plain": [
       "           Act  Breath\n",
       "FirstName             \n",
       "Adams       90      98\n",
       "Miriam      58      76\n",
       "Moses       57      82"
      ]
     },
     "execution_count": 22,
     "metadata": {},
     "output_type": "execute_result"
    }
   ],
   "source": [
    "# 「20230103」日の「活動指数」及び「呼吸数」の検索\n",
    "multi_idx_tuple_df.xs('20230103', level='Date')"
   ]
  },
  {
   "cell_type": "code",
   "execution_count": 23,
   "id": "ddffbe2a",
   "metadata": {},
   "outputs": [
    {
     "data": {
      "text/plain": [
       "                    Act  Breath\n",
       "FirstName Date                 \n",
       "Adams     20230103   90      98\n",
       "Miriam    20230103   58      76\n",
       "Moses     20230103   57      82"
      ]
     },
     "execution_count": 23,
     "metadata": {},
     "output_type": "execute_result"
    }
   ],
   "source": [
    "multi_idx_tuple_df.xs('20230103', level=1, drop_level=False)"
   ]
  },
  {
   "cell_type": "code",
   "execution_count": 24,
   "id": "10bc5c04",
   "metadata": {},
   "outputs": [
    {
     "data": {
      "text/plain": [
       "                    Act  Breath\n",
       "FirstName Date                 \n",
       "Adams     20230102   92      96\n",
       "          20230103   90      98\n",
       "          20230104   66      86"
      ]
     },
     "execution_count": 24,
     "metadata": {},
     "output_type": "execute_result"
    }
   ],
   "source": [
    "multi_idx_tuple_df.xs('Adams', level=0, drop_level=False)"
   ]
  },
  {
   "cell_type": "code",
   "execution_count": 25,
   "id": "a286c008",
   "metadata": {},
   "outputs": [
    {
     "data": {
      "text/plain": [
       "Act       87\n",
       "Breath    58\n",
       "Name: (Moses, 20230102), dtype: int32"
      ]
     },
     "execution_count": 25,
     "metadata": {},
     "output_type": "execute_result"
    }
   ],
   "source": [
    "multi_idx_tuple_df.xs(('Moses','20230102'), drop_level=False)"
   ]
  },
  {
   "cell_type": "markdown",
   "id": "d816899e",
   "metadata": {},
   "source": [
    "### 6.5.3 インデックスの設定と解除"
   ]
  },
  {
   "cell_type": "code",
   "execution_count": 26,
   "id": "97f19d46",
   "metadata": {},
   "outputs": [
    {
     "data": {
      "text/plain": [
       "               Act                     Breath                  \n",
       "Date      20230102 20230103 20230104 20230102 20230103 20230104\n",
       "FirstName                                                      \n",
       "Adams           92       90       66       96       98       86\n",
       "Miriam          76       58       62       83       76       99\n",
       "Moses           87       57       98       58       82       98"
      ]
     },
     "execution_count": 26,
     "metadata": {},
     "output_type": "execute_result"
    }
   ],
   "source": [
    "multi_idx_tuple_df.unstack(level=1)"
   ]
  },
  {
   "cell_type": "code",
   "execution_count": 27,
   "id": "a35eccf5",
   "metadata": {},
   "outputs": [
    {
     "data": {
      "text/plain": [
       "            Act              Breath             \n",
       "FirstName Adams Miriam Moses  Adams Miriam Moses\n",
       "Date                                            \n",
       "20230102     92     76    87     96     83    58\n",
       "20230103     90     58    57     98     76    82\n",
       "20230104     66     62    98     86     99    98"
      ]
     },
     "execution_count": 27,
     "metadata": {},
     "output_type": "execute_result"
    }
   ],
   "source": [
    "multi_idx_tuple_df.unstack(level=0)"
   ]
  },
  {
   "cell_type": "code",
   "execution_count": 28,
   "id": "05b28430",
   "metadata": {},
   "outputs": [
    {
     "data": {
      "text/plain": [
       "            Act              Breath             \n",
       "FirstName Adams Miriam Moses  Adams Miriam Moses\n",
       "Date                                            \n",
       "20230102     92     76    87     96     83    58\n",
       "20230103     90     58    57     98     76    82\n",
       "20230104     66     62    98     86     99    98"
      ]
     },
     "execution_count": 28,
     "metadata": {},
     "output_type": "execute_result"
    }
   ],
   "source": [
    "df2 = multi_idx_tuple_df.unstack(level=0)\n",
    "df2"
   ]
  },
  {
   "cell_type": "code",
   "execution_count": 29,
   "id": "655eed5b",
   "metadata": {},
   "outputs": [
    {
     "data": {
      "text/plain": [
       "Index(['20230102', '20230103', '20230104'], dtype='object', name='Date')"
      ]
     },
     "execution_count": 29,
     "metadata": {},
     "output_type": "execute_result"
    }
   ],
   "source": [
    "df2.index"
   ]
  },
  {
   "cell_type": "code",
   "execution_count": 30,
   "id": "ac3b0805",
   "metadata": {},
   "outputs": [
    {
     "data": {
      "text/plain": [
       "        FirstName\n",
       "Act     Adams        92\n",
       "        Miriam       76\n",
       "        Moses        87\n",
       "Breath  Adams        96\n",
       "        Miriam       83\n",
       "        Moses        58\n",
       "Name: 20230102, dtype: int32"
      ]
     },
     "execution_count": 30,
     "metadata": {},
     "output_type": "execute_result"
    }
   ],
   "source": [
    "df2.loc['20230102']"
   ]
  },
  {
   "cell_type": "code",
   "execution_count": 31,
   "id": "8f504312",
   "metadata": {},
   "outputs": [
    {
     "data": {
      "text/plain": [
       "  FirstName      Date  Act  Breath\n",
       "0     Adams  20230102   92      96\n",
       "1     Adams  20230103   90      98\n",
       "2     Adams  20230104   66      86\n",
       "3    Miriam  20230102   76      83\n",
       "4    Miriam  20230103   58      76\n",
       "5    Miriam  20230104   62      99\n",
       "6     Moses  20230102   87      58\n",
       "7     Moses  20230103   57      82\n",
       "8     Moses  20230104   98      98"
      ]
     },
     "execution_count": 31,
     "metadata": {},
     "output_type": "execute_result"
    }
   ],
   "source": [
    "no_index_df = multi_idx_tuple_df.reset_index()\n",
    "no_index_df"
   ]
  },
  {
   "cell_type": "code",
   "execution_count": 32,
   "id": "8fffd0de",
   "metadata": {},
   "outputs": [
    {
     "name": "stdout",
     "output_type": "stream",
     "text": [
      "<class 'pandas.core.frame.DataFrame'>\n",
      "RangeIndex: 9 entries, 0 to 8\n",
      "Data columns (total 4 columns):\n",
      " #   Column     Non-Null Count  Dtype \n",
      "---  ------     --------------  ----- \n",
      " 0   FirstName  9 non-null      object\n",
      " 1   Date       9 non-null      object\n",
      " 2   Act        9 non-null      int32 \n",
      " 3   Breath     9 non-null      int32 \n",
      "dtypes: int32(2), object(2)\n",
      "memory usage: 344.0+ bytes\n"
     ]
    }
   ],
   "source": [
    "no_index_df.info()"
   ]
  },
  {
   "cell_type": "code",
   "execution_count": 33,
   "id": "4106172a",
   "metadata": {},
   "outputs": [
    {
     "name": "stdout",
     "output_type": "stream",
     "text": [
      "<class 'pandas.core.frame.DataFrame'>\n",
      "MultiIndex: 9 entries, ('Adams', '20230102') to ('Moses', '20230104')\n",
      "Data columns (total 2 columns):\n",
      " #   Column  Non-Null Count  Dtype\n",
      "---  ------  --------------  -----\n",
      " 0   Act     9 non-null      int32\n",
      " 1   Breath  9 non-null      int32\n",
      "dtypes: int32(2)\n",
      "memory usage: 465.0+ bytes\n"
     ]
    }
   ],
   "source": [
    "set_index_df = no_index_df.set_index(['FirstName', 'Date'])\n",
    "set_index_df.info()"
   ]
  },
  {
   "cell_type": "code",
   "execution_count": 34,
   "id": "7fdfa29b",
   "metadata": {},
   "outputs": [
    {
     "data": {
      "text/plain": [
       "           0\n",
       "Tokyo     64\n",
       "Osaka     76\n",
       "Yokohama  92"
      ]
     },
     "execution_count": 34,
     "metadata": {},
     "output_type": "execute_result"
    }
   ],
   "source": [
    "idx = ['Tokyo','Osaka','Yokohama']\n",
    "# df = pd.DataFrame(np.random.randint(50, 100, 3).reshape(3,1),\n",
    "#               index=idx)\n",
    "df = pd.DataFrame(np.array([64,76,92]),\n",
    "                  index=idx)\n",
    "df"
   ]
  },
  {
   "cell_type": "code",
   "execution_count": 35,
   "id": "c96bc483",
   "metadata": {},
   "outputs": [
    {
     "data": {
      "text/plain": [
       "           0\n",
       "Tokyo     64\n",
       "Osaka     76\n",
       "Yamagata   0"
      ]
     },
     "execution_count": 35,
     "metadata": {},
     "output_type": "execute_result"
    }
   ],
   "source": [
    "# Yamagataインデクスがないので、「０」で埋める\n",
    "df.reindex( ['Tokyo','Osaka','Yamagata'] , fill_value=0)"
   ]
  },
  {
   "cell_type": "code",
   "execution_count": 36,
   "id": "a0e1f42a",
   "metadata": {},
   "outputs": [
    {
     "data": {
      "text/plain": [
       "                    Act  Breath\n",
       "Date     FirstName             \n",
       "20230102 Adams       92      96\n",
       "20230103 Adams       90      98\n",
       "20230104 Adams       66      86\n",
       "20230102 Miriam      76      83\n",
       "20230103 Miriam      58      76\n",
       "20230104 Miriam      62      99\n",
       "20230102 Moses       87      58\n",
       "20230103 Moses       57      82\n",
       "20230104 Moses       98      98"
      ]
     },
     "execution_count": 36,
     "metadata": {},
     "output_type": "execute_result"
    }
   ],
   "source": [
    "changed_level = set_index_df.swaplevel('FirstName', 'Date')\n",
    "changed_level"
   ]
  },
  {
   "cell_type": "code",
   "execution_count": 37,
   "id": "c8bf51af",
   "metadata": {},
   "outputs": [
    {
     "name": "stdout",
     "output_type": "stream",
     "text": [
      "<class 'pandas.core.frame.DataFrame'>\n",
      "MultiIndex: 9 entries, ('20230102', 'Adams') to ('20230104', 'Moses')\n",
      "Data columns (total 2 columns):\n",
      " #   Column  Non-Null Count  Dtype\n",
      "---  ------  --------------  -----\n",
      " 0   Act     9 non-null      int32\n",
      " 1   Breath  9 non-null      int32\n",
      "dtypes: int32(2)\n",
      "memory usage: 465.0+ bytes\n"
     ]
    }
   ],
   "source": [
    "changed_level.info()"
   ]
  },
  {
   "cell_type": "markdown",
   "id": "7af15ada",
   "metadata": {},
   "source": [
    "### 6.5.4 簡単なな集計と統計"
   ]
  },
  {
   "cell_type": "code",
   "execution_count": 38,
   "id": "682e6c8e",
   "metadata": {},
   "outputs": [
    {
     "name": "stderr",
     "output_type": "stream",
     "text": [
      "C:\\Users\\sunin\\AppData\\Local\\Temp\\ipykernel_15224\\4269278961.py:1: FutureWarning: Using the level keyword in DataFrame and Series aggregations is deprecated and will be removed in a future version. Use groupby instead. df.median(level=1) should use df.groupby(level=1).median().\n",
      "  multi_idx_tuple_df.mean(level='FirstName')\n"
     ]
    },
    {
     "data": {
      "text/plain": [
       "                 Act     Breath\n",
       "FirstName                      \n",
       "Adams      82.666667  93.333333\n",
       "Miriam     65.333333  86.000000\n",
       "Moses      80.666667  79.333333"
      ]
     },
     "execution_count": 38,
     "metadata": {},
     "output_type": "execute_result"
    }
   ],
   "source": [
    "multi_idx_tuple_df.mean(level='FirstName')"
   ]
  },
  {
   "cell_type": "code",
   "execution_count": 39,
   "id": "164a3aa6",
   "metadata": {},
   "outputs": [
    {
     "name": "stderr",
     "output_type": "stream",
     "text": [
      "C:\\Users\\sunin\\AppData\\Local\\Temp\\ipykernel_15224\\674231513.py:1: FutureWarning: Using the level keyword in DataFrame and Series aggregations is deprecated and will be removed in a future version. Use groupby instead. df.sum(level=1) should use df.groupby(level=1).sum().\n",
      "  multi_idx_tuple_df.sum(level='FirstName')\n"
     ]
    },
    {
     "data": {
      "text/plain": [
       "           Act  Breath\n",
       "FirstName             \n",
       "Adams      248     280\n",
       "Miriam     196     258\n",
       "Moses      242     238"
      ]
     },
     "execution_count": 39,
     "metadata": {},
     "output_type": "execute_result"
    }
   ],
   "source": [
    "multi_idx_tuple_df.sum(level='FirstName')"
   ]
  },
  {
   "cell_type": "code",
   "execution_count": 40,
   "id": "a78c0e15",
   "metadata": {},
   "outputs": [
    {
     "name": "stderr",
     "output_type": "stream",
     "text": [
      "C:\\Users\\sunin\\AppData\\Local\\Temp\\ipykernel_15224\\1940481339.py:1: FutureWarning: Using the level keyword in DataFrame and Series aggregations is deprecated and will be removed in a future version. Use groupby instead. df.median(level=1) should use df.groupby(level=1).median().\n",
      "  multi_idx_tuple_df.min(level='Date')\n"
     ]
    },
    {
     "data": {
      "text/plain": [
       "          Act  Breath\n",
       "Date                 \n",
       "20230102   76      58\n",
       "20230103   57      76\n",
       "20230104   62      86"
      ]
     },
     "execution_count": 40,
     "metadata": {},
     "output_type": "execute_result"
    }
   ],
   "source": [
    "multi_idx_tuple_df.min(level='Date')"
   ]
  },
  {
   "cell_type": "code",
   "execution_count": 41,
   "id": "5e2092d9",
   "metadata": {},
   "outputs": [
    {
     "data": {
      "text/plain": [
       "           Act  Breath\n",
       "FirstName             \n",
       "Adams      248     280\n",
       "Miriam     196     258\n",
       "Moses      242     238"
      ]
     },
     "execution_count": 41,
     "metadata": {},
     "output_type": "execute_result"
    }
   ],
   "source": [
    "multi_idx_tuple_df.groupby(level='FirstName').sum()"
   ]
  },
  {
   "cell_type": "code",
   "execution_count": 42,
   "id": "bece9923",
   "metadata": {},
   "outputs": [
    {
     "data": {
      "text/plain": [
       "           20230102  20230103  20230104\n",
       "FirstName                              \n",
       "Adams            80        90        95\n",
       "Moses            70        75        72\n",
       "Miriam           75        82        89"
      ]
     },
     "execution_count": 42,
     "metadata": {},
     "output_type": "execute_result"
    }
   ],
   "source": [
    "import pandas as pd\n",
    "import numpy as np\n",
    "activities_val = {'20230102': [80, 70, 75],\n",
    "                  '20230103': [90, 75, 82],\n",
    "                  '20230104': [95, 72, 89]}\n",
    "df = pd.DataFrame(data=activities_val, index=['Adams', 'Moses', 'Miriam'])\n",
    "df.index.names = ['FirstName']\n",
    "df"
   ]
  },
  {
   "cell_type": "code",
   "execution_count": 43,
   "id": "455200bd",
   "metadata": {},
   "outputs": [
    {
     "name": "stderr",
     "output_type": "stream",
     "text": [
      "C:\\Users\\sunin\\AppData\\Local\\Temp\\ipykernel_15224\\3717344883.py:2: FutureWarning: Using the level keyword in DataFrame and Series aggregations is deprecated and will be removed in a future version. Use groupby instead. df.median(level=1) should use df.groupby(level=1).median().\n",
      "  df.min(level=\"FirstName\")\n"
     ]
    },
    {
     "data": {
      "text/plain": [
       "           20230102  20230103  20230104\n",
       "FirstName                              \n",
       "Adams            80        90        95\n",
       "Moses            70        75        72\n",
       "Miriam           75        82        89"
      ]
     },
     "execution_count": 43,
     "metadata": {},
     "output_type": "execute_result"
    }
   ],
   "source": [
    "# MultiIndexではないため、levelオプションが適用されないことに注意してください。\n",
    "df.min(level=\"FirstName\")"
   ]
  },
  {
   "cell_type": "code",
   "execution_count": 44,
   "id": "0c220711",
   "metadata": {},
   "outputs": [
    {
     "data": {
      "text/plain": [
       "FirstName\n",
       "Adams     88.333333\n",
       "Moses     72.333333\n",
       "Miriam    82.000000\n",
       "dtype: float64"
      ]
     },
     "execution_count": 44,
     "metadata": {},
     "output_type": "execute_result"
    }
   ],
   "source": [
    "df.mean(axis=1)"
   ]
  },
  {
   "cell_type": "code",
   "execution_count": 45,
   "id": "eaff1527",
   "metadata": {},
   "outputs": [
    {
     "data": {
      "text/plain": [
       "20230102    75.000000\n",
       "20230103    82.333333\n",
       "20230104    85.333333\n",
       "dtype: float64"
      ]
     },
     "execution_count": 45,
     "metadata": {},
     "output_type": "execute_result"
    }
   ],
   "source": [
    "df.mean(axis=0)"
   ]
  }
 ],
 "metadata": {
  "kernelspec": {
   "display_name": "Python 3",
   "language": "python",
   "name": "python3"
  },
  "language_info": {
   "codemirror_mode": {
    "name": "ipython",
    "version": 3
   },
   "file_extension": ".py",
   "mimetype": "text/x-python",
   "name": "python",
   "nbconvert_exporter": "python",
   "pygments_lexer": "ipython3",
   "version": "3.10.4"
  },
  "vscode": {
   "interpreter": {
    "hash": "369f2c481f4da34e4445cda3fffd2e751bd1c4d706f27375911949ba6bb62e1c"
   }
  }
 },
 "nbformat": 4,
 "nbformat_minor": 5
}
