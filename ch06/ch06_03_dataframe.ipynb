{
 "cells": [
  {
   "attachments": {},
   "cell_type": "markdown",
   "id": "05a0a0d8",
   "metadata": {},
   "source": [
    "## 6.3 データフレーム(DataFrame)"
   ]
  },
  {
   "cell_type": "code",
   "execution_count": 2,
   "id": "fd995d75",
   "metadata": {},
   "outputs": [
    {
     "data": {
      "text/plain": [
       "          0         1         2\n",
       "0  0.385208  0.515737  0.478192\n",
       "1  0.120191  0.326432  0.049565\n",
       "2  0.607752  0.936891  0.720915"
      ]
     },
     "execution_count": 2,
     "metadata": {},
     "output_type": "execute_result"
    }
   ],
   "source": [
    "import pandas as pd\n",
    "import numpy as np\n",
    "from pandas import Series, DataFrame, Index\n",
    "\n",
    "pd.set_option('display.notebook_repr_html', False)\n",
    "\n",
    "df1 = pd.DataFrame(np.random.rand(3,3))\n",
    "df1"
   ]
  },
  {
   "cell_type": "code",
   "execution_count": 3,
   "id": "f643d3d7",
   "metadata": {},
   "outputs": [
    {
     "data": {
      "text/plain": [
       "0    0.515737\n",
       "1    0.326432\n",
       "2    0.936891\n",
       "Name: 1, dtype: float64"
      ]
     },
     "execution_count": 3,
     "metadata": {},
     "output_type": "execute_result"
    }
   ],
   "source": [
    "# ２番目の列がインデクシング\n",
    "df1[1]"
   ]
  },
  {
   "cell_type": "code",
   "execution_count": 4,
   "id": "f2ee4c5d",
   "metadata": {},
   "outputs": [
    {
     "data": {
      "text/plain": [
       "0    0.120191\n",
       "1    0.326432\n",
       "2    0.049565\n",
       "Name: 1, dtype: float64"
      ]
     },
     "execution_count": 4,
     "metadata": {},
     "output_type": "execute_result"
    }
   ],
   "source": [
    "# ２番目の行がインデクシング（明示的）\n",
    "df1.loc[1]"
   ]
  },
  {
   "cell_type": "code",
   "execution_count": 5,
   "id": "d451c761",
   "metadata": {
    "scrolled": true
   },
   "outputs": [
    {
     "data": {
      "text/plain": [
       "0    0.120191\n",
       "1    0.326432\n",
       "2    0.049565\n",
       "Name: 1, dtype: float64"
      ]
     },
     "execution_count": 5,
     "metadata": {},
     "output_type": "execute_result"
    }
   ],
   "source": [
    "# ２番目の行がインデクシング（暗黙的）\n",
    "df1.iloc[1]"
   ]
  },
  {
   "cell_type": "code",
   "execution_count": 6,
   "id": "6b341205",
   "metadata": {},
   "outputs": [
    {
     "ename": "SyntaxError",
     "evalue": "invalid syntax (3631459736.py, line 2)",
     "output_type": "error",
     "traceback": [
      "\u001b[1;36m  Cell \u001b[1;32mIn[6], line 2\u001b[1;36m\u001b[0m\n\u001b[1;33m    df1.0\u001b[0m\n\u001b[1;37m       ^\u001b[0m\n\u001b[1;31mSyntaxError\u001b[0m\u001b[1;31m:\u001b[0m invalid syntax\n"
     ]
    }
   ],
   "source": [
    "# 列名でアクセス不可\n",
    "df1.0"
   ]
  },
  {
   "cell_type": "code",
   "execution_count": 8,
   "id": "23a52bb9",
   "metadata": {
    "scrolled": false
   },
   "outputs": [
    {
     "data": {
      "text/plain": [
       "          japan  korea\n",
       "daegu       NaN    4.0\n",
       "daejeon     NaN    3.0\n",
       "incheon     NaN    2.0\n",
       "osaka       2.0    NaN\n",
       "pusan       NaN    1.0\n",
       "sendai      4.0    NaN\n",
       "seoul       NaN    0.0\n",
       "tokyo       0.0    NaN\n",
       "yamagata    6.0    NaN\n",
       "yonezawa    8.0    NaN"
      ]
     },
     "execution_count": 8,
     "metadata": {},
     "output_type": "execute_result"
    }
   ],
   "source": [
    "import pandas as pd\n",
    "import numpy as np\n",
    "\n",
    "series_jp = pd.Series(np.arange(0,10,2), index=['tokyo', 'osaka', 'sendai', 'yamagata', 'yonezawa'])\n",
    "series_kr = pd.Series(np.arange(0,5,1), index=['seoul', 'pusan', 'incheon', 'daejeon', 'daegu'])\n",
    "\n",
    "cities_asia = pd.DataFrame({'japan': series_jp, 'korea': series_kr})\n",
    "cities_asia"
   ]
  },
  {
   "cell_type": "code",
   "execution_count": 9,
   "id": "2fa2b506",
   "metadata": {},
   "outputs": [
    {
     "data": {
      "text/plain": [
       "daegu       4.0\n",
       "daejeon     3.0\n",
       "incheon     2.0\n",
       "osaka       NaN\n",
       "pusan       1.0\n",
       "sendai      NaN\n",
       "seoul       0.0\n",
       "tokyo       NaN\n",
       "yamagata    NaN\n",
       "yonezawa    NaN\n",
       "Name: korea, dtype: float64"
      ]
     },
     "execution_count": 9,
     "metadata": {},
     "output_type": "execute_result"
    }
   ],
   "source": [
    "# korea 列にアクセスする\n",
    "cities_asia['korea'] # cities_asia.koreaと同じ"
   ]
  },
  {
   "cell_type": "code",
   "execution_count": 10,
   "id": "74052288",
   "metadata": {},
   "outputs": [
    {
     "data": {
      "text/plain": [
       "daegu       4.0\n",
       "daejeon     3.0\n",
       "incheon     2.0\n",
       "osaka       NaN\n",
       "pusan       1.0\n",
       "sendai      NaN\n",
       "seoul       0.0\n",
       "tokyo       NaN\n",
       "yamagata    NaN\n",
       "yonezawa    NaN\n",
       "Name: korea, dtype: float64"
      ]
     },
     "execution_count": 10,
     "metadata": {},
     "output_type": "execute_result"
    }
   ],
   "source": [
    "cities_asia.korea"
   ]
  },
  {
   "cell_type": "code",
   "execution_count": 11,
   "id": "700b2d50",
   "metadata": {},
   "outputs": [
    {
     "data": {
      "text/plain": [
       "japan    0.0\n",
       "korea    NaN\n",
       "Name: tokyo, dtype: float64"
      ]
     },
     "execution_count": 11,
     "metadata": {},
     "output_type": "execute_result"
    }
   ],
   "source": [
    "# tokyo行にアクセス\n",
    "cities_asia.loc['tokyo']"
   ]
  },
  {
   "cell_type": "code",
   "execution_count": 12,
   "id": "f4178fa5",
   "metadata": {},
   "outputs": [
    {
     "data": {
      "text/plain": [
       "japan    0.0\n",
       "korea    NaN\n",
       "Name: tokyo, dtype: float64"
      ]
     },
     "execution_count": 12,
     "metadata": {},
     "output_type": "execute_result"
    }
   ],
   "source": [
    "# ８番目の行(tokyo)にアクセス\n",
    "cities_asia.iloc[7]"
   ]
  },
  {
   "cell_type": "code",
   "execution_count": 13,
   "id": "80c4d46c",
   "metadata": {},
   "outputs": [
    {
     "data": {
      "text/plain": [
       "4"
      ]
     },
     "execution_count": 13,
     "metadata": {},
     "output_type": "execute_result"
    }
   ],
   "source": [
    "# このようにインデクスが指定できる。series_kr['daegu']と同じ\n",
    "series_kr.daegu"
   ]
  },
  {
   "cell_type": "code",
   "execution_count": 14,
   "id": "f71b181f",
   "metadata": {},
   "outputs": [
    {
     "ename": "AttributeError",
     "evalue": "'Series' object has no attribute 'daegu'",
     "output_type": "error",
     "traceback": [
      "\u001b[1;31m---------------------------------------------------------------------------\u001b[0m",
      "\u001b[1;31mAttributeError\u001b[0m                            Traceback (most recent call last)",
      "Cell \u001b[1;32mIn[14], line 2\u001b[0m\n\u001b[0;32m      1\u001b[0m \u001b[39m# 失敗\u001b[39;00m\n\u001b[1;32m----> 2\u001b[0m series_jp\u001b[39m.\u001b[39;49mdaegu\n",
      "File \u001b[1;32mc:\\Python310\\lib\\site-packages\\pandas\\core\\generic.py:5902\u001b[0m, in \u001b[0;36mNDFrame.__getattr__\u001b[1;34m(self, name)\u001b[0m\n\u001b[0;32m   5895\u001b[0m \u001b[39mif\u001b[39;00m (\n\u001b[0;32m   5896\u001b[0m     name \u001b[39mnot\u001b[39;00m \u001b[39min\u001b[39;00m \u001b[39mself\u001b[39m\u001b[39m.\u001b[39m_internal_names_set\n\u001b[0;32m   5897\u001b[0m     \u001b[39mand\u001b[39;00m name \u001b[39mnot\u001b[39;00m \u001b[39min\u001b[39;00m \u001b[39mself\u001b[39m\u001b[39m.\u001b[39m_metadata\n\u001b[0;32m   5898\u001b[0m     \u001b[39mand\u001b[39;00m name \u001b[39mnot\u001b[39;00m \u001b[39min\u001b[39;00m \u001b[39mself\u001b[39m\u001b[39m.\u001b[39m_accessors\n\u001b[0;32m   5899\u001b[0m     \u001b[39mand\u001b[39;00m \u001b[39mself\u001b[39m\u001b[39m.\u001b[39m_info_axis\u001b[39m.\u001b[39m_can_hold_identifiers_and_holds_name(name)\n\u001b[0;32m   5900\u001b[0m ):\n\u001b[0;32m   5901\u001b[0m     \u001b[39mreturn\u001b[39;00m \u001b[39mself\u001b[39m[name]\n\u001b[1;32m-> 5902\u001b[0m \u001b[39mreturn\u001b[39;00m \u001b[39mobject\u001b[39;49m\u001b[39m.\u001b[39;49m\u001b[39m__getattribute__\u001b[39;49m(\u001b[39mself\u001b[39;49m, name)\n",
      "\u001b[1;31mAttributeError\u001b[0m: 'Series' object has no attribute 'daegu'"
     ]
    }
   ],
   "source": [
    "# 失敗\n",
    "series_jp.daegu"
   ]
  },
  {
   "cell_type": "code",
   "execution_count": 15,
   "id": "de6b85a0",
   "metadata": {},
   "outputs": [
    {
     "data": {
      "text/plain": [
       "Index(['daegu', 'daejeon', 'incheon', 'osaka', 'pusan', 'sendai', 'seoul',\n",
       "       'tokyo', 'yamagata', 'yonezawa'],\n",
       "      dtype='object')"
      ]
     },
     "execution_count": 15,
     "metadata": {},
     "output_type": "execute_result"
    }
   ],
   "source": [
    "cities_asia.index"
   ]
  },
  {
   "cell_type": "code",
   "execution_count": 16,
   "id": "e1240a69",
   "metadata": {},
   "outputs": [
    {
     "data": {
      "text/plain": [
       "Index(['japan', 'korea'], dtype='object')"
      ]
     },
     "execution_count": 16,
     "metadata": {},
     "output_type": "execute_result"
    }
   ],
   "source": [
    "cities_asia.columns"
   ]
  },
  {
   "cell_type": "code",
   "execution_count": 17,
   "id": "ff48f1e0",
   "metadata": {},
   "outputs": [
    {
     "data": {
      "text/plain": [
       "array([[nan,  4.],\n",
       "       [nan,  3.],\n",
       "       [nan,  2.],\n",
       "       [ 2., nan],\n",
       "       [nan,  1.],\n",
       "       [ 4., nan],\n",
       "       [nan,  0.],\n",
       "       [ 0., nan],\n",
       "       [ 6., nan],\n",
       "       [ 8., nan]])"
      ]
     },
     "execution_count": 17,
     "metadata": {},
     "output_type": "execute_result"
    }
   ],
   "source": [
    "cities_asia.values"
   ]
  },
  {
   "cell_type": "code",
   "execution_count": 18,
   "id": "f85a5fbd",
   "metadata": {},
   "outputs": [
    {
     "data": {
      "text/plain": [
       "array([nan,  3.])"
      ]
     },
     "execution_count": 18,
     "metadata": {},
     "output_type": "execute_result"
    }
   ],
   "source": [
    "# ２番目の行にアクセス\n",
    "cities_asia.values[1]"
   ]
  },
  {
   "attachments": {},
   "cell_type": "markdown",
   "id": "32334f09",
   "metadata": {},
   "source": [
    "### 6.3.1 T(転置)"
   ]
  },
  {
   "cell_type": "code",
   "execution_count": 19,
   "id": "027fd074",
   "metadata": {},
   "outputs": [
    {
     "data": {
      "text/plain": [
       "       daegu  daejeon  incheon  osaka  pusan  sendai  seoul  tokyo  yamagata  \\\n",
       "japan    NaN      NaN      NaN    2.0    NaN     4.0    NaN    0.0       6.0   \n",
       "korea    4.0      3.0      2.0    NaN    1.0     NaN    0.0    NaN       NaN   \n",
       "\n",
       "       yonezawa  \n",
       "japan       8.0  \n",
       "korea       NaN  "
      ]
     },
     "execution_count": 19,
     "metadata": {},
     "output_type": "execute_result"
    }
   ],
   "source": [
    "#　転置\n",
    "cities_asia.T"
   ]
  },
  {
   "cell_type": "code",
   "execution_count": 20,
   "id": "de5c2bc0",
   "metadata": {},
   "outputs": [
    {
     "data": {
      "text/plain": [
       "          japan  korea\n",
       "daegu       NaN    4.0\n",
       "daejeon     NaN    3.0\n",
       "incheon     NaN    2.0\n",
       "osaka       2.0    NaN\n",
       "pusan       NaN    1.0\n",
       "sendai      4.0    NaN\n",
       "seoul       NaN    0.0\n",
       "tokyo       0.0    NaN\n",
       "yamagata    6.0    NaN\n",
       "yonezawa    8.0    NaN"
      ]
     },
     "execution_count": 20,
     "metadata": {},
     "output_type": "execute_result"
    }
   ],
   "source": [
    "cities_asia"
   ]
  },
  {
   "attachments": {},
   "cell_type": "markdown",
   "id": "71c28308",
   "metadata": {},
   "source": [
    "### 6.3.2 スライス"
   ]
  },
  {
   "cell_type": "code",
   "execution_count": 21,
   "id": "d6cf4c33",
   "metadata": {},
   "outputs": [
    {
     "data": {
      "text/plain": [
       "         japan  korea\n",
       "daegu      NaN    4.0\n",
       "daejeon    NaN    3.0\n",
       "incheon    NaN    2.0"
      ]
     },
     "execution_count": 21,
     "metadata": {},
     "output_type": "execute_result"
    }
   ],
   "source": [
    "# スライス：３番目の行まで、２番目の列まで\n",
    "cities_asia.iloc[:3, :2]"
   ]
  },
  {
   "cell_type": "code",
   "execution_count": 22,
   "id": "967b4b19",
   "metadata": {},
   "outputs": [],
   "source": [
    "# ilocを用いて、３番目の行、１番目の列の値の変更\n",
    "cities_asia.iloc[2,0] = 12"
   ]
  },
  {
   "cell_type": "code",
   "execution_count": 23,
   "id": "3f73bf8c",
   "metadata": {},
   "outputs": [
    {
     "data": {
      "text/plain": [
       "         japan  korea\n",
       "daegu      NaN    4.0\n",
       "daejeon    NaN    3.0\n",
       "incheon   12.0    2.0"
      ]
     },
     "execution_count": 23,
     "metadata": {},
     "output_type": "execute_result"
    }
   ],
   "source": [
    "# ３番目の行まで、全ての列にアクセス。変更された値(12)が確認できる\n",
    "cities_asia.iloc[:3, :]"
   ]
  },
  {
   "cell_type": "code",
   "execution_count": 24,
   "id": "16a87cec",
   "metadata": {},
   "outputs": [
    {
     "data": {
      "text/plain": [
       "         japan  korea\n",
       "daegu      NaN    4.0\n",
       "daejeon    NaN    3.0\n",
       "incheon   12.0    2.0"
      ]
     },
     "execution_count": 24,
     "metadata": {},
     "output_type": "execute_result"
    }
   ],
   "source": [
    "# cities_asia.iloc[:3, :]と同じ結果\n",
    "cities_asia.iloc[:3]"
   ]
  },
  {
   "cell_type": "code",
   "execution_count": 25,
   "id": "30148e85",
   "metadata": {},
   "outputs": [
    {
     "data": {
      "text/plain": [
       "          japan  korea\n",
       "daegu       NaN    4.0\n",
       "incheon    12.0    2.0\n",
       "pusan       NaN    1.0\n",
       "seoul       NaN    0.0\n",
       "yamagata    6.0    NaN"
      ]
     },
     "execution_count": 25,
     "metadata": {},
     "output_type": "execute_result"
    }
   ],
   "source": [
    "cities_asia.iloc[::2]"
   ]
  },
  {
   "cell_type": "code",
   "execution_count": 26,
   "id": "e7dcd52d",
   "metadata": {},
   "outputs": [
    {
     "data": {
      "text/plain": [
       "          japan  korea\n",
       "yonezawa    8.0    NaN\n",
       "tokyo       0.0    NaN\n",
       "sendai      4.0    NaN\n",
       "osaka       2.0    NaN\n",
       "daejeon     NaN    3.0"
      ]
     },
     "execution_count": 26,
     "metadata": {},
     "output_type": "execute_result"
    }
   ],
   "source": [
    "cities_asia.iloc[::-2]"
   ]
  },
  {
   "cell_type": "code",
   "execution_count": 27,
   "id": "3975221b",
   "metadata": {},
   "outputs": [
    {
     "data": {
      "text/plain": [
       "          japan  korea\n",
       "tokyo       0.0    NaN\n",
       "yamagata    6.0    NaN\n",
       "yonezawa    8.0    NaN"
      ]
     },
     "execution_count": 27,
     "metadata": {},
     "output_type": "execute_result"
    }
   ],
   "source": [
    "# startが最後の要素から3番目まで\n",
    "cities_asia.iloc[-3:]"
   ]
  },
  {
   "cell_type": "code",
   "execution_count": 28,
   "id": "c110a55c",
   "metadata": {},
   "outputs": [
    {
     "data": {
      "text/plain": [
       "         japan  korea\n",
       "daegu      NaN    4.0\n",
       "daejeon    NaN    3.0\n",
       "incheon   12.0    2.0\n",
       "osaka      2.0    NaN\n",
       "pusan      NaN    1.0\n",
       "sendai     4.0    NaN\n",
       "seoul      NaN    0.0"
      ]
     },
     "execution_count": 28,
     "metadata": {},
     "output_type": "execute_result"
    }
   ],
   "source": [
    "# endが最後の要素から３番目\n",
    "cities_asia[:-3]"
   ]
  },
  {
   "attachments": {},
   "cell_type": "markdown",
   "id": "a8665e24",
   "metadata": {},
   "source": [
    "### 6.3.3 スライスを使用して逆順にソート"
   ]
  },
  {
   "cell_type": "code",
   "execution_count": 29,
   "id": "78c61969",
   "metadata": {},
   "outputs": [
    {
     "data": {
      "text/plain": [
       "          japan  korea\n",
       "yonezawa    8.0    NaN\n",
       "yamagata    6.0    NaN\n",
       "tokyo       0.0    NaN\n",
       "seoul       NaN    0.0\n",
       "sendai      4.0    NaN\n",
       "pusan       NaN    1.0\n",
       "osaka       2.0    NaN\n",
       "incheon    12.0    2.0\n",
       "daejeon     NaN    3.0\n",
       "daegu       NaN    4.0"
      ]
     },
     "execution_count": 29,
     "metadata": {},
     "output_type": "execute_result"
    }
   ],
   "source": [
    "cities_asia[::-1]"
   ]
  },
  {
   "attachments": {},
   "cell_type": "markdown",
   "id": "63f55666",
   "metadata": {},
   "source": [
    "## 6.3.4 マスキング"
   ]
  },
  {
   "cell_type": "code",
   "execution_count": 30,
   "id": "2825b14e",
   "metadata": {},
   "outputs": [
    {
     "data": {
      "text/plain": [
       "         japan  korea\n",
       "incheon   12.0    2.0"
      ]
     },
     "execution_count": 30,
     "metadata": {},
     "output_type": "execute_result"
    }
   ],
   "source": [
    "# japan列の中で値が10を超える行を見つける\n",
    "cities_asia[cities_asia.japan > 10]"
   ]
  },
  {
   "cell_type": "code",
   "execution_count": 31,
   "id": "72d3fbc6",
   "metadata": {},
   "outputs": [
    {
     "data": {
      "text/plain": [
       "Index(['daegu', 'daejeon', 'incheon', 'osaka', 'pusan', 'sendai', 'seoul',\n",
       "       'tokyo', 'yamagata', 'yonezawa'],\n",
       "      dtype='object')"
      ]
     },
     "execution_count": 31,
     "metadata": {},
     "output_type": "execute_result"
    }
   ],
   "source": [
    "cities_asia.index"
   ]
  }
 ],
 "metadata": {
  "kernelspec": {
   "display_name": "Python 3",
   "language": "python",
   "name": "python3"
  },
  "language_info": {
   "codemirror_mode": {
    "name": "ipython",
    "version": 3
   },
   "file_extension": ".py",
   "mimetype": "text/x-python",
   "name": "python",
   "nbconvert_exporter": "python",
   "pygments_lexer": "ipython3",
   "version": "3.10.4"
  },
  "vscode": {
   "interpreter": {
    "hash": "369f2c481f4da34e4445cda3fffd2e751bd1c4d706f27375911949ba6bb62e1c"
   }
  }
 },
 "nbformat": 4,
 "nbformat_minor": 5
}
