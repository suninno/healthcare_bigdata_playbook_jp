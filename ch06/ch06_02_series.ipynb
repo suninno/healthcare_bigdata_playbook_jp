{
 "cells": [
  {
   "attachments": {},
   "cell_type": "markdown",
   "id": "05caab2d",
   "metadata": {},
   "source": [
    "## 6.2. Series"
   ]
  },
  {
   "cell_type": "code",
   "execution_count": 1,
   "id": "41c759c6",
   "metadata": {},
   "outputs": [
    {
     "data": {
      "text/plain": [
       "0    0.151706\n",
       "1    0.119440\n",
       "2    0.812976\n",
       "3    0.553514\n",
       "4    0.622026\n",
       "5    0.144119\n",
       "6    0.691493\n",
       "7    0.392788\n",
       "8    0.942169\n",
       "9    0.166289\n",
       "dtype: float64"
      ]
     },
     "execution_count": 1,
     "metadata": {},
     "output_type": "execute_result"
    }
   ],
   "source": [
    "import pandas as pd\n",
    "import numpy as np\n",
    "from pandas import Series, DataFrame, Index\n",
    "\n",
    "s = pd.Series(np.random.rand(10))\n",
    "s"
   ]
  },
  {
   "cell_type": "code",
   "execution_count": 2,
   "id": "e797271d",
   "metadata": {},
   "outputs": [
    {
     "data": {
      "text/plain": [
       "RangeIndex(start=0, stop=10, step=1)"
      ]
     },
     "execution_count": 2,
     "metadata": {},
     "output_type": "execute_result"
    }
   ],
   "source": [
    "s.index"
   ]
  },
  {
   "cell_type": "code",
   "execution_count": 3,
   "id": "34f7eab6",
   "metadata": {},
   "outputs": [
    {
     "data": {
      "text/plain": [
       "array([0.15170609, 0.11943978, 0.81297643, 0.55351446, 0.62202603,\n",
       "       0.14411863, 0.69149263, 0.39278849, 0.94216852, 0.1662885 ])"
      ]
     },
     "execution_count": 3,
     "metadata": {},
     "output_type": "execute_result"
    }
   ],
   "source": [
    "s.values"
   ]
  },
  {
   "cell_type": "code",
   "execution_count": 4,
   "id": "71cdb2a1",
   "metadata": {
    "scrolled": true
   },
   "outputs": [
    {
     "data": {
      "text/plain": [
       "0.15170608706872146"
      ]
     },
     "execution_count": 4,
     "metadata": {},
     "output_type": "execute_result"
    }
   ],
   "source": [
    "s[0]"
   ]
  },
  {
   "cell_type": "code",
   "execution_count": 5,
   "id": "2b8574e7",
   "metadata": {},
   "outputs": [
    {
     "data": {
      "text/plain": [
       "1    0.119440\n",
       "2    0.812976\n",
       "dtype: float64"
      ]
     },
     "execution_count": 5,
     "metadata": {},
     "output_type": "execute_result"
    }
   ],
   "source": [
    "s[1:3]"
   ]
  },
  {
   "cell_type": "code",
   "execution_count": 6,
   "id": "19681913",
   "metadata": {
    "scrolled": true
   },
   "outputs": [
    {
     "data": {
      "text/plain": [
       "a    0.007233\n",
       "b    0.290163\n",
       "c    0.088454\n",
       "d    0.199055\n",
       "e    0.610035\n",
       "dtype: float64"
      ]
     },
     "execution_count": 6,
     "metadata": {},
     "output_type": "execute_result"
    }
   ],
   "source": [
    "named = pd.Series(np.random.rand(5), index=['a', 'b', 'c', 'd', 'e'])\n",
    "named"
   ]
  },
  {
   "cell_type": "code",
   "execution_count": 7,
   "id": "a71b5d02",
   "metadata": {},
   "outputs": [
    {
     "data": {
      "text/plain": [
       "0.0072325419652532474"
      ]
     },
     "execution_count": 7,
     "metadata": {},
     "output_type": "execute_result"
    }
   ],
   "source": [
    "named['a']"
   ]
  },
  {
   "cell_type": "code",
   "execution_count": 8,
   "id": "af2f27dc",
   "metadata": {},
   "outputs": [],
   "source": [
    "named['a'] = 0.11111"
   ]
  },
  {
   "cell_type": "code",
   "execution_count": 9,
   "id": "fa5b5e63",
   "metadata": {},
   "outputs": [
    {
     "data": {
      "text/plain": [
       "a    0.111110\n",
       "b    0.290163\n",
       "c    0.088454\n",
       "d    0.199055\n",
       "e    0.610035\n",
       "dtype: float64"
      ]
     },
     "execution_count": 9,
     "metadata": {},
     "output_type": "execute_result"
    }
   ],
   "source": [
    "named"
   ]
  },
  {
   "attachments": {},
   "cell_type": "markdown",
   "id": "1902faef",
   "metadata": {},
   "source": [
    "### 6.2.1 辞書からシリーズを生成する"
   ]
  },
  {
   "cell_type": "code",
   "execution_count": 10,
   "id": "7af21ff8",
   "metadata": {},
   "outputs": [
    {
     "data": {
      "text/plain": [
       "A    10\n",
       "B    20\n",
       "C    30\n",
       "dtype: int64"
      ]
     },
     "execution_count": 10,
     "metadata": {},
     "output_type": "execute_result"
    }
   ],
   "source": [
    "d1 = {'A': 10, 'B': 20, 'C': 30}\n",
    "s1 = pd.Series(d1)\n",
    "s1"
   ]
  },
  {
   "cell_type": "code",
   "execution_count": 11,
   "id": "2b491faa",
   "metadata": {},
   "outputs": [
    {
     "data": {
      "text/plain": [
       "10"
      ]
     },
     "execution_count": 11,
     "metadata": {},
     "output_type": "execute_result"
    }
   ],
   "source": [
    "# 「キー」でアクセス\n",
    "s1['A']"
   ]
  },
  {
   "cell_type": "code",
   "execution_count": 12,
   "id": "5fd10d2c",
   "metadata": {},
   "outputs": [
    {
     "data": {
      "text/plain": [
       "A    10\n",
       "B    20\n",
       "dtype: int64"
      ]
     },
     "execution_count": 12,
     "metadata": {},
     "output_type": "execute_result"
    }
   ],
   "source": [
    "# 明示的なインデックスでスライシング\n",
    "# 最後のインデックスの要素を含む\n",
    "s1['A':'B']"
   ]
  },
  {
   "cell_type": "code",
   "execution_count": 13,
   "id": "76a786d4",
   "metadata": {},
   "outputs": [
    {
     "data": {
      "text/plain": [
       "A    10\n",
       "dtype: int64"
      ]
     },
     "execution_count": 13,
     "metadata": {},
     "output_type": "execute_result"
    }
   ],
   "source": [
    "# 暗黙的なインデックスでスライシング\n",
    "# 最後のインデックスの要素を含まない\n",
    "s1[0:1]"
   ]
  },
  {
   "cell_type": "code",
   "execution_count": 14,
   "id": "a39a7b7d",
   "metadata": {},
   "outputs": [
    {
     "data": {
      "text/plain": [
       "A    10\n",
       "B    20\n",
       "C    40\n",
       "dtype: int64"
      ]
     },
     "execution_count": 14,
     "metadata": {},
     "output_type": "execute_result"
    }
   ],
   "source": [
    "# インデックスで「値」を修正\n",
    "s1['C'] = 40\n",
    "s1"
   ]
  },
  {
   "cell_type": "code",
   "execution_count": 15,
   "id": "2863e74a",
   "metadata": {},
   "outputs": [
    {
     "data": {
      "text/plain": [
       "A    10\n",
       "C    40\n",
       "dtype: int64"
      ]
     },
     "execution_count": 15,
     "metadata": {},
     "output_type": "execute_result"
    }
   ],
   "source": [
    "# ファンシーインデックス\n",
    "s1[['A','C']]"
   ]
  },
  {
   "cell_type": "code",
   "execution_count": 16,
   "id": "96448032",
   "metadata": {},
   "outputs": [
    {
     "data": {
      "text/plain": [
       "[('a', 0.11111),\n",
       " ('b', 0.29016280587259324),\n",
       " ('c', 0.08845394132678286),\n",
       " ('d', 0.19905487936443123),\n",
       " ('e', 0.6100354176497079)]"
      ]
     },
     "execution_count": 16,
     "metadata": {},
     "output_type": "execute_result"
    }
   ],
   "source": [
    "# Seriesオブジェクトをタプル(tuple)形式で出力\n",
    "list(named.items())"
   ]
  },
  {
   "attachments": {},
   "cell_type": "markdown",
   "id": "e098f3bb",
   "metadata": {},
   "source": [
    "### 6.2.2 明示的なインデックスと暗黙的なインデックス"
   ]
  },
  {
   "cell_type": "code",
   "execution_count": 17,
   "id": "f6300f92",
   "metadata": {},
   "outputs": [
    {
     "data": {
      "text/plain": [
       "3    0.782494\n",
       "4    0.249431\n",
       "5    0.866005\n",
       "6    0.035868\n",
       "7    0.689831\n",
       "dtype: float64"
      ]
     },
     "execution_count": 17,
     "metadata": {},
     "output_type": "execute_result"
    }
   ],
   "source": [
    "s2 = pd.Series(np.random.rand(5), index=[3,4,5,6,7])\n",
    "s2"
   ]
  },
  {
   "cell_type": "code",
   "execution_count": 18,
   "id": "1e61a545",
   "metadata": {},
   "outputs": [
    {
     "data": {
      "text/plain": [
       "0.24943085278987265"
      ]
     },
     "execution_count": 18,
     "metadata": {},
     "output_type": "execute_result"
    }
   ],
   "source": [
    "# インデックスによるアクセス\n",
    "s2[4]"
   ]
  },
  {
   "cell_type": "code",
   "execution_count": 19,
   "id": "f89a01c8",
   "metadata": {},
   "outputs": [
    {
     "data": {
      "text/plain": [
       "0.035868301833170024"
      ]
     },
     "execution_count": 19,
     "metadata": {},
     "output_type": "execute_result"
    }
   ],
   "source": [
    "# 暗黙的なインデックスで、4番目の要素にアクセス\n",
    "s2.iloc[3]"
   ]
  },
  {
   "cell_type": "code",
   "execution_count": 20,
   "id": "977f0c9e",
   "metadata": {},
   "outputs": [
    {
     "data": {
      "text/plain": [
       "0.7824936919780533"
      ]
     },
     "execution_count": 20,
     "metadata": {},
     "output_type": "execute_result"
    }
   ],
   "source": [
    "# 明示的なインデックスで、インデックス値が3の要素にアクセス\n",
    "s2.loc[3]"
   ]
  },
  {
   "cell_type": "code",
   "execution_count": 21,
   "id": "a188741f",
   "metadata": {},
   "outputs": [
    {
     "data": {
      "text/plain": [
       "A    10\n",
       "B    20\n",
       "C    40\n",
       "dtype: int64"
      ]
     },
     "execution_count": 21,
     "metadata": {},
     "output_type": "execute_result"
    }
   ],
   "source": [
    "s1"
   ]
  },
  {
   "cell_type": "code",
   "execution_count": 22,
   "id": "78b61e22",
   "metadata": {},
   "outputs": [
    {
     "data": {
      "text/plain": [
       "40"
      ]
     },
     "execution_count": 22,
     "metadata": {},
     "output_type": "execute_result"
    }
   ],
   "source": [
    "# インデックスが整数ではなく文字列の場合は区別が容易です。\n",
    "s1.loc['C']"
   ]
  },
  {
   "cell_type": "code",
   "execution_count": 23,
   "id": "e3e5a0e7",
   "metadata": {},
   "outputs": [
    {
     "data": {
      "text/plain": [
       "40"
      ]
     },
     "execution_count": 23,
     "metadata": {},
     "output_type": "execute_result"
    }
   ],
   "source": [
    "s1.iloc[2]"
   ]
  },
  {
   "cell_type": "code",
   "execution_count": 24,
   "id": "7ced5cf0",
   "metadata": {},
   "outputs": [
    {
     "data": {
      "text/plain": [
       "40"
      ]
     },
     "execution_count": 24,
     "metadata": {},
     "output_type": "execute_result"
    }
   ],
   "source": [
    "s1['C']"
   ]
  },
  {
   "attachments": {},
   "cell_type": "markdown",
   "id": "47cf51a6",
   "metadata": {},
   "source": [
    "### 6.2.3 条件文による配列の抽出：マスキング"
   ]
  },
  {
   "cell_type": "code",
   "execution_count": 25,
   "id": "8c891344",
   "metadata": {},
   "outputs": [
    {
     "data": {
      "text/plain": [
       "e    0.610035\n",
       "dtype: float64"
      ]
     },
     "execution_count": 25,
     "metadata": {},
     "output_type": "execute_result"
    }
   ],
   "source": [
    "named[ named > 0.5]"
   ]
  },
  {
   "attachments": {},
   "cell_type": "markdown",
   "id": "91b84f1b",
   "metadata": {},
   "source": [
    "### 6.2.4 ベクトル演算"
   ]
  },
  {
   "cell_type": "code",
   "execution_count": 26,
   "id": "96128039",
   "metadata": {},
   "outputs": [
    {
     "data": {
      "text/plain": [
       "a    0.333330\n",
       "b    0.870488\n",
       "c    0.265362\n",
       "d    0.597165\n",
       "e    1.830106\n",
       "dtype: float64"
      ]
     },
     "execution_count": 26,
     "metadata": {},
     "output_type": "execute_result"
    }
   ],
   "source": [
    "named * 3"
   ]
  },
  {
   "cell_type": "code",
   "execution_count": 27,
   "id": "38cad0fa",
   "metadata": {},
   "outputs": [
    {
     "data": {
      "text/plain": [
       "a    0\n",
       "b    1\n",
       "c    2\n",
       "d    3\n",
       "e    4\n",
       "dtype: int32"
      ]
     },
     "execution_count": 27,
     "metadata": {},
     "output_type": "execute_result"
    }
   ],
   "source": [
    "named1 = pd.Series(np.arange(0,5,1), index=['a', 'b', 'c', 'd', 'e'])\n",
    "named2 = pd.Series(np.arange(0,10,2), index=['b', 'a', 'c', 'd', 'e'])\n",
    "named1"
   ]
  },
  {
   "cell_type": "code",
   "execution_count": 28,
   "id": "10c4010f",
   "metadata": {},
   "outputs": [
    {
     "data": {
      "text/plain": [
       "b    0\n",
       "a    2\n",
       "c    4\n",
       "d    6\n",
       "e    8\n",
       "dtype: int32"
      ]
     },
     "execution_count": 28,
     "metadata": {},
     "output_type": "execute_result"
    }
   ],
   "source": [
    "named2"
   ]
  },
  {
   "cell_type": "code",
   "execution_count": 29,
   "id": "ef96d069",
   "metadata": {},
   "outputs": [
    {
     "data": {
      "text/plain": [
       "a     2\n",
       "b     1\n",
       "c     6\n",
       "d     9\n",
       "e    12\n",
       "dtype: int32"
      ]
     },
     "execution_count": 29,
     "metadata": {},
     "output_type": "execute_result"
    }
   ],
   "source": [
    "named1 + named2"
   ]
  },
  {
   "attachments": {},
   "cell_type": "markdown",
   "id": "17664388",
   "metadata": {},
   "source": [
    "### 6.2.5 その他"
   ]
  },
  {
   "cell_type": "code",
   "execution_count": 30,
   "id": "3859ce63",
   "metadata": {},
   "outputs": [
    {
     "data": {
      "text/plain": [
       "b    0\n",
       "a    2\n",
       "c    4\n",
       "d    6\n",
       "e    8\n",
       "Name: named2, dtype: int32"
      ]
     },
     "execution_count": 30,
     "metadata": {},
     "output_type": "execute_result"
    }
   ],
   "source": [
    "named2.name = 'named2'\n",
    "named2"
   ]
  },
  {
   "cell_type": "code",
   "execution_count": 31,
   "id": "2b20d1ea",
   "metadata": {},
   "outputs": [
    {
     "data": {
      "text/plain": [
       "label\n",
       "b    0\n",
       "a    2\n",
       "c    4\n",
       "d    6\n",
       "e    8\n",
       "Name: named2, dtype: int32"
      ]
     },
     "execution_count": 31,
     "metadata": {},
     "output_type": "execute_result"
    }
   ],
   "source": [
    "named2.index.name = 'label'\n",
    "named2"
   ]
  },
  {
   "cell_type": "code",
   "execution_count": 32,
   "id": "05ff7fee",
   "metadata": {},
   "outputs": [
    {
     "data": {
      "text/plain": [
       "AA    0\n",
       "BB    2\n",
       "CC    4\n",
       "DD    6\n",
       "EE    8\n",
       "Name: named2, dtype: int32"
      ]
     },
     "execution_count": 32,
     "metadata": {},
     "output_type": "execute_result"
    }
   ],
   "source": [
    "named2.index = ['AA', 'BB', 'CC', 'DD', 'EE']\n",
    "named2\n"
   ]
  }
 ],
 "metadata": {
  "kernelspec": {
   "display_name": "Python 3",
   "language": "python",
   "name": "python3"
  },
  "language_info": {
   "codemirror_mode": {
    "name": "ipython",
    "version": 3
   },
   "file_extension": ".py",
   "mimetype": "text/x-python",
   "name": "python",
   "nbconvert_exporter": "python",
   "pygments_lexer": "ipython3",
   "version": "3.10.4"
  },
  "vscode": {
   "interpreter": {
    "hash": "369f2c481f4da34e4445cda3fffd2e751bd1c4d706f27375911949ba6bb62e1c"
   }
  }
 },
 "nbformat": 4,
 "nbformat_minor": 5
}
