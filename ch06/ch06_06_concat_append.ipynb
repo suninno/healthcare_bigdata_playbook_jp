{
 "cells": [
  {
   "attachments": {},
   "cell_type": "markdown",
   "metadata": {},
   "source": [
    "## 6.6 データの結合"
   ]
  },
  {
   "attachments": {},
   "cell_type": "markdown",
   "metadata": {},
   "source": [
    "### 6.6.1 concat関数"
   ]
  },
  {
   "cell_type": "code",
   "execution_count": 1,
   "metadata": {},
   "outputs": [
    {
     "name": "stdout",
     "output_type": "stream",
     "text": [
      "       Date  Act\n",
      "0  20230102   92\n",
      "1  20230103   65\n",
      "2  20230104   96\n"
     ]
    }
   ],
   "source": [
    "import pandas as pd\n",
    "import numpy as np\n",
    "\n",
    "pd.set_option('display.notebook_repr_html', False)\n",
    "\n",
    "adams_act = pd.DataFrame(\n",
    "                [\n",
    "                  ['20230102', 92],\n",
    "                  ['20230103', 65],\n",
    "                  ['20230104', 96]\n",
    "                ],\n",
    "                   columns=['Date', 'Act'])\n",
    "\n",
    "adams_breath = pd.DataFrame(\n",
    "                [\n",
    "                  ['20230102', 90],\n",
    "                  ['20230103', 71],\n",
    "                  ['20230104', 81]\n",
    "                ],\n",
    "                   columns=['Date', 'Breath'])\n",
    "print(adams_act)"
   ]
  },
  {
   "cell_type": "code",
   "execution_count": 2,
   "metadata": {},
   "outputs": [
    {
     "name": "stdout",
     "output_type": "stream",
     "text": [
      "       Date  Breath\n",
      "0  20230102      90\n",
      "1  20230103      71\n",
      "2  20230104      81\n"
     ]
    }
   ],
   "source": [
    "print(adams_breath)"
   ]
  },
  {
   "cell_type": "code",
   "execution_count": 3,
   "metadata": {},
   "outputs": [
    {
     "data": {
      "text/plain": [
       "       Date   Act  Breath\n",
       "0  20230102  92.0     NaN\n",
       "1  20230103  65.0     NaN\n",
       "2  20230104  96.0     NaN\n",
       "0  20230102   NaN    90.0\n",
       "1  20230103   NaN    71.0\n",
       "2  20230104   NaN    81.0"
      ]
     },
     "execution_count": 3,
     "metadata": {},
     "output_type": "execute_result"
    }
   ],
   "source": [
    "pd.concat([adams_act, adams_breath])"
   ]
  },
  {
   "cell_type": "code",
   "execution_count": 4,
   "metadata": {},
   "outputs": [
    {
     "data": {
      "text/plain": [
       "       Date  Act      Date  Breath\n",
       "0  20230102   92  20230102      90\n",
       "1  20230103   65  20230103      71\n",
       "2  20230104   96  20230104      81"
      ]
     },
     "execution_count": 4,
     "metadata": {},
     "output_type": "execute_result"
    }
   ],
   "source": [
    "pd.concat([adams_act, adams_breath], axis=1)"
   ]
  },
  {
   "cell_type": "code",
   "execution_count": 5,
   "metadata": {},
   "outputs": [
    {
     "data": {
      "text/plain": [
       "RangeIndex(start=0, stop=3, step=1)"
      ]
     },
     "execution_count": 5,
     "metadata": {},
     "output_type": "execute_result"
    }
   ],
   "source": [
    "adams_act.index"
   ]
  },
  {
   "cell_type": "code",
   "execution_count": 6,
   "metadata": {},
   "outputs": [
    {
     "data": {
      "text/plain": [
       "       Date  Act      Date  Breath\n",
       "0  20230102   92  20230102      90\n",
       "1  20230103   65  20230103      71\n",
       "2  20230104   96  20230104      81"
      ]
     },
     "execution_count": 6,
     "metadata": {},
     "output_type": "execute_result"
    }
   ],
   "source": [
    "new_pd = pd.concat([adams_act, adams_breath], axis=1)\n",
    "new_pd"
   ]
  },
  {
   "cell_type": "code",
   "execution_count": 7,
   "metadata": {},
   "outputs": [
    {
     "data": {
      "text/plain": [
       "       Date  Act  Breath\n",
       "0  20230102   92      90\n",
       "1  20230103   65      71\n",
       "2  20230104   96      81"
      ]
     },
     "execution_count": 7,
     "metadata": {},
     "output_type": "execute_result"
    }
   ],
   "source": [
    "# 重複した列の削除\n",
    "new_pd.loc[:,~new_pd.columns.duplicated()]"
   ]
  },
  {
   "cell_type": "code",
   "execution_count": 8,
   "metadata": {},
   "outputs": [
    {
     "data": {
      "text/plain": [
       "          Act  Breath\n",
       "Date                 \n",
       "20230102   92      90\n",
       "20230103   65      71\n",
       "20230104   96      81"
      ]
     },
     "execution_count": 8,
     "metadata": {},
     "output_type": "execute_result"
    }
   ],
   "source": [
    "adams_act_with_idx = adams_act.set_index('Date')\n",
    "adams_breath_with_idx = adams_breath.set_index('Date')\n",
    "pd.concat([adams_act_with_idx, adams_breath_with_idx], axis=1)"
   ]
  },
  {
   "cell_type": "code",
   "execution_count": 9,
   "metadata": {},
   "outputs": [
    {
     "data": {
      "text/plain": [
       "       Date  Act  Breath\n",
       "0  20230102   92      90\n",
       "1  20230103   65      71\n",
       "2  20230104   96      81"
      ]
     },
     "execution_count": 9,
     "metadata": {},
     "output_type": "execute_result"
    }
   ],
   "source": [
    "adams_act.merge(adams_breath, left_on=\"Date\", right_on=\"Date\")"
   ]
  },
  {
   "cell_type": "code",
   "execution_count": 10,
   "metadata": {},
   "outputs": [
    {
     "data": {
      "text/plain": [
       "    Act  Breath      Date\n",
       "0  92.0     NaN  20230102\n",
       "1  65.0     NaN  20230103\n",
       "2  96.0     NaN  20230104\n",
       "0   NaN    90.0  20230102\n",
       "1   NaN    71.0  20230103\n",
       "2   NaN    81.0  20230104"
      ]
     },
     "execution_count": 10,
     "metadata": {},
     "output_type": "execute_result"
    }
   ],
   "source": [
    "pd.concat([adams_act, adams_breath], sort=True)"
   ]
  },
  {
   "cell_type": "code",
   "execution_count": 11,
   "metadata": {},
   "outputs": [
    {
     "data": {
      "text/plain": [
       "       Date   Act  Breath\n",
       "0  20230102  92.0     NaN\n",
       "1  20230103  65.0     NaN\n",
       "2  20230104  96.0     NaN\n",
       "3  20230102   NaN    90.0\n",
       "4  20230103   NaN    71.0\n",
       "5  20230104   NaN    81.0"
      ]
     },
     "execution_count": 11,
     "metadata": {},
     "output_type": "execute_result"
    }
   ],
   "source": [
    "pd.concat([adams_act, adams_breath], ignore_index=True)"
   ]
  },
  {
   "cell_type": "code",
   "execution_count": 12,
   "metadata": {},
   "outputs": [
    {
     "name": "stdout",
     "output_type": "stream",
     "text": [
      "<class 'pandas.core.frame.DataFrame'>\n",
      "RangeIndex: 6 entries, 0 to 5\n",
      "Data columns (total 3 columns):\n",
      " #   Column  Non-Null Count  Dtype  \n",
      "---  ------  --------------  -----  \n",
      " 0   Date    6 non-null      object \n",
      " 1   Act     3 non-null      float64\n",
      " 2   Breath  3 non-null      float64\n",
      "dtypes: float64(2), object(1)\n",
      "memory usage: 272.0+ bytes\n"
     ]
    }
   ],
   "source": [
    "pd.concat([adams_act, adams_breath], ignore_index=True).info()"
   ]
  },
  {
   "cell_type": "code",
   "execution_count": 13,
   "metadata": {},
   "outputs": [
    {
     "data": {
      "text/plain": [
       "       Date   Act  Breath\n",
       "0  20230102  92.0     NaN\n",
       "1  20230103  65.0     NaN\n",
       "2  20230104  96.0     NaN\n",
       "0  20230102   NaN    90.0\n",
       "1  20230103   NaN    71.0\n",
       "2  20230104   NaN    81.0"
      ]
     },
     "execution_count": 13,
     "metadata": {},
     "output_type": "execute_result"
    }
   ],
   "source": [
    "pd.concat([adams_act, adams_breath], verify_integrity=False)"
   ]
  },
  {
   "cell_type": "code",
   "execution_count": 14,
   "metadata": {},
   "outputs": [
    {
     "ename": "ValueError",
     "evalue": "Indexes have overlapping values: Int64Index([0, 1, 2], dtype='int64')",
     "output_type": "error",
     "traceback": [
      "\u001b[1;31m---------------------------------------------------------------------------\u001b[0m",
      "\u001b[1;31mValueError\u001b[0m                                Traceback (most recent call last)",
      "\u001b[1;32mc:\\works\\healthcare_bigdata\\ch06\\ch06_06_concat_append.ipynb Cell 16\u001b[0m line \u001b[0;36m1\n\u001b[1;32m----> <a href='vscode-notebook-cell:/c%3A/works/healthcare_bigdata/ch06/ch06_06_concat_append.ipynb#X21sZmlsZQ%3D%3D?line=0'>1</a>\u001b[0m pd\u001b[39m.\u001b[39;49mconcat([adams_act, adams_breath], verify_integrity\u001b[39m=\u001b[39;49m\u001b[39mTrue\u001b[39;49;00m)\n",
      "File \u001b[1;32mc:\\Python310\\lib\\site-packages\\pandas\\util\\_decorators.py:331\u001b[0m, in \u001b[0;36mdeprecate_nonkeyword_arguments.<locals>.decorate.<locals>.wrapper\u001b[1;34m(*args, **kwargs)\u001b[0m\n\u001b[0;32m    325\u001b[0m \u001b[39mif\u001b[39;00m \u001b[39mlen\u001b[39m(args) \u001b[39m>\u001b[39m num_allow_args:\n\u001b[0;32m    326\u001b[0m     warnings\u001b[39m.\u001b[39mwarn(\n\u001b[0;32m    327\u001b[0m         msg\u001b[39m.\u001b[39mformat(arguments\u001b[39m=\u001b[39m_format_argument_list(allow_args)),\n\u001b[0;32m    328\u001b[0m         \u001b[39mFutureWarning\u001b[39;00m,\n\u001b[0;32m    329\u001b[0m         stacklevel\u001b[39m=\u001b[39mfind_stack_level(),\n\u001b[0;32m    330\u001b[0m     )\n\u001b[1;32m--> 331\u001b[0m \u001b[39mreturn\u001b[39;00m func(\u001b[39m*\u001b[39margs, \u001b[39m*\u001b[39m\u001b[39m*\u001b[39mkwargs)\n",
      "File \u001b[1;32mc:\\Python310\\lib\\site-packages\\pandas\\core\\reshape\\concat.py:368\u001b[0m, in \u001b[0;36mconcat\u001b[1;34m(objs, axis, join, ignore_index, keys, levels, names, verify_integrity, sort, copy)\u001b[0m\n\u001b[0;32m    146\u001b[0m \u001b[39m@deprecate_nonkeyword_arguments\u001b[39m(version\u001b[39m=\u001b[39m\u001b[39mNone\u001b[39;00m, allowed_args\u001b[39m=\u001b[39m[\u001b[39m\"\u001b[39m\u001b[39mobjs\u001b[39m\u001b[39m\"\u001b[39m])\n\u001b[0;32m    147\u001b[0m \u001b[39mdef\u001b[39;00m \u001b[39mconcat\u001b[39m(\n\u001b[0;32m    148\u001b[0m     objs: Iterable[NDFrame] \u001b[39m|\u001b[39m Mapping[HashableT, NDFrame],\n\u001b[1;32m   (...)\u001b[0m\n\u001b[0;32m    157\u001b[0m     copy: \u001b[39mbool\u001b[39m \u001b[39m=\u001b[39m \u001b[39mTrue\u001b[39;00m,\n\u001b[0;32m    158\u001b[0m ) \u001b[39m-\u001b[39m\u001b[39m>\u001b[39m DataFrame \u001b[39m|\u001b[39m Series:\n\u001b[0;32m    159\u001b[0m     \u001b[39m\"\"\"\u001b[39;00m\n\u001b[0;32m    160\u001b[0m \u001b[39m    Concatenate pandas objects along a particular axis.\u001b[39;00m\n\u001b[0;32m    161\u001b[0m \n\u001b[1;32m   (...)\u001b[0m\n\u001b[0;32m    366\u001b[0m \u001b[39m    1   3   4\u001b[39;00m\n\u001b[0;32m    367\u001b[0m \u001b[39m    \"\"\"\u001b[39;00m\n\u001b[1;32m--> 368\u001b[0m     op \u001b[39m=\u001b[39m _Concatenator(\n\u001b[0;32m    369\u001b[0m         objs,\n\u001b[0;32m    370\u001b[0m         axis\u001b[39m=\u001b[39;49maxis,\n\u001b[0;32m    371\u001b[0m         ignore_index\u001b[39m=\u001b[39;49mignore_index,\n\u001b[0;32m    372\u001b[0m         join\u001b[39m=\u001b[39;49mjoin,\n\u001b[0;32m    373\u001b[0m         keys\u001b[39m=\u001b[39;49mkeys,\n\u001b[0;32m    374\u001b[0m         levels\u001b[39m=\u001b[39;49mlevels,\n\u001b[0;32m    375\u001b[0m         names\u001b[39m=\u001b[39;49mnames,\n\u001b[0;32m    376\u001b[0m         verify_integrity\u001b[39m=\u001b[39;49mverify_integrity,\n\u001b[0;32m    377\u001b[0m         copy\u001b[39m=\u001b[39;49mcopy,\n\u001b[0;32m    378\u001b[0m         sort\u001b[39m=\u001b[39;49msort,\n\u001b[0;32m    379\u001b[0m     )\n\u001b[0;32m    381\u001b[0m     \u001b[39mreturn\u001b[39;00m op\u001b[39m.\u001b[39mget_result()\n",
      "File \u001b[1;32mc:\\Python310\\lib\\site-packages\\pandas\\core\\reshape\\concat.py:563\u001b[0m, in \u001b[0;36m_Concatenator.__init__\u001b[1;34m(self, objs, axis, join, keys, levels, names, ignore_index, verify_integrity, copy, sort)\u001b[0m\n\u001b[0;32m    560\u001b[0m \u001b[39mself\u001b[39m\u001b[39m.\u001b[39mverify_integrity \u001b[39m=\u001b[39m verify_integrity\n\u001b[0;32m    561\u001b[0m \u001b[39mself\u001b[39m\u001b[39m.\u001b[39mcopy \u001b[39m=\u001b[39m copy\n\u001b[1;32m--> 563\u001b[0m \u001b[39mself\u001b[39m\u001b[39m.\u001b[39mnew_axes \u001b[39m=\u001b[39m \u001b[39mself\u001b[39;49m\u001b[39m.\u001b[39;49m_get_new_axes()\n",
      "File \u001b[1;32mc:\\Python310\\lib\\site-packages\\pandas\\core\\reshape\\concat.py:633\u001b[0m, in \u001b[0;36m_Concatenator._get_new_axes\u001b[1;34m(self)\u001b[0m\n\u001b[0;32m    631\u001b[0m \u001b[39mdef\u001b[39;00m \u001b[39m_get_new_axes\u001b[39m(\u001b[39mself\u001b[39m) \u001b[39m-\u001b[39m\u001b[39m>\u001b[39m \u001b[39mlist\u001b[39m[Index]:\n\u001b[0;32m    632\u001b[0m     ndim \u001b[39m=\u001b[39m \u001b[39mself\u001b[39m\u001b[39m.\u001b[39m_get_result_dim()\n\u001b[1;32m--> 633\u001b[0m     \u001b[39mreturn\u001b[39;00m [\n\u001b[0;32m    634\u001b[0m         \u001b[39mself\u001b[39m\u001b[39m.\u001b[39m_get_concat_axis \u001b[39mif\u001b[39;00m i \u001b[39m==\u001b[39m \u001b[39mself\u001b[39m\u001b[39m.\u001b[39mbm_axis \u001b[39melse\u001b[39;00m \u001b[39mself\u001b[39m\u001b[39m.\u001b[39m_get_comb_axis(i)\n\u001b[0;32m    635\u001b[0m         \u001b[39mfor\u001b[39;00m i \u001b[39min\u001b[39;00m \u001b[39mrange\u001b[39m(ndim)\n\u001b[0;32m    636\u001b[0m     ]\n",
      "File \u001b[1;32mc:\\Python310\\lib\\site-packages\\pandas\\core\\reshape\\concat.py:634\u001b[0m, in \u001b[0;36m<listcomp>\u001b[1;34m(.0)\u001b[0m\n\u001b[0;32m    631\u001b[0m \u001b[39mdef\u001b[39;00m \u001b[39m_get_new_axes\u001b[39m(\u001b[39mself\u001b[39m) \u001b[39m-\u001b[39m\u001b[39m>\u001b[39m \u001b[39mlist\u001b[39m[Index]:\n\u001b[0;32m    632\u001b[0m     ndim \u001b[39m=\u001b[39m \u001b[39mself\u001b[39m\u001b[39m.\u001b[39m_get_result_dim()\n\u001b[0;32m    633\u001b[0m     \u001b[39mreturn\u001b[39;00m [\n\u001b[1;32m--> 634\u001b[0m         \u001b[39mself\u001b[39;49m\u001b[39m.\u001b[39;49m_get_concat_axis \u001b[39mif\u001b[39;00m i \u001b[39m==\u001b[39m \u001b[39mself\u001b[39m\u001b[39m.\u001b[39mbm_axis \u001b[39melse\u001b[39;00m \u001b[39mself\u001b[39m\u001b[39m.\u001b[39m_get_comb_axis(i)\n\u001b[0;32m    635\u001b[0m         \u001b[39mfor\u001b[39;00m i \u001b[39min\u001b[39;00m \u001b[39mrange\u001b[39m(ndim)\n\u001b[0;32m    636\u001b[0m     ]\n",
      "File \u001b[1;32mc:\\Python310\\lib\\site-packages\\pandas\\_libs\\properties.pyx:36\u001b[0m, in \u001b[0;36mpandas._libs.properties.CachedProperty.__get__\u001b[1;34m()\u001b[0m\n",
      "File \u001b[1;32mc:\\Python310\\lib\\site-packages\\pandas\\core\\reshape\\concat.py:697\u001b[0m, in \u001b[0;36m_Concatenator._get_concat_axis\u001b[1;34m(self)\u001b[0m\n\u001b[0;32m    692\u001b[0m \u001b[39melse\u001b[39;00m:\n\u001b[0;32m    693\u001b[0m     concat_axis \u001b[39m=\u001b[39m _make_concat_multiindex(\n\u001b[0;32m    694\u001b[0m         indexes, \u001b[39mself\u001b[39m\u001b[39m.\u001b[39mkeys, \u001b[39mself\u001b[39m\u001b[39m.\u001b[39mlevels, \u001b[39mself\u001b[39m\u001b[39m.\u001b[39mnames\n\u001b[0;32m    695\u001b[0m     )\n\u001b[1;32m--> 697\u001b[0m \u001b[39mself\u001b[39;49m\u001b[39m.\u001b[39;49m_maybe_check_integrity(concat_axis)\n\u001b[0;32m    699\u001b[0m \u001b[39mreturn\u001b[39;00m concat_axis\n",
      "File \u001b[1;32mc:\\Python310\\lib\\site-packages\\pandas\\core\\reshape\\concat.py:705\u001b[0m, in \u001b[0;36m_Concatenator._maybe_check_integrity\u001b[1;34m(self, concat_index)\u001b[0m\n\u001b[0;32m    703\u001b[0m \u001b[39mif\u001b[39;00m \u001b[39mnot\u001b[39;00m concat_index\u001b[39m.\u001b[39mis_unique:\n\u001b[0;32m    704\u001b[0m     overlap \u001b[39m=\u001b[39m concat_index[concat_index\u001b[39m.\u001b[39mduplicated()]\u001b[39m.\u001b[39munique()\n\u001b[1;32m--> 705\u001b[0m     \u001b[39mraise\u001b[39;00m \u001b[39mValueError\u001b[39;00m(\u001b[39mf\u001b[39m\u001b[39m\"\u001b[39m\u001b[39mIndexes have overlapping values: \u001b[39m\u001b[39m{\u001b[39;00moverlap\u001b[39m}\u001b[39;00m\u001b[39m\"\u001b[39m)\n",
      "\u001b[1;31mValueError\u001b[0m: Indexes have overlapping values: Int64Index([0, 1, 2], dtype='int64')"
     ]
    }
   ],
   "source": [
    "pd.concat([adams_act, adams_breath], verify_integrity=True)"
   ]
  },
  {
   "cell_type": "code",
   "execution_count": 15,
   "metadata": {},
   "outputs": [
    {
     "data": {
      "text/plain": [
       "                  Date   Act  Breath\n",
       "name1  name2                        \n",
       "level1 0      20230102  92.0     NaN\n",
       "       1      20230103  65.0     NaN\n",
       "       2      20230104  96.0     NaN\n",
       "level2 0      20230102   NaN    90.0\n",
       "       1      20230103   NaN    71.0\n",
       "       2      20230104   NaN    81.0"
      ]
     },
     "execution_count": 15,
     "metadata": {},
     "output_type": "execute_result"
    }
   ],
   "source": [
    "pd.concat([adams_act, adams_breath], keys=['level1', 'level2'],\n",
    "          names=['name1', 'name2'])"
   ]
  },
  {
   "cell_type": "code",
   "execution_count": 16,
   "metadata": {},
   "outputs": [
    {
     "data": {
      "text/plain": [
       "              Date   Act  Breath\n",
       "level1 0  20230102  92.0     NaN\n",
       "       1  20230103  65.0     NaN\n",
       "       2  20230104  96.0     NaN\n",
       "level2 0  20230102   NaN    90.0\n",
       "       1  20230103   NaN    71.0\n",
       "       2  20230104   NaN    81.0"
      ]
     },
     "execution_count": 16,
     "metadata": {},
     "output_type": "execute_result"
    }
   ],
   "source": [
    "pd.concat([adams_act, adams_breath], keys=['level1', 'level2'],\n",
    "          levels=[['level1', 'level2']])"
   ]
  },
  {
   "cell_type": "code",
   "execution_count": 17,
   "metadata": {},
   "outputs": [
    {
     "data": {
      "text/plain": [
       "                  Date   Act  Breath\n",
       "name1  name2                        \n",
       "level1 0      20230102  92.0     NaN\n",
       "       1      20230103  65.0     NaN\n",
       "       2      20230104  96.0     NaN\n",
       "level2 0      20230102   NaN    90.0\n",
       "       1      20230103   NaN    71.0\n",
       "       2      20230104   NaN    81.0"
      ]
     },
     "execution_count": 17,
     "metadata": {},
     "output_type": "execute_result"
    }
   ],
   "source": [
    "pd.concat([adams_act, adams_breath], keys=['level1', 'level2'],\n",
    "          levels=[['level1', 'level2']], names=['name1', 'name2'])"
   ]
  },
  {
   "attachments": {},
   "cell_type": "markdown",
   "metadata": {},
   "source": [
    "### 6.6.2 append メソッド"
   ]
  },
  {
   "cell_type": "code",
   "execution_count": 18,
   "metadata": {},
   "outputs": [
    {
     "name": "stderr",
     "output_type": "stream",
     "text": [
      "C:\\Users\\sunin\\AppData\\Local\\Temp\\ipykernel_17060\\3023122094.py:1: FutureWarning: The frame.append method is deprecated and will be removed from pandas in a future version. Use pandas.concat instead.\n",
      "  adams_act.append(adams_breath)\n"
     ]
    },
    {
     "data": {
      "text/plain": [
       "       Date   Act  Breath\n",
       "0  20230102  92.0     NaN\n",
       "1  20230103  65.0     NaN\n",
       "2  20230104  96.0     NaN\n",
       "0  20230102   NaN    90.0\n",
       "1  20230103   NaN    71.0\n",
       "2  20230104   NaN    81.0"
      ]
     },
     "execution_count": 18,
     "metadata": {},
     "output_type": "execute_result"
    }
   ],
   "source": [
    "adams_act.append(adams_breath)"
   ]
  },
  {
   "attachments": {},
   "cell_type": "markdown",
   "metadata": {},
   "source": [
    "#### appendとconcatのパフォーマンスの比較"
   ]
  },
  {
   "cell_type": "code",
   "execution_count": 19,
   "metadata": {},
   "outputs": [
    {
     "name": "stderr",
     "output_type": "stream",
     "text": [
      "C:\\Users\\sunin\\AppData\\Local\\Temp\\ipykernel_17060\\239426361.py:17: FutureWarning: The frame.append method is deprecated and will be removed from pandas in a future version. Use pandas.concat instead.\n",
      "  df2 = df2.append(df)\n",
      "C:\\Users\\sunin\\AppData\\Local\\Temp\\ipykernel_17060\\239426361.py:17: FutureWarning: The frame.append method is deprecated and will be removed from pandas in a future version. Use pandas.concat instead.\n",
      "  df2 = df2.append(df)\n",
      "C:\\Users\\sunin\\AppData\\Local\\Temp\\ipykernel_17060\\239426361.py:17: FutureWarning: The frame.append method is deprecated and will be removed from pandas in a future version. Use pandas.concat instead.\n",
      "  df2 = df2.append(df)\n",
      "C:\\Users\\sunin\\AppData\\Local\\Temp\\ipykernel_17060\\239426361.py:17: FutureWarning: The frame.append method is deprecated and will be removed from pandas in a future version. Use pandas.concat instead.\n",
      "  df2 = df2.append(df)\n",
      "C:\\Users\\sunin\\AppData\\Local\\Temp\\ipykernel_17060\\239426361.py:17: FutureWarning: The frame.append method is deprecated and will be removed from pandas in a future version. Use pandas.concat instead.\n",
      "  df2 = df2.append(df)\n",
      "C:\\Users\\sunin\\AppData\\Local\\Temp\\ipykernel_17060\\239426361.py:17: FutureWarning: The frame.append method is deprecated and will be removed from pandas in a future version. Use pandas.concat instead.\n",
      "  df2 = df2.append(df)\n",
      "C:\\Users\\sunin\\AppData\\Local\\Temp\\ipykernel_17060\\239426361.py:17: FutureWarning: The frame.append method is deprecated and will be removed from pandas in a future version. Use pandas.concat instead.\n",
      "  df2 = df2.append(df)\n",
      "C:\\Users\\sunin\\AppData\\Local\\Temp\\ipykernel_17060\\239426361.py:17: FutureWarning: The frame.append method is deprecated and will be removed from pandas in a future version. Use pandas.concat instead.\n",
      "  df2 = df2.append(df)\n",
      "C:\\Users\\sunin\\AppData\\Local\\Temp\\ipykernel_17060\\239426361.py:17: FutureWarning: The frame.append method is deprecated and will be removed from pandas in a future version. Use pandas.concat instead.\n",
      "  df2 = df2.append(df)\n",
      "C:\\Users\\sunin\\AppData\\Local\\Temp\\ipykernel_17060\\239426361.py:17: FutureWarning: The frame.append method is deprecated and will be removed from pandas in a future version. Use pandas.concat instead.\n",
      "  df2 = df2.append(df)\n",
      "C:\\Users\\sunin\\AppData\\Local\\Temp\\ipykernel_17060\\239426361.py:17: FutureWarning: The frame.append method is deprecated and will be removed from pandas in a future version. Use pandas.concat instead.\n",
      "  df2 = df2.append(df)\n",
      "C:\\Users\\sunin\\AppData\\Local\\Temp\\ipykernel_17060\\239426361.py:17: FutureWarning: The frame.append method is deprecated and will be removed from pandas in a future version. Use pandas.concat instead.\n",
      "  df2 = df2.append(df)\n",
      "C:\\Users\\sunin\\AppData\\Local\\Temp\\ipykernel_17060\\239426361.py:17: FutureWarning: The frame.append method is deprecated and will be removed from pandas in a future version. Use pandas.concat instead.\n",
      "  df2 = df2.append(df)\n",
      "C:\\Users\\sunin\\AppData\\Local\\Temp\\ipykernel_17060\\239426361.py:17: FutureWarning: The frame.append method is deprecated and will be removed from pandas in a future version. Use pandas.concat instead.\n",
      "  df2 = df2.append(df)\n",
      "C:\\Users\\sunin\\AppData\\Local\\Temp\\ipykernel_17060\\239426361.py:17: FutureWarning: The frame.append method is deprecated and will be removed from pandas in a future version. Use pandas.concat instead.\n",
      "  df2 = df2.append(df)\n",
      "C:\\Users\\sunin\\AppData\\Local\\Temp\\ipykernel_17060\\239426361.py:17: FutureWarning: The frame.append method is deprecated and will be removed from pandas in a future version. Use pandas.concat instead.\n",
      "  df2 = df2.append(df)\n",
      "C:\\Users\\sunin\\AppData\\Local\\Temp\\ipykernel_17060\\239426361.py:17: FutureWarning: The frame.append method is deprecated and will be removed from pandas in a future version. Use pandas.concat instead.\n",
      "  df2 = df2.append(df)\n",
      "C:\\Users\\sunin\\AppData\\Local\\Temp\\ipykernel_17060\\239426361.py:17: FutureWarning: The frame.append method is deprecated and will be removed from pandas in a future version. Use pandas.concat instead.\n",
      "  df2 = df2.append(df)\n",
      "C:\\Users\\sunin\\AppData\\Local\\Temp\\ipykernel_17060\\239426361.py:17: FutureWarning: The frame.append method is deprecated and will be removed from pandas in a future version. Use pandas.concat instead.\n",
      "  df2 = df2.append(df)\n",
      "C:\\Users\\sunin\\AppData\\Local\\Temp\\ipykernel_17060\\239426361.py:17: FutureWarning: The frame.append method is deprecated and will be removed from pandas in a future version. Use pandas.concat instead.\n",
      "  df2 = df2.append(df)\n",
      "C:\\Users\\sunin\\AppData\\Local\\Temp\\ipykernel_17060\\239426361.py:17: FutureWarning: The frame.append method is deprecated and will be removed from pandas in a future version. Use pandas.concat instead.\n",
      "  df2 = df2.append(df)\n",
      "C:\\Users\\sunin\\AppData\\Local\\Temp\\ipykernel_17060\\239426361.py:17: FutureWarning: The frame.append method is deprecated and will be removed from pandas in a future version. Use pandas.concat instead.\n",
      "  df2 = df2.append(df)\n",
      "C:\\Users\\sunin\\AppData\\Local\\Temp\\ipykernel_17060\\239426361.py:17: FutureWarning: The frame.append method is deprecated and will be removed from pandas in a future version. Use pandas.concat instead.\n",
      "  df2 = df2.append(df)\n",
      "C:\\Users\\sunin\\AppData\\Local\\Temp\\ipykernel_17060\\239426361.py:17: FutureWarning: The frame.append method is deprecated and will be removed from pandas in a future version. Use pandas.concat instead.\n",
      "  df2 = df2.append(df)\n",
      "C:\\Users\\sunin\\AppData\\Local\\Temp\\ipykernel_17060\\239426361.py:17: FutureWarning: The frame.append method is deprecated and will be removed from pandas in a future version. Use pandas.concat instead.\n",
      "  df2 = df2.append(df)\n",
      "C:\\Users\\sunin\\AppData\\Local\\Temp\\ipykernel_17060\\239426361.py:17: FutureWarning: The frame.append method is deprecated and will be removed from pandas in a future version. Use pandas.concat instead.\n",
      "  df2 = df2.append(df)\n",
      "C:\\Users\\sunin\\AppData\\Local\\Temp\\ipykernel_17060\\239426361.py:17: FutureWarning: The frame.append method is deprecated and will be removed from pandas in a future version. Use pandas.concat instead.\n",
      "  df2 = df2.append(df)\n",
      "C:\\Users\\sunin\\AppData\\Local\\Temp\\ipykernel_17060\\239426361.py:17: FutureWarning: The frame.append method is deprecated and will be removed from pandas in a future version. Use pandas.concat instead.\n",
      "  df2 = df2.append(df)\n",
      "C:\\Users\\sunin\\AppData\\Local\\Temp\\ipykernel_17060\\239426361.py:17: FutureWarning: The frame.append method is deprecated and will be removed from pandas in a future version. Use pandas.concat instead.\n",
      "  df2 = df2.append(df)\n",
      "C:\\Users\\sunin\\AppData\\Local\\Temp\\ipykernel_17060\\239426361.py:17: FutureWarning: The frame.append method is deprecated and will be removed from pandas in a future version. Use pandas.concat instead.\n",
      "  df2 = df2.append(df)\n",
      "C:\\Users\\sunin\\AppData\\Local\\Temp\\ipykernel_17060\\239426361.py:17: FutureWarning: The frame.append method is deprecated and will be removed from pandas in a future version. Use pandas.concat instead.\n",
      "  df2 = df2.append(df)\n",
      "C:\\Users\\sunin\\AppData\\Local\\Temp\\ipykernel_17060\\239426361.py:17: FutureWarning: The frame.append method is deprecated and will be removed from pandas in a future version. Use pandas.concat instead.\n",
      "  df2 = df2.append(df)\n",
      "C:\\Users\\sunin\\AppData\\Local\\Temp\\ipykernel_17060\\239426361.py:17: FutureWarning: The frame.append method is deprecated and will be removed from pandas in a future version. Use pandas.concat instead.\n",
      "  df2 = df2.append(df)\n",
      "C:\\Users\\sunin\\AppData\\Local\\Temp\\ipykernel_17060\\239426361.py:17: FutureWarning: The frame.append method is deprecated and will be removed from pandas in a future version. Use pandas.concat instead.\n",
      "  df2 = df2.append(df)\n",
      "C:\\Users\\sunin\\AppData\\Local\\Temp\\ipykernel_17060\\239426361.py:17: FutureWarning: The frame.append method is deprecated and will be removed from pandas in a future version. Use pandas.concat instead.\n",
      "  df2 = df2.append(df)\n",
      "C:\\Users\\sunin\\AppData\\Local\\Temp\\ipykernel_17060\\239426361.py:17: FutureWarning: The frame.append method is deprecated and will be removed from pandas in a future version. Use pandas.concat instead.\n",
      "  df2 = df2.append(df)\n",
      "C:\\Users\\sunin\\AppData\\Local\\Temp\\ipykernel_17060\\239426361.py:17: FutureWarning: The frame.append method is deprecated and will be removed from pandas in a future version. Use pandas.concat instead.\n",
      "  df2 = df2.append(df)\n",
      "C:\\Users\\sunin\\AppData\\Local\\Temp\\ipykernel_17060\\239426361.py:17: FutureWarning: The frame.append method is deprecated and will be removed from pandas in a future version. Use pandas.concat instead.\n",
      "  df2 = df2.append(df)\n",
      "C:\\Users\\sunin\\AppData\\Local\\Temp\\ipykernel_17060\\239426361.py:17: FutureWarning: The frame.append method is deprecated and will be removed from pandas in a future version. Use pandas.concat instead.\n",
      "  df2 = df2.append(df)\n",
      "C:\\Users\\sunin\\AppData\\Local\\Temp\\ipykernel_17060\\239426361.py:17: FutureWarning: The frame.append method is deprecated and will be removed from pandas in a future version. Use pandas.concat instead.\n",
      "  df2 = df2.append(df)\n",
      "C:\\Users\\sunin\\AppData\\Local\\Temp\\ipykernel_17060\\239426361.py:17: FutureWarning: The frame.append method is deprecated and will be removed from pandas in a future version. Use pandas.concat instead.\n",
      "  df2 = df2.append(df)\n",
      "C:\\Users\\sunin\\AppData\\Local\\Temp\\ipykernel_17060\\239426361.py:17: FutureWarning: The frame.append method is deprecated and will be removed from pandas in a future version. Use pandas.concat instead.\n",
      "  df2 = df2.append(df)\n",
      "C:\\Users\\sunin\\AppData\\Local\\Temp\\ipykernel_17060\\239426361.py:17: FutureWarning: The frame.append method is deprecated and will be removed from pandas in a future version. Use pandas.concat instead.\n",
      "  df2 = df2.append(df)\n",
      "C:\\Users\\sunin\\AppData\\Local\\Temp\\ipykernel_17060\\239426361.py:17: FutureWarning: The frame.append method is deprecated and will be removed from pandas in a future version. Use pandas.concat instead.\n",
      "  df2 = df2.append(df)\n"
     ]
    },
    {
     "name": "stderr",
     "output_type": "stream",
     "text": [
      "C:\\Users\\sunin\\AppData\\Local\\Temp\\ipykernel_17060\\239426361.py:17: FutureWarning: The frame.append method is deprecated and will be removed from pandas in a future version. Use pandas.concat instead.\n",
      "  df2 = df2.append(df)\n",
      "C:\\Users\\sunin\\AppData\\Local\\Temp\\ipykernel_17060\\239426361.py:17: FutureWarning: The frame.append method is deprecated and will be removed from pandas in a future version. Use pandas.concat instead.\n",
      "  df2 = df2.append(df)\n",
      "C:\\Users\\sunin\\AppData\\Local\\Temp\\ipykernel_17060\\239426361.py:17: FutureWarning: The frame.append method is deprecated and will be removed from pandas in a future version. Use pandas.concat instead.\n",
      "  df2 = df2.append(df)\n",
      "C:\\Users\\sunin\\AppData\\Local\\Temp\\ipykernel_17060\\239426361.py:17: FutureWarning: The frame.append method is deprecated and will be removed from pandas in a future version. Use pandas.concat instead.\n",
      "  df2 = df2.append(df)\n",
      "C:\\Users\\sunin\\AppData\\Local\\Temp\\ipykernel_17060\\239426361.py:17: FutureWarning: The frame.append method is deprecated and will be removed from pandas in a future version. Use pandas.concat instead.\n",
      "  df2 = df2.append(df)\n",
      "C:\\Users\\sunin\\AppData\\Local\\Temp\\ipykernel_17060\\239426361.py:17: FutureWarning: The frame.append method is deprecated and will be removed from pandas in a future version. Use pandas.concat instead.\n",
      "  df2 = df2.append(df)\n",
      "C:\\Users\\sunin\\AppData\\Local\\Temp\\ipykernel_17060\\239426361.py:17: FutureWarning: The frame.append method is deprecated and will be removed from pandas in a future version. Use pandas.concat instead.\n",
      "  df2 = df2.append(df)\n",
      "C:\\Users\\sunin\\AppData\\Local\\Temp\\ipykernel_17060\\239426361.py:17: FutureWarning: The frame.append method is deprecated and will be removed from pandas in a future version. Use pandas.concat instead.\n",
      "  df2 = df2.append(df)\n",
      "C:\\Users\\sunin\\AppData\\Local\\Temp\\ipykernel_17060\\239426361.py:17: FutureWarning: The frame.append method is deprecated and will be removed from pandas in a future version. Use pandas.concat instead.\n",
      "  df2 = df2.append(df)\n",
      "C:\\Users\\sunin\\AppData\\Local\\Temp\\ipykernel_17060\\239426361.py:17: FutureWarning: The frame.append method is deprecated and will be removed from pandas in a future version. Use pandas.concat instead.\n",
      "  df2 = df2.append(df)\n",
      "C:\\Users\\sunin\\AppData\\Local\\Temp\\ipykernel_17060\\239426361.py:17: FutureWarning: The frame.append method is deprecated and will be removed from pandas in a future version. Use pandas.concat instead.\n",
      "  df2 = df2.append(df)\n",
      "C:\\Users\\sunin\\AppData\\Local\\Temp\\ipykernel_17060\\239426361.py:17: FutureWarning: The frame.append method is deprecated and will be removed from pandas in a future version. Use pandas.concat instead.\n",
      "  df2 = df2.append(df)\n",
      "C:\\Users\\sunin\\AppData\\Local\\Temp\\ipykernel_17060\\239426361.py:17: FutureWarning: The frame.append method is deprecated and will be removed from pandas in a future version. Use pandas.concat instead.\n",
      "  df2 = df2.append(df)\n",
      "C:\\Users\\sunin\\AppData\\Local\\Temp\\ipykernel_17060\\239426361.py:17: FutureWarning: The frame.append method is deprecated and will be removed from pandas in a future version. Use pandas.concat instead.\n",
      "  df2 = df2.append(df)\n",
      "C:\\Users\\sunin\\AppData\\Local\\Temp\\ipykernel_17060\\239426361.py:17: FutureWarning: The frame.append method is deprecated and will be removed from pandas in a future version. Use pandas.concat instead.\n",
      "  df2 = df2.append(df)\n",
      "C:\\Users\\sunin\\AppData\\Local\\Temp\\ipykernel_17060\\239426361.py:17: FutureWarning: The frame.append method is deprecated and will be removed from pandas in a future version. Use pandas.concat instead.\n",
      "  df2 = df2.append(df)\n",
      "C:\\Users\\sunin\\AppData\\Local\\Temp\\ipykernel_17060\\239426361.py:17: FutureWarning: The frame.append method is deprecated and will be removed from pandas in a future version. Use pandas.concat instead.\n",
      "  df2 = df2.append(df)\n",
      "C:\\Users\\sunin\\AppData\\Local\\Temp\\ipykernel_17060\\239426361.py:17: FutureWarning: The frame.append method is deprecated and will be removed from pandas in a future version. Use pandas.concat instead.\n",
      "  df2 = df2.append(df)\n",
      "C:\\Users\\sunin\\AppData\\Local\\Temp\\ipykernel_17060\\239426361.py:17: FutureWarning: The frame.append method is deprecated and will be removed from pandas in a future version. Use pandas.concat instead.\n",
      "  df2 = df2.append(df)\n",
      "C:\\Users\\sunin\\AppData\\Local\\Temp\\ipykernel_17060\\239426361.py:17: FutureWarning: The frame.append method is deprecated and will be removed from pandas in a future version. Use pandas.concat instead.\n",
      "  df2 = df2.append(df)\n",
      "C:\\Users\\sunin\\AppData\\Local\\Temp\\ipykernel_17060\\239426361.py:17: FutureWarning: The frame.append method is deprecated and will be removed from pandas in a future version. Use pandas.concat instead.\n",
      "  df2 = df2.append(df)\n",
      "C:\\Users\\sunin\\AppData\\Local\\Temp\\ipykernel_17060\\239426361.py:17: FutureWarning: The frame.append method is deprecated and will be removed from pandas in a future version. Use pandas.concat instead.\n",
      "  df2 = df2.append(df)\n",
      "C:\\Users\\sunin\\AppData\\Local\\Temp\\ipykernel_17060\\239426361.py:17: FutureWarning: The frame.append method is deprecated and will be removed from pandas in a future version. Use pandas.concat instead.\n",
      "  df2 = df2.append(df)\n",
      "C:\\Users\\sunin\\AppData\\Local\\Temp\\ipykernel_17060\\239426361.py:17: FutureWarning: The frame.append method is deprecated and will be removed from pandas in a future version. Use pandas.concat instead.\n",
      "  df2 = df2.append(df)\n",
      "C:\\Users\\sunin\\AppData\\Local\\Temp\\ipykernel_17060\\239426361.py:17: FutureWarning: The frame.append method is deprecated and will be removed from pandas in a future version. Use pandas.concat instead.\n",
      "  df2 = df2.append(df)\n",
      "C:\\Users\\sunin\\AppData\\Local\\Temp\\ipykernel_17060\\239426361.py:17: FutureWarning: The frame.append method is deprecated and will be removed from pandas in a future version. Use pandas.concat instead.\n",
      "  df2 = df2.append(df)\n",
      "C:\\Users\\sunin\\AppData\\Local\\Temp\\ipykernel_17060\\239426361.py:17: FutureWarning: The frame.append method is deprecated and will be removed from pandas in a future version. Use pandas.concat instead.\n",
      "  df2 = df2.append(df)\n",
      "C:\\Users\\sunin\\AppData\\Local\\Temp\\ipykernel_17060\\239426361.py:17: FutureWarning: The frame.append method is deprecated and will be removed from pandas in a future version. Use pandas.concat instead.\n",
      "  df2 = df2.append(df)\n",
      "C:\\Users\\sunin\\AppData\\Local\\Temp\\ipykernel_17060\\239426361.py:17: FutureWarning: The frame.append method is deprecated and will be removed from pandas in a future version. Use pandas.concat instead.\n",
      "  df2 = df2.append(df)\n",
      "C:\\Users\\sunin\\AppData\\Local\\Temp\\ipykernel_17060\\239426361.py:17: FutureWarning: The frame.append method is deprecated and will be removed from pandas in a future version. Use pandas.concat instead.\n",
      "  df2 = df2.append(df)\n",
      "C:\\Users\\sunin\\AppData\\Local\\Temp\\ipykernel_17060\\239426361.py:17: FutureWarning: The frame.append method is deprecated and will be removed from pandas in a future version. Use pandas.concat instead.\n",
      "  df2 = df2.append(df)\n",
      "C:\\Users\\sunin\\AppData\\Local\\Temp\\ipykernel_17060\\239426361.py:17: FutureWarning: The frame.append method is deprecated and will be removed from pandas in a future version. Use pandas.concat instead.\n",
      "  df2 = df2.append(df)\n",
      "C:\\Users\\sunin\\AppData\\Local\\Temp\\ipykernel_17060\\239426361.py:17: FutureWarning: The frame.append method is deprecated and will be removed from pandas in a future version. Use pandas.concat instead.\n",
      "  df2 = df2.append(df)\n",
      "C:\\Users\\sunin\\AppData\\Local\\Temp\\ipykernel_17060\\239426361.py:17: FutureWarning: The frame.append method is deprecated and will be removed from pandas in a future version. Use pandas.concat instead.\n",
      "  df2 = df2.append(df)\n",
      "C:\\Users\\sunin\\AppData\\Local\\Temp\\ipykernel_17060\\239426361.py:17: FutureWarning: The frame.append method is deprecated and will be removed from pandas in a future version. Use pandas.concat instead.\n",
      "  df2 = df2.append(df)\n",
      "C:\\Users\\sunin\\AppData\\Local\\Temp\\ipykernel_17060\\239426361.py:17: FutureWarning: The frame.append method is deprecated and will be removed from pandas in a future version. Use pandas.concat instead.\n",
      "  df2 = df2.append(df)\n",
      "C:\\Users\\sunin\\AppData\\Local\\Temp\\ipykernel_17060\\239426361.py:17: FutureWarning: The frame.append method is deprecated and will be removed from pandas in a future version. Use pandas.concat instead.\n",
      "  df2 = df2.append(df)\n",
      "C:\\Users\\sunin\\AppData\\Local\\Temp\\ipykernel_17060\\239426361.py:17: FutureWarning: The frame.append method is deprecated and will be removed from pandas in a future version. Use pandas.concat instead.\n",
      "  df2 = df2.append(df)\n",
      "C:\\Users\\sunin\\AppData\\Local\\Temp\\ipykernel_17060\\239426361.py:17: FutureWarning: The frame.append method is deprecated and will be removed from pandas in a future version. Use pandas.concat instead.\n",
      "  df2 = df2.append(df)\n",
      "C:\\Users\\sunin\\AppData\\Local\\Temp\\ipykernel_17060\\239426361.py:17: FutureWarning: The frame.append method is deprecated and will be removed from pandas in a future version. Use pandas.concat instead.\n",
      "  df2 = df2.append(df)\n",
      "C:\\Users\\sunin\\AppData\\Local\\Temp\\ipykernel_17060\\239426361.py:17: FutureWarning: The frame.append method is deprecated and will be removed from pandas in a future version. Use pandas.concat instead.\n",
      "  df2 = df2.append(df)\n",
      "C:\\Users\\sunin\\AppData\\Local\\Temp\\ipykernel_17060\\239426361.py:17: FutureWarning: The frame.append method is deprecated and will be removed from pandas in a future version. Use pandas.concat instead.\n",
      "  df2 = df2.append(df)\n",
      "C:\\Users\\sunin\\AppData\\Local\\Temp\\ipykernel_17060\\239426361.py:17: FutureWarning: The frame.append method is deprecated and will be removed from pandas in a future version. Use pandas.concat instead.\n",
      "  df2 = df2.append(df)\n",
      "C:\\Users\\sunin\\AppData\\Local\\Temp\\ipykernel_17060\\239426361.py:17: FutureWarning: The frame.append method is deprecated and will be removed from pandas in a future version. Use pandas.concat instead.\n",
      "  df2 = df2.append(df)\n",
      "C:\\Users\\sunin\\AppData\\Local\\Temp\\ipykernel_17060\\239426361.py:17: FutureWarning: The frame.append method is deprecated and will be removed from pandas in a future version. Use pandas.concat instead.\n",
      "  df2 = df2.append(df)\n",
      "C:\\Users\\sunin\\AppData\\Local\\Temp\\ipykernel_17060\\239426361.py:17: FutureWarning: The frame.append method is deprecated and will be removed from pandas in a future version. Use pandas.concat instead.\n",
      "  df2 = df2.append(df)\n",
      "C:\\Users\\sunin\\AppData\\Local\\Temp\\ipykernel_17060\\239426361.py:17: FutureWarning: The frame.append method is deprecated and will be removed from pandas in a future version. Use pandas.concat instead.\n",
      "  df2 = df2.append(df)\n",
      "C:\\Users\\sunin\\AppData\\Local\\Temp\\ipykernel_17060\\239426361.py:17: FutureWarning: The frame.append method is deprecated and will be removed from pandas in a future version. Use pandas.concat instead.\n",
      "  df2 = df2.append(df)\n",
      "C:\\Users\\sunin\\AppData\\Local\\Temp\\ipykernel_17060\\239426361.py:17: FutureWarning: The frame.append method is deprecated and will be removed from pandas in a future version. Use pandas.concat instead.\n",
      "  df2 = df2.append(df)\n",
      "C:\\Users\\sunin\\AppData\\Local\\Temp\\ipykernel_17060\\239426361.py:17: FutureWarning: The frame.append method is deprecated and will be removed from pandas in a future version. Use pandas.concat instead.\n",
      "  df2 = df2.append(df)\n",
      "C:\\Users\\sunin\\AppData\\Local\\Temp\\ipykernel_17060\\239426361.py:17: FutureWarning: The frame.append method is deprecated and will be removed from pandas in a future version. Use pandas.concat instead.\n",
      "  df2 = df2.append(df)\n",
      "C:\\Users\\sunin\\AppData\\Local\\Temp\\ipykernel_17060\\239426361.py:17: FutureWarning: The frame.append method is deprecated and will be removed from pandas in a future version. Use pandas.concat instead.\n",
      "  df2 = df2.append(df)\n",
      "C:\\Users\\sunin\\AppData\\Local\\Temp\\ipykernel_17060\\239426361.py:17: FutureWarning: The frame.append method is deprecated and will be removed from pandas in a future version. Use pandas.concat instead.\n",
      "  df2 = df2.append(df)\n",
      "C:\\Users\\sunin\\AppData\\Local\\Temp\\ipykernel_17060\\239426361.py:17: FutureWarning: The frame.append method is deprecated and will be removed from pandas in a future version. Use pandas.concat instead.\n",
      "  df2 = df2.append(df)\n",
      "C:\\Users\\sunin\\AppData\\Local\\Temp\\ipykernel_17060\\239426361.py:17: FutureWarning: The frame.append method is deprecated and will be removed from pandas in a future version. Use pandas.concat instead.\n",
      "  df2 = df2.append(df)\n",
      "C:\\Users\\sunin\\AppData\\Local\\Temp\\ipykernel_17060\\239426361.py:17: FutureWarning: The frame.append method is deprecated and will be removed from pandas in a future version. Use pandas.concat instead.\n",
      "  df2 = df2.append(df)\n",
      "C:\\Users\\sunin\\AppData\\Local\\Temp\\ipykernel_17060\\239426361.py:17: FutureWarning: The frame.append method is deprecated and will be removed from pandas in a future version. Use pandas.concat instead.\n",
      "  df2 = df2.append(df)\n",
      "C:\\Users\\sunin\\AppData\\Local\\Temp\\ipykernel_17060\\239426361.py:17: FutureWarning: The frame.append method is deprecated and will be removed from pandas in a future version. Use pandas.concat instead.\n",
      "  df2 = df2.append(df)\n",
      "C:\\Users\\sunin\\AppData\\Local\\Temp\\ipykernel_17060\\239426361.py:17: FutureWarning: The frame.append method is deprecated and will be removed from pandas in a future version. Use pandas.concat instead.\n",
      "  df2 = df2.append(df)\n",
      "C:\\Users\\sunin\\AppData\\Local\\Temp\\ipykernel_17060\\239426361.py:17: FutureWarning: The frame.append method is deprecated and will be removed from pandas in a future version. Use pandas.concat instead.\n",
      "  df2 = df2.append(df)\n",
      "C:\\Users\\sunin\\AppData\\Local\\Temp\\ipykernel_17060\\239426361.py:17: FutureWarning: The frame.append method is deprecated and will be removed from pandas in a future version. Use pandas.concat instead.\n",
      "  df2 = df2.append(df)\n",
      "C:\\Users\\sunin\\AppData\\Local\\Temp\\ipykernel_17060\\239426361.py:17: FutureWarning: The frame.append method is deprecated and will be removed from pandas in a future version. Use pandas.concat instead.\n",
      "  df2 = df2.append(df)\n",
      "C:\\Users\\sunin\\AppData\\Local\\Temp\\ipykernel_17060\\239426361.py:17: FutureWarning: The frame.append method is deprecated and will be removed from pandas in a future version. Use pandas.concat instead.\n",
      "  df2 = df2.append(df)\n",
      "C:\\Users\\sunin\\AppData\\Local\\Temp\\ipykernel_17060\\239426361.py:17: FutureWarning: The frame.append method is deprecated and will be removed from pandas in a future version. Use pandas.concat instead.\n",
      "  df2 = df2.append(df)\n",
      "C:\\Users\\sunin\\AppData\\Local\\Temp\\ipykernel_17060\\239426361.py:17: FutureWarning: The frame.append method is deprecated and will be removed from pandas in a future version. Use pandas.concat instead.\n",
      "  df2 = df2.append(df)\n",
      "C:\\Users\\sunin\\AppData\\Local\\Temp\\ipykernel_17060\\239426361.py:17: FutureWarning: The frame.append method is deprecated and will be removed from pandas in a future version. Use pandas.concat instead.\n",
      "  df2 = df2.append(df)\n",
      "C:\\Users\\sunin\\AppData\\Local\\Temp\\ipykernel_17060\\239426361.py:17: FutureWarning: The frame.append method is deprecated and will be removed from pandas in a future version. Use pandas.concat instead.\n",
      "  df2 = df2.append(df)\n",
      "C:\\Users\\sunin\\AppData\\Local\\Temp\\ipykernel_17060\\239426361.py:17: FutureWarning: The frame.append method is deprecated and will be removed from pandas in a future version. Use pandas.concat instead.\n",
      "  df2 = df2.append(df)\n",
      "C:\\Users\\sunin\\AppData\\Local\\Temp\\ipykernel_17060\\239426361.py:17: FutureWarning: The frame.append method is deprecated and will be removed from pandas in a future version. Use pandas.concat instead.\n",
      "  df2 = df2.append(df)\n",
      "C:\\Users\\sunin\\AppData\\Local\\Temp\\ipykernel_17060\\239426361.py:17: FutureWarning: The frame.append method is deprecated and will be removed from pandas in a future version. Use pandas.concat instead.\n",
      "  df2 = df2.append(df)\n",
      "C:\\Users\\sunin\\AppData\\Local\\Temp\\ipykernel_17060\\239426361.py:17: FutureWarning: The frame.append method is deprecated and will be removed from pandas in a future version. Use pandas.concat instead.\n",
      "  df2 = df2.append(df)\n",
      "C:\\Users\\sunin\\AppData\\Local\\Temp\\ipykernel_17060\\239426361.py:17: FutureWarning: The frame.append method is deprecated and will be removed from pandas in a future version. Use pandas.concat instead.\n",
      "  df2 = df2.append(df)\n",
      "C:\\Users\\sunin\\AppData\\Local\\Temp\\ipykernel_17060\\239426361.py:17: FutureWarning: The frame.append method is deprecated and will be removed from pandas in a future version. Use pandas.concat instead.\n",
      "  df2 = df2.append(df)\n",
      "C:\\Users\\sunin\\AppData\\Local\\Temp\\ipykernel_17060\\239426361.py:17: FutureWarning: The frame.append method is deprecated and will be removed from pandas in a future version. Use pandas.concat instead.\n",
      "  df2 = df2.append(df)\n",
      "C:\\Users\\sunin\\AppData\\Local\\Temp\\ipykernel_17060\\239426361.py:17: FutureWarning: The frame.append method is deprecated and will be removed from pandas in a future version. Use pandas.concat instead.\n",
      "  df2 = df2.append(df)\n",
      "C:\\Users\\sunin\\AppData\\Local\\Temp\\ipykernel_17060\\239426361.py:17: FutureWarning: The frame.append method is deprecated and will be removed from pandas in a future version. Use pandas.concat instead.\n",
      "  df2 = df2.append(df)\n",
      "C:\\Users\\sunin\\AppData\\Local\\Temp\\ipykernel_17060\\239426361.py:17: FutureWarning: The frame.append method is deprecated and will be removed from pandas in a future version. Use pandas.concat instead.\n",
      "  df2 = df2.append(df)\n",
      "C:\\Users\\sunin\\AppData\\Local\\Temp\\ipykernel_17060\\239426361.py:17: FutureWarning: The frame.append method is deprecated and will be removed from pandas in a future version. Use pandas.concat instead.\n",
      "  df2 = df2.append(df)\n",
      "C:\\Users\\sunin\\AppData\\Local\\Temp\\ipykernel_17060\\239426361.py:17: FutureWarning: The frame.append method is deprecated and will be removed from pandas in a future version. Use pandas.concat instead.\n",
      "  df2 = df2.append(df)\n",
      "C:\\Users\\sunin\\AppData\\Local\\Temp\\ipykernel_17060\\239426361.py:17: FutureWarning: The frame.append method is deprecated and will be removed from pandas in a future version. Use pandas.concat instead.\n",
      "  df2 = df2.append(df)\n",
      "C:\\Users\\sunin\\AppData\\Local\\Temp\\ipykernel_17060\\239426361.py:17: FutureWarning: The frame.append method is deprecated and will be removed from pandas in a future version. Use pandas.concat instead.\n",
      "  df2 = df2.append(df)\n",
      "C:\\Users\\sunin\\AppData\\Local\\Temp\\ipykernel_17060\\239426361.py:17: FutureWarning: The frame.append method is deprecated and will be removed from pandas in a future version. Use pandas.concat instead.\n",
      "  df2 = df2.append(df)\n",
      "C:\\Users\\sunin\\AppData\\Local\\Temp\\ipykernel_17060\\239426361.py:17: FutureWarning: The frame.append method is deprecated and will be removed from pandas in a future version. Use pandas.concat instead.\n",
      "  df2 = df2.append(df)\n",
      "C:\\Users\\sunin\\AppData\\Local\\Temp\\ipykernel_17060\\239426361.py:17: FutureWarning: The frame.append method is deprecated and will be removed from pandas in a future version. Use pandas.concat instead.\n",
      "  df2 = df2.append(df)\n",
      "C:\\Users\\sunin\\AppData\\Local\\Temp\\ipykernel_17060\\239426361.py:17: FutureWarning: The frame.append method is deprecated and will be removed from pandas in a future version. Use pandas.concat instead.\n",
      "  df2 = df2.append(df)\n",
      "C:\\Users\\sunin\\AppData\\Local\\Temp\\ipykernel_17060\\239426361.py:17: FutureWarning: The frame.append method is deprecated and will be removed from pandas in a future version. Use pandas.concat instead.\n",
      "  df2 = df2.append(df)\n",
      "C:\\Users\\sunin\\AppData\\Local\\Temp\\ipykernel_17060\\239426361.py:17: FutureWarning: The frame.append method is deprecated and will be removed from pandas in a future version. Use pandas.concat instead.\n",
      "  df2 = df2.append(df)\n",
      "C:\\Users\\sunin\\AppData\\Local\\Temp\\ipykernel_17060\\239426361.py:17: FutureWarning: The frame.append method is deprecated and will be removed from pandas in a future version. Use pandas.concat instead.\n",
      "  df2 = df2.append(df)\n",
      "C:\\Users\\sunin\\AppData\\Local\\Temp\\ipykernel_17060\\239426361.py:17: FutureWarning: The frame.append method is deprecated and will be removed from pandas in a future version. Use pandas.concat instead.\n",
      "  df2 = df2.append(df)\n",
      "C:\\Users\\sunin\\AppData\\Local\\Temp\\ipykernel_17060\\239426361.py:17: FutureWarning: The frame.append method is deprecated and will be removed from pandas in a future version. Use pandas.concat instead.\n",
      "  df2 = df2.append(df)\n",
      "C:\\Users\\sunin\\AppData\\Local\\Temp\\ipykernel_17060\\239426361.py:17: FutureWarning: The frame.append method is deprecated and will be removed from pandas in a future version. Use pandas.concat instead.\n",
      "  df2 = df2.append(df)\n",
      "C:\\Users\\sunin\\AppData\\Local\\Temp\\ipykernel_17060\\239426361.py:17: FutureWarning: The frame.append method is deprecated and will be removed from pandas in a future version. Use pandas.concat instead.\n",
      "  df2 = df2.append(df)\n",
      "C:\\Users\\sunin\\AppData\\Local\\Temp\\ipykernel_17060\\239426361.py:17: FutureWarning: The frame.append method is deprecated and will be removed from pandas in a future version. Use pandas.concat instead.\n",
      "  df2 = df2.append(df)\n",
      "C:\\Users\\sunin\\AppData\\Local\\Temp\\ipykernel_17060\\239426361.py:17: FutureWarning: The frame.append method is deprecated and will be removed from pandas in a future version. Use pandas.concat instead.\n",
      "  df2 = df2.append(df)\n",
      "C:\\Users\\sunin\\AppData\\Local\\Temp\\ipykernel_17060\\239426361.py:17: FutureWarning: The frame.append method is deprecated and will be removed from pandas in a future version. Use pandas.concat instead.\n",
      "  df2 = df2.append(df)\n",
      "C:\\Users\\sunin\\AppData\\Local\\Temp\\ipykernel_17060\\239426361.py:17: FutureWarning: The frame.append method is deprecated and will be removed from pandas in a future version. Use pandas.concat instead.\n",
      "  df2 = df2.append(df)\n",
      "C:\\Users\\sunin\\AppData\\Local\\Temp\\ipykernel_17060\\239426361.py:17: FutureWarning: The frame.append method is deprecated and will be removed from pandas in a future version. Use pandas.concat instead.\n",
      "  df2 = df2.append(df)\n",
      "C:\\Users\\sunin\\AppData\\Local\\Temp\\ipykernel_17060\\239426361.py:17: FutureWarning: The frame.append method is deprecated and will be removed from pandas in a future version. Use pandas.concat instead.\n",
      "  df2 = df2.append(df)\n",
      "C:\\Users\\sunin\\AppData\\Local\\Temp\\ipykernel_17060\\239426361.py:17: FutureWarning: The frame.append method is deprecated and will be removed from pandas in a future version. Use pandas.concat instead.\n",
      "  df2 = df2.append(df)\n",
      "C:\\Users\\sunin\\AppData\\Local\\Temp\\ipykernel_17060\\239426361.py:17: FutureWarning: The frame.append method is deprecated and will be removed from pandas in a future version. Use pandas.concat instead.\n",
      "  df2 = df2.append(df)\n",
      "C:\\Users\\sunin\\AppData\\Local\\Temp\\ipykernel_17060\\239426361.py:17: FutureWarning: The frame.append method is deprecated and will be removed from pandas in a future version. Use pandas.concat instead.\n",
      "  df2 = df2.append(df)\n",
      "C:\\Users\\sunin\\AppData\\Local\\Temp\\ipykernel_17060\\239426361.py:17: FutureWarning: The frame.append method is deprecated and will be removed from pandas in a future version. Use pandas.concat instead.\n",
      "  df2 = df2.append(df)\n",
      "C:\\Users\\sunin\\AppData\\Local\\Temp\\ipykernel_17060\\239426361.py:17: FutureWarning: The frame.append method is deprecated and will be removed from pandas in a future version. Use pandas.concat instead.\n",
      "  df2 = df2.append(df)\n",
      "C:\\Users\\sunin\\AppData\\Local\\Temp\\ipykernel_17060\\239426361.py:17: FutureWarning: The frame.append method is deprecated and will be removed from pandas in a future version. Use pandas.concat instead.\n",
      "  df2 = df2.append(df)\n",
      "C:\\Users\\sunin\\AppData\\Local\\Temp\\ipykernel_17060\\239426361.py:17: FutureWarning: The frame.append method is deprecated and will be removed from pandas in a future version. Use pandas.concat instead.\n",
      "  df2 = df2.append(df)\n",
      "C:\\Users\\sunin\\AppData\\Local\\Temp\\ipykernel_17060\\239426361.py:17: FutureWarning: The frame.append method is deprecated and will be removed from pandas in a future version. Use pandas.concat instead.\n",
      "  df2 = df2.append(df)\n",
      "C:\\Users\\sunin\\AppData\\Local\\Temp\\ipykernel_17060\\239426361.py:17: FutureWarning: The frame.append method is deprecated and will be removed from pandas in a future version. Use pandas.concat instead.\n",
      "  df2 = df2.append(df)\n",
      "C:\\Users\\sunin\\AppData\\Local\\Temp\\ipykernel_17060\\239426361.py:17: FutureWarning: The frame.append method is deprecated and will be removed from pandas in a future version. Use pandas.concat instead.\n",
      "  df2 = df2.append(df)\n",
      "C:\\Users\\sunin\\AppData\\Local\\Temp\\ipykernel_17060\\239426361.py:17: FutureWarning: The frame.append method is deprecated and will be removed from pandas in a future version. Use pandas.concat instead.\n",
      "  df2 = df2.append(df)\n",
      "C:\\Users\\sunin\\AppData\\Local\\Temp\\ipykernel_17060\\239426361.py:17: FutureWarning: The frame.append method is deprecated and will be removed from pandas in a future version. Use pandas.concat instead.\n",
      "  df2 = df2.append(df)\n",
      "C:\\Users\\sunin\\AppData\\Local\\Temp\\ipykernel_17060\\239426361.py:17: FutureWarning: The frame.append method is deprecated and will be removed from pandas in a future version. Use pandas.concat instead.\n",
      "  df2 = df2.append(df)\n",
      "C:\\Users\\sunin\\AppData\\Local\\Temp\\ipykernel_17060\\239426361.py:17: FutureWarning: The frame.append method is deprecated and will be removed from pandas in a future version. Use pandas.concat instead.\n",
      "  df2 = df2.append(df)\n",
      "C:\\Users\\sunin\\AppData\\Local\\Temp\\ipykernel_17060\\239426361.py:17: FutureWarning: The frame.append method is deprecated and will be removed from pandas in a future version. Use pandas.concat instead.\n",
      "  df2 = df2.append(df)\n",
      "C:\\Users\\sunin\\AppData\\Local\\Temp\\ipykernel_17060\\239426361.py:17: FutureWarning: The frame.append method is deprecated and will be removed from pandas in a future version. Use pandas.concat instead.\n",
      "  df2 = df2.append(df)\n",
      "C:\\Users\\sunin\\AppData\\Local\\Temp\\ipykernel_17060\\239426361.py:17: FutureWarning: The frame.append method is deprecated and will be removed from pandas in a future version. Use pandas.concat instead.\n",
      "  df2 = df2.append(df)\n",
      "C:\\Users\\sunin\\AppData\\Local\\Temp\\ipykernel_17060\\239426361.py:17: FutureWarning: The frame.append method is deprecated and will be removed from pandas in a future version. Use pandas.concat instead.\n",
      "  df2 = df2.append(df)\n",
      "C:\\Users\\sunin\\AppData\\Local\\Temp\\ipykernel_17060\\239426361.py:17: FutureWarning: The frame.append method is deprecated and will be removed from pandas in a future version. Use pandas.concat instead.\n",
      "  df2 = df2.append(df)\n",
      "C:\\Users\\sunin\\AppData\\Local\\Temp\\ipykernel_17060\\239426361.py:17: FutureWarning: The frame.append method is deprecated and will be removed from pandas in a future version. Use pandas.concat instead.\n",
      "  df2 = df2.append(df)\n",
      "C:\\Users\\sunin\\AppData\\Local\\Temp\\ipykernel_17060\\239426361.py:17: FutureWarning: The frame.append method is deprecated and will be removed from pandas in a future version. Use pandas.concat instead.\n",
      "  df2 = df2.append(df)\n",
      "C:\\Users\\sunin\\AppData\\Local\\Temp\\ipykernel_17060\\239426361.py:17: FutureWarning: The frame.append method is deprecated and will be removed from pandas in a future version. Use pandas.concat instead.\n",
      "  df2 = df2.append(df)\n",
      "C:\\Users\\sunin\\AppData\\Local\\Temp\\ipykernel_17060\\239426361.py:17: FutureWarning: The frame.append method is deprecated and will be removed from pandas in a future version. Use pandas.concat instead.\n",
      "  df2 = df2.append(df)\n",
      "C:\\Users\\sunin\\AppData\\Local\\Temp\\ipykernel_17060\\239426361.py:17: FutureWarning: The frame.append method is deprecated and will be removed from pandas in a future version. Use pandas.concat instead.\n",
      "  df2 = df2.append(df)\n",
      "C:\\Users\\sunin\\AppData\\Local\\Temp\\ipykernel_17060\\239426361.py:17: FutureWarning: The frame.append method is deprecated and will be removed from pandas in a future version. Use pandas.concat instead.\n",
      "  df2 = df2.append(df)\n",
      "C:\\Users\\sunin\\AppData\\Local\\Temp\\ipykernel_17060\\239426361.py:17: FutureWarning: The frame.append method is deprecated and will be removed from pandas in a future version. Use pandas.concat instead.\n",
      "  df2 = df2.append(df)\n",
      "C:\\Users\\sunin\\AppData\\Local\\Temp\\ipykernel_17060\\239426361.py:17: FutureWarning: The frame.append method is deprecated and will be removed from pandas in a future version. Use pandas.concat instead.\n",
      "  df2 = df2.append(df)\n",
      "C:\\Users\\sunin\\AppData\\Local\\Temp\\ipykernel_17060\\239426361.py:17: FutureWarning: The frame.append method is deprecated and will be removed from pandas in a future version. Use pandas.concat instead.\n",
      "  df2 = df2.append(df)\n",
      "C:\\Users\\sunin\\AppData\\Local\\Temp\\ipykernel_17060\\239426361.py:17: FutureWarning: The frame.append method is deprecated and will be removed from pandas in a future version. Use pandas.concat instead.\n",
      "  df2 = df2.append(df)\n",
      "C:\\Users\\sunin\\AppData\\Local\\Temp\\ipykernel_17060\\239426361.py:17: FutureWarning: The frame.append method is deprecated and will be removed from pandas in a future version. Use pandas.concat instead.\n",
      "  df2 = df2.append(df)\n",
      "C:\\Users\\sunin\\AppData\\Local\\Temp\\ipykernel_17060\\239426361.py:17: FutureWarning: The frame.append method is deprecated and will be removed from pandas in a future version. Use pandas.concat instead.\n",
      "  df2 = df2.append(df)\n",
      "C:\\Users\\sunin\\AppData\\Local\\Temp\\ipykernel_17060\\239426361.py:17: FutureWarning: The frame.append method is deprecated and will be removed from pandas in a future version. Use pandas.concat instead.\n",
      "  df2 = df2.append(df)\n",
      "C:\\Users\\sunin\\AppData\\Local\\Temp\\ipykernel_17060\\239426361.py:17: FutureWarning: The frame.append method is deprecated and will be removed from pandas in a future version. Use pandas.concat instead.\n",
      "  df2 = df2.append(df)\n",
      "C:\\Users\\sunin\\AppData\\Local\\Temp\\ipykernel_17060\\239426361.py:17: FutureWarning: The frame.append method is deprecated and will be removed from pandas in a future version. Use pandas.concat instead.\n",
      "  df2 = df2.append(df)\n",
      "C:\\Users\\sunin\\AppData\\Local\\Temp\\ipykernel_17060\\239426361.py:17: FutureWarning: The frame.append method is deprecated and will be removed from pandas in a future version. Use pandas.concat instead.\n",
      "  df2 = df2.append(df)\n",
      "C:\\Users\\sunin\\AppData\\Local\\Temp\\ipykernel_17060\\239426361.py:17: FutureWarning: The frame.append method is deprecated and will be removed from pandas in a future version. Use pandas.concat instead.\n",
      "  df2 = df2.append(df)\n",
      "C:\\Users\\sunin\\AppData\\Local\\Temp\\ipykernel_17060\\239426361.py:17: FutureWarning: The frame.append method is deprecated and will be removed from pandas in a future version. Use pandas.concat instead.\n",
      "  df2 = df2.append(df)\n",
      "C:\\Users\\sunin\\AppData\\Local\\Temp\\ipykernel_17060\\239426361.py:17: FutureWarning: The frame.append method is deprecated and will be removed from pandas in a future version. Use pandas.concat instead.\n",
      "  df2 = df2.append(df)\n"
     ]
    },
    {
     "name": "stdout",
     "output_type": "stream",
     "text": [
      "Running time of append function:  7.516886399999748\n",
      "Running time of concat function:  0.6663851000002978\n"
     ]
    }
   ],
   "source": [
    "# appendとconcatのパフォーマンスの比較\n",
    "import pandas as pd\n",
    "import numpy as np\n",
    "import timeit\n",
    "\n",
    "EXE_CNT = 20\n",
    "\n",
    "df = pd.DataFrame({\n",
    "    \"A\": np.random.randint(0, 100, 1_000_000),\n",
    "    \"B\": np.random.randint(0, 100, 1_000_000),\n",
    "    \"C\": np.random.randint(0, 100, 1_000_000)\n",
    "})\n",
    "\n",
    "def create_df_append():\n",
    "  df2 = df\n",
    "  for i in range(EXE_CNT-1):\n",
    "    df2 = df2.append(df)\n",
    "\n",
    "def create_df_concat():\n",
    "  df2 = pd.concat([df]*EXE_CNT)\n",
    "\n",
    "time1 = timeit.timeit(create_df_append, number=10)\n",
    "time2 = timeit.timeit(create_df_concat, number=10)\n",
    "\n",
    "print(\"Running time of append function: \", time1)\n",
    "print(\"Running time of concat function: \", time2)"
   ]
  },
  {
   "cell_type": "code",
   "execution_count": 20,
   "metadata": {},
   "outputs": [
    {
     "name": "stderr",
     "output_type": "stream",
     "text": [
      "C:\\Users\\sunin\\AppData\\Local\\Temp\\ipykernel_17060\\239426361.py:17: FutureWarning: The frame.append method is deprecated and will be removed from pandas in a future version. Use pandas.concat instead.\n",
      "  df2 = df2.append(df)\n",
      "C:\\Users\\sunin\\AppData\\Local\\Temp\\ipykernel_17060\\239426361.py:17: FutureWarning: The frame.append method is deprecated and will be removed from pandas in a future version. Use pandas.concat instead.\n",
      "  df2 = df2.append(df)\n",
      "C:\\Users\\sunin\\AppData\\Local\\Temp\\ipykernel_17060\\239426361.py:17: FutureWarning: The frame.append method is deprecated and will be removed from pandas in a future version. Use pandas.concat instead.\n",
      "  df2 = df2.append(df)\n",
      "C:\\Users\\sunin\\AppData\\Local\\Temp\\ipykernel_17060\\239426361.py:17: FutureWarning: The frame.append method is deprecated and will be removed from pandas in a future version. Use pandas.concat instead.\n",
      "  df2 = df2.append(df)\n",
      "C:\\Users\\sunin\\AppData\\Local\\Temp\\ipykernel_17060\\239426361.py:17: FutureWarning: The frame.append method is deprecated and will be removed from pandas in a future version. Use pandas.concat instead.\n",
      "  df2 = df2.append(df)\n",
      "C:\\Users\\sunin\\AppData\\Local\\Temp\\ipykernel_17060\\239426361.py:17: FutureWarning: The frame.append method is deprecated and will be removed from pandas in a future version. Use pandas.concat instead.\n",
      "  df2 = df2.append(df)\n",
      "C:\\Users\\sunin\\AppData\\Local\\Temp\\ipykernel_17060\\239426361.py:17: FutureWarning: The frame.append method is deprecated and will be removed from pandas in a future version. Use pandas.concat instead.\n",
      "  df2 = df2.append(df)\n",
      "C:\\Users\\sunin\\AppData\\Local\\Temp\\ipykernel_17060\\239426361.py:17: FutureWarning: The frame.append method is deprecated and will be removed from pandas in a future version. Use pandas.concat instead.\n",
      "  df2 = df2.append(df)\n",
      "C:\\Users\\sunin\\AppData\\Local\\Temp\\ipykernel_17060\\239426361.py:17: FutureWarning: The frame.append method is deprecated and will be removed from pandas in a future version. Use pandas.concat instead.\n",
      "  df2 = df2.append(df)\n",
      "C:\\Users\\sunin\\AppData\\Local\\Temp\\ipykernel_17060\\239426361.py:17: FutureWarning: The frame.append method is deprecated and will be removed from pandas in a future version. Use pandas.concat instead.\n",
      "  df2 = df2.append(df)\n",
      "C:\\Users\\sunin\\AppData\\Local\\Temp\\ipykernel_17060\\239426361.py:17: FutureWarning: The frame.append method is deprecated and will be removed from pandas in a future version. Use pandas.concat instead.\n",
      "  df2 = df2.append(df)\n",
      "C:\\Users\\sunin\\AppData\\Local\\Temp\\ipykernel_17060\\239426361.py:17: FutureWarning: The frame.append method is deprecated and will be removed from pandas in a future version. Use pandas.concat instead.\n",
      "  df2 = df2.append(df)\n",
      "C:\\Users\\sunin\\AppData\\Local\\Temp\\ipykernel_17060\\239426361.py:17: FutureWarning: The frame.append method is deprecated and will be removed from pandas in a future version. Use pandas.concat instead.\n",
      "  df2 = df2.append(df)\n",
      "C:\\Users\\sunin\\AppData\\Local\\Temp\\ipykernel_17060\\239426361.py:17: FutureWarning: The frame.append method is deprecated and will be removed from pandas in a future version. Use pandas.concat instead.\n",
      "  df2 = df2.append(df)\n",
      "C:\\Users\\sunin\\AppData\\Local\\Temp\\ipykernel_17060\\239426361.py:17: FutureWarning: The frame.append method is deprecated and will be removed from pandas in a future version. Use pandas.concat instead.\n",
      "  df2 = df2.append(df)\n",
      "C:\\Users\\sunin\\AppData\\Local\\Temp\\ipykernel_17060\\239426361.py:17: FutureWarning: The frame.append method is deprecated and will be removed from pandas in a future version. Use pandas.concat instead.\n",
      "  df2 = df2.append(df)\n",
      "C:\\Users\\sunin\\AppData\\Local\\Temp\\ipykernel_17060\\239426361.py:17: FutureWarning: The frame.append method is deprecated and will be removed from pandas in a future version. Use pandas.concat instead.\n",
      "  df2 = df2.append(df)\n",
      "C:\\Users\\sunin\\AppData\\Local\\Temp\\ipykernel_17060\\239426361.py:17: FutureWarning: The frame.append method is deprecated and will be removed from pandas in a future version. Use pandas.concat instead.\n",
      "  df2 = df2.append(df)\n"
     ]
    },
    {
     "name": "stdout",
     "output_type": "stream",
     "text": [
      "peak memory: 716.98 MiB, increment: 593.17 MiB\n"
     ]
    }
   ],
   "source": [
    "%load_ext memory_profiler\n",
    "%memit create_df_append()"
   ]
  },
  {
   "cell_type": "code",
   "execution_count": 21,
   "metadata": {},
   "outputs": [
    {
     "name": "stdout",
     "output_type": "stream",
     "text": [
      "peak memory: 123.88 MiB, increment: 0.00 MiB\n"
     ]
    }
   ],
   "source": [
    "%memit create_df_concat()"
   ]
  },
  {
   "attachments": {},
   "cell_type": "markdown",
   "metadata": {},
   "source": [
    "### 6.6.3 insert メソッド"
   ]
  },
  {
   "cell_type": "code",
   "execution_count": 22,
   "metadata": {},
   "outputs": [
    {
     "name": "stdout",
     "output_type": "stream",
     "text": [
      "       Date  Act\n",
      "0  20230102   92\n",
      "1  20230103   65\n",
      "2  20230104   96\n"
     ]
    }
   ],
   "source": [
    "import pandas as pd\n",
    "import numpy as np\n",
    "\n",
    "adams_act = pd.DataFrame(\n",
    "                [\n",
    "                  ['20230102', 92],\n",
    "                  ['20230103', 65],\n",
    "                  ['20230104', 96]\n",
    "                ],\n",
    "                columns=['Date', 'Act'])\n",
    "print(adams_act)"
   ]
  },
  {
   "cell_type": "code",
   "execution_count": 23,
   "metadata": {},
   "outputs": [
    {
     "data": {
      "text/plain": [
       "       Date  Date2  Act\n",
       "0  20230102     11   92\n",
       "1  20230103     12   65\n",
       "2  20230104     13   96"
      ]
     },
     "execution_count": 23,
     "metadata": {},
     "output_type": "execute_result"
    }
   ],
   "source": [
    "# 二番目の列に[11, 12, 13]値の「Date2」列を追加\n",
    "adams_act.insert(1, \"Date2\", [11, 12, 13] )\n",
    "adams_act"
   ]
  },
  {
   "cell_type": "code",
   "execution_count": 24,
   "metadata": {},
   "outputs": [
    {
     "ename": "ValueError",
     "evalue": "cannot insert Date2, already exists",
     "output_type": "error",
     "traceback": [
      "\u001b[1;31m---------------------------------------------------------------------------\u001b[0m",
      "\u001b[1;31mValueError\u001b[0m                                Traceback (most recent call last)",
      "\u001b[1;32mc:\\works\\healthcare_bigdata\\ch06\\ch06_06_concat_append.ipynb Cell 29\u001b[0m line \u001b[0;36m2\n\u001b[0;32m      <a href='vscode-notebook-cell:/c%3A/works/healthcare_bigdata/ch06/ch06_06_concat_append.ipynb#X40sZmlsZQ%3D%3D?line=0'>1</a>\u001b[0m \u001b[39m# 三番目の列に[21, 22, 23]値の「Date2」列を追加\u001b[39;00m\n\u001b[1;32m----> <a href='vscode-notebook-cell:/c%3A/works/healthcare_bigdata/ch06/ch06_06_concat_append.ipynb#X40sZmlsZQ%3D%3D?line=1'>2</a>\u001b[0m adams_act\u001b[39m.\u001b[39;49minsert(\u001b[39m2\u001b[39;49m, \u001b[39m\"\u001b[39;49m\u001b[39mDate2\u001b[39;49m\u001b[39m\"\u001b[39;49m, [\u001b[39m21\u001b[39;49m, \u001b[39m22\u001b[39;49m, \u001b[39m23\u001b[39;49m] )\n",
      "File \u001b[1;32mc:\\Python310\\lib\\site-packages\\pandas\\core\\frame.py:4814\u001b[0m, in \u001b[0;36mDataFrame.insert\u001b[1;34m(self, loc, column, value, allow_duplicates)\u001b[0m\n\u001b[0;32m   4808\u001b[0m     \u001b[39mraise\u001b[39;00m \u001b[39mValueError\u001b[39;00m(\n\u001b[0;32m   4809\u001b[0m         \u001b[39m\"\u001b[39m\u001b[39mCannot specify \u001b[39m\u001b[39m'\u001b[39m\u001b[39mallow_duplicates=True\u001b[39m\u001b[39m'\u001b[39m\u001b[39m when \u001b[39m\u001b[39m\"\u001b[39m\n\u001b[0;32m   4810\u001b[0m         \u001b[39m\"\u001b[39m\u001b[39m'\u001b[39m\u001b[39mself.flags.allows_duplicate_labels\u001b[39m\u001b[39m'\u001b[39m\u001b[39m is False.\u001b[39m\u001b[39m\"\u001b[39m\n\u001b[0;32m   4811\u001b[0m     )\n\u001b[0;32m   4812\u001b[0m \u001b[39mif\u001b[39;00m \u001b[39mnot\u001b[39;00m allow_duplicates \u001b[39mand\u001b[39;00m column \u001b[39min\u001b[39;00m \u001b[39mself\u001b[39m\u001b[39m.\u001b[39mcolumns:\n\u001b[0;32m   4813\u001b[0m     \u001b[39m# Should this be a different kind of error??\u001b[39;00m\n\u001b[1;32m-> 4814\u001b[0m     \u001b[39mraise\u001b[39;00m \u001b[39mValueError\u001b[39;00m(\u001b[39mf\u001b[39m\u001b[39m\"\u001b[39m\u001b[39mcannot insert \u001b[39m\u001b[39m{\u001b[39;00mcolumn\u001b[39m}\u001b[39;00m\u001b[39m, already exists\u001b[39m\u001b[39m\"\u001b[39m)\n\u001b[0;32m   4815\u001b[0m \u001b[39mif\u001b[39;00m \u001b[39mnot\u001b[39;00m \u001b[39misinstance\u001b[39m(loc, \u001b[39mint\u001b[39m):\n\u001b[0;32m   4816\u001b[0m     \u001b[39mraise\u001b[39;00m \u001b[39mTypeError\u001b[39;00m(\u001b[39m\"\u001b[39m\u001b[39mloc must be int\u001b[39m\u001b[39m\"\u001b[39m)\n",
      "\u001b[1;31mValueError\u001b[0m: cannot insert Date2, already exists"
     ]
    }
   ],
   "source": [
    "# 三番目の列に[21, 22, 23]値の「Date2」列を追加\n",
    "adams_act.insert(2, \"Date2\", [21, 22, 23] )"
   ]
  },
  {
   "cell_type": "code",
   "execution_count": 25,
   "metadata": {},
   "outputs": [
    {
     "data": {
      "text/plain": [
       "       Date  Date2  Date2  Act\n",
       "0  20230102     11     21   92\n",
       "1  20230103     12     22   65\n",
       "2  20230104     13     23   96"
      ]
     },
     "execution_count": 25,
     "metadata": {},
     "output_type": "execute_result"
    }
   ],
   "source": [
    "# 重複列「Date2」を許可\n",
    "adams_act.insert(2, \"Date2\", [21, 22, 23], allow_duplicates=True )\n",
    "adams_act"
   ]
  },
  {
   "attachments": {},
   "cell_type": "markdown",
   "metadata": {},
   "source": [
    "### 6.6.4 merge 関数とメソッド"
   ]
  },
  {
   "cell_type": "code",
   "execution_count": 26,
   "metadata": {},
   "outputs": [
    {
     "data": {
      "text/plain": [
       "       Date  Act  Breath\n",
       "0  20230102   92      90\n",
       "1  20230103   65      71\n",
       "2  20230104   96      81"
      ]
     },
     "execution_count": 26,
     "metadata": {},
     "output_type": "execute_result"
    }
   ],
   "source": [
    "pd.set_option('display.notebook_repr_html', False)\n",
    "\n",
    "# 再定義\n",
    "adams_act = pd.DataFrame(\n",
    "                [\n",
    "                  ['20230102', 92],\n",
    "                  ['20230103', 65],\n",
    "                  ['20230104', 96]\n",
    "                ],\n",
    "                columns=['Date', 'Act'])\n",
    "\n",
    "adams_breath = pd.DataFrame(\n",
    "                [\n",
    "                  ['20230102', 90],\n",
    "                  ['20230103', 71],\n",
    "                  ['20230104', 81]\n",
    "                ],\n",
    "                columns=['Date', 'Breath'])\n",
    "\n",
    "pd.merge(adams_act,adams_breath)"
   ]
  },
  {
   "cell_type": "code",
   "execution_count": 27,
   "metadata": {},
   "outputs": [
    {
     "data": {
      "text/plain": [
       "       Date  Act  Breath\n",
       "0  20230102   92      90\n",
       "1  20230102   92      89\n",
       "2  20230102   86      90\n",
       "3  20230102   86      89\n",
       "4  20230103   65      71\n",
       "5  20230104   96      81"
      ]
     },
     "execution_count": 27,
     "metadata": {},
     "output_type": "execute_result"
    }
   ],
   "source": [
    "# 多対多結合\n",
    "adams_act2 = pd.DataFrame(\n",
    "                [\n",
    "                  ['20230102', 92],\n",
    "                  ['20230102', 86],\n",
    "                  ['20230103', 65],\n",
    "                  ['20230104', 96]\n",
    "                ],\n",
    "                columns=['Date', 'Act'])\n",
    "adams_breath2 = pd.DataFrame(\n",
    "                [\n",
    "                  ['20230102', 90],\n",
    "                  ['20230102', 89],\n",
    "                  ['20230103', 71],\n",
    "                  ['20230104', 81]\n",
    "                ],\n",
    "                columns=['Date', 'Breath'])\n",
    "pd.merge(adams_act2, adams_breath2)"
   ]
  },
  {
   "cell_type": "markdown",
   "metadata": {},
   "source": [
    "#### validateパラメータ"
   ]
  },
  {
   "cell_type": "code",
   "execution_count": 28,
   "metadata": {},
   "outputs": [
    {
     "ename": "MergeError",
     "evalue": "Merge keys are not unique in left dataset; not a one-to-many merge",
     "output_type": "error",
     "traceback": [
      "\u001b[1;31m---------------------------------------------------------------------------\u001b[0m",
      "\u001b[1;31mMergeError\u001b[0m                                Traceback (most recent call last)",
      "\u001b[1;32mc:\\works\\healthcare_bigdata\\ch06\\ch06_06_concat_append.ipynb Cell 35\u001b[0m line \u001b[0;36m2\n\u001b[0;32m      <a href='vscode-notebook-cell:/c%3A/works/healthcare_bigdata/ch06/ch06_06_concat_append.ipynb#X45sZmlsZQ%3D%3D?line=0'>1</a>\u001b[0m \u001b[39m# validate\u001b[39;00m\n\u001b[1;32m----> <a href='vscode-notebook-cell:/c%3A/works/healthcare_bigdata/ch06/ch06_06_concat_append.ipynb#X45sZmlsZQ%3D%3D?line=1'>2</a>\u001b[0m pd\u001b[39m.\u001b[39;49mmerge(adams_act2, adams_breath2, validate\u001b[39m=\u001b[39;49m\u001b[39m'\u001b[39;49m\u001b[39m1:m\u001b[39;49m\u001b[39m'\u001b[39;49m)\n",
      "File \u001b[1;32mc:\\Python310\\lib\\site-packages\\pandas\\core\\reshape\\merge.py:110\u001b[0m, in \u001b[0;36mmerge\u001b[1;34m(left, right, how, on, left_on, right_on, left_index, right_index, sort, suffixes, copy, indicator, validate)\u001b[0m\n\u001b[0;32m     93\u001b[0m \u001b[39m@Substitution\u001b[39m(\u001b[39m\"\u001b[39m\u001b[39m\\n\u001b[39;00m\u001b[39mleft : DataFrame or named Series\u001b[39m\u001b[39m\"\u001b[39m)\n\u001b[0;32m     94\u001b[0m \u001b[39m@Appender\u001b[39m(_merge_doc, indents\u001b[39m=\u001b[39m\u001b[39m0\u001b[39m)\n\u001b[0;32m     95\u001b[0m \u001b[39mdef\u001b[39;00m \u001b[39mmerge\u001b[39m(\n\u001b[1;32m   (...)\u001b[0m\n\u001b[0;32m    108\u001b[0m     validate: \u001b[39mstr\u001b[39m \u001b[39m|\u001b[39m \u001b[39mNone\u001b[39;00m \u001b[39m=\u001b[39m \u001b[39mNone\u001b[39;00m,\n\u001b[0;32m    109\u001b[0m ) \u001b[39m-\u001b[39m\u001b[39m>\u001b[39m DataFrame:\n\u001b[1;32m--> 110\u001b[0m     op \u001b[39m=\u001b[39m _MergeOperation(\n\u001b[0;32m    111\u001b[0m         left,\n\u001b[0;32m    112\u001b[0m         right,\n\u001b[0;32m    113\u001b[0m         how\u001b[39m=\u001b[39;49mhow,\n\u001b[0;32m    114\u001b[0m         on\u001b[39m=\u001b[39;49mon,\n\u001b[0;32m    115\u001b[0m         left_on\u001b[39m=\u001b[39;49mleft_on,\n\u001b[0;32m    116\u001b[0m         right_on\u001b[39m=\u001b[39;49mright_on,\n\u001b[0;32m    117\u001b[0m         left_index\u001b[39m=\u001b[39;49mleft_index,\n\u001b[0;32m    118\u001b[0m         right_index\u001b[39m=\u001b[39;49mright_index,\n\u001b[0;32m    119\u001b[0m         sort\u001b[39m=\u001b[39;49msort,\n\u001b[0;32m    120\u001b[0m         suffixes\u001b[39m=\u001b[39;49msuffixes,\n\u001b[0;32m    121\u001b[0m         indicator\u001b[39m=\u001b[39;49mindicator,\n\u001b[0;32m    122\u001b[0m         validate\u001b[39m=\u001b[39;49mvalidate,\n\u001b[0;32m    123\u001b[0m     )\n\u001b[0;32m    124\u001b[0m     \u001b[39mreturn\u001b[39;00m op\u001b[39m.\u001b[39mget_result(copy\u001b[39m=\u001b[39mcopy)\n",
      "File \u001b[1;32mc:\\Python310\\lib\\site-packages\\pandas\\core\\reshape\\merge.py:713\u001b[0m, in \u001b[0;36m_MergeOperation.__init__\u001b[1;34m(self, left, right, how, on, left_on, right_on, axis, left_index, right_index, sort, suffixes, indicator, validate)\u001b[0m\n\u001b[0;32m    709\u001b[0m \u001b[39m# If argument passed to validate,\u001b[39;00m\n\u001b[0;32m    710\u001b[0m \u001b[39m# check if columns specified as unique\u001b[39;00m\n\u001b[0;32m    711\u001b[0m \u001b[39m# are in fact unique.\u001b[39;00m\n\u001b[0;32m    712\u001b[0m \u001b[39mif\u001b[39;00m validate \u001b[39mis\u001b[39;00m \u001b[39mnot\u001b[39;00m \u001b[39mNone\u001b[39;00m:\n\u001b[1;32m--> 713\u001b[0m     \u001b[39mself\u001b[39;49m\u001b[39m.\u001b[39;49m_validate(validate)\n",
      "File \u001b[1;32mc:\\Python310\\lib\\site-packages\\pandas\\core\\reshape\\merge.py:1525\u001b[0m, in \u001b[0;36m_MergeOperation._validate\u001b[1;34m(self, validate)\u001b[0m\n\u001b[0;32m   1523\u001b[0m \u001b[39melif\u001b[39;00m validate \u001b[39min\u001b[39;00m [\u001b[39m\"\u001b[39m\u001b[39mone_to_many\u001b[39m\u001b[39m\"\u001b[39m, \u001b[39m\"\u001b[39m\u001b[39m1:m\u001b[39m\u001b[39m\"\u001b[39m]:\n\u001b[0;32m   1524\u001b[0m     \u001b[39mif\u001b[39;00m \u001b[39mnot\u001b[39;00m left_unique:\n\u001b[1;32m-> 1525\u001b[0m         \u001b[39mraise\u001b[39;00m MergeError(\n\u001b[0;32m   1526\u001b[0m             \u001b[39m\"\u001b[39m\u001b[39mMerge keys are not unique in left dataset; not a one-to-many merge\u001b[39m\u001b[39m\"\u001b[39m\n\u001b[0;32m   1527\u001b[0m         )\n\u001b[0;32m   1529\u001b[0m \u001b[39melif\u001b[39;00m validate \u001b[39min\u001b[39;00m [\u001b[39m\"\u001b[39m\u001b[39mmany_to_one\u001b[39m\u001b[39m\"\u001b[39m, \u001b[39m\"\u001b[39m\u001b[39mm:1\u001b[39m\u001b[39m\"\u001b[39m]:\n\u001b[0;32m   1530\u001b[0m     \u001b[39mif\u001b[39;00m \u001b[39mnot\u001b[39;00m right_unique:\n",
      "\u001b[1;31mMergeError\u001b[0m: Merge keys are not unique in left dataset; not a one-to-many merge"
     ]
    }
   ],
   "source": [
    "# validate\n",
    "pd.merge(adams_act2, adams_breath2, validate='1:m')"
   ]
  },
  {
   "cell_type": "code",
   "execution_count": 29,
   "metadata": {},
   "outputs": [
    {
     "data": {
      "text/plain": [
       "       Date  Act  Breath\n",
       "0  20230102   92      90\n",
       "1  20230102   92      89\n",
       "2  20230102   86      90\n",
       "3  20230102   86      89\n",
       "4  20230103   65      71\n",
       "5  20230104   96      81"
      ]
     },
     "execution_count": 29,
     "metadata": {},
     "output_type": "execute_result"
    }
   ],
   "source": [
    "pd.merge(adams_act2, adams_breath2, validate='m:m')"
   ]
  },
  {
   "cell_type": "markdown",
   "metadata": {},
   "source": [
    "#### indicatorパラメータ"
   ]
  },
  {
   "cell_type": "code",
   "execution_count": 30,
   "metadata": {},
   "outputs": [
    {
     "data": {
      "text/plain": [
       "       Date  Act  Breath _merge\n",
       "0  20230102   92      90   both\n",
       "1  20230102   92      89   both\n",
       "2  20230102   86      90   both\n",
       "3  20230102   86      89   both\n",
       "4  20230103   65      71   both\n",
       "5  20230104   96      81   both"
      ]
     },
     "execution_count": 30,
     "metadata": {},
     "output_type": "execute_result"
    }
   ],
   "source": [
    "# indicator\n",
    "pd.merge(adams_act2, adams_breath2, indicator=True)"
   ]
  },
  {
   "cell_type": "markdown",
   "metadata": {},
   "source": [
    "#### onパラメータ"
   ]
  },
  {
   "cell_type": "code",
   "execution_count": 31,
   "metadata": {},
   "outputs": [
    {
     "data": {
      "text/plain": [
       "  I1 I2  V1  V4 _merge\n",
       "0  a  x   0  14   both\n",
       "1  b  y   1  11   both\n",
       "2  c  z   2  18   both"
      ]
     },
     "execution_count": 31,
     "metadata": {},
     "output_type": "execute_result"
    }
   ],
   "source": [
    "import numpy as np\n",
    "df4_1 = pd.DataFrame({'I1': ['a', 'b', 'c'], 'I2': ['x', 'y', 'z'],\n",
    "                      'V1': range(3) })\n",
    "df4_2 = pd.DataFrame({'I1': ['a', 'b', 'c'], 'I2': ['x', 'y', 'z'],\n",
    "                      'V4': np.random.randint(10,20, 3) })\n",
    "pd.merge(df4_1, df4_2, indicator=True)"
   ]
  },
  {
   "cell_type": "code",
   "execution_count": 32,
   "metadata": {},
   "outputs": [
    {
     "data": {
      "text/plain": [
       "Empty DataFrame\n",
       "Columns: [I1, I2, V1, V4, _merge]\n",
       "Index: []"
      ]
     },
     "execution_count": 32,
     "metadata": {},
     "output_type": "execute_result"
    }
   ],
   "source": [
    "import numpy as np\n",
    "# 'I2'の値を変更\n",
    "df4_1 = pd.DataFrame({'I1': ['a', 'b', 'c'], 'I2': ['d', 'e', 'z'],\n",
    "                      'V1': range(3) })\n",
    "# 'I1'の値を変更\n",
    "df4_2 = pd.DataFrame({'I1': ['d', 'e', 'f'], 'I2': ['x', 'y', 'z'],\n",
    "                      'V4': np.random.randint(10,20, 3) })\n",
    "pd.merge(df4_1, df4_2, indicator=True)"
   ]
  },
  {
   "cell_type": "code",
   "execution_count": 33,
   "metadata": {},
   "outputs": [
    {
     "name": "stdout",
     "output_type": "stream",
     "text": [
      "<class 'pandas.core.frame.DataFrame'>\n",
      "Index: 0 entries\n",
      "Data columns (total 5 columns):\n",
      " #   Column  Non-Null Count  Dtype   \n",
      "---  ------  --------------  -----   \n",
      " 0   I1      0 non-null      object  \n",
      " 1   I2      0 non-null      object  \n",
      " 2   V1      0 non-null      int64   \n",
      " 3   V4      0 non-null      int32   \n",
      " 4   _merge  0 non-null      category\n",
      "dtypes: category(1), int32(1), int64(1), object(2)\n",
      "memory usage: 132.0+ bytes\n"
     ]
    }
   ],
   "source": [
    "pd.merge(df4_1, df4_2, indicator=True).info()"
   ]
  },
  {
   "cell_type": "code",
   "execution_count": 34,
   "metadata": {},
   "outputs": [
    {
     "data": {
      "text/plain": [
       "  I1_x I2  V1 I1_y  V4 _merge\n",
       "0    c  z   2    f  19   both"
      ]
     },
     "execution_count": 34,
     "metadata": {},
     "output_type": "execute_result"
    }
   ],
   "source": [
    "import numpy as np\n",
    "df4_1 = pd.DataFrame({'I1': ['a', 'b', 'c'], 'I2': ['d', 'e', 'z'],\n",
    "                      'V1': range(3) })\n",
    "df4_2 = pd.DataFrame({'I1': ['d', 'e', 'f'], 'I2': ['x', 'y', 'z'],\n",
    "                      'V4': np.random.randint(10,20, 3) })\n",
    "pd.merge(df4_1, df4_2, on=\"I2\", indicator=True)"
   ]
  },
  {
   "cell_type": "markdown",
   "metadata": {},
   "source": [
    "#### how, left_on, right_onパラメータ"
   ]
  },
  {
   "cell_type": "code",
   "execution_count": 35,
   "metadata": {},
   "outputs": [
    {
     "data": {
      "text/plain": [
       "  I1_x I2_x  V1 I1_y I2_y  V4 _merge\n",
       "0    a    d   0    d    x  12   both\n",
       "1    b    e   1    e    y  19   both"
      ]
     },
     "execution_count": 35,
     "metadata": {},
     "output_type": "execute_result"
    }
   ],
   "source": [
    "# how, left_on, right_onパラメータ\n",
    "import numpy as np\n",
    "df4_1 = pd.DataFrame({'I1': ['a', 'b', 'c'], 'I2': ['d', 'e', 'z'],\n",
    "                      'V1': range(3) })\n",
    "df4_2 = pd.DataFrame({'I1': ['d', 'e', 'f'], 'I2': ['x', 'y', 'z'],\n",
    "                      'V4': np.random.randint(10,20,3) })\n",
    "pd.merge(df4_1, df4_2, left_on=\"I2\", right_on=\"I1\", indicator=True)"
   ]
  },
  {
   "cell_type": "code",
   "execution_count": 36,
   "metadata": {},
   "outputs": [
    {
     "name": "stdout",
     "output_type": "stream",
     "text": [
      "==== df1 ==== \n",
      "  I1  V1\n",
      "0  a   0\n",
      "1  b   1\n",
      "2  c   2\n",
      "\n",
      " ==== df2 ====\n",
      "  I2  V2\n",
      "0  a   0\n",
      "1  b   1\n",
      "2  d   2\n"
     ]
    }
   ],
   "source": [
    "df1 = pd.DataFrame({'I1': ['a', 'b', 'c'], 'V1': range(3) })\n",
    "df2 = pd.DataFrame({'I2': ['a', 'b', 'd'], 'V2': range(3) })\n",
    "print(\"==== df1 ==== \")\n",
    "print(df1)\n",
    "print(\"\\n ==== df2 ====\")\n",
    "print(df2)"
   ]
  },
  {
   "cell_type": "code",
   "execution_count": 37,
   "metadata": {},
   "outputs": [
    {
     "data": {
      "text/plain": [
       "  I1  V1 I2  V2\n",
       "0  a   0  a   0\n",
       "1  b   1  b   1"
      ]
     },
     "execution_count": 37,
     "metadata": {},
     "output_type": "execute_result"
    }
   ],
   "source": [
    "# inner 内部結合\n",
    "pd.merge(df1, df2, how=\"inner\", left_on=\"I1\", right_on=\"I2\")"
   ]
  },
  {
   "cell_type": "code",
   "execution_count": 38,
   "metadata": {},
   "outputs": [
    {
     "data": {
      "text/plain": [
       "    I1   V1   I2   V2\n",
       "0    a  0.0    a  0.0\n",
       "1    b  1.0    b  1.0\n",
       "2    c  2.0  NaN  NaN\n",
       "3  NaN  NaN    d  2.0"
      ]
     },
     "execution_count": 38,
     "metadata": {},
     "output_type": "execute_result"
    }
   ],
   "source": [
    "# outer, 外部結合\n",
    "pd.merge(df1, df2, how=\"outer\", left_on=\"I1\", right_on=\"I2\")"
   ]
  },
  {
   "cell_type": "code",
   "execution_count": 39,
   "metadata": {},
   "outputs": [
    {
     "data": {
      "text/plain": [
       "  I1  V1 I2  V2\n",
       "0  a   0  a   0\n",
       "1  a   0  b   1\n",
       "2  a   0  d   2\n",
       "3  b   1  a   0\n",
       "4  b   1  b   1\n",
       "5  b   1  d   2\n",
       "6  c   2  a   0\n",
       "7  c   2  b   1\n",
       "8  c   2  d   2"
      ]
     },
     "execution_count": 39,
     "metadata": {},
     "output_type": "execute_result"
    }
   ],
   "source": [
    "# cross, 両オブジェクトのデカルト積結合\n",
    "pd.merge(df1, df2, how=\"cross\")"
   ]
  },
  {
   "cell_type": "code",
   "execution_count": 40,
   "metadata": {},
   "outputs": [
    {
     "data": {
      "text/plain": [
       "  I1  V1   I2   V2\n",
       "0  a   0    a  0.0\n",
       "1  b   1    b  1.0\n",
       "2  c   2  NaN  NaN"
      ]
     },
     "execution_count": 40,
     "metadata": {},
     "output_type": "execute_result"
    }
   ],
   "source": [
    "# left, 左側のオブジェクトに右側のオブジェクトを合わせる\n",
    "pd.merge(df1, df2, how=\"left\", left_on=\"I1\", right_on=\"I2\")"
   ]
  },
  {
   "cell_type": "markdown",
   "metadata": {},
   "source": [
    "#### suffixesパラメータ"
   ]
  },
  {
   "cell_type": "code",
   "execution_count": 41,
   "metadata": {},
   "outputs": [
    {
     "data": {
      "text/plain": [
       "  I1  V1_l   I3  V1_r   V3     _merge\n",
       "0  a     0    a   0.0  0.0       both\n",
       "1  b     1    b   1.0  1.0       both\n",
       "2  c     2  NaN   NaN  NaN  left_only"
      ]
     },
     "execution_count": 41,
     "metadata": {},
     "output_type": "execute_result"
    }
   ],
   "source": [
    "# suffixes\n",
    "df1 = pd.DataFrame({'I1': ['a', 'b', 'c'], 'V1': range(3) })\n",
    "df3 = pd.DataFrame({'I3': ['a', 'b', 'd'], 'V1': range(3),\n",
    "                    'V3': range(3) })\n",
    "pd.merge(df1, df3, how=\"left\", left_on=\"I1\", right_on=\"I3\",\n",
    "         suffixes=('_l', '_r'), indicator=True)"
   ]
  },
  {
   "cell_type": "markdown",
   "metadata": {},
   "source": [
    "#### left_index, right_indexパラメータ"
   ]
  },
  {
   "cell_type": "code",
   "execution_count": 42,
   "metadata": {},
   "outputs": [
    {
     "data": {
      "text/plain": [
       "   val1  val2\n",
       "a    11    12\n",
       "b    13    14\n",
       "c    15    16"
      ]
     },
     "execution_count": 42,
     "metadata": {},
     "output_type": "execute_result"
    }
   ],
   "source": [
    "# left_index, right_indexパラメータ\n",
    "left_df = pd.DataFrame([[11, 12], [13, 14], [15,16]],\n",
    "                       index=['a', 'b', 'c'],\n",
    "                       columns=['val1', 'val2'])\n",
    "left_df"
   ]
  },
  {
   "cell_type": "code",
   "execution_count": 43,
   "metadata": {},
   "outputs": [
    {
     "data": {
      "text/plain": [
       "   val1  val2\n",
       "c    21    22\n",
       "d    23    24\n",
       "e    25    26"
      ]
     },
     "execution_count": 43,
     "metadata": {},
     "output_type": "execute_result"
    }
   ],
   "source": [
    "right_df = pd.DataFrame([[21, 22], [23, 24], [25, 26]],\n",
    "                        index=['c', 'd', 'e'],\n",
    "                        columns=['val1', 'val2'])\n",
    "right_df"
   ]
  },
  {
   "cell_type": "code",
   "execution_count": 44,
   "metadata": {},
   "outputs": [
    {
     "data": {
      "text/plain": [
       "   val1  val2\n",
       "0    11    12\n",
       "1    13    14\n",
       "2    15    16\n",
       "3    21    22\n",
       "4    23    24\n",
       "5    25    26"
      ]
     },
     "execution_count": 44,
     "metadata": {},
     "output_type": "execute_result"
    }
   ],
   "source": [
    "# 単純に行に結合\n",
    "pd.merge(left_df, right_df, how=\"outer\")"
   ]
  },
  {
   "cell_type": "code",
   "execution_count": 45,
   "metadata": {},
   "outputs": [
    {
     "data": {
      "text/plain": [
       "   val1_x  val2_x  val1_y  val2_y\n",
       "a    11.0    12.0     NaN     NaN\n",
       "b    13.0    14.0     NaN     NaN\n",
       "c    15.0    16.0    21.0    22.0\n",
       "d     NaN     NaN    23.0    24.0\n",
       "e     NaN     NaN    25.0    26.0"
      ]
     },
     "execution_count": 45,
     "metadata": {},
     "output_type": "execute_result"
    }
   ],
   "source": [
    "# ２つのオブジェクトのインデクスを基準に結合\n",
    "pd.merge(left_df, right_df, how=\"outer\",\n",
    "         left_index=True, right_index=True)"
   ]
  },
  {
   "attachments": {},
   "cell_type": "markdown",
   "metadata": {},
   "source": [
    "### 6.6.5 joinメソッド"
   ]
  },
  {
   "cell_type": "code",
   "execution_count": 46,
   "metadata": {},
   "outputs": [
    {
     "name": "stdout",
     "output_type": "stream",
     "text": [
      "  idx val\n",
      "0   a  A1\n",
      "1   b  A2\n",
      "2   c  A3\n",
      "3   d  A4\n"
     ]
    }
   ],
   "source": [
    "import pandas as pd\n",
    "import numpy as np\n",
    "left = pd.DataFrame({'idx': ['a', 'b', 'c', 'd'],\n",
    "                     'val': ['A1', 'A2', 'A3', 'A4']})\n",
    "right = pd.DataFrame({'idx': ['a', 'b', 'd'],\n",
    "                      'val': ['R1', 'R2', 'R4']})\n",
    "print(left)"
   ]
  },
  {
   "cell_type": "code",
   "execution_count": 47,
   "metadata": {},
   "outputs": [
    {
     "name": "stdout",
     "output_type": "stream",
     "text": [
      "  idx val\n",
      "0   a  R1\n",
      "1   b  R2\n",
      "2   d  R4\n"
     ]
    }
   ],
   "source": [
    "print(right)"
   ]
  },
  {
   "cell_type": "code",
   "execution_count": 48,
   "metadata": {},
   "outputs": [
    {
     "ename": "ValueError",
     "evalue": "columns overlap but no suffix specified: Index(['idx', 'val'], dtype='object')",
     "output_type": "error",
     "traceback": [
      "\u001b[1;31m---------------------------------------------------------------------------\u001b[0m",
      "\u001b[1;31mValueError\u001b[0m                                Traceback (most recent call last)",
      "\u001b[1;32mc:\\works\\healthcare_bigdata\\ch06\\ch06_06_concat_append.ipynb Cell 59\u001b[0m line \u001b[0;36m2\n\u001b[0;32m      <a href='vscode-notebook-cell:/c%3A/works/healthcare_bigdata/ch06/ch06_06_concat_append.ipynb#Y111sZmlsZQ%3D%3D?line=0'>1</a>\u001b[0m \u001b[39m# もしインデックス以外の列名が同じであれば、エラーが発生します。\u001b[39;00m\n\u001b[1;32m----> <a href='vscode-notebook-cell:/c%3A/works/healthcare_bigdata/ch06/ch06_06_concat_append.ipynb#Y111sZmlsZQ%3D%3D?line=1'>2</a>\u001b[0m left\u001b[39m.\u001b[39;49mjoin(right)\n",
      "File \u001b[1;32mc:\\Python310\\lib\\site-packages\\pandas\\core\\frame.py:9976\u001b[0m, in \u001b[0;36mDataFrame.join\u001b[1;34m(self, other, on, how, lsuffix, rsuffix, sort, validate)\u001b[0m\n\u001b[0;32m   9813\u001b[0m \u001b[39mdef\u001b[39;00m \u001b[39mjoin\u001b[39m(\n\u001b[0;32m   9814\u001b[0m     \u001b[39mself\u001b[39m,\n\u001b[0;32m   9815\u001b[0m     other: DataFrame \u001b[39m|\u001b[39m Series \u001b[39m|\u001b[39m \u001b[39mlist\u001b[39m[DataFrame \u001b[39m|\u001b[39m Series],\n\u001b[1;32m   (...)\u001b[0m\n\u001b[0;32m   9821\u001b[0m     validate: \u001b[39mstr\u001b[39m \u001b[39m|\u001b[39m \u001b[39mNone\u001b[39;00m \u001b[39m=\u001b[39m \u001b[39mNone\u001b[39;00m,\n\u001b[0;32m   9822\u001b[0m ) \u001b[39m-\u001b[39m\u001b[39m>\u001b[39m DataFrame:\n\u001b[0;32m   9823\u001b[0m     \u001b[39m\"\"\"\u001b[39;00m\n\u001b[0;32m   9824\u001b[0m \u001b[39m    Join columns of another DataFrame.\u001b[39;00m\n\u001b[0;32m   9825\u001b[0m \n\u001b[1;32m   (...)\u001b[0m\n\u001b[0;32m   9974\u001b[0m \u001b[39m    5  K1  A5   B1\u001b[39;00m\n\u001b[0;32m   9975\u001b[0m \u001b[39m    \"\"\"\u001b[39;00m\n\u001b[1;32m-> 9976\u001b[0m     \u001b[39mreturn\u001b[39;00m \u001b[39mself\u001b[39;49m\u001b[39m.\u001b[39;49m_join_compat(\n\u001b[0;32m   9977\u001b[0m         other,\n\u001b[0;32m   9978\u001b[0m         on\u001b[39m=\u001b[39;49mon,\n\u001b[0;32m   9979\u001b[0m         how\u001b[39m=\u001b[39;49mhow,\n\u001b[0;32m   9980\u001b[0m         lsuffix\u001b[39m=\u001b[39;49mlsuffix,\n\u001b[0;32m   9981\u001b[0m         rsuffix\u001b[39m=\u001b[39;49mrsuffix,\n\u001b[0;32m   9982\u001b[0m         sort\u001b[39m=\u001b[39;49msort,\n\u001b[0;32m   9983\u001b[0m         validate\u001b[39m=\u001b[39;49mvalidate,\n\u001b[0;32m   9984\u001b[0m     )\n",
      "File \u001b[1;32mc:\\Python310\\lib\\site-packages\\pandas\\core\\frame.py:10015\u001b[0m, in \u001b[0;36mDataFrame._join_compat\u001b[1;34m(self, other, on, how, lsuffix, rsuffix, sort, validate)\u001b[0m\n\u001b[0;32m  10005\u001b[0m     \u001b[39mif\u001b[39;00m how \u001b[39m==\u001b[39m \u001b[39m\"\u001b[39m\u001b[39mcross\u001b[39m\u001b[39m\"\u001b[39m:\n\u001b[0;32m  10006\u001b[0m         \u001b[39mreturn\u001b[39;00m merge(\n\u001b[0;32m  10007\u001b[0m             \u001b[39mself\u001b[39m,\n\u001b[0;32m  10008\u001b[0m             other,\n\u001b[1;32m   (...)\u001b[0m\n\u001b[0;32m  10013\u001b[0m             validate\u001b[39m=\u001b[39mvalidate,\n\u001b[0;32m  10014\u001b[0m         )\n\u001b[1;32m> 10015\u001b[0m     \u001b[39mreturn\u001b[39;00m merge(\n\u001b[0;32m  10016\u001b[0m         \u001b[39mself\u001b[39;49m,\n\u001b[0;32m  10017\u001b[0m         other,\n\u001b[0;32m  10018\u001b[0m         left_on\u001b[39m=\u001b[39;49mon,\n\u001b[0;32m  10019\u001b[0m         how\u001b[39m=\u001b[39;49mhow,\n\u001b[0;32m  10020\u001b[0m         left_index\u001b[39m=\u001b[39;49mon \u001b[39mis\u001b[39;49;00m \u001b[39mNone\u001b[39;49;00m,\n\u001b[0;32m  10021\u001b[0m         right_index\u001b[39m=\u001b[39;49m\u001b[39mTrue\u001b[39;49;00m,\n\u001b[0;32m  10022\u001b[0m         suffixes\u001b[39m=\u001b[39;49m(lsuffix, rsuffix),\n\u001b[0;32m  10023\u001b[0m         sort\u001b[39m=\u001b[39;49msort,\n\u001b[0;32m  10024\u001b[0m         validate\u001b[39m=\u001b[39;49mvalidate,\n\u001b[0;32m  10025\u001b[0m     )\n\u001b[0;32m  10026\u001b[0m \u001b[39melse\u001b[39;00m:\n\u001b[0;32m  10027\u001b[0m     \u001b[39mif\u001b[39;00m on \u001b[39mis\u001b[39;00m \u001b[39mnot\u001b[39;00m \u001b[39mNone\u001b[39;00m:\n",
      "File \u001b[1;32mc:\\Python310\\lib\\site-packages\\pandas\\core\\reshape\\merge.py:124\u001b[0m, in \u001b[0;36mmerge\u001b[1;34m(left, right, how, on, left_on, right_on, left_index, right_index, sort, suffixes, copy, indicator, validate)\u001b[0m\n\u001b[0;32m     93\u001b[0m \u001b[39m@Substitution\u001b[39m(\u001b[39m\"\u001b[39m\u001b[39m\\n\u001b[39;00m\u001b[39mleft : DataFrame or named Series\u001b[39m\u001b[39m\"\u001b[39m)\n\u001b[0;32m     94\u001b[0m \u001b[39m@Appender\u001b[39m(_merge_doc, indents\u001b[39m=\u001b[39m\u001b[39m0\u001b[39m)\n\u001b[0;32m     95\u001b[0m \u001b[39mdef\u001b[39;00m \u001b[39mmerge\u001b[39m(\n\u001b[1;32m   (...)\u001b[0m\n\u001b[0;32m    108\u001b[0m     validate: \u001b[39mstr\u001b[39m \u001b[39m|\u001b[39m \u001b[39mNone\u001b[39;00m \u001b[39m=\u001b[39m \u001b[39mNone\u001b[39;00m,\n\u001b[0;32m    109\u001b[0m ) \u001b[39m-\u001b[39m\u001b[39m>\u001b[39m DataFrame:\n\u001b[0;32m    110\u001b[0m     op \u001b[39m=\u001b[39m _MergeOperation(\n\u001b[0;32m    111\u001b[0m         left,\n\u001b[0;32m    112\u001b[0m         right,\n\u001b[1;32m   (...)\u001b[0m\n\u001b[0;32m    122\u001b[0m         validate\u001b[39m=\u001b[39mvalidate,\n\u001b[0;32m    123\u001b[0m     )\n\u001b[1;32m--> 124\u001b[0m     \u001b[39mreturn\u001b[39;00m op\u001b[39m.\u001b[39;49mget_result(copy\u001b[39m=\u001b[39;49mcopy)\n",
      "File \u001b[1;32mc:\\Python310\\lib\\site-packages\\pandas\\core\\reshape\\merge.py:775\u001b[0m, in \u001b[0;36m_MergeOperation.get_result\u001b[1;34m(self, copy)\u001b[0m\n\u001b[0;32m    771\u001b[0m     \u001b[39mself\u001b[39m\u001b[39m.\u001b[39mleft, \u001b[39mself\u001b[39m\u001b[39m.\u001b[39mright \u001b[39m=\u001b[39m \u001b[39mself\u001b[39m\u001b[39m.\u001b[39m_indicator_pre_merge(\u001b[39mself\u001b[39m\u001b[39m.\u001b[39mleft, \u001b[39mself\u001b[39m\u001b[39m.\u001b[39mright)\n\u001b[0;32m    773\u001b[0m join_index, left_indexer, right_indexer \u001b[39m=\u001b[39m \u001b[39mself\u001b[39m\u001b[39m.\u001b[39m_get_join_info()\n\u001b[1;32m--> 775\u001b[0m result \u001b[39m=\u001b[39m \u001b[39mself\u001b[39;49m\u001b[39m.\u001b[39;49m_reindex_and_concat(\n\u001b[0;32m    776\u001b[0m     join_index, left_indexer, right_indexer, copy\u001b[39m=\u001b[39;49mcopy\n\u001b[0;32m    777\u001b[0m )\n\u001b[0;32m    778\u001b[0m result \u001b[39m=\u001b[39m result\u001b[39m.\u001b[39m__finalize__(\u001b[39mself\u001b[39m, method\u001b[39m=\u001b[39m\u001b[39mself\u001b[39m\u001b[39m.\u001b[39m_merge_type)\n\u001b[0;32m    780\u001b[0m \u001b[39mif\u001b[39;00m \u001b[39mself\u001b[39m\u001b[39m.\u001b[39mindicator:\n",
      "File \u001b[1;32mc:\\Python310\\lib\\site-packages\\pandas\\core\\reshape\\merge.py:729\u001b[0m, in \u001b[0;36m_MergeOperation._reindex_and_concat\u001b[1;34m(self, join_index, left_indexer, right_indexer, copy)\u001b[0m\n\u001b[0;32m    726\u001b[0m left \u001b[39m=\u001b[39m \u001b[39mself\u001b[39m\u001b[39m.\u001b[39mleft[:]\n\u001b[0;32m    727\u001b[0m right \u001b[39m=\u001b[39m \u001b[39mself\u001b[39m\u001b[39m.\u001b[39mright[:]\n\u001b[1;32m--> 729\u001b[0m llabels, rlabels \u001b[39m=\u001b[39m _items_overlap_with_suffix(\n\u001b[0;32m    730\u001b[0m     \u001b[39mself\u001b[39;49m\u001b[39m.\u001b[39;49mleft\u001b[39m.\u001b[39;49m_info_axis, \u001b[39mself\u001b[39;49m\u001b[39m.\u001b[39;49mright\u001b[39m.\u001b[39;49m_info_axis, \u001b[39mself\u001b[39;49m\u001b[39m.\u001b[39;49msuffixes\n\u001b[0;32m    731\u001b[0m )\n\u001b[0;32m    733\u001b[0m \u001b[39mif\u001b[39;00m left_indexer \u001b[39mis\u001b[39;00m \u001b[39mnot\u001b[39;00m \u001b[39mNone\u001b[39;00m:\n\u001b[0;32m    734\u001b[0m     \u001b[39m# Pinning the index here (and in the right code just below) is not\u001b[39;00m\n\u001b[0;32m    735\u001b[0m     \u001b[39m#  necessary, but makes the `.take` more performant if we have e.g.\u001b[39;00m\n\u001b[0;32m    736\u001b[0m     \u001b[39m#  a MultiIndex for left.index.\u001b[39;00m\n\u001b[0;32m    737\u001b[0m     lmgr \u001b[39m=\u001b[39m left\u001b[39m.\u001b[39m_mgr\u001b[39m.\u001b[39mreindex_indexer(\n\u001b[0;32m    738\u001b[0m         join_index,\n\u001b[0;32m    739\u001b[0m         left_indexer,\n\u001b[1;32m   (...)\u001b[0m\n\u001b[0;32m    744\u001b[0m         use_na_proxy\u001b[39m=\u001b[39m\u001b[39mTrue\u001b[39;00m,\n\u001b[0;32m    745\u001b[0m     )\n",
      "File \u001b[1;32mc:\\Python310\\lib\\site-packages\\pandas\\core\\reshape\\merge.py:2458\u001b[0m, in \u001b[0;36m_items_overlap_with_suffix\u001b[1;34m(left, right, suffixes)\u001b[0m\n\u001b[0;32m   2455\u001b[0m lsuffix, rsuffix \u001b[39m=\u001b[39m suffixes\n\u001b[0;32m   2457\u001b[0m \u001b[39mif\u001b[39;00m \u001b[39mnot\u001b[39;00m lsuffix \u001b[39mand\u001b[39;00m \u001b[39mnot\u001b[39;00m rsuffix:\n\u001b[1;32m-> 2458\u001b[0m     \u001b[39mraise\u001b[39;00m \u001b[39mValueError\u001b[39;00m(\u001b[39mf\u001b[39m\u001b[39m\"\u001b[39m\u001b[39mcolumns overlap but no suffix specified: \u001b[39m\u001b[39m{\u001b[39;00mto_rename\u001b[39m}\u001b[39;00m\u001b[39m\"\u001b[39m)\n\u001b[0;32m   2460\u001b[0m \u001b[39mdef\u001b[39;00m \u001b[39mrenamer\u001b[39m(x, suffix):\n\u001b[0;32m   2461\u001b[0m     \u001b[39m\"\"\"\u001b[39;00m\n\u001b[0;32m   2462\u001b[0m \u001b[39m    Rename the left and right indices.\u001b[39;00m\n\u001b[0;32m   2463\u001b[0m \n\u001b[1;32m   (...)\u001b[0m\n\u001b[0;32m   2474\u001b[0m \u001b[39m    x : renamed column name\u001b[39;00m\n\u001b[0;32m   2475\u001b[0m \u001b[39m    \"\"\"\u001b[39;00m\n",
      "\u001b[1;31mValueError\u001b[0m: columns overlap but no suffix specified: Index(['idx', 'val'], dtype='object')"
     ]
    }
   ],
   "source": [
    "# もしインデックス以外の列名が同じであれば、エラーが発生します。\n",
    "left.join(right)"
   ]
  },
  {
   "cell_type": "code",
   "execution_count": 49,
   "metadata": {},
   "outputs": [
    {
     "data": {
      "text/plain": [
       "  idx_l val_l idx_r val_r\n",
       "0     a    A1     a    R1\n",
       "1     b    A2     b    R2\n",
       "2     c    A3     d    R4\n",
       "3     d    A4   NaN   NaN"
      ]
     },
     "execution_count": 49,
     "metadata": {},
     "output_type": "execute_result"
    }
   ],
   "source": [
    "# 接尾辞を付けてみましょう。\n",
    "left.join(right, lsuffix=\"_l\", rsuffix=\"_r\")"
   ]
  },
  {
   "cell_type": "code",
   "execution_count": 50,
   "metadata": {},
   "outputs": [],
   "source": [
    "# 2つのオブジェクトに明示的なインデックスを設定しましょう。\n",
    "left.set_index('idx', inplace=True)\n",
    "right.set_index('idx', inplace=True)"
   ]
  },
  {
   "cell_type": "code",
   "execution_count": 51,
   "metadata": {},
   "outputs": [
    {
     "data": {
      "text/plain": [
       "    val_l val_r\n",
       "idx            \n",
       "a      A1    R1\n",
       "b      A2    R2\n",
       "c      A3   NaN\n",
       "d      A4    R4"
      ]
     },
     "execution_count": 51,
     "metadata": {},
     "output_type": "execute_result"
    }
   ],
   "source": [
    "# 再度joinしてみましょう。\n",
    "left.join(right, lsuffix=\"_l\", rsuffix=\"_r\")"
   ]
  },
  {
   "attachments": {},
   "cell_type": "markdown",
   "metadata": {},
   "source": [
    "### 6.6.6 combineメソッド"
   ]
  },
  {
   "cell_type": "code",
   "execution_count": 52,
   "metadata": {},
   "outputs": [
    {
     "name": "stdout",
     "output_type": "stream",
     "text": [
      "   col1  col2\n",
      "0     7    38\n",
      "1     4    30\n",
      "2     5    35\n"
     ]
    }
   ],
   "source": [
    "import pandas as pd\n",
    "import numpy as np\n",
    "# df1 = pd.DataFrame({'col1': np.random.randint(0, 10, 3),\n",
    "#                     'col2': np.random.randint(30, 40, 3)})\n",
    "# df2 = pd.DataFrame({'col1': np.random.randint(10, 20, 3),\n",
    "#                    'col2': np.random.randint(20,30, 3)})\n",
    "df1 = pd.DataFrame({'col1': [7,4,5],\n",
    "                    'col2': [38,30,35]})\n",
    "df2 = pd.DataFrame({'col1': [15,15,18],\n",
    "                   'col2': [29,25,21]})\n",
    "print(df1)"
   ]
  },
  {
   "cell_type": "code",
   "execution_count": 53,
   "metadata": {},
   "outputs": [
    {
     "name": "stdout",
     "output_type": "stream",
     "text": [
      "   col1  col2\n",
      "0    15    29\n",
      "1    15    25\n",
      "2    18    21\n"
     ]
    }
   ],
   "source": [
    "print(df2)"
   ]
  },
  {
   "cell_type": "code",
   "execution_count": 54,
   "metadata": {},
   "outputs": [
    {
     "data": {
      "text/plain": [
       "   col1  col2\n",
       "0    15    38\n",
       "1    15    30\n",
       "2    18    35"
      ]
     },
     "execution_count": 54,
     "metadata": {},
     "output_type": "execute_result"
    }
   ],
   "source": [
    "df1.combine(df2, np.maximum)"
   ]
  },
  {
   "cell_type": "code",
   "execution_count": 55,
   "metadata": {},
   "outputs": [
    {
     "data": {
      "text/plain": [
       "   col1  col2\n",
       "0    15    38\n",
       "1    15    30\n",
       "2    18    35"
      ]
     },
     "execution_count": 55,
     "metadata": {},
     "output_type": "execute_result"
    }
   ],
   "source": [
    "# 同じかより大きい値を返す\n",
    "def get_greater_equals(v1, v2):\n",
    "  return v1 if v1.sum() >= v2.sum() else v2\n",
    "\n",
    "df1.combine(df2, get_greater_equals)"
   ]
  },
  {
   "cell_type": "code",
   "execution_count": 56,
   "metadata": {},
   "outputs": [
    {
     "name": "stdout",
     "output_type": "stream",
     "text": [
      "   col1  col2\n",
      "0     9    30\n",
      "1     3    35\n",
      "2     9    38\n"
     ]
    }
   ],
   "source": [
    "import pandas as pd\n",
    "import numpy as np\n",
    "# df1 = pd.DataFrame({'col1': np.random.randint(0, 10, 3),\n",
    "#                     'col2': np.random.randint(30, 40, 3)})\n",
    "# df2 = pd.DataFrame({'col1': np.random.randint(10, 20, 3),\n",
    "#                     'col2': np.array([21, np.nan, np.nan])})\n",
    "df1 = pd.DataFrame({'col1': [9,3,9],\n",
    "                    'col2': [30,35,38]})\n",
    "df2 = pd.DataFrame({'col1': [10,13,10],\n",
    "                    'col2': np.array([21, np.nan, np.nan])})\n",
    "\n",
    "print(df1)"
   ]
  },
  {
   "cell_type": "code",
   "execution_count": 57,
   "metadata": {},
   "outputs": [
    {
     "name": "stdout",
     "output_type": "stream",
     "text": [
      "   col1  col2\n",
      "0    10  21.0\n",
      "1    13   NaN\n",
      "2    10   NaN\n"
     ]
    }
   ],
   "source": [
    "print(df2)"
   ]
  },
  {
   "cell_type": "code",
   "execution_count": 58,
   "metadata": {},
   "outputs": [
    {
     "data": {
      "text/plain": [
       "   col1  col2\n",
       "0     9  21.0\n",
       "1     3 -10.0\n",
       "2     9 -10.0"
      ]
     },
     "execution_count": 58,
     "metadata": {},
     "output_type": "execute_result"
    }
   ],
   "source": [
    "# 同じかより小さい値を返す。\n",
    "def get_less_equals(v1, v2):\n",
    "  return v1 if v1.sum() <= v2.sum() else v2\n",
    "\n",
    "# 結合する前に欠損値を-10に置き換える。\n",
    "df1.combine(df2, get_less_equals, fill_value=-10)"
   ]
  },
  {
   "cell_type": "code",
   "execution_count": 59,
   "metadata": {},
   "outputs": [
    {
     "data": {
      "text/plain": [
       "   col1  col3\n",
       "0     1    31\n",
       "1     2    32\n",
       "2     3    33"
      ]
     },
     "execution_count": 59,
     "metadata": {},
     "output_type": "execute_result"
    }
   ],
   "source": [
    "df1 = pd.DataFrame({'col1': np.array([1, 2, 3]),\n",
    "                    'col3': np.array([31,32,33])})\n",
    "df3 = pd.DataFrame({'col1': np.array([11, 12, 13]) })\n",
    "df1"
   ]
  },
  {
   "cell_type": "code",
   "execution_count": 60,
   "metadata": {},
   "outputs": [
    {
     "data": {
      "text/plain": [
       "   col1\n",
       "0    11\n",
       "1    12\n",
       "2    13"
      ]
     },
     "execution_count": 60,
     "metadata": {},
     "output_type": "execute_result"
    }
   ],
   "source": [
    "df3"
   ]
  },
  {
   "cell_type": "code",
   "execution_count": 61,
   "metadata": {},
   "outputs": [
    {
     "name": "stdout",
     "output_type": "stream",
     "text": [
      "   col1  col3\n",
      "0    11   NaN\n",
      "1    12   NaN\n",
      "2    13   NaN\n"
     ]
    }
   ],
   "source": [
    "# overwrite=Trueの場合、selfの列がotherにない場合、NaNで置き換えます。\n",
    "print(df1.combine(df3, np.maximum,overwrite=True))"
   ]
  },
  {
   "cell_type": "code",
   "execution_count": 62,
   "metadata": {},
   "outputs": [
    {
     "name": "stdout",
     "output_type": "stream",
     "text": [
      "   col1  col3\n",
      "0    11    31\n",
      "1    12    32\n",
      "2    13    33\n"
     ]
    }
   ],
   "source": [
    "print(df1.combine(df3, np.maximum,overwrite=False))"
   ]
  },
  {
   "attachments": {},
   "cell_type": "markdown",
   "metadata": {},
   "source": [
    "### 6.6.7 combine_firstメソッド"
   ]
  },
  {
   "cell_type": "code",
   "execution_count": 63,
   "metadata": {},
   "outputs": [
    {
     "data": {
      "text/plain": [
       "   col1  col2\n",
       "0   NaN   NaN\n",
       "1   NaN  11.0\n",
       "2   1.0  12.0"
      ]
     },
     "execution_count": 63,
     "metadata": {},
     "output_type": "execute_result"
    }
   ],
   "source": [
    "import pandas as pd\n",
    "import numpy as np\n",
    "df1 = pd.DataFrame({'col1': [np.nan, np.nan, 1],\n",
    "                    'col2': [np.nan, 11, 12]})\n",
    "df2 = pd.DataFrame({'col1': [21, 22, 23],\n",
    "                    'col2': [np.nan, 31, 32]})\n",
    "df1"
   ]
  },
  {
   "cell_type": "code",
   "execution_count": 64,
   "metadata": {},
   "outputs": [
    {
     "data": {
      "text/plain": [
       "   col1  col2\n",
       "0    21   NaN\n",
       "1    22  31.0\n",
       "2    23  32.0"
      ]
     },
     "execution_count": 64,
     "metadata": {},
     "output_type": "execute_result"
    }
   ],
   "source": [
    "df2"
   ]
  },
  {
   "cell_type": "code",
   "execution_count": 65,
   "metadata": {},
   "outputs": [
    {
     "data": {
      "text/plain": [
       "   col1  col2\n",
       "0  21.0   NaN\n",
       "1  22.0  11.0\n",
       "2   1.0  12.0"
      ]
     },
     "execution_count": 65,
     "metadata": {},
     "output_type": "execute_result"
    }
   ],
   "source": [
    "df1.combine_first(df2)"
   ]
  },
  {
   "attachments": {},
   "cell_type": "markdown",
   "metadata": {},
   "source": [
    "### 6.6.8 updateメソッド"
   ]
  },
  {
   "cell_type": "code",
   "execution_count": 66,
   "metadata": {},
   "outputs": [
    {
     "name": "stdout",
     "output_type": "stream",
     "text": [
      "   col1  col2\n",
      "0   NaN   NaN\n",
      "1   NaN  11.0\n",
      "2   1.0  12.0\n"
     ]
    }
   ],
   "source": [
    "import pandas as pd\n",
    "import numpy as np\n",
    "df1 = pd.DataFrame({'col1': [np.nan, np.nan, 1],\n",
    "                    'col2': [np.nan, 11, 12]})\n",
    "df2 = pd.DataFrame({'col1': [21, 22, 23],\n",
    "                    'col2': [np.nan, 31, 32]})\n",
    "print(df1)"
   ]
  },
  {
   "cell_type": "code",
   "execution_count": 67,
   "metadata": {},
   "outputs": [
    {
     "name": "stdout",
     "output_type": "stream",
     "text": [
      "   col1  col2\n",
      "0    21   NaN\n",
      "1    22  31.0\n",
      "2    23  32.0\n"
     ]
    }
   ],
   "source": [
    "print(df2)"
   ]
  },
  {
   "cell_type": "code",
   "execution_count": 68,
   "metadata": {},
   "outputs": [
    {
     "data": {
      "text/plain": [
       "   col1  col2\n",
       "0  21.0   NaN\n",
       "1  22.0  31.0\n",
       "2  23.0  32.0"
      ]
     },
     "execution_count": 68,
     "metadata": {},
     "output_type": "execute_result"
    }
   ],
   "source": [
    "df1.update(df2)\n",
    "df1"
   ]
  },
  {
   "cell_type": "code",
   "execution_count": 69,
   "metadata": {},
   "outputs": [
    {
     "name": "stdout",
     "output_type": "stream",
     "text": [
      "   col1  col2\n",
      "0   NaN   NaN\n",
      "1   NaN  11.0\n",
      "2   1.0  12.0\n"
     ]
    }
   ],
   "source": [
    "df1 = pd.DataFrame({'col1': [np.nan, np.nan, 1],\n",
    "                    'col2': [np.nan, 11, 12]} )\n",
    "df2 = pd.DataFrame({'col1': [21, 22, 23],\n",
    "                    'col2': [np.nan, 31, 32]} )\n",
    "print(df1)"
   ]
  },
  {
   "cell_type": "code",
   "execution_count": 70,
   "metadata": {},
   "outputs": [
    {
     "name": "stdout",
     "output_type": "stream",
     "text": [
      "   col1  col2\n",
      "0    21   NaN\n",
      "1    22  31.0\n",
      "2    23  32.0\n"
     ]
    }
   ],
   "source": [
    "print(df2)"
   ]
  },
  {
   "cell_type": "code",
   "execution_count": 71,
   "metadata": {},
   "outputs": [
    {
     "data": {
      "text/plain": [
       "   col1  col2\n",
       "0  21.0   NaN\n",
       "1  22.0  11.0\n",
       "2   1.0  12.0"
      ]
     },
     "execution_count": 71,
     "metadata": {},
     "output_type": "execute_result"
    }
   ],
   "source": [
    "df1.update(df2, overwrite=False)\n",
    "df1"
   ]
  },
  {
   "cell_type": "code",
   "execution_count": 72,
   "metadata": {},
   "outputs": [
    {
     "data": {
      "text/plain": [
       "   col1  col2\n",
       "0   NaN   NaN\n",
       "1   NaN  31.0\n",
       "2  23.0  12.0"
      ]
     },
     "execution_count": 72,
     "metadata": {},
     "output_type": "execute_result"
    }
   ],
   "source": [
    "df1 = pd.DataFrame({'col1': [np.nan, np.nan, 1],\n",
    "                    'col2': [np.nan, 11, 12]})\n",
    "df2 = pd.DataFrame({'col1': [21, 22, 23],\n",
    "                    'col2': [np.nan, 31, 32]})\n",
    "df1.update(df2, filter_func=lambda x: x < 12)\n",
    "df1"
   ]
  },
  {
   "cell_type": "code",
   "execution_count": 73,
   "metadata": {},
   "outputs": [
    {
     "ename": "ValueError",
     "evalue": "Data overlaps.",
     "output_type": "error",
     "traceback": [
      "\u001b[1;31m---------------------------------------------------------------------------\u001b[0m",
      "\u001b[1;31mValueError\u001b[0m                                Traceback (most recent call last)",
      "\u001b[1;32mc:\\works\\healthcare_bigdata\\ch06\\ch06_06_concat_append.ipynb Cell 89\u001b[0m line \u001b[0;36m5\n\u001b[0;32m      <a href='vscode-notebook-cell:/c%3A/works/healthcare_bigdata/ch06/ch06_06_concat_append.ipynb#Y151sZmlsZQ%3D%3D?line=0'>1</a>\u001b[0m df1 \u001b[39m=\u001b[39m pd\u001b[39m.\u001b[39mDataFrame({\u001b[39m'\u001b[39m\u001b[39mcol1\u001b[39m\u001b[39m'\u001b[39m: [np\u001b[39m.\u001b[39mnan, np\u001b[39m.\u001b[39mnan, \u001b[39m1\u001b[39m],\n\u001b[0;32m      <a href='vscode-notebook-cell:/c%3A/works/healthcare_bigdata/ch06/ch06_06_concat_append.ipynb#Y151sZmlsZQ%3D%3D?line=1'>2</a>\u001b[0m                     \u001b[39m'\u001b[39m\u001b[39mcol2\u001b[39m\u001b[39m'\u001b[39m: [np\u001b[39m.\u001b[39mnan, np\u001b[39m.\u001b[39mnan, \u001b[39m12\u001b[39m]} )\n\u001b[0;32m      <a href='vscode-notebook-cell:/c%3A/works/healthcare_bigdata/ch06/ch06_06_concat_append.ipynb#Y151sZmlsZQ%3D%3D?line=2'>3</a>\u001b[0m df2 \u001b[39m=\u001b[39m pd\u001b[39m.\u001b[39mDataFrame({\u001b[39m'\u001b[39m\u001b[39mcol1\u001b[39m\u001b[39m'\u001b[39m: [\u001b[39m21\u001b[39m, \u001b[39m22\u001b[39m, np\u001b[39m.\u001b[39mnan],\n\u001b[0;32m      <a href='vscode-notebook-cell:/c%3A/works/healthcare_bigdata/ch06/ch06_06_concat_append.ipynb#Y151sZmlsZQ%3D%3D?line=3'>4</a>\u001b[0m                     \u001b[39m'\u001b[39m\u001b[39mcol2\u001b[39m\u001b[39m'\u001b[39m: [np\u001b[39m.\u001b[39mnan, \u001b[39m31\u001b[39m, \u001b[39m32\u001b[39m]} )\n\u001b[1;32m----> <a href='vscode-notebook-cell:/c%3A/works/healthcare_bigdata/ch06/ch06_06_concat_append.ipynb#Y151sZmlsZQ%3D%3D?line=4'>5</a>\u001b[0m df1\u001b[39m.\u001b[39;49mupdate(df2, errors\u001b[39m=\u001b[39;49m\u001b[39m\"\u001b[39;49m\u001b[39mraise\u001b[39;49m\u001b[39m\"\u001b[39;49m)\n",
      "File \u001b[1;32mc:\\Python310\\lib\\site-packages\\pandas\\core\\frame.py:8247\u001b[0m, in \u001b[0;36mDataFrame.update\u001b[1;34m(self, other, join, overwrite, filter_func, errors)\u001b[0m\n\u001b[0;32m   8245\u001b[0m     mask_that \u001b[39m=\u001b[39m notna(this)\n\u001b[0;32m   8246\u001b[0m     \u001b[39mif\u001b[39;00m \u001b[39many\u001b[39m(mask_this \u001b[39m&\u001b[39m mask_that):\n\u001b[1;32m-> 8247\u001b[0m         \u001b[39mraise\u001b[39;00m \u001b[39mValueError\u001b[39;00m(\u001b[39m\"\u001b[39m\u001b[39mData overlaps.\u001b[39m\u001b[39m\"\u001b[39m)\n\u001b[0;32m   8249\u001b[0m \u001b[39mif\u001b[39;00m overwrite:\n\u001b[0;32m   8250\u001b[0m     mask \u001b[39m=\u001b[39m isna(that)\n",
      "\u001b[1;31mValueError\u001b[0m: Data overlaps."
     ]
    }
   ],
   "source": [
    "df1 = pd.DataFrame({'col1': [np.nan, np.nan, 1],\n",
    "                    'col2': [np.nan, np.nan, 12]} )\n",
    "df2 = pd.DataFrame({'col1': [21, 22, np.nan],\n",
    "                    'col2': [np.nan, 31, 32]} )\n",
    "df1.update(df2, errors=\"raise\")"
   ]
  },
  {
   "cell_type": "code",
   "execution_count": 74,
   "metadata": {},
   "outputs": [
    {
     "data": {
      "text/plain": [
       "   col1  col2\n",
       "0  21.0   NaN\n",
       "1  22.0  31.0\n",
       "2   1.0  12.0"
      ]
     },
     "execution_count": 74,
     "metadata": {},
     "output_type": "execute_result"
    }
   ],
   "source": [
    "df1 = pd.DataFrame({'col1': [np.nan, np.nan, 1],\n",
    "                    'col2': [np.nan, np.nan, 12]} )\n",
    "df2 = pd.DataFrame({'col1': [21, 22, np.nan],\n",
    "                    'col2': [np.nan, 31, np.nan]} )\n",
    "df1.update(df2, errors=\"raise\")\n",
    "df1"
   ]
  }
 ],
 "metadata": {
  "kernelspec": {
   "display_name": "Python 3",
   "language": "python",
   "name": "python3"
  },
  "language_info": {
   "codemirror_mode": {
    "name": "ipython",
    "version": 3
   },
   "file_extension": ".py",
   "mimetype": "text/x-python",
   "name": "python",
   "nbconvert_exporter": "python",
   "pygments_lexer": "ipython3",
   "version": "3.10.4"
  },
  "orig_nbformat": 4,
  "vscode": {
   "interpreter": {
    "hash": "369f2c481f4da34e4445cda3fffd2e751bd1c4d706f27375911949ba6bb62e1c"
   }
  }
 },
 "nbformat": 4,
 "nbformat_minor": 2
}
