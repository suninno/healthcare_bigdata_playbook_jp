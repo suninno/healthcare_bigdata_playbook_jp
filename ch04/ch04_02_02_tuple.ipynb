{
 "cells": [
  {
   "attachments": {},
   "cell_type": "markdown",
   "id": "e2014eff",
   "metadata": {},
   "source": [
    "### 4.2.2 タプル"
   ]
  },
  {
   "cell_type": "code",
   "execution_count": 1,
   "id": "1bc0bbb5",
   "metadata": {},
   "outputs": [],
   "source": [
    "tu1 = ()\n",
    "tu2 = (1,2,3)\n",
    "tu3 = ('Health', 'Care', ('big', 'data'))\n",
    "tu4 = 5,6,7,8\n"
   ]
  },
  {
   "cell_type": "code",
   "execution_count": 2,
   "id": "5c196642",
   "metadata": {},
   "outputs": [
    {
     "name": "stdout",
     "output_type": "stream",
     "text": [
      "88\n"
     ]
    }
   ],
   "source": [
    "import sys\n",
    "tu = ('Health', 'Care', 'big', 'data', 'analysis', 'playbook')\n",
    "print(sys.getsizeof(tu))\n"
   ]
  },
  {
   "cell_type": "code",
   "execution_count": 3,
   "id": "ec1af6a5",
   "metadata": {},
   "outputs": [
    {
     "name": "stdout",
     "output_type": "stream",
     "text": [
      "152\n"
     ]
    }
   ],
   "source": [
    "list1 = [\"health\",\"care\", \"big\", \"data\", \"analysis\", \"playbook\"]\n",
    "print(sys.getsizeof(list1))\n"
   ]
  },
  {
   "cell_type": "code",
   "execution_count": 4,
   "id": "3ec33c72",
   "metadata": {},
   "outputs": [
    {
     "data": {
      "text/plain": [
       "'Health'"
      ]
     },
     "execution_count": 4,
     "metadata": {},
     "output_type": "execute_result"
    }
   ],
   "source": [
    "tu = ('Health', 'Care', 'big', 'data', 'analysis', 'playbook')\n",
    "tu[0]\n"
   ]
  },
  {
   "cell_type": "code",
   "execution_count": 5,
   "id": "37812ea3",
   "metadata": {},
   "outputs": [
    {
     "ename": "TypeError",
     "evalue": "'tuple' object does not support item assignment",
     "output_type": "error",
     "traceback": [
      "\u001b[1;31m---------------------------------------------------------------------------\u001b[0m",
      "\u001b[1;31mTypeError\u001b[0m                                 Traceback (most recent call last)",
      "Cell \u001b[1;32mIn[5], line 1\u001b[0m\n\u001b[1;32m----> 1\u001b[0m tu[\u001b[39m0\u001b[39;49m] \u001b[39m=\u001b[39m \u001b[39m'\u001b[39m\u001b[39mhealth\u001b[39m\u001b[39m'\u001b[39m \u001b[39m#튜플을 변경해 보자\u001b[39;00m\n",
      "\u001b[1;31mTypeError\u001b[0m: 'tuple' object does not support item assignment"
     ]
    }
   ],
   "source": [
    "tu[0] = 'health' # タプルを変更しようとする"
   ]
  },
  {
   "cell_type": "code",
   "execution_count": 6,
   "id": "fffdb1d0",
   "metadata": {},
   "outputs": [
    {
     "ename": "TypeError",
     "evalue": "'tuple' object doesn't support item deletion",
     "output_type": "error",
     "traceback": [
      "\u001b[1;31m---------------------------------------------------------------------------\u001b[0m",
      "\u001b[1;31mTypeError\u001b[0m                                 Traceback (most recent call last)",
      "Cell \u001b[1;32mIn[6], line 1\u001b[0m\n\u001b[1;32m----> 1\u001b[0m \u001b[39mdel\u001b[39;00m tu[\u001b[39m0\u001b[39m] \u001b[39m#튜플에서 요소를 삭제해 보자\u001b[39;00m\n",
      "\u001b[1;31mTypeError\u001b[0m: 'tuple' object doesn't support item deletion"
     ]
    }
   ],
   "source": [
    "del tu[0] # タプルから要素を削除しようとする"
   ]
  },
  {
   "attachments": {},
   "cell_type": "markdown",
   "id": "c476b1f1",
   "metadata": {},
   "source": [
    "#### タプルのアンパッキング"
   ]
  },
  {
   "cell_type": "code",
   "execution_count": 7,
   "id": "d660e695",
   "metadata": {},
   "outputs": [
    {
     "data": {
      "text/plain": [
       "('Health', 'Care', 'big', 'data', ['analysis', 'playbook'])"
      ]
     },
     "execution_count": 7,
     "metadata": {},
     "output_type": "execute_result"
    }
   ],
   "source": [
    "# アンパッキング\n",
    "a, b, c, d, *rest = tu\n",
    "a, b, c, d, rest"
   ]
  },
  {
   "cell_type": "code",
   "execution_count": 8,
   "id": "02a986ca",
   "metadata": {},
   "outputs": [
    {
     "ename": "SyntaxError",
     "evalue": "multiple starred expressions in assignment (3330393202.py, line 2)",
     "output_type": "error",
     "traceback": [
      "\u001b[1;36m  Cell \u001b[1;32mIn[8], line 2\u001b[1;36m\u001b[0m\n\u001b[1;33m    a, b, c, d, *rest1, *rest2 = tu\u001b[0m\n\u001b[1;37m    ^\u001b[0m\n\u001b[1;31mSyntaxError\u001b[0m\u001b[1;31m:\u001b[0m multiple starred expressions in assignment\n"
     ]
    }
   ],
   "source": [
    "# アンパッキング、アスタリスク２つ→エラー\n",
    "a, b, c, d, *rest1, *rest2 = tu"
   ]
  },
  {
   "cell_type": "markdown",
   "id": "fa75959b",
   "metadata": {},
   "source": [
    "#### フィールド名のないレコードをタプルで実装"
   ]
  },
  {
   "cell_type": "code",
   "execution_count": 9,
   "id": "ab3b11bc",
   "metadata": {},
   "outputs": [
    {
     "name": "stdout",
     "output_type": "stream",
     "text": [
      "name:senior_a, age:71, sex:Male\n",
      "name:senior_b, age:78, sex:Female\n",
      "name:senior_c, age:81, sex:Male\n"
     ]
    }
   ],
   "source": [
    "patients = [\n",
    "     ('senior_a', '71', 'Male'),\n",
    "     ('senior_b', '78', 'Female'),\n",
    "     ('senior_c', '81', 'Male'),\n",
    "]\n",
    "\n",
    "for name, age, sex in patients:\n",
    "  print(\"name:{}, age:{}, sex:{}\".format(name, age, sex))"
   ]
  }
 ],
 "metadata": {
  "kernelspec": {
   "display_name": "Python 3",
   "language": "python",
   "name": "python3"
  },
  "language_info": {
   "codemirror_mode": {
    "name": "ipython",
    "version": 3
   },
   "file_extension": ".py",
   "mimetype": "text/x-python",
   "name": "python",
   "nbconvert_exporter": "python",
   "pygments_lexer": "ipython3",
   "version": "3.10.4"
  }
 },
 "nbformat": 4,
 "nbformat_minor": 5
}
