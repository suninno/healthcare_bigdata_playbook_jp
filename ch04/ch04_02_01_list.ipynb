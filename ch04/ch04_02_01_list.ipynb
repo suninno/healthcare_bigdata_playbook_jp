{
 "cells": [
  {
   "attachments": {},
   "cell_type": "markdown",
   "id": "2a5a5b34",
   "metadata": {},
   "source": [
    "### 4.2.1 リスト(list)"
   ]
  },
  {
   "cell_type": "code",
   "execution_count": 1,
   "id": "4866e604",
   "metadata": {},
   "outputs": [
    {
     "data": {
      "text/plain": [
       "['health', 'care']"
      ]
     },
     "execution_count": 1,
     "metadata": {},
     "output_type": "execute_result"
    }
   ],
   "source": [
    "# ‘[]’でリストを作成\n",
    "list1 = [\"health\",\"care\"]\n",
    "list1"
   ]
  },
  {
   "cell_type": "code",
   "execution_count": 2,
   "id": "81aa3d73",
   "metadata": {},
   "outputs": [
    {
     "data": {
      "text/plain": [
       "[0, 1, 2, 3, 4, 5, 6, 7, 8, 9]"
      ]
     },
     "execution_count": 2,
     "metadata": {},
     "output_type": "execute_result"
    }
   ],
   "source": [
    "# list関数でリストを作成\n",
    "list2 = list(range(10))\n",
    "list2"
   ]
  },
  {
   "cell_type": "code",
   "execution_count": 3,
   "id": "8a23150b",
   "metadata": {},
   "outputs": [
    {
     "data": {
      "text/plain": [
       "'health'"
      ]
     },
     "execution_count": 3,
     "metadata": {},
     "output_type": "execute_result"
    }
   ],
   "source": [
    "# 最初の要素を返す\n",
    "list1[0]"
   ]
  },
  {
   "cell_type": "code",
   "execution_count": 4,
   "id": "351c93f4",
   "metadata": {},
   "outputs": [
    {
     "data": {
      "text/plain": [
       "['health', 'care', 'data']"
      ]
     },
     "execution_count": 4,
     "metadata": {},
     "output_type": "execute_result"
    }
   ],
   "source": [
    "# 動的に最後の要素に'data'文字列を追加\n",
    "list1.append(\"data\")\n",
    "list1"
   ]
  },
  {
   "cell_type": "code",
   "execution_count": 5,
   "id": "5b67f34a",
   "metadata": {},
   "outputs": [
    {
     "data": {
      "text/plain": [
       "['health', 'care', 'big', 'data']"
      ]
     },
     "execution_count": 5,
     "metadata": {},
     "output_type": "execute_result"
    }
   ],
   "source": [
    "# 動的に3番目の要素に'big'文字列を追加\n",
    "list1.insert(2, \"big\")\n",
    "list1"
   ]
  },
  {
   "cell_type": "code",
   "execution_count": 6,
   "id": "1cf7767e",
   "metadata": {},
   "outputs": [
    {
     "data": {
      "text/plain": [
       "['health', 'care', 'big', 'data', 'analysis']"
      ]
     },
     "execution_count": 6,
     "metadata": {},
     "output_type": "execute_result"
    }
   ],
   "source": [
    "# +演算子で新たなリストを追加\n",
    "list1 = list1 + [\"analysis\"]\n",
    "list1"
   ]
  },
  {
   "cell_type": "code",
   "execution_count": 7,
   "id": "c8c6ecb7",
   "metadata": {},
   "outputs": [
    {
     "data": {
      "text/plain": [
       "['health', 'care', 'big', 'data', 'analysis', 'playbook']"
      ]
     },
     "execution_count": 7,
     "metadata": {},
     "output_type": "execute_result"
    }
   ],
   "source": [
    "# extendで新たなリストを追加\n",
    "list1.extend([\"playbook\"])\n",
    "list1"
   ]
  },
  {
   "cell_type": "code",
   "execution_count": 8,
   "id": "ec72c6f9",
   "metadata": {},
   "outputs": [
    {
     "name": "stdout",
     "output_type": "stream",
     "text": [
      "152\n"
     ]
    }
   ],
   "source": [
    "import sys\n",
    "print(sys.getsizeof(list1))"
   ]
  },
  {
   "cell_type": "code",
   "execution_count": 9,
   "id": "8703d4cf",
   "metadata": {},
   "outputs": [
    {
     "data": {
      "text/plain": [
       "['health', 'care', 'big', 'data']"
      ]
     },
     "execution_count": 9,
     "metadata": {},
     "output_type": "execute_result"
    }
   ],
   "source": [
    "# 0番目から4番目までの要素をaリストに代入\n",
    "a = list1[0:4]\n",
    "a"
   ]
  },
  {
   "cell_type": "code",
   "execution_count": 10,
   "id": "d04b0ce7",
   "metadata": {},
   "outputs": [
    {
     "data": {
      "text/plain": [
       "['Health', 'Care', 'big', 'data', 'analysis', 'playbook']"
      ]
     },
     "execution_count": 10,
     "metadata": {},
     "output_type": "execute_result"
    }
   ],
   "source": [
    "# list1の最初の要素を'Health'、二番目の要素を'Care'に置換\n",
    "list1[0:2] = ['Health', 'Care']\n",
    "list1"
   ]
  },
  {
   "cell_type": "code",
   "execution_count": 11,
   "id": "75b0bf07",
   "metadata": {
    "scrolled": false
   },
   "outputs": [
    {
     "data": {
      "text/plain": [
       "'playbook'"
      ]
     },
     "execution_count": 11,
     "metadata": {},
     "output_type": "execute_result"
    }
   ],
   "source": [
    "# インデックス5（6番目）の要素を抽出し、リストから削除\n",
    "list1.pop(5)"
   ]
  },
  {
   "cell_type": "code",
   "execution_count": 12,
   "id": "8fb100bf",
   "metadata": {},
   "outputs": [
    {
     "data": {
      "text/plain": [
       "['Health', 'Care', 'big', 'data', 'analysis']"
      ]
     },
     "execution_count": 12,
     "metadata": {},
     "output_type": "execute_result"
    }
   ],
   "source": [
    "# 6番目の要素'playbook'が削除された\n",
    "list1"
   ]
  },
  {
   "cell_type": "code",
   "execution_count": 13,
   "id": "bd51ab91",
   "metadata": {},
   "outputs": [],
   "source": [
    "# 'big'文字列要素を検索し、削除。見つからない場合はValueErrorが発生\n",
    "list1.remove('big')"
   ]
  },
  {
   "cell_type": "code",
   "execution_count": 14,
   "id": "3c74caac",
   "metadata": {},
   "outputs": [
    {
     "data": {
      "text/plain": [
       "['Health', 'Care', 'data', 'analysis']"
      ]
     },
     "execution_count": 14,
     "metadata": {},
     "output_type": "execute_result"
    }
   ],
   "source": [
    "list1"
   ]
  },
  {
   "cell_type": "code",
   "execution_count": 15,
   "id": "a64a82e8",
   "metadata": {},
   "outputs": [
    {
     "data": {
      "text/plain": [
       "['Health', 'Care', 'data']"
      ]
     },
     "execution_count": 15,
     "metadata": {},
     "output_type": "execute_result"
    }
   ],
   "source": [
    "# 4番目の要素をインデックスで削除\n",
    "del list1[3]\n",
    "list1"
   ]
  },
  {
   "cell_type": "code",
   "execution_count": 16,
   "id": "af1da405",
   "metadata": {},
   "outputs": [
    {
     "name": "stdout",
     "output_type": "stream",
     "text": [
      "existed\n"
     ]
    }
   ],
   "source": [
    "# inキーワードで要素の検索が可能\n",
    "if 'Health' in list1:\n",
    "    print('existed')\n",
    "else:\n",
    "    print('not existed')\n"
   ]
  },
  {
   "cell_type": "code",
   "execution_count": 17,
   "id": "ace4fd9b",
   "metadata": {},
   "outputs": [],
   "source": [
    "# 全ての要素を削除する\n",
    "list1.clear()"
   ]
  },
  {
   "cell_type": "code",
   "execution_count": 18,
   "id": "820464ff",
   "metadata": {},
   "outputs": [
    {
     "data": {
      "text/plain": [
       "[]"
      ]
     },
     "execution_count": 18,
     "metadata": {},
     "output_type": "execute_result"
    }
   ],
   "source": [
    "list1"
   ]
  },
  {
   "attachments": {},
   "cell_type": "markdown",
   "id": "2fcf0963",
   "metadata": {},
   "source": [
    "#### ソート"
   ]
  },
  {
   "cell_type": "code",
   "execution_count": 19,
   "id": "ad4ea112",
   "metadata": {},
   "outputs": [],
   "source": [
    "s_list = ['Health', 'Care', 'big', 'data', 'analysis', 'playbook']"
   ]
  },
  {
   "cell_type": "code",
   "execution_count": 20,
   "id": "f4961e20",
   "metadata": {},
   "outputs": [
    {
     "data": {
      "text/plain": [
       "['Care', 'Health', 'analysis', 'big', 'data', 'playbook']"
      ]
     },
     "execution_count": 20,
     "metadata": {},
     "output_type": "execute_result"
    }
   ],
   "source": [
    "s_list.sort() # 昇順ソート、大文字を優先（'A'のASCII値は65、'a'は97）\n",
    "s_list"
   ]
  },
  {
   "cell_type": "code",
   "execution_count": 21,
   "id": "41ae4772",
   "metadata": {},
   "outputs": [
    {
     "data": {
      "text/plain": [
       "['playbook', 'data', 'big', 'analysis', 'Health', 'Care']"
      ]
     },
     "execution_count": 21,
     "metadata": {},
     "output_type": "execute_result"
    }
   ],
   "source": [
    "newlist = s_list.sort(reverse=True) # 降順ソート\n",
    "s_list"
   ]
  },
  {
   "cell_type": "code",
   "execution_count": 22,
   "id": "284b385e",
   "metadata": {},
   "outputs": [
    {
     "data": {
      "text/plain": [
       "True"
      ]
     },
     "execution_count": 22,
     "metadata": {},
     "output_type": "execute_result"
    }
   ],
   "source": [
    "newlist = s_list.sort(reverse=True)\n",
    "newlist == None # list.sortはNoneを返す"
   ]
  },
  {
   "cell_type": "code",
   "execution_count": 23,
   "id": "fe2f7a85",
   "metadata": {},
   "outputs": [
    {
     "data": {
      "text/plain": [
       "['playbook', 'data', 'big', 'analysis', 'Health', 'Care']"
      ]
     },
     "execution_count": 23,
     "metadata": {},
     "output_type": "execute_result"
    }
   ],
   "source": [
    "newlist = sorted(s_list, reverse=True) # 降順ソート、sortedの返り値は新しいリスト\n",
    "newlist"
   ]
  },
  {
   "attachments": {},
   "cell_type": "markdown",
   "id": "44125dd8",
   "metadata": {},
   "source": [
    "#### スライスとストライド"
   ]
  },
  {
   "cell_type": "code",
   "execution_count": 24,
   "id": "463c5818",
   "metadata": {},
   "outputs": [
    {
     "data": {
      "text/plain": [
       "True"
      ]
     },
     "execution_count": 24,
     "metadata": {},
     "output_type": "execute_result"
    }
   ],
   "source": [
    "list1 = [1, 2, 3, 5, 6, 8, 10]\n",
    "list1[:5] == list1[0:5]"
   ]
  },
  {
   "cell_type": "code",
   "execution_count": 25,
   "id": "ef670648",
   "metadata": {},
   "outputs": [
    {
     "data": {
      "text/plain": [
       "True"
      ]
     },
     "execution_count": 25,
     "metadata": {},
     "output_type": "execute_result"
    }
   ],
   "source": [
    "list1[2:] == list1[2:len(list1)]"
   ]
  },
  {
   "cell_type": "code",
   "execution_count": 26,
   "id": "9a35aa9c",
   "metadata": {},
   "outputs": [
    {
     "data": {
      "text/plain": [
       "[1, 2, 3, 5, 6, 8]"
      ]
     },
     "execution_count": 26,
     "metadata": {},
     "output_type": "execute_result"
    }
   ],
   "source": [
    "list1[:-1] # 終了: 後ろから一つ目"
   ]
  },
  {
   "cell_type": "code",
   "execution_count": 27,
   "id": "a4abc71a",
   "metadata": {},
   "outputs": [
    {
     "data": {
      "text/plain": [
       "[8, 10]"
      ]
     },
     "execution_count": 27,
     "metadata": {},
     "output_type": "execute_result"
    }
   ],
   "source": [
    "list1[-2:] # 開始: 後ろから二つ目"
   ]
  },
  {
   "cell_type": "code",
   "execution_count": 28,
   "id": "45040527",
   "metadata": {},
   "outputs": [
    {
     "data": {
      "text/plain": [
       "[8, 10]"
      ]
     },
     "execution_count": 28,
     "metadata": {},
     "output_type": "execute_result"
    }
   ],
   "source": [
    "list1[-2:len(list1)] # 上記と同じ。len(list1)は省略可能"
   ]
  },
  {
   "cell_type": "code",
   "execution_count": 29,
   "id": "0ec4d09a",
   "metadata": {},
   "outputs": [
    {
     "name": "stdout",
     "output_type": "stream",
     "text": [
      "[0, 2, 4, 6, 8]\n"
     ]
    }
   ],
   "source": [
    "list1 = list(range(10))\n",
    "\n",
    "even = list1[0::2] # 偶数ストライディング\n",
    "print(even)"
   ]
  },
  {
   "cell_type": "code",
   "execution_count": 30,
   "id": "c70a4586",
   "metadata": {},
   "outputs": [
    {
     "name": "stdout",
     "output_type": "stream",
     "text": [
      "[1, 3, 5, 7, 9]\n"
     ]
    }
   ],
   "source": [
    "odd = list1[1::2] # 奇数ストライディング\n",
    "print(odd)"
   ]
  },
  {
   "cell_type": "code",
   "execution_count": 31,
   "id": "306ae127",
   "metadata": {},
   "outputs": [
    {
     "name": "stdout",
     "output_type": "stream",
     "text": [
      "eracneris\n"
     ]
    }
   ],
   "source": [
    "a = 'sirencare'\n",
    "y = a[::-1]\n",
    "print(y)"
   ]
  }
 ],
 "metadata": {
  "kernelspec": {
   "display_name": "Python 3",
   "language": "python",
   "name": "python3"
  },
  "language_info": {
   "codemirror_mode": {
    "name": "ipython",
    "version": 3
   },
   "file_extension": ".py",
   "mimetype": "text/x-python",
   "name": "python",
   "nbconvert_exporter": "python",
   "pygments_lexer": "ipython3",
   "version": "3.10.4"
  }
 },
 "nbformat": 4,
 "nbformat_minor": 5
}
