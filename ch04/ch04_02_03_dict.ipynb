{
 "cells": [
  {
   "attachments": {},
   "cell_type": "markdown",
   "id": "195ae4c8",
   "metadata": {},
   "source": [
    "### 4.2.3 辞書"
   ]
  },
  {
   "cell_type": "code",
   "execution_count": 1,
   "id": "4c1b67fb",
   "metadata": {},
   "outputs": [],
   "source": [
    "dict1 = {'key1': 'val1', 'key2': 'val2'}\n",
    "dict2 = {1: 'val1' ,2:'val2'}\n",
    "dict3 = {'key1':[10,20,30], 'key2':['a', 'b', 'c']}\n",
    "dict4 = dict()\n",
    "dict5 = dict({'k1':'v1','k2':'v2'})"
   ]
  },
  {
   "cell_type": "code",
   "execution_count": 2,
   "id": "507aa889",
   "metadata": {},
   "outputs": [
    {
     "data": {
      "text/plain": [
       "'val1'"
      ]
     },
     "execution_count": 2,
     "metadata": {},
     "output_type": "execute_result"
    }
   ],
   "source": [
    "a = {\n",
    "\"key1\":\"val1\",\n",
    "\"key2\":\"val2\",\n",
    "\"key3\":\"val3\"\n",
    "}\n",
    "\n",
    "a['key1'] # 'キー'で検索"
   ]
  },
  {
   "cell_type": "code",
   "execution_count": 3,
   "id": "e2a0d9af",
   "metadata": {
    "scrolled": true
   },
   "outputs": [
    {
     "data": {
      "text/plain": [
       "'val1'"
      ]
     },
     "execution_count": 3,
     "metadata": {},
     "output_type": "execute_result"
    }
   ],
   "source": [
    "a.get('key1') # 'キー'で検索"
   ]
  },
  {
   "cell_type": "code",
   "execution_count": 4,
   "id": "8dc1ca63",
   "metadata": {},
   "outputs": [
    {
     "data": {
      "text/plain": [
       "True"
      ]
     },
     "execution_count": 4,
     "metadata": {},
     "output_type": "execute_result"
    }
   ],
   "source": [
    "a['key1'] == a.get('key1')"
   ]
  },
  {
   "cell_type": "code",
   "execution_count": 5,
   "id": "43122d14",
   "metadata": {
    "scrolled": true
   },
   "outputs": [
    {
     "data": {
      "text/plain": [
       "['key1', 'key2', 'key3']"
      ]
     },
     "execution_count": 5,
     "metadata": {},
     "output_type": "execute_result"
    }
   ],
   "source": [
    "list(a) # aのキーのリストを返す"
   ]
  },
  {
   "cell_type": "code",
   "execution_count": 4,
   "id": "b59d3771",
   "metadata": {},
   "outputs": [
    {
     "data": {
      "text/plain": [
       "dict_keys(['key1', 'key2', 'key3'])"
      ]
     },
     "execution_count": 4,
     "metadata": {},
     "output_type": "execute_result"
    }
   ],
   "source": [
    "a.keys() # キーオブジェクトを返す"
   ]
  },
  {
   "cell_type": "code",
   "execution_count": 6,
   "id": "5a929176",
   "metadata": {},
   "outputs": [
    {
     "data": {
      "text/plain": [
       "dict_values(['val1', 'val2', 'val3'])"
      ]
     },
     "execution_count": 6,
     "metadata": {},
     "output_type": "execute_result"
    }
   ],
   "source": [
    "a.values() # 値リストを返す"
   ]
  },
  {
   "cell_type": "code",
   "execution_count": 7,
   "id": "9548b1af",
   "metadata": {},
   "outputs": [
    {
     "data": {
      "text/plain": [
       "dict_items([('key1', 'val1'), ('key2', 'val2'), ('key3', 'val3')])"
      ]
     },
     "execution_count": 7,
     "metadata": {},
     "output_type": "execute_result"
    }
   ],
   "source": [
    "a.items() # キーと値両方のリストを返す"
   ]
  },
  {
   "cell_type": "code",
   "execution_count": 8,
   "id": "0abec33e",
   "metadata": {},
   "outputs": [],
   "source": [
    "del a['key1'] # aからキー’key1’とマッピングされた値を削除"
   ]
  },
  {
   "cell_type": "code",
   "execution_count": 9,
   "id": "ddd9dd56",
   "metadata": {},
   "outputs": [
    {
     "data": {
      "text/plain": [
       "{'key1': [10, 20, 30], 'key2': ['a', 'b', 'c'], 'key3': ['z', 'y', 'x']}"
      ]
     },
     "execution_count": 9,
     "metadata": {},
     "output_type": "execute_result"
    }
   ],
   "source": [
    "dict3 = {'key1':[10,20,30], 'key2':['a', 'b', 'c']}\n",
    "dict3['key3'] = ['z','y','x']\n",
    "dict3"
   ]
  },
  {
   "cell_type": "code",
   "execution_count": 10,
   "id": "0c225a07",
   "metadata": {},
   "outputs": [
    {
     "data": {
      "text/plain": [
       "{}"
      ]
     },
     "execution_count": 10,
     "metadata": {},
     "output_type": "execute_result"
    }
   ],
   "source": [
    "dict3.clear()\n",
    "dict3"
   ]
  }
 ],
 "metadata": {
  "kernelspec": {
   "display_name": "Python 3",
   "language": "python",
   "name": "python3"
  },
  "language_info": {
   "codemirror_mode": {
    "name": "ipython",
    "version": 3
   },
   "file_extension": ".py",
   "mimetype": "text/x-python",
   "name": "python",
   "nbconvert_exporter": "python",
   "pygments_lexer": "ipython3",
   "version": "3.10.4"
  }
 },
 "nbformat": 4,
 "nbformat_minor": 5
}
