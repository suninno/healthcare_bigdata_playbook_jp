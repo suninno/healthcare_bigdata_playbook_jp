{
 "cells": [
  {
   "attachments": {},
   "cell_type": "markdown",
   "id": "3c78ed07",
   "metadata": {},
   "source": [
    "### 4.1.1 コメント"
   ]
  },
  {
   "cell_type": "code",
   "execution_count": 1,
   "id": "b804f967",
   "metadata": {},
   "outputs": [
    {
     "name": "stdout",
     "output_type": "stream",
     "text": [
      "i < 10\n",
      "i < 10\n",
      "i < 10\n",
      "i < 10\n",
      "i < 10\n",
      "i < 10\n",
      "i < 10\n",
      "i < 10\n",
      "i < 10\n",
      "i < 10\n",
      "i >= 10\n",
      "i >= 10\n",
      "i >= 10\n",
      "i >= 10\n",
      "i >= 10\n",
      "i >= 10\n",
      "i >= 10\n",
      "i >= 10\n",
      "i >= 10\n",
      "i >= 10\n",
      "i >= 10\n",
      "i >= 10\n",
      "i >= 10\n",
      "i >= 10\n",
      "i >= 10\n",
      "i >= 10\n",
      "i >= 10\n",
      "i >= 10\n",
      "i >= 10\n",
      "i >= 10\n",
      "i >= 10\n",
      "i >= 10\n",
      "i >= 10\n",
      "i >= 10\n",
      "i >= 10\n",
      "i >= 10\n",
      "i >= 10\n",
      "i >= 10\n",
      "i >= 10\n",
      "i >= 10\n",
      "i >= 10\n",
      "i >= 10\n",
      "i >= 10\n",
      "i >= 10\n",
      "i >= 10\n",
      "i >= 10\n",
      "i >= 10\n",
      "i >= 10\n",
      "i >= 10\n",
      "i >= 10\n"
     ]
    }
   ],
   "source": [
    "# 変数iを宣言し、初期化します。これは一行（行単位）のコメントです。\n",
    "i = 0\n",
    "\n",
    "\"\"\"\n",
    "これは複数行のコメントです。\n",
    "iが50未満になるまで実行し、\n",
    "iが10未満の場合は、“i < 10”を出力し、\n",
    "その他の場合は“i >= 10”を出力します。\n",
    "\"\"\"\n",
    "while i < 50 :\n",
    "  if i < 10:\n",
    "    print(\"i < 10\")\n",
    "  else:\n",
    "    print(\"i >= 10\")\n",
    "  i +=1"
   ]
  },
  {
   "attachments": {},
   "cell_type": "markdown",
   "id": "b9fbdb1b",
   "metadata": {},
   "source": [
    "### 4.1.2 関数"
   ]
  },
  {
   "cell_type": "code",
   "execution_count": 6,
   "id": "5d2b67b6",
   "metadata": {},
   "outputs": [
    {
     "name": "stdout",
     "output_type": "stream",
     "text": [
      "sum1:36\n",
      "sum2:33.0\n"
     ]
    }
   ],
   "source": [
    "def strange_sum(x, y=1.0):\n",
    "  return x + y + 9\n",
    "\n",
    "sum = 0; x = 0; y =1\n",
    "\n",
    "while x < 3:\n",
    "  sum += strange_sum(x, y)\n",
    "  x += 1\n",
    "  y += 1\n",
    "\n",
    "print(\"sum1:{}\".format(sum))\n",
    "\n",
    "sum=0; x=0; y=1\n",
    "while x < 3:\n",
    "  sum += strange_sum(x) # y引数にはデフォルトで１が設定されます。\n",
    "  x += 1\n",
    "  y += 1\n",
    "\n",
    "print(\"sum2:{}\".format(sum))"
   ]
  },
  {
   "attachments": {},
   "cell_type": "markdown",
   "id": "aee666a1",
   "metadata": {},
   "source": [
    "### 4.1.3 名関数：ラムダ関数"
   ]
  },
  {
   "cell_type": "code",
   "execution_count": 11,
   "id": "3d822bdf",
   "metadata": {},
   "outputs": [
    {
     "name": "stdout",
     "output_type": "stream",
     "text": [
      "sum1:36\n"
     ]
    }
   ],
   "source": [
    "\n",
    "sum = 0; x = 0; y =1\n",
    "\n",
    "while x < 3:\n",
    "  sum += (lambda a, b: a + b + 9)(x,y)\n",
    "  x += 1\n",
    "  y += 1\n",
    "\n",
    "print(\"sum1:{}\".format(sum))"
   ]
  },
  {
   "attachments": {},
   "cell_type": "markdown",
   "id": "345782ff",
   "metadata": {},
   "source": [
    "### 4.1.4 if文"
   ]
  },
  {
   "cell_type": "code",
   "execution_count": 16,
   "id": "01a54c13",
   "metadata": {},
   "outputs": [
    {
     "name": "stdout",
     "output_type": "stream",
     "text": [
      "i < 10\n",
      "i < 10\n",
      "10 < i < 20\n",
      "10 < i < 20\n",
      "i >= 20\n",
      "i >= 20\n",
      "i >= 20\n",
      "i >= 20\n",
      "i >= 20\n",
      "i >= 20\n"
     ]
    }
   ],
   "source": [
    "i = 0\n",
    "while i < 50 :\n",
    "  if i < 10:\n",
    "    print(\"i < 10\")\n",
    "  elif i < 20:\n",
    "    print(\"10 < i < 20\")\n",
    "    pass\n",
    "  else:\n",
    "    print(\"i >= 20\")\n",
    "\n",
    "  i +=5"
   ]
  },
  {
   "attachments": {},
   "cell_type": "markdown",
   "id": "b1b6d19b",
   "metadata": {},
   "source": [
    "### 4.1.4 switch文"
   ]
  },
  {
   "cell_type": "code",
   "execution_count": 17,
   "id": "3725fd83",
   "metadata": {},
   "outputs": [
    {
     "name": "stdout",
     "output_type": "stream",
     "text": [
      "default\n"
     ]
    }
   ],
   "source": [
    "co = 4\n",
    "match co:\n",
    "  case 1:\n",
    "    print('Hello one')\n",
    "  case 2:\n",
    "    print('Hello two')\n",
    "  case 3:\n",
    "    print('Hello three')\n",
    "  case _:\n",
    "    print('default')"
   ]
  },
  {
   "cell_type": "code",
   "execution_count": 18,
   "id": "851b6506",
   "metadata": {},
   "outputs": [
    {
     "name": "stdout",
     "output_type": "stream",
     "text": [
      "Hello to you too!\n"
     ]
    }
   ],
   "source": [
    "command = 'Hello, World!'\n",
    "match command:\n",
    "  case 'Hello, World!':\n",
    "    print('Hello to you too!')\n",
    "  case 'Goodbye, World!':\n",
    "    print('See you later')\n",
    "  case other:\n",
    "    print('No match found')"
   ]
  },
  {
   "attachments": {},
   "cell_type": "markdown",
   "id": "62c65342",
   "metadata": {},
   "source": [
    "### 4.1.4 for文"
   ]
  },
  {
   "cell_type": "code",
   "execution_count": 23,
   "id": "c5b0c827",
   "metadata": {},
   "outputs": [
    {
     "name": "stdout",
     "output_type": "stream",
     "text": [
      "0\n",
      "1\n",
      "2\n",
      "3\n"
     ]
    }
   ],
   "source": [
    "for i in range(4):\n",
    "  print(i)"
   ]
  },
  {
   "attachments": {},
   "cell_type": "markdown",
   "id": "9aec85fa",
   "metadata": {},
   "source": [
    "### 4.1.4 while文"
   ]
  },
  {
   "cell_type": "code",
   "execution_count": 24,
   "id": "7d11ea78",
   "metadata": {},
   "outputs": [
    {
     "name": "stdout",
     "output_type": "stream",
     "text": [
      "0\n",
      "1\n",
      "2\n",
      "3\n"
     ]
    }
   ],
   "source": [
    "i = 0\n",
    "while i < 4:\n",
    "  print(i)\n",
    "  i+=1"
   ]
  },
  {
   "attachments": {},
   "cell_type": "markdown",
   "id": "f1295c8b",
   "metadata": {},
   "source": [
    "### 4.1.4 pass文"
   ]
  },
  {
   "cell_type": "code",
   "execution_count": 26,
   "id": "fbd0ded9",
   "metadata": {},
   "outputs": [
    {
     "name": "stdout",
     "output_type": "stream",
     "text": [
      "i < 10\n",
      "i < 10\n",
      "i >= 20\n",
      "i >= 20\n",
      "i >= 20\n",
      "i >= 20\n",
      "i >= 20\n",
      "i >= 20\n"
     ]
    }
   ],
   "source": [
    "i = 0\n",
    "while i < 50 :\n",
    "  if i < 10:\n",
    "    print(\"i < 10\")\n",
    "  elif i < 20:\n",
    "    #print(\"10 < i < 20\")\n",
    "    #TODO 後でコードを実装\n",
    "    pass\n",
    "  else:\n",
    "    print(\"i >= 20\")\n",
    "\n",
    "  i +=5"
   ]
  },
  {
   "attachments": {},
   "cell_type": "markdown",
   "id": "cb4afd00",
   "metadata": {},
   "source": [
    "### 4.1.4 三項演算式"
   ]
  },
  {
   "cell_type": "code",
   "execution_count": 28,
   "id": "f1e2bb36",
   "metadata": {},
   "outputs": [
    {
     "name": "stdout",
     "output_type": "stream",
     "text": [
      "i < 10\n",
      "i < 10\n",
      "10 < i < 20\n",
      "10 < i < 20\n",
      "i >= 20\n",
      "i >= 20\n",
      "i >= 20\n",
      "i >= 20\n",
      "i >= 20\n",
      "i >= 20\n"
     ]
    }
   ],
   "source": [
    "i = 0\n",
    "while i < 50 :\n",
    "  print(\"i < 10\") if i < 10 else ( print(\"10 < i < 20\") if i < 20 else print(\"i >= 20\"))\n",
    "  i +=5"
   ]
  }
 ],
 "metadata": {
  "kernelspec": {
   "display_name": "Python 3",
   "language": "python",
   "name": "python3"
  },
  "language_info": {
   "codemirror_mode": {
    "name": "ipython",
    "version": 3
   },
   "file_extension": ".py",
   "mimetype": "text/x-python",
   "name": "python",
   "nbconvert_exporter": "python",
   "pygments_lexer": "ipython3",
   "version": "3.10.4"
  }
 },
 "nbformat": 4,
 "nbformat_minor": 5
}
