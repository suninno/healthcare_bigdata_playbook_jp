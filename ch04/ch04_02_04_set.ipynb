{
 "cells": [
  {
   "attachments": {},
   "cell_type": "markdown",
   "id": "5c196b03",
   "metadata": {},
   "source": [
    "### 4.2.4 集合(set)"
   ]
  },
  {
   "cell_type": "code",
   "execution_count": 48,
   "id": "0ad1755b",
   "metadata": {},
   "outputs": [
    {
     "data": {
      "text/plain": [
       "{1, 2, 3, 4, 5}"
      ]
     },
     "execution_count": 48,
     "metadata": {},
     "output_type": "execute_result"
    }
   ],
   "source": [
    "set_1 = {2,1,2,3,4,5}\n",
    "set_1"
   ]
  },
  {
   "cell_type": "code",
   "execution_count": 49,
   "id": "b08d8d31",
   "metadata": {},
   "outputs": [
    {
     "data": {
      "text/plain": [
       "set"
      ]
     },
     "execution_count": 49,
     "metadata": {},
     "output_type": "execute_result"
    }
   ],
   "source": [
    "type(set_1)"
   ]
  },
  {
   "cell_type": "code",
   "execution_count": 50,
   "id": "e437ea49",
   "metadata": {},
   "outputs": [
    {
     "data": {
      "text/plain": [
       "{1, 3, 5, 7, 9}"
      ]
     },
     "execution_count": 50,
     "metadata": {},
     "output_type": "execute_result"
    }
   ],
   "source": [
    "set_a = set([3,3,3,1,3,5,7,9])\n",
    "set_a # ３つの重複した3が一つになった"
   ]
  },
  {
   "cell_type": "code",
   "execution_count": 51,
   "id": "8bc11030",
   "metadata": {
    "scrolled": true
   },
   "outputs": [
    {
     "data": {
      "text/plain": [
       "{1, 3, 5, 7, 9, 11, 12, 13, 14, 15}"
      ]
     },
     "execution_count": 51,
     "metadata": {},
     "output_type": "execute_result"
    }
   ],
   "source": [
    "set_b = set([7,11,12,13,14,15])\n",
    "# |で和集合を計算する\n",
    "set_a | set_b"
   ]
  },
  {
   "cell_type": "code",
   "execution_count": 52,
   "id": "ad94784a",
   "metadata": {},
   "outputs": [
    {
     "name": "stdout",
     "output_type": "stream",
     "text": [
      "{7}\n"
     ]
    }
   ],
   "source": [
    "# 積集合を計算する\n",
    "bb = set_a.intersection(set_b)\n",
    "print(bb)"
   ]
  },
  {
   "cell_type": "code",
   "execution_count": 53,
   "id": "e1c42c0d",
   "metadata": {},
   "outputs": [
    {
     "name": "stdout",
     "output_type": "stream",
     "text": [
      "{7}\n"
     ]
    }
   ],
   "source": [
    "cc = set_a & set_b\n",
    "print(cc)\n"
   ]
  },
  {
   "cell_type": "code",
   "execution_count": 54,
   "id": "33127104",
   "metadata": {},
   "outputs": [
    {
     "name": "stdout",
     "output_type": "stream",
     "text": [
      "{1, 3, 5, 7, 9, 11, 12, 13, 14, 15}\n"
     ]
    }
   ],
   "source": [
    "# 和集合を計算する\n",
    "bb = set_a | set_b\n",
    "print(bb)"
   ]
  },
  {
   "cell_type": "code",
   "execution_count": 55,
   "id": "8b45d02a",
   "metadata": {},
   "outputs": [
    {
     "name": "stdout",
     "output_type": "stream",
     "text": [
      "{1, 3, 5, 7, 9, 11, 12, 13, 14, 15}\n"
     ]
    }
   ],
   "source": [
    "# uninonメソッドで和集合を計算する\n",
    "cc = set_a.union(set_b)\n",
    "print(cc)"
   ]
  },
  {
   "cell_type": "code",
   "execution_count": 56,
   "id": "10ced9ef",
   "metadata": {},
   "outputs": [
    {
     "name": "stdout",
     "output_type": "stream",
     "text": [
      "{1, 3, 5, 9}\n"
     ]
    }
   ],
   "source": [
    "# 差集合を計算する\n",
    "diff1 = set_a.difference(set_b)\n",
    "print(diff1)"
   ]
  },
  {
   "cell_type": "code",
   "execution_count": 57,
   "id": "71556d30",
   "metadata": {},
   "outputs": [
    {
     "name": "stdout",
     "output_type": "stream",
     "text": [
      "{1, 3, 5, 9}\n"
     ]
    }
   ],
   "source": [
    "diff2 = set_a - set_b\n",
    "print(diff2)"
   ]
  },
  {
   "cell_type": "code",
   "execution_count": 58,
   "id": "b3b3e65b",
   "metadata": {},
   "outputs": [
    {
     "data": {
      "text/plain": [
       "{1, 3, 5, 7, 9, 11, 12, 13, 14, 15}"
      ]
     },
     "execution_count": 58,
     "metadata": {},
     "output_type": "execute_result"
    }
   ],
   "source": [
    "# updateで集合を追加する\n",
    "set_a.update(set_b)\n",
    "set_a\n"
   ]
  },
  {
   "cell_type": "code",
   "execution_count": 59,
   "id": "65568166",
   "metadata": {},
   "outputs": [
    {
     "data": {
      "text/plain": [
       "{1, 3, 5, 7, 9, 10, 11, 12, 13, 14, 15}"
      ]
     },
     "execution_count": 59,
     "metadata": {},
     "output_type": "execute_result"
    }
   ],
   "source": [
    "# addで要素を追加する\n",
    "set_a.add(10)\n",
    "set_a"
   ]
  },
  {
   "cell_type": "code",
   "execution_count": 60,
   "id": "ae558544",
   "metadata": {},
   "outputs": [
    {
     "data": {
      "text/plain": [
       "{1, 3, 5, 9, 10, 11, 12, 13, 14, 15}"
      ]
     },
     "execution_count": 60,
     "metadata": {},
     "output_type": "execute_result"
    }
   ],
   "source": [
    "# removeで要素を削除する\n",
    "set_a.remove(7)\n",
    "set_a"
   ]
  },
  {
   "cell_type": "code",
   "execution_count": 61,
   "id": "72108739",
   "metadata": {},
   "outputs": [
    {
     "data": {
      "text/plain": [
       "1"
      ]
     },
     "execution_count": 61,
     "metadata": {},
     "output_type": "execute_result"
    }
   ],
   "source": [
    "# popで要素を抽出する\n",
    "b = set_a.pop()\n",
    "b"
   ]
  },
  {
   "cell_type": "code",
   "execution_count": 62,
   "id": "e5bb6632",
   "metadata": {},
   "outputs": [
    {
     "data": {
      "text/plain": [
       "{3, 5, 9, 10, 11, 12, 13, 14, 15}"
      ]
     },
     "execution_count": 62,
     "metadata": {},
     "output_type": "execute_result"
    }
   ],
   "source": [
    "set_a"
   ]
  },
  {
   "cell_type": "code",
   "execution_count": 63,
   "id": "2f6b1767",
   "metadata": {},
   "outputs": [
    {
     "name": "stdout",
     "output_type": "stream",
     "text": [
      "{7, 11, 12, 13, 14, 15}\n"
     ]
    }
   ],
   "source": [
    "# clearで全ての要素を削除する\n",
    "print(set_b)"
   ]
  },
  {
   "cell_type": "code",
   "execution_count": 64,
   "id": "0011d071",
   "metadata": {},
   "outputs": [
    {
     "name": "stdout",
     "output_type": "stream",
     "text": [
      "set()\n"
     ]
    }
   ],
   "source": [
    "set_b.clear()\n",
    "print(set_b)"
   ]
  }
 ],
 "metadata": {
  "kernelspec": {
   "display_name": "Python 3",
   "language": "python",
   "name": "python3"
  },
  "language_info": {
   "codemirror_mode": {
    "name": "ipython",
    "version": 3
   },
   "file_extension": ".py",
   "mimetype": "text/x-python",
   "name": "python",
   "nbconvert_exporter": "python",
   "pygments_lexer": "ipython3",
   "version": "3.10.4"
  }
 },
 "nbformat": 4,
 "nbformat_minor": 5
}
