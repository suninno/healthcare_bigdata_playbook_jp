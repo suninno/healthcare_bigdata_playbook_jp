{
 "cells": [
  {
   "attachments": {},
   "cell_type": "markdown",
   "metadata": {},
   "source": [
    "## 8.3 データ前処理"
   ]
  },
  {
   "cell_type": "code",
   "execution_count": 1,
   "metadata": {},
   "outputs": [
    {
     "data": {
      "text/plain": [
       "0      246717\n",
       "1      544941\n",
       "2      346536\n",
       "3      501110\n",
       "4      945249\n",
       "        ...  \n",
       "995    500668\n",
       "996    853932\n",
       "997    487128\n",
       "998    526962\n",
       "999    750780\n",
       "Length: 1000, dtype: int32"
      ]
     },
     "execution_count": 1,
     "metadata": {},
     "output_type": "execute_result"
    }
   ],
   "source": [
    "import pandas as pd\n",
    "import numpy as np\n",
    "import timeit\n",
    "\n",
    "s1 = pd.Series(np.random.randint(1_000, 1_000_000, 1_000))\n",
    "s2 = pd.Series(np.random.randint(1_000, 1_000_000, 1_000)).astype('object')\n",
    "\n",
    "def add_series(arr):\n",
    "  ret = arr\n",
    "  for x in range(100):\n",
    "    ret += x\n",
    "\n",
    "def add_series2(arr):\n",
    "  ret = arr\n",
    "  for x in range(100):\n",
    "    str_x = str(x)\n",
    "    ret += str_x\n",
    "\n",
    "s1"
   ]
  },
  {
   "cell_type": "code",
   "execution_count": 2,
   "metadata": {},
   "outputs": [
    {
     "data": {
      "text/plain": [
       "0      544817\n",
       "1      871953\n",
       "2      580343\n",
       "3      916330\n",
       "4      644225\n",
       "        ...  \n",
       "995    983726\n",
       "996    848606\n",
       "997    600940\n",
       "998    678211\n",
       "999    334833\n",
       "Length: 1000, dtype: object"
      ]
     },
     "execution_count": 2,
     "metadata": {},
     "output_type": "execute_result"
    }
   ],
   "source": [
    "s2"
   ]
  },
  {
   "cell_type": "code",
   "execution_count": 3,
   "metadata": {},
   "outputs": [
    {
     "name": "stdout",
     "output_type": "stream",
     "text": [
      "5.76 ms ± 97.4 µs per loop (mean ± std. dev. of 7 runs, 100 loops each)\n"
     ]
    }
   ],
   "source": [
    "%timeit -n 100 add_series(s1)"
   ]
  },
  {
   "cell_type": "code",
   "execution_count": 4,
   "metadata": {},
   "outputs": [
    {
     "name": "stdout",
     "output_type": "stream",
     "text": [
      "7.73 ms ± 104 µs per loop (mean ± std. dev. of 7 runs, 100 loops each)\n"
     ]
    }
   ],
   "source": [
    "%timeit -n 100 add_series(s2)"
   ]
  },
  {
   "cell_type": "code",
   "execution_count": 5,
   "metadata": {},
   "outputs": [
    {
     "data": {
      "text/plain": [
       "0      3711717\n",
       "1      4009941\n",
       "2      3811536\n",
       "3      3966110\n",
       "4      4410249\n",
       "        ...   \n",
       "995    3965668\n",
       "996    4318932\n",
       "997    3952128\n",
       "998    3991962\n",
       "999    4215780\n",
       "Length: 1000, dtype: int32"
      ]
     },
     "execution_count": 5,
     "metadata": {},
     "output_type": "execute_result"
    }
   ],
   "source": [
    "s1"
   ]
  },
  {
   "cell_type": "code",
   "execution_count": 6,
   "metadata": {},
   "outputs": [
    {
     "data": {
      "text/plain": [
       "0      4009817\n",
       "1      4336953\n",
       "2      4045343\n",
       "3      4381330\n",
       "4      4109225\n",
       "        ...   \n",
       "995    4448726\n",
       "996    4313606\n",
       "997    4065940\n",
       "998    4143211\n",
       "999    3799833\n",
       "Length: 1000, dtype: object"
      ]
     },
     "execution_count": 6,
     "metadata": {},
     "output_type": "execute_result"
    }
   ],
   "source": [
    "s2"
   ]
  },
  {
   "cell_type": "code",
   "execution_count": 7,
   "metadata": {},
   "outputs": [
    {
     "data": {
      "text/plain": [
       "4000"
      ]
     },
     "execution_count": 7,
     "metadata": {},
     "output_type": "execute_result"
    }
   ],
   "source": [
    "s1.nbytes"
   ]
  },
  {
   "cell_type": "code",
   "execution_count": 8,
   "metadata": {},
   "outputs": [
    {
     "data": {
      "text/plain": [
       "8000"
      ]
     },
     "execution_count": 8,
     "metadata": {},
     "output_type": "execute_result"
    }
   ],
   "source": [
    "s2.nbytes"
   ]
  }
 ],
 "metadata": {
  "kernelspec": {
   "display_name": "Python 3",
   "language": "python",
   "name": "python3"
  },
  "language_info": {
   "codemirror_mode": {
    "name": "ipython",
    "version": 3
   },
   "file_extension": ".py",
   "mimetype": "text/x-python",
   "name": "python",
   "nbconvert_exporter": "python",
   "pygments_lexer": "ipython3",
   "version": "3.10.4"
  },
  "orig_nbformat": 4,
  "vscode": {
   "interpreter": {
    "hash": "369f2c481f4da34e4445cda3fffd2e751bd1c4d706f27375911949ba6bb62e1c"
   }
  }
 },
 "nbformat": 4,
 "nbformat_minor": 2
}
