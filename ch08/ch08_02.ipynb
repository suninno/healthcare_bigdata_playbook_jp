{
 "cells": [
  {
   "attachments": {},
   "cell_type": "markdown",
   "metadata": {},
   "source": [
    "## 8.2 データの収集"
   ]
  },
  {
   "cell_type": "code",
   "execution_count": 1,
   "metadata": {},
   "outputs": [
    {
     "data": {
      "text/plain": [
       "(4327, 8)"
      ]
     },
     "execution_count": 1,
     "metadata": {},
     "output_type": "execute_result"
    }
   ],
   "source": [
    "import pandas as pd\n",
    "\n",
    "pd.set_option('display.notebook_repr_html', False)\n",
    "\n",
    "act = pd.read_json('MDA_act_10min.json')\n",
    "act.shape #データの構造、行列のサイズ"
   ]
  },
  {
   "cell_type": "code",
   "execution_count": 2,
   "metadata": {},
   "outputs": [
    {
     "data": {
      "text/plain": [
       "   activity_key  avg_presence  avg_people_cnt  avg_activity  max_activity  \\\n",
       "0       2769930             0               0           0.0           0.0   \n",
       "1       2769931             0               0           0.0           0.0   \n",
       "2       2769932             0               0           0.0           0.0   \n",
       "3       2769933             0               0           0.0           0.0   \n",
       "4       2769934             0               0           0.0           0.0   \n",
       "\n",
       "   cnt first_eventtime lastStatus  \n",
       "0    0                             \n",
       "1    0                             \n",
       "2    0                             \n",
       "3    0                             \n",
       "4    0                             "
      ]
     },
     "execution_count": 2,
     "metadata": {},
     "output_type": "execute_result"
    }
   ],
   "source": [
    "act.head()"
   ]
  },
  {
   "cell_type": "code",
   "execution_count": 3,
   "metadata": {},
   "outputs": [],
   "source": [
    "# CSVファイルに保存する\n",
    "act.to_csv('csv_test.csv')"
   ]
  },
  {
   "cell_type": "code",
   "execution_count": 4,
   "metadata": {},
   "outputs": [
    {
     "data": {
      "text/plain": [
       "   Unnamed: 0  activity_key  avg_presence  avg_people_cnt  avg_activity  \\\n",
       "0           0       2769930             0               0           0.0   \n",
       "1           1       2769931             0               0           0.0   \n",
       "2           2       2769932             0               0           0.0   \n",
       "3           3       2769933             0               0           0.0   \n",
       "4           4       2769934             0               0           0.0   \n",
       "\n",
       "   max_activity  cnt first_eventtime lastStatus  \n",
       "0           0.0    0             NaN        NaN  \n",
       "1           0.0    0             NaN        NaN  \n",
       "2           0.0    0             NaN        NaN  \n",
       "3           0.0    0             NaN        NaN  \n",
       "4           0.0    0             NaN        NaN  "
      ]
     },
     "execution_count": 4,
     "metadata": {},
     "output_type": "execute_result"
    }
   ],
   "source": [
    "# CSVファイルから読み込む\n",
    "df = pd.read_csv('csv_test.csv')\n",
    "df.head()"
   ]
  }
 ],
 "metadata": {
  "kernelspec": {
   "display_name": "Python 3",
   "language": "python",
   "name": "python3"
  },
  "language_info": {
   "codemirror_mode": {
    "name": "ipython",
    "version": 3
   },
   "file_extension": ".py",
   "mimetype": "text/x-python",
   "name": "python",
   "nbconvert_exporter": "python",
   "pygments_lexer": "ipython3",
   "version": "3.10.4"
  },
  "orig_nbformat": 4,
  "vscode": {
   "interpreter": {
    "hash": "369f2c481f4da34e4445cda3fffd2e751bd1c4d706f27375911949ba6bb62e1c"
   }
  }
 },
 "nbformat": 4,
 "nbformat_minor": 2
}
