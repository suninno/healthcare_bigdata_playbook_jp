{
 "cells": [
  {
   "attachments": {},
   "cell_type": "markdown",
   "id": "5e0d3fb1",
   "metadata": {},
   "source": [
    "## 5.3. ndarrayの操作"
   ]
  },
  {
   "cell_type": "markdown",
   "id": "16f70b5a",
   "metadata": {},
   "source": [
    "### 5.3.1 生成"
   ]
  },
  {
   "cell_type": "code",
   "execution_count": 1,
   "id": "92067521",
   "metadata": {},
   "outputs": [
    {
     "name": "stdout",
     "output_type": "stream",
     "text": [
      "a:  [0 1 2 3 4 5]\n",
      "type(a):  <class 'numpy.ndarray'>\n",
      "b:  [[0 1 2]\n",
      " [3 4 5]]\n",
      "c:  [[[ 0  1  2]\n",
      "  [ 3  4  5]]\n",
      "\n",
      " [[ 6  7  8]\n",
      "  [ 9 10 11]]]\n",
      "2\n",
      "2\n",
      "3\n"
     ]
    }
   ],
   "source": [
    "import numpy as np\n",
    "\n",
    "# numpy 基礎\n",
    "a = np.array([0,1,2,3,4,5]) # 1次元配列\n",
    "b = np.array([(0,1,2), (3,4,5)]) # 2次元配列\n",
    "c = np.array([[[0,1,2],\n",
    "               [3,4,5]],\n",
    "             [[6,7,8],\n",
    "               [9,10,11]]]) # 3次元配列 2x2x3\n",
    "\n",
    "print(\"a: \", a)\n",
    "print(\"type(a): \", type(a))\n",
    "print(\"b: \", b)\n",
    "print(\"c: \", c)\n",
    "\n",
    "print(len(c)) # 3次元配列の長さ\n",
    "print(len(c[0])) # 3次元配列の行\n",
    "print(len(c[0][0])) # 3次元配列の列\n"
   ]
  },
  {
   "cell_type": "code",
   "execution_count": 34,
   "id": "776002cd",
   "metadata": {},
   "outputs": [
    {
     "name": "stdout",
     "output_type": "stream",
     "text": [
      "zero1:  [0. 0. 0.]\n",
      "zero2:  [[0. 0. 0.]\n",
      " [0. 0. 0.]\n",
      " [0. 0. 0.]]\n",
      "one1:  [1. 1. 1.]\n",
      "one2:  [[1. 1. 1.]\n",
      " [1. 1. 1.]\n",
      " [1. 1. 1.]]\n",
      "arange  [0 1 2 3 4 5]\n",
      "empty(5):  [0.00000000e+000 9.09679207e-312 9.09679206e-312 9.09679207e-312\n",
      " 0.00000000e+000]\n",
      "linspace:  [1.  1.5 2. ]\n",
      "empty:  [[0.17459407 3.27734066 0.00472778]\n",
      " [0.41431432 0.17808271 0.41498564]]\n",
      "eye:  [[1. 0. 0. 0.]\n",
      " [0. 1. 0. 0.]\n",
      " [0. 0. 1. 0.]\n",
      " [0. 0. 0. 1.]]\n",
      "full:  [[20 20 20]\n",
      " [20 20 20]]\n",
      "random1:  [[0.93339554 0.43199321 0.04248375]\n",
      " [0.61767437 0.46804253 0.35681243]]\n",
      "random2:  [[-0.58238341  1.44436514 -0.17519613]\n",
      " [ 0.58740781  1.83465303  0.72616649]]\n"
     ]
    }
   ],
   "source": [
    "# 配列生成関数を使用し、配列の作成\n",
    "z1 = np.zeros(3) # '0' 3個要素の１次元配列\n",
    "z2 = np.zeros((3,3)) # '0' 3x3個要素の２次元配列\n",
    "one1 = np.ones(3)  # '1' 3個要素の１次元配列\n",
    "one2 = np.ones((3,3)) # '1' 3x3個要素の２次元配列\n",
    "\n",
    "print(\"zero1: \", z1)\n",
    "print(\"zero2: \", z2)\n",
    "print(\"one1: \", one1)\n",
    "print(\"one2: \", one2)\n",
    "\n",
    "# '0'から '6'未満まで '1'ずつ増加する１次元数列\n",
    "#　(組み込み関数rangeと類似)\n",
    "ar1 = np.arange(0, 6, 1, dtype=np.int8)\n",
    "print(\"arange \" , ar1)\n",
    "\n",
    "lin1 = np.linspace(1, 2, 3)\n",
    "\n",
    "# 初期化されていない値で配列を作成\n",
    "print(\"empty(5): \", np.empty(5))\n",
    "e1 = np.empty((2,3))\n",
    "\n",
    "# 4x4単位行列の作成\n",
    "e2 = np.eye(4)\n",
    "\n",
    "# 2x3行列を作って, 値20で全て埋める\n",
    "f1 = np.full((2,3),20)\n",
    "\n",
    "# 標準正規分布乱数\n",
    "ran1 = np.random.rand(2,3)\n",
    "# ガウス分布の‘標準正規分布’の乱数\n",
    "ran2 = np.random.randn(2,3)\n",
    "\n",
    "\n",
    "print(\"linspace: \" , lin1)\n",
    "print(\"empty: \" , e1)\n",
    "print(\"eye: \" , e2)\n",
    "print(\"full: \", f1)\n",
    "print(\"random1: \", ran1)\n",
    "print(\"random2: \", ran2)"
   ]
  },
  {
   "cell_type": "code",
   "execution_count": 35,
   "id": "a3f99a61",
   "metadata": {},
   "outputs": [
    {
     "data": {
      "text/plain": [
       "dtype('int32')"
      ]
     },
     "execution_count": 35,
     "metadata": {},
     "output_type": "execute_result"
    }
   ],
   "source": [
    "np.dtype('i4')"
   ]
  },
  {
   "cell_type": "code",
   "execution_count": 36,
   "id": "ee7474fc",
   "metadata": {},
   "outputs": [
    {
     "data": {
      "text/plain": [
       "dtype('bool')"
      ]
     },
     "execution_count": 36,
     "metadata": {},
     "output_type": "execute_result"
    }
   ],
   "source": [
    "np.dtype('?')"
   ]
  },
  {
   "attachments": {},
   "cell_type": "markdown",
   "id": "fadae2c7",
   "metadata": {},
   "source": [
    "### 5.3.3 属性：次元数と形状、データ型"
   ]
  },
  {
   "cell_type": "code",
   "execution_count": 37,
   "id": "d9c4fc7e",
   "metadata": {
    "scrolled": false
   },
   "outputs": [
    {
     "name": "stdout",
     "output_type": "stream",
     "text": [
      "1\n",
      "(6,)\n",
      "int32\n",
      "2\n",
      "(2, 3)\n",
      "3\n",
      "(2, 2, 3)\n"
     ]
    }
   ],
   "source": [
    "# 配列の形状\n",
    "print(a.ndim) # 配列の次元数または軸数\n",
    "print(a.shape) # 配列の各次元のサイズを表現\n",
    "print(a.dtype) # 配列の要素のデータ型\n",
    "\n",
    "print(b.ndim)\n",
    "print(b.shape)\n",
    "\n",
    "print(c.ndim)\n",
    "print(c.shape)"
   ]
  },
  {
   "cell_type": "code",
   "execution_count": 38,
   "id": "4ebeb96d",
   "metadata": {
    "scrolled": true
   },
   "outputs": [
    {
     "name": "stdout",
     "output_type": "stream",
     "text": [
      "6\n",
      "6\n",
      "12\n"
     ]
    }
   ],
   "source": [
    "# 配列全体要素数\n",
    "print(a.size)\n",
    "print(b.size)\n",
    "print(c.size)"
   ]
  },
  {
   "attachments": {},
   "cell_type": "markdown",
   "id": "a2acbb2d",
   "metadata": {},
   "source": [
    "### 5.3.4 転置"
   ]
  },
  {
   "cell_type": "code",
   "execution_count": 66,
   "id": "66bd7211",
   "metadata": {},
   "outputs": [
    {
     "name": "stdout",
     "output_type": "stream",
     "text": [
      "[0 1 2 3 4 5]\n",
      "[0 1 2 3 4 5]\n",
      "[[0 3]\n",
      " [1 4]\n",
      " [2 5]]\n"
     ]
    }
   ],
   "source": [
    "# 配列の転置（行と列を反転）\n",
    "print(a)\n",
    "print(a.T) # 転置、同じ結果\n",
    "print(b.T) # 転置、行と列が反転します"
   ]
  },
  {
   "cell_type": "code",
   "execution_count": 67,
   "id": "2d7e074c",
   "metadata": {},
   "outputs": [
    {
     "data": {
      "text/plain": [
       "array([[[ 0,  3],\n",
       "        [ 1,  4],\n",
       "        [ 2,  5]],\n",
       "\n",
       "       [[ 6,  9],\n",
       "        [ 7, 10],\n",
       "        [ 8, 11]]])"
      ]
     },
     "execution_count": 67,
     "metadata": {},
     "output_type": "execute_result"
    }
   ],
   "source": [
    "c.transpose(0,2,1) # 最初の次元をそのままにし、2番目と3番目の軸を変更"
   ]
  },
  {
   "cell_type": "code",
   "execution_count": 41,
   "id": "ebeed410",
   "metadata": {},
   "outputs": [
    {
     "data": {
      "text/plain": [
       "array([[[ 0,  1,  2],\n",
       "        [ 6,  7,  8]],\n",
       "\n",
       "       [[ 3,  4,  5],\n",
       "        [ 9, 10, 11]]])"
      ]
     },
     "execution_count": 41,
     "metadata": {},
     "output_type": "execute_result"
    }
   ],
   "source": [
    "c.swapaxes(0,1) # 3番目の次元をそのままにし、1番目と2番目の軸を変更"
   ]
  },
  {
   "attachments": {},
   "cell_type": "markdown",
   "id": "52505337",
   "metadata": {},
   "source": [
    "### 5.3.5 インデキシングとスライシング"
   ]
  },
  {
   "cell_type": "code",
   "execution_count": 42,
   "id": "79f21174",
   "metadata": {
    "scrolled": true
   },
   "outputs": [
    {
     "name": "stdout",
     "output_type": "stream",
     "text": [
      "1\n",
      "5\n",
      "4\n"
     ]
    }
   ],
   "source": [
    "# 配列インデキシング\n",
    "print(b[0, 1]) # bの2次元配列の最初の行の2番目の列\n",
    "print(b[1, 2]) # bの2次元配列の2番目の行の3番目の列\n",
    "print(c[0,1,1]) # cの3次元配列の最初の次元の2番目の行、2番目の列"
   ]
  },
  {
   "cell_type": "code",
   "execution_count": 43,
   "id": "deae71af",
   "metadata": {
    "scrolled": true
   },
   "outputs": [
    {
     "name": "stdout",
     "output_type": "stream",
     "text": [
      "[[0 1]\n",
      " [3 4]]\n"
     ]
    }
   ],
   "source": [
    "# 配列スライシング\n",
    "print(c[0, :2, :2]) # cの3次元配列の最初の次元から2番目の行まで、2番目の列まで"
   ]
  },
  {
   "attachments": {},
   "cell_type": "markdown",
   "id": "dd3423d7",
   "metadata": {},
   "source": [
    "### 5.3.6 配列の形状を変更する"
   ]
  },
  {
   "cell_type": "code",
   "execution_count": 44,
   "id": "45ce459d",
   "metadata": {
    "scrolled": true
   },
   "outputs": [
    {
     "name": "stdout",
     "output_type": "stream",
     "text": [
      "[[0 1 2]\n",
      " [3 4 5]]\n"
     ]
    }
   ],
   "source": [
    "b = np.array([(0,1,2), (3,4,5)], dtype=\"uint8\") # 2次元配列\n",
    "print(b)"
   ]
  },
  {
   "cell_type": "code",
   "execution_count": 45,
   "id": "b90643cd",
   "metadata": {},
   "outputs": [
    {
     "data": {
      "text/plain": [
       "array([[0, 1],\n",
       "       [2, 3],\n",
       "       [4, 5]], dtype=uint8)"
      ]
     },
     "execution_count": 45,
     "metadata": {},
     "output_type": "execute_result"
    }
   ],
   "source": [
    "# 配列の形状を変更する\n",
    "b.reshape(3,2)"
   ]
  },
  {
   "attachments": {},
   "cell_type": "markdown",
   "id": "910928b2",
   "metadata": {},
   "source": [
    "### 5.3.7 fancy indexing(ファンシ ー インデキシング)"
   ]
  },
  {
   "cell_type": "code",
   "execution_count": 46,
   "id": "a1084d2c",
   "metadata": {},
   "outputs": [
    {
     "data": {
      "text/plain": [
       "array([[[ 0,  1,  2],\n",
       "        [ 3,  4,  5]],\n",
       "\n",
       "       [[ 6,  7,  8],\n",
       "        [ 9, 10, 11]],\n",
       "\n",
       "       [[12, 13, 14],\n",
       "        [15, 16, 17]]], dtype=uint8)"
      ]
     },
     "execution_count": 46,
     "metadata": {},
     "output_type": "execute_result"
    }
   ],
   "source": [
    "import numpy as np\n",
    "\n",
    "fancy_arr = np.arange(3*3*2, dtype=\"uint8\")\n",
    "fancy_arr = fancy_arr.reshape(3,2,3)\n",
    "fancy_arr"
   ]
  },
  {
   "cell_type": "code",
   "execution_count": 47,
   "id": "60626e9c",
   "metadata": {},
   "outputs": [
    {
     "data": {
      "text/plain": [
       "array([[3, 4, 5]], dtype=uint8)"
      ]
     },
     "execution_count": 47,
     "metadata": {},
     "output_type": "execute_result"
    }
   ],
   "source": [
    "# fancy indexing\n",
    "# 1次元目の最初の要素から2番目の配列\n",
    "fancy_arr[[0],[1]]"
   ]
  },
  {
   "cell_type": "code",
   "execution_count": 48,
   "id": "692379d5",
   "metadata": {},
   "outputs": [
    {
     "data": {
      "text/plain": [
       "array([5, 4, 3], dtype=uint8)"
      ]
     },
     "execution_count": 48,
     "metadata": {},
     "output_type": "execute_result"
    }
   ],
   "source": [
    "fancy_arr[[0],[1],[2,1,0]]"
   ]
  },
  {
   "cell_type": "code",
   "execution_count": 49,
   "id": "530f4ca8",
   "metadata": {},
   "outputs": [
    {
     "data": {
      "text/plain": [
       "array([14, 13, 12], dtype=uint8)"
      ]
     },
     "execution_count": 49,
     "metadata": {},
     "output_type": "execute_result"
    }
   ],
   "source": [
    "fancy_arr[[-1],[0],[2,1,0]]"
   ]
  },
  {
   "attachments": {},
   "cell_type": "markdown",
   "id": "7e37c40f",
   "metadata": {},
   "source": [
    "### 5.3.8 配列の算術演算"
   ]
  },
  {
   "cell_type": "code",
   "execution_count": 50,
   "id": "c192a174",
   "metadata": {},
   "outputs": [
    {
     "data": {
      "text/plain": [
       "array([[0.45637349, 0.78044259, 0.17314826],\n",
       "       [0.65807256, 0.38453913, 0.36835133]])"
      ]
     },
     "execution_count": 50,
     "metadata": {},
     "output_type": "execute_result"
    }
   ],
   "source": [
    "# 配列の算術\n",
    "arr1 = np.random.rand(2,3)\n",
    "arr1"
   ]
  },
  {
   "cell_type": "code",
   "execution_count": 51,
   "id": "ad163426",
   "metadata": {},
   "outputs": [
    {
     "data": {
      "text/plain": [
       "array([[-1.56396201,  0.50636468, -1.26811836],\n",
       "       [-2.17016288, -0.26192206, -0.23538259]])"
      ]
     },
     "execution_count": 51,
     "metadata": {},
     "output_type": "execute_result"
    }
   ],
   "source": [
    "arr2 = np.random.randn(2,3)\n",
    "arr2"
   ]
  },
  {
   "cell_type": "code",
   "execution_count": 52,
   "id": "c7a6f908",
   "metadata": {},
   "outputs": [
    {
     "data": {
      "text/plain": [
       "array([[-0.71375081,  0.39518857, -0.21957249],\n",
       "       [-1.42812463, -0.10071928, -0.08670349]])"
      ]
     },
     "execution_count": 52,
     "metadata": {},
     "output_type": "execute_result"
    }
   ],
   "source": [
    "arr3 = arr1 * arr2\n",
    "arr3\n"
   ]
  },
  {
   "cell_type": "code",
   "execution_count": 53,
   "id": "bd9d6dd1",
   "metadata": {},
   "outputs": [
    {
     "data": {
      "text/plain": [
       "array([[2., 2., 2.],\n",
       "       [2., 2., 2.]])"
      ]
     },
     "execution_count": 53,
     "metadata": {},
     "output_type": "execute_result"
    }
   ],
   "source": [
    "arr4 = np.ones((2,3)) * 2 # 全ての要素を２倍する\n",
    "arr4\n"
   ]
  },
  {
   "cell_type": "code",
   "execution_count": 54,
   "id": "ca638e28",
   "metadata": {},
   "outputs": [
    {
     "data": {
      "text/plain": [
       "array([[2.44597717, 0.25640519, 1.60812416],\n",
       "       [4.70960692, 0.06860316, 0.05540496]])"
      ]
     },
     "execution_count": 54,
     "metadata": {},
     "output_type": "execute_result"
    }
   ],
   "source": [
    "arr2 ** 2 # 全ての要素を２乗する"
   ]
  },
  {
   "attachments": {},
   "cell_type": "markdown",
   "id": "27dcdab1",
   "metadata": {},
   "source": [
    "### 5.3.9  配列の結合と分割"
   ]
  },
  {
   "cell_type": "code",
   "execution_count": 55,
   "id": "4198f9b0",
   "metadata": {},
   "outputs": [
    {
     "data": {
      "text/plain": [
       "array([[0, 1, 2],\n",
       "       [3, 4, 5],\n",
       "       [0, 1, 2],\n",
       "       [3, 4, 5]], dtype=uint8)"
      ]
     },
     "execution_count": 55,
     "metadata": {},
     "output_type": "execute_result"
    }
   ],
   "source": [
    "# 配列の結合\n",
    "np.concatenate([b,b])"
   ]
  },
  {
   "cell_type": "code",
   "execution_count": 56,
   "id": "b07703bc",
   "metadata": {},
   "outputs": [
    {
     "data": {
      "text/plain": [
       "array([[0, 1, 2, 0, 1, 2],\n",
       "       [3, 4, 5, 3, 4, 5]], dtype=uint8)"
      ]
     },
     "execution_count": 56,
     "metadata": {},
     "output_type": "execute_result"
    }
   ],
   "source": [
    "# 列基準の配列結合\n",
    "np.concatenate([b,b], axis=1)"
   ]
  },
  {
   "cell_type": "code",
   "execution_count": 57,
   "id": "79f5d06e",
   "metadata": {},
   "outputs": [
    {
     "data": {
      "text/plain": [
       "array([[ 0,  1,  2,  3],\n",
       "       [ 4,  5,  6,  7],\n",
       "       [10, 11, 12, 13],\n",
       "       [14, 15, 16, 17]], dtype=uint8)"
      ]
     },
     "execution_count": 57,
     "metadata": {},
     "output_type": "execute_result"
    }
   ],
   "source": [
    "a1 = np.array([(0,1,2,3), (4,5,6,7)] , dtype=\"uint8\") # 2次元配列\n",
    "b1 = np.array([(10,11,12,13), (14,15,16,17)] , dtype=\"uint8\") # 2次元配列\n",
    "\n",
    "# 行基準で結合\n",
    "np.vstack((a1,b1))"
   ]
  },
  {
   "cell_type": "code",
   "execution_count": 58,
   "id": "1a5f61d1",
   "metadata": {},
   "outputs": [
    {
     "data": {
      "text/plain": [
       "array([[ 0,  1,  2,  3, 10, 11, 12, 13],\n",
       "       [ 4,  5,  6,  7, 14, 15, 16, 17]], dtype=uint8)"
      ]
     },
     "execution_count": 58,
     "metadata": {},
     "output_type": "execute_result"
    }
   ],
   "source": [
    "# 列基準で結合\n",
    "np.hstack((a1,b1))"
   ]
  },
  {
   "cell_type": "code",
   "execution_count": 59,
   "id": "f7505514",
   "metadata": {
    "scrolled": true
   },
   "outputs": [
    {
     "data": {
      "text/plain": [
       "[array([[0, 1, 2, 3]], dtype=uint8), array([[4, 5, 6, 7]], dtype=uint8)]"
      ]
     },
     "execution_count": 59,
     "metadata": {},
     "output_type": "execute_result"
    }
   ],
   "source": [
    "b2 = np.array([(0,1,2,3), (4,5,6,7)] , dtype=\"uint8\") # 2次元配列\n",
    "\n",
    "# 行基準で2部分に分割\n",
    "np.split(b2,2)"
   ]
  },
  {
   "cell_type": "code",
   "execution_count": 60,
   "id": "0d668efb",
   "metadata": {
    "scrolled": true
   },
   "outputs": [
    {
     "data": {
      "text/plain": [
       "[array([[0, 1, 2, 3]], dtype=uint8), array([[4, 5, 6, 7]], dtype=uint8)]"
      ]
     },
     "execution_count": 60,
     "metadata": {},
     "output_type": "execute_result"
    }
   ],
   "source": [
    "# 行基準で2部分に分割\n",
    "np.vsplit(b2,2)"
   ]
  },
  {
   "cell_type": "code",
   "execution_count": 61,
   "id": "9f8fc049",
   "metadata": {
    "scrolled": true
   },
   "outputs": [
    {
     "data": {
      "text/plain": [
       "[array([[0, 1],\n",
       "        [4, 5]], dtype=uint8),\n",
       " array([[2, 3],\n",
       "        [6, 7]], dtype=uint8)]"
      ]
     },
     "execution_count": 61,
     "metadata": {},
     "output_type": "execute_result"
    }
   ],
   "source": [
    "# 列基準で2部分に分割\n",
    "np.hsplit(b2,2)"
   ]
  },
  {
   "attachments": {},
   "cell_type": "markdown",
   "id": "eb44dbd2",
   "metadata": {},
   "source": [
    "### 5.3.10 条件文による配列の抽出"
   ]
  },
  {
   "cell_type": "code",
   "execution_count": 62,
   "id": "ddf552e2",
   "metadata": {},
   "outputs": [
    {
     "data": {
      "text/plain": [
       "array([[0.84449122, 0.45176813, 0.33361295],\n",
       "       [0.10220427, 0.6477398 , 0.67518911]])"
      ]
     },
     "execution_count": 62,
     "metadata": {},
     "output_type": "execute_result"
    }
   ],
   "source": [
    "arr1 = np.random.rand(2,3)\n",
    "arr2 = np.random.randn(2,3)\n",
    "arr2 = arr2 ** 2\n",
    "\n",
    "arr2"
   ]
  },
  {
   "cell_type": "code",
   "execution_count": 63,
   "id": "1de13492",
   "metadata": {
    "scrolled": true
   },
   "outputs": [
    {
     "data": {
      "text/plain": [
       "array([], dtype=float64)"
      ]
     },
     "execution_count": 63,
     "metadata": {},
     "output_type": "execute_result"
    }
   ],
   "source": [
    "# 条件、arr2 配列要素の中で、１より大きい数のみ抽出\n",
    "arr2[ arr2 > 1]"
   ]
  },
  {
   "cell_type": "code",
   "execution_count": 64,
   "id": "2593e590",
   "metadata": {},
   "outputs": [
    {
     "data": {
      "text/plain": [
       "(array([], dtype=int64), array([], dtype=int64))"
      ]
     },
     "execution_count": 64,
     "metadata": {},
     "output_type": "execute_result"
    }
   ],
   "source": [
    "# 条件に合致するインデックスを出力\n",
    "np.where( arr2 > 1)"
   ]
  },
  {
   "cell_type": "code",
   "execution_count": 65,
   "id": "80ead0ff",
   "metadata": {
    "scrolled": true
   },
   "outputs": [
    {
     "data": {
      "text/plain": [
       "array([['0.33411969707582023', '0.06606890004699895',\n",
       "        '0.5259292959307359'],\n",
       "       ['0.2507424139894304', '0.26620559746011396',\n",
       "        '0.044029892867933684']], dtype='<U32')"
      ]
     },
     "execution_count": 65,
     "metadata": {},
     "output_type": "execute_result"
    }
   ],
   "source": [
    "# 条件に合致する場合には「Yes」と出力\n",
    "np.where( arr2 > 1, 'Yes', arr1)"
   ]
  }
 ],
 "metadata": {
  "kernelspec": {
   "display_name": "Python 3",
   "language": "python",
   "name": "python3"
  },
  "language_info": {
   "codemirror_mode": {
    "name": "ipython",
    "version": 3
   },
   "file_extension": ".py",
   "mimetype": "text/x-python",
   "name": "python",
   "nbconvert_exporter": "python",
   "pygments_lexer": "ipython3",
   "version": "3.10.4"
  }
 },
 "nbformat": 4,
 "nbformat_minor": 5
}
