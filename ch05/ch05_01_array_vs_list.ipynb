{
 "cells": [
  {
   "attachments": {},
   "cell_type": "markdown",
   "id": "d4ba7da0",
   "metadata": {},
   "source": [
    "# 5 NumPyの基礎と活用"
   ]
  },
  {
   "attachments": {},
   "cell_type": "markdown",
   "id": "4c035098",
   "metadata": {},
   "source": [
    "## 5.1 Pythonのリストと配列"
   ]
  },
  {
   "cell_type": "code",
   "execution_count": 1,
   "id": "71d21c2e",
   "metadata": {},
   "outputs": [],
   "source": [
    "# %memit マジックコマンドの使用のためにメモリプロファイラをロードします\n",
    "%load_ext memory_profiler"
   ]
  },
  {
   "cell_type": "code",
   "execution_count": 2,
   "id": "65ea6cb0",
   "metadata": {},
   "outputs": [],
   "source": [
    "# listで1000万の要素のループ処理\n",
    "\n",
    "import numpy as np\n",
    "\n",
    "def list_1000man():\n",
    "  # 1000万個\n",
    "  a_list = list(np.arange(10_000_000))\n",
    "  b = 0\n",
    "  for a in a_list:\n",
    "    b += a"
   ]
  },
  {
   "cell_type": "code",
   "execution_count": 3,
   "id": "b5db1f91",
   "metadata": {},
   "outputs": [
    {
     "name": "stderr",
     "output_type": "stream",
     "text": [
      "C:\\Users\\sunin\\AppData\\Local\\Temp\\ipykernel_37048\\1586483312.py:10: RuntimeWarning: overflow encountered in long_scalars\n",
      "  b += a\n"
     ]
    },
    {
     "name": "stdout",
     "output_type": "stream",
     "text": [
      "peak memory: 458.16 MiB, increment: 384.42 MiB\n"
     ]
    }
   ],
   "source": [
    "%memit list_1000man()"
   ]
  },
  {
   "cell_type": "code",
   "execution_count": 4,
   "id": "7b0663fa",
   "metadata": {},
   "outputs": [],
   "source": [
    "# arrayで1000万の要素のループ処理\n",
    "import array\n",
    "\n",
    "def arr_1000man():\n",
    "  # 1000万個\n",
    "  a_list = array.array(\"i\", np.arange(10_000_000))\n",
    "  b = 0\n",
    "  for a in a_list:\n",
    "    b += a"
   ]
  },
  {
   "cell_type": "code",
   "execution_count": 5,
   "id": "77dbad8f",
   "metadata": {},
   "outputs": [
    {
     "name": "stdout",
     "output_type": "stream",
     "text": [
      "peak memory: 149.65 MiB, increment: 73.73 MiB\n"
     ]
    }
   ],
   "source": [
    "%memit arr_1000man()"
   ]
  }
 ],
 "metadata": {
  "kernelspec": {
   "display_name": "Python 3",
   "language": "python",
   "name": "python3"
  },
  "language_info": {
   "codemirror_mode": {
    "name": "ipython",
    "version": 3
   },
   "file_extension": ".py",
   "mimetype": "text/x-python",
   "name": "python",
   "nbconvert_exporter": "python",
   "pygments_lexer": "ipython3",
   "version": "3.10.4"
  },
  "vscode": {
   "interpreter": {
    "hash": "369f2c481f4da34e4445cda3fffd2e751bd1c4d706f27375911949ba6bb62e1c"
   }
  }
 },
 "nbformat": 4,
 "nbformat_minor": 5
}
