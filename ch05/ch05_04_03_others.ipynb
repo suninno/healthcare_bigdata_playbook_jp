{
 "cells": [
  {
   "attachments": {},
   "cell_type": "markdown",
   "id": "f04d866a",
   "metadata": {},
   "source": [
    "### 5.4.3 合計、平均、標準偏差、分散、累積値の計算"
   ]
  },
  {
   "cell_type": "code",
   "execution_count": 1,
   "id": "90bc0071",
   "metadata": {},
   "outputs": [
    {
     "data": {
      "text/plain": [
       "array([[1, 2, 3],\n",
       "       [4, 5, 6]])"
      ]
     },
     "execution_count": 1,
     "metadata": {},
     "output_type": "execute_result"
    }
   ],
   "source": [
    "import numpy as np\n",
    "x = np.arange(1,7).reshape((2,3))\n",
    "x"
   ]
  },
  {
   "cell_type": "code",
   "execution_count": 2,
   "id": "e63bd202",
   "metadata": {},
   "outputs": [
    {
     "data": {
      "text/plain": [
       "21"
      ]
     },
     "execution_count": 2,
     "metadata": {},
     "output_type": "execute_result"
    }
   ],
   "source": [
    "# 配列要素の合計を計算する\n",
    "np.sum(x) # = x.sum()"
   ]
  },
  {
   "cell_type": "code",
   "execution_count": 3,
   "id": "691e3168",
   "metadata": {},
   "outputs": [
    {
     "data": {
      "text/plain": [
       "3.5"
      ]
     },
     "execution_count": 3,
     "metadata": {},
     "output_type": "execute_result"
    }
   ],
   "source": [
    "# 配列要素の平均を計算する\n",
    "np.mean(x) # = x.mean()"
   ]
  },
  {
   "cell_type": "code",
   "execution_count": 4,
   "id": "bcb0e66b",
   "metadata": {},
   "outputs": [
    {
     "data": {
      "text/plain": [
       "1.707825127659933"
      ]
     },
     "execution_count": 4,
     "metadata": {},
     "output_type": "execute_result"
    }
   ],
   "source": [
    "# 配列要素の標準偏差を計算する\n",
    "np.std(x)"
   ]
  },
  {
   "cell_type": "code",
   "execution_count": 5,
   "id": "6c154790",
   "metadata": {},
   "outputs": [
    {
     "data": {
      "text/plain": [
       "2.9166666666666665"
      ]
     },
     "execution_count": 5,
     "metadata": {},
     "output_type": "execute_result"
    }
   ],
   "source": [
    "# 配列要素の分散を計算する\n",
    "np.var(x)\n"
   ]
  },
  {
   "cell_type": "code",
   "execution_count": 6,
   "id": "4c165373",
   "metadata": {},
   "outputs": [
    {
     "data": {
      "text/plain": [
       "array([ 1,  3,  6, 10, 15, 21])"
      ]
     },
     "execution_count": 6,
     "metadata": {},
     "output_type": "execute_result"
    }
   ],
   "source": [
    "# 指定された軸に沿って配列要素の累積和を計算する\n",
    "np.cumsum(x) # = x.comsum()\n"
   ]
  },
  {
   "cell_type": "code",
   "execution_count": 7,
   "id": "be070b2c",
   "metadata": {},
   "outputs": [
    {
     "data": {
      "text/plain": [
       "array([  1,   2,   6,  24, 120, 720])"
      ]
     },
     "execution_count": 7,
     "metadata": {},
     "output_type": "execute_result"
    }
   ],
   "source": [
    "# 指定された軸に沿って配列要素の累積積を計算する\n",
    "np.cumprod(x)"
   ]
  },
  {
   "attachments": {},
   "cell_type": "markdown",
   "id": "05f9cd77",
   "metadata": {},
   "source": [
    "### 5.4.4 乱数の生成"
   ]
  },
  {
   "cell_type": "code",
   "execution_count": 8,
   "id": "4d42fc20",
   "metadata": {},
   "outputs": [
    {
     "data": {
      "text/plain": [
       "array([[0.83960794, 0.47024329, 0.2844517 , 0.25398158],\n",
       "       [0.61418091, 0.45363166, 0.19454765, 0.54728142],\n",
       "       [0.31283623, 0.36369834, 0.09710925, 0.79378215]])"
      ]
     },
     "execution_count": 8,
     "metadata": {},
     "output_type": "execute_result"
    }
   ],
   "source": [
    "import numpy as np\n",
    "\n",
    "np.random.rand(3,4)"
   ]
  },
  {
   "cell_type": "code",
   "execution_count": 9,
   "id": "93c7a5e0",
   "metadata": {},
   "outputs": [
    {
     "data": {
      "text/plain": [
       "1"
      ]
     },
     "execution_count": 9,
     "metadata": {},
     "output_type": "execute_result"
    }
   ],
   "source": [
    "np.random.randint(4) # [0,4) 範囲乱数"
   ]
  },
  {
   "cell_type": "code",
   "execution_count": 10,
   "id": "31ab484d",
   "metadata": {},
   "outputs": [
    {
     "data": {
      "text/plain": [
       "3"
      ]
     },
     "execution_count": 10,
     "metadata": {},
     "output_type": "execute_result"
    }
   ],
   "source": [
    "np.random.randint(1,4) # [1,4) 範囲乱数"
   ]
  },
  {
   "cell_type": "code",
   "execution_count": 11,
   "id": "c3c16be0",
   "metadata": {},
   "outputs": [
    {
     "data": {
      "text/plain": [
       "array([3, 2, 2, 1, 1, 1, 1, 2, 3, 2])"
      ]
     },
     "execution_count": 11,
     "metadata": {},
     "output_type": "execute_result"
    }
   ],
   "source": [
    "np.random.randint(1,4, size=10) # [0,4) 範囲１０個乱数"
   ]
  },
  {
   "cell_type": "code",
   "execution_count": 12,
   "id": "4e6068c8",
   "metadata": {},
   "outputs": [
    {
     "data": {
      "text/plain": [
       "array([[-2.21807065,  0.34260139, -0.50467019],\n",
       "       [-1.12486876,  1.07755937, -0.84733045]])"
      ]
     },
     "execution_count": 12,
     "metadata": {},
     "output_type": "execute_result"
    }
   ],
   "source": [
    "np.random.randn(2,3)"
   ]
  },
  {
   "cell_type": "code",
   "execution_count": 13,
   "id": "47959fc2",
   "metadata": {},
   "outputs": [
    {
     "data": {
      "text/plain": [
       "array([[ 0.10288134,  0.34849574, -0.41742992],\n",
       "       [ 0.96958089,  2.02255172,  0.4459961 ]])"
      ]
     },
     "execution_count": 13,
     "metadata": {},
     "output_type": "execute_result"
    }
   ],
   "source": [
    "np.random.standard_normal((2,3))"
   ]
  },
  {
   "cell_type": "code",
   "execution_count": 14,
   "id": "b5b1fa13",
   "metadata": {},
   "outputs": [
    {
     "data": {
      "text/plain": [
       "array([[ 1.35760411,  0.3258781 ,  2.08662496],\n",
       "       [-0.88482516, -1.10482041,  3.51026817],\n",
       "       [ 1.03637471,  1.56238646,  0.09969951]])"
      ]
     },
     "execution_count": 14,
     "metadata": {},
     "output_type": "execute_result"
    }
   ],
   "source": [
    "np.random.normal(1,1,size=(3,3))"
   ]
  }
 ],
 "metadata": {
  "kernelspec": {
   "display_name": "Python 3",
   "language": "python",
   "name": "python3"
  },
  "language_info": {
   "codemirror_mode": {
    "name": "ipython",
    "version": 3
   },
   "file_extension": ".py",
   "mimetype": "text/x-python",
   "name": "python",
   "nbconvert_exporter": "python",
   "pygments_lexer": "ipython3",
   "version": "3.10.4"
  }
 },
 "nbformat": 4,
 "nbformat_minor": 5
}
