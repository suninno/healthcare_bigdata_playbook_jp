{
 "cells": [
  {
   "attachments": {},
   "cell_type": "markdown",
   "id": "5e888845",
   "metadata": {},
   "source": [
    "## 5.4 ユニバーサル関数"
   ]
  },
  {
   "cell_type": "code",
   "execution_count": 1,
   "id": "14849e7e",
   "metadata": {},
   "outputs": [],
   "source": [
    "import numpy as np\n",
    "\n",
    "def cal_add(val1, val2):\n",
    "  res = np.zeros(val1.shape)\n",
    "  rows, cols = val1.shape\n",
    "\n",
    "  for i in range(rows):\n",
    "    for j in range(cols):\n",
    "      res[i][j] = val1[i][j] + val2[i][j]\n",
    "\n",
    "  return res\n",
    "\n",
    "\"\"\"\n",
    "Pythonには定数という概念は存在しません。そのため、変数と定数を区別するために、\n",
    "変数は小文字、定数は大文字で表記することが一般的です。\n",
    "\"\"\"\n",
    "\n",
    "ROWS = 1_000\n",
    "COLS = 1_000\n",
    "\n",
    "sample1 = np.random.rand(ROWS,COLS)\n",
    "sample2 = np.random.rand(ROWS,COLS)"
   ]
  },
  {
   "cell_type": "code",
   "execution_count": 2,
   "id": "45fd514d",
   "metadata": {},
   "outputs": [
    {
     "name": "stdout",
     "output_type": "stream",
     "text": [
      "608 ms ± 3.55 ms per loop (mean ± std. dev. of 7 runs, 1 loop each)\n"
     ]
    }
   ],
   "source": [
    "%%timeit\n",
    "cal_add(sample1, sample2)"
   ]
  },
  {
   "cell_type": "code",
   "execution_count": 3,
   "id": "0e742e35",
   "metadata": {
    "scrolled": true
   },
   "outputs": [],
   "source": [
    "%timeit\n",
    "res2 = ( sample1 + sample2) # res2 = np.add(sample1, sample2)と同じ"
   ]
  },
  {
   "cell_type": "code",
   "execution_count": 4,
   "id": "4ea5033e",
   "metadata": {},
   "outputs": [],
   "source": [
    "# モジュールを呼び出す\n",
    "%load_ext memory_profiler"
   ]
  },
  {
   "cell_type": "code",
   "execution_count": 5,
   "id": "45709efa",
   "metadata": {},
   "outputs": [
    {
     "name": "stdout",
     "output_type": "stream",
     "text": [
      "peak memory: 105.09 MiB, increment: 8.00 MiB\n"
     ]
    }
   ],
   "source": [
    "%memit cal_add(sample1, sample2)"
   ]
  },
  {
   "cell_type": "code",
   "execution_count": 6,
   "id": "76c46412",
   "metadata": {},
   "outputs": [
    {
     "name": "stdout",
     "output_type": "stream",
     "text": [
      "peak memory: 98.55 MiB, increment: 0.01 MiB\n"
     ]
    }
   ],
   "source": [
    "%memit np.add(sample1, sample2)"
   ]
  }
 ],
 "metadata": {
  "kernelspec": {
   "display_name": "Python 3",
   "language": "python",
   "name": "python3"
  },
  "language_info": {
   "codemirror_mode": {
    "name": "ipython",
    "version": 3
   },
   "file_extension": ".py",
   "mimetype": "text/x-python",
   "name": "python",
   "nbconvert_exporter": "python",
   "pygments_lexer": "ipython3",
   "version": "3.10.4"
  }
 },
 "nbformat": 4,
 "nbformat_minor": 5
}
