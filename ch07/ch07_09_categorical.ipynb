{
 "cells": [
  {
   "attachments": {},
   "cell_type": "markdown",
   "metadata": {},
   "source": [
    "## 7.9 カテゴリー(分類)データの扱い方"
   ]
  },
  {
   "cell_type": "code",
   "execution_count": 1,
   "metadata": {},
   "outputs": [
    {
     "data": {
      "text/plain": [
       "                     timestamp   X    Y    Z\n",
       "0      2022-01-01 00:01:40.363  33   76   56\n",
       "1      2022-01-01 00:01:42.961  34   87   56\n",
       "2      2022-01-01 00:01:45.562  25   89   47\n",
       "3      2022-01-01 00:01:48.163  11   70   50\n",
       "4      2022-01-01 00:02:08.864  33   72   58\n",
       "...                        ...  ..  ...  ...\n",
       "66276  2022-01-31 23:28:00.481 -91  143  136\n",
       "66277  2022-01-31 23:28:41.683 -89  145  138\n",
       "66278  2022-01-31 23:28:49.383 -93  138  137\n",
       "66279  2022-01-31 23:32:36.426 -93  131  137\n",
       "66280  2022-01-31 23:32:44.126 -91  129  138\n",
       "\n",
       "[66281 rows x 4 columns]"
      ]
     },
     "execution_count": 1,
     "metadata": {},
     "output_type": "execute_result"
    }
   ],
   "source": [
    "import pandas as pd\n",
    "import numpy as np\n",
    "\n",
    "pd.set_option('display.notebook_repr_html', False)\n",
    "\n",
    "df = pd.read_csv('OTg6QzA_activities.csv')\n",
    "df"
   ]
  },
  {
   "cell_type": "code",
   "execution_count": 2,
   "metadata": {},
   "outputs": [
    {
     "data": {
      "text/plain": [
       "                     timestamp   X    Y    Z quadrant\n",
       "0      2022-01-01 00:01:40.363  33   76   56      4th\n",
       "1      2022-01-01 00:01:42.961  34   87   56      4th\n",
       "2      2022-01-01 00:01:45.562  25   89   47      4th\n",
       "3      2022-01-01 00:01:48.163  11   70   50      4th\n",
       "4      2022-01-01 00:02:08.864  33   72   58      4th\n",
       "...                        ...  ..  ...  ...      ...\n",
       "66276  2022-01-31 23:28:00.481 -91  143  136      3rd\n",
       "66277  2022-01-31 23:28:41.683 -89  145  138      3rd\n",
       "66278  2022-01-31 23:28:49.383 -93  138  137      3rd\n",
       "66279  2022-01-31 23:32:36.426 -93  131  137      3rd\n",
       "66280  2022-01-31 23:32:44.126 -91  129  138      3rd\n",
       "\n",
       "[66281 rows x 5 columns]"
      ]
     },
     "execution_count": 2,
     "metadata": {},
     "output_type": "execute_result"
    }
   ],
   "source": [
    "# (x,y)=(0, 200)を基準に象限を決める\n",
    "def make_quadrant(df):\n",
    "  if df['X'] >= 0 and df['Y'] >= 200:\n",
    "    return \"1st\"\n",
    "  elif df['X'] < 0 and df['Y'] >= 200:\n",
    "    return \"2nd\"\n",
    "  elif df['X'] < 0 and df['Y'] < 200:\n",
    "    return \"3rd\"\n",
    "  elif df['X'] >= 0 and df['Y'] < 200:\n",
    "    return \"4th\"\n",
    "  else:\n",
    "    return \"others\"\n",
    "\n",
    "df['quadrant'] = df.apply(make_quadrant, axis=1)\n",
    "df"
   ]
  },
  {
   "cell_type": "code",
   "execution_count": 3,
   "metadata": {},
   "outputs": [],
   "source": [
    "df['quadrant_cat'] = df['quadrant'].astype('category')"
   ]
  },
  {
   "cell_type": "code",
   "execution_count": 4,
   "metadata": {},
   "outputs": [
    {
     "data": {
      "text/plain": [
       "timestamp         object\n",
       "X                  int64\n",
       "Y                  int64\n",
       "Z                  int64\n",
       "quadrant          object\n",
       "quadrant_cat    category\n",
       "dtype: object"
      ]
     },
     "execution_count": 4,
     "metadata": {},
     "output_type": "execute_result"
    }
   ],
   "source": [
    "df.dtypes"
   ]
  },
  {
   "cell_type": "code",
   "execution_count": 5,
   "metadata": {},
   "outputs": [
    {
     "data": {
      "text/plain": [
       "530248"
      ]
     },
     "execution_count": 5,
     "metadata": {},
     "output_type": "execute_result"
    }
   ],
   "source": [
    "df['quadrant'].nbytes"
   ]
  },
  {
   "cell_type": "code",
   "execution_count": 6,
   "metadata": {},
   "outputs": [
    {
     "data": {
      "text/plain": [
       "66313"
      ]
     },
     "execution_count": 6,
     "metadata": {},
     "output_type": "execute_result"
    }
   ],
   "source": [
    "df['quadrant_cat'].nbytes"
   ]
  },
  {
   "cell_type": "code",
   "execution_count": 7,
   "metadata": {},
   "outputs": [
    {
     "data": {
      "text/plain": [
       "0.12506034911965722"
      ]
     },
     "execution_count": 7,
     "metadata": {},
     "output_type": "execute_result"
    }
   ],
   "source": [
    "df['quadrant_cat'].nbytes/df['quadrant'].nbytes"
   ]
  },
  {
   "cell_type": "code",
   "execution_count": 8,
   "metadata": {},
   "outputs": [
    {
     "data": {
      "text/plain": [
       "0        3\n",
       "1        3\n",
       "2        3\n",
       "3        3\n",
       "4        3\n",
       "        ..\n",
       "66276    2\n",
       "66277    2\n",
       "66278    2\n",
       "66279    2\n",
       "66280    2\n",
       "Length: 66281, dtype: int8"
      ]
     },
     "execution_count": 8,
     "metadata": {},
     "output_type": "execute_result"
    }
   ],
   "source": [
    "df['quadrant_cat'].cat.codes"
   ]
  },
  {
   "cell_type": "code",
   "execution_count": 9,
   "metadata": {},
   "outputs": [
    {
     "data": {
      "text/plain": [
       "Index(['1st', '2nd', '3rd', '4th'], dtype='object')"
      ]
     },
     "execution_count": 9,
     "metadata": {},
     "output_type": "execute_result"
    }
   ],
   "source": [
    "df['quadrant_cat'].cat.categories"
   ]
  },
  {
   "cell_type": "code",
   "execution_count": 10,
   "metadata": {},
   "outputs": [
    {
     "data": {
      "text/plain": [
       "array([3, 2, 0, 1], dtype=int8)"
      ]
     },
     "execution_count": 10,
     "metadata": {},
     "output_type": "execute_result"
    }
   ],
   "source": [
    "df['quadrant_cat'].cat.codes.unique()"
   ]
  },
  {
   "cell_type": "code",
   "execution_count": 11,
   "metadata": {},
   "outputs": [
    {
     "name": "stdout",
     "output_type": "stream",
     "text": [
      "Q1st : 1\n",
      "Q2dn : 2\n",
      "Q3rd : 3\n",
      "Q4th : 4\n",
      "Others : 5\n"
     ]
    }
   ],
   "source": [
    "from enum import Enum\n",
    "class Quadrant(Enum):\n",
    "  Q1st = 1\n",
    "  Q2dn = 2\n",
    "  Q3rd = 3\n",
    "  Q4th = 4\n",
    "  Others = 5\n",
    "\n",
    "  def __lt__(self, other):\n",
    "    if self.__class__ is other.__class__:\n",
    "      return self.value < other.value\n",
    "    return NotImplemented\n",
    "\n",
    "for q in Quadrant:\n",
    "  print(q.name + \" : \" + str(q.value))"
   ]
  },
  {
   "cell_type": "code",
   "execution_count": 12,
   "metadata": {},
   "outputs": [
    {
     "data": {
      "text/plain": [
       "                     timestamp   X    Y    Z quadrant quadrant_cat  \\\n",
       "0      2022-01-01 00:01:40.363  33   76   56      4th          4th   \n",
       "1      2022-01-01 00:01:42.961  34   87   56      4th          4th   \n",
       "2      2022-01-01 00:01:45.562  25   89   47      4th          4th   \n",
       "3      2022-01-01 00:01:48.163  11   70   50      4th          4th   \n",
       "4      2022-01-01 00:02:08.864  33   72   58      4th          4th   \n",
       "...                        ...  ..  ...  ...      ...          ...   \n",
       "66276  2022-01-31 23:28:00.481 -91  143  136      3rd          3rd   \n",
       "66277  2022-01-31 23:28:41.683 -89  145  138      3rd          3rd   \n",
       "66278  2022-01-31 23:28:49.383 -93  138  137      3rd          3rd   \n",
       "66279  2022-01-31 23:32:36.426 -93  131  137      3rd          3rd   \n",
       "66280  2022-01-31 23:32:44.126 -91  129  138      3rd          3rd   \n",
       "\n",
       "       quadrant_enum  \n",
       "0      Quadrant.Q4th  \n",
       "1      Quadrant.Q4th  \n",
       "2      Quadrant.Q4th  \n",
       "3      Quadrant.Q4th  \n",
       "4      Quadrant.Q4th  \n",
       "...              ...  \n",
       "66276  Quadrant.Q3rd  \n",
       "66277  Quadrant.Q3rd  \n",
       "66278  Quadrant.Q3rd  \n",
       "66279  Quadrant.Q3rd  \n",
       "66280  Quadrant.Q3rd  \n",
       "\n",
       "[66281 rows x 7 columns]"
      ]
     },
     "execution_count": 12,
     "metadata": {},
     "output_type": "execute_result"
    }
   ],
   "source": [
    "# (x, y) = (0, 200)を基準に象限を決定する\n",
    "def make_quadrant_with_enum(df):\n",
    "  if df['X'] >= 0 and df['Y'] >= 200:\n",
    "    return Quadrant.Q1st\n",
    "  elif df['X'] < 0 and df['Y'] >= 200:\n",
    "    return Quadrant.Q2dn\n",
    "  elif df['X'] < 0 and df['Y'] < 200:\n",
    "    return Quadrant.Q3rd\n",
    "  elif df['X'] >= 0 and df['Y'] < 200:\n",
    "    return Quadrant.Q4th\n",
    "  else:\n",
    "    return Quadrant.Others\n",
    "\n",
    "df['quadrant_enum'] = df.apply(make_quadrant_with_enum, axis=1)\n",
    "df"
   ]
  },
  {
   "cell_type": "code",
   "execution_count": 13,
   "metadata": {},
   "outputs": [
    {
     "data": {
      "text/plain": [
       "timestamp          object\n",
       "X                   int64\n",
       "Y                   int64\n",
       "Z                   int64\n",
       "quadrant           object\n",
       "quadrant_cat     category\n",
       "quadrant_enum      object\n",
       "dtype: object"
      ]
     },
     "execution_count": 13,
     "metadata": {},
     "output_type": "execute_result"
    }
   ],
   "source": [
    "df.dtypes"
   ]
  },
  {
   "cell_type": "code",
   "execution_count": 14,
   "metadata": {},
   "outputs": [
    {
     "data": {
      "text/plain": [
       "530248"
      ]
     },
     "execution_count": 14,
     "metadata": {},
     "output_type": "execute_result"
    }
   ],
   "source": [
    "df['quadrant_enum'].nbytes"
   ]
  },
  {
   "cell_type": "code",
   "execution_count": 15,
   "metadata": {},
   "outputs": [
    {
     "data": {
      "text/plain": [
       "'Q4th'"
      ]
     },
     "execution_count": 15,
     "metadata": {},
     "output_type": "execute_result"
    }
   ],
   "source": [
    "df['quadrant_enum'].iloc[0].name"
   ]
  },
  {
   "cell_type": "code",
   "execution_count": 16,
   "metadata": {},
   "outputs": [
    {
     "data": {
      "text/plain": [
       "4"
      ]
     },
     "execution_count": 16,
     "metadata": {},
     "output_type": "execute_result"
    }
   ],
   "source": [
    "df['quadrant_enum'].iloc[0].value"
   ]
  },
  {
   "cell_type": "code",
   "execution_count": 17,
   "metadata": {},
   "outputs": [
    {
     "data": {
      "text/plain": [
       "timestamp          object\n",
       "X                   int64\n",
       "Y                   int64\n",
       "Z                   int64\n",
       "quadrant           object\n",
       "quadrant_cat     category\n",
       "quadrant_enum      object\n",
       "dtype: object"
      ]
     },
     "execution_count": 17,
     "metadata": {},
     "output_type": "execute_result"
    }
   ],
   "source": [
    "df.dtypes"
   ]
  },
  {
   "cell_type": "code",
   "execution_count": 18,
   "metadata": {},
   "outputs": [
    {
     "name": "stderr",
     "output_type": "stream",
     "text": [
      "<magic-timeit>:1: FutureWarning: ['timestamp', 'quadrant_cat', 'quadrant_enum'] did not aggregate successfully. If any error is raised this will raise in a future version of pandas. Drop these columns/ops to avoid this warning.\n",
      "<magic-timeit>:1: FutureWarning: ['timestamp', 'quadrant_cat', 'quadrant_enum'] did not aggregate successfully. If any error is raised this will raise in a future version of pandas. Drop these columns/ops to avoid this warning.\n",
      "<magic-timeit>:1: FutureWarning: ['timestamp', 'quadrant_cat', 'quadrant_enum'] did not aggregate successfully. If any error is raised this will raise in a future version of pandas. Drop these columns/ops to avoid this warning.\n",
      "<magic-timeit>:1: FutureWarning: ['timestamp', 'quadrant_cat', 'quadrant_enum'] did not aggregate successfully. If any error is raised this will raise in a future version of pandas. Drop these columns/ops to avoid this warning.\n",
      "<magic-timeit>:1: FutureWarning: ['timestamp', 'quadrant_cat', 'quadrant_enum'] did not aggregate successfully. If any error is raised this will raise in a future version of pandas. Drop these columns/ops to avoid this warning.\n"
     ]
    },
    {
     "name": "stderr",
     "output_type": "stream",
     "text": [
      "<magic-timeit>:1: FutureWarning: ['timestamp', 'quadrant_cat', 'quadrant_enum'] did not aggregate successfully. If any error is raised this will raise in a future version of pandas. Drop these columns/ops to avoid this warning.\n",
      "<magic-timeit>:1: FutureWarning: ['timestamp', 'quadrant_cat', 'quadrant_enum'] did not aggregate successfully. If any error is raised this will raise in a future version of pandas. Drop these columns/ops to avoid this warning.\n",
      "<magic-timeit>:1: FutureWarning: ['timestamp', 'quadrant_cat', 'quadrant_enum'] did not aggregate successfully. If any error is raised this will raise in a future version of pandas. Drop these columns/ops to avoid this warning.\n",
      "<magic-timeit>:1: FutureWarning: ['timestamp', 'quadrant_cat', 'quadrant_enum'] did not aggregate successfully. If any error is raised this will raise in a future version of pandas. Drop these columns/ops to avoid this warning.\n",
      "<magic-timeit>:1: FutureWarning: ['timestamp', 'quadrant_cat', 'quadrant_enum'] did not aggregate successfully. If any error is raised this will raise in a future version of pandas. Drop these columns/ops to avoid this warning.\n",
      "<magic-timeit>:1: FutureWarning: ['timestamp', 'quadrant_cat', 'quadrant_enum'] did not aggregate successfully. If any error is raised this will raise in a future version of pandas. Drop these columns/ops to avoid this warning.\n",
      "<magic-timeit>:1: FutureWarning: ['timestamp', 'quadrant_cat', 'quadrant_enum'] did not aggregate successfully. If any error is raised this will raise in a future version of pandas. Drop these columns/ops to avoid this warning.\n",
      "<magic-timeit>:1: FutureWarning: ['timestamp', 'quadrant_cat', 'quadrant_enum'] did not aggregate successfully. If any error is raised this will raise in a future version of pandas. Drop these columns/ops to avoid this warning.\n",
      "<magic-timeit>:1: FutureWarning: ['timestamp', 'quadrant_cat', 'quadrant_enum'] did not aggregate successfully. If any error is raised this will raise in a future version of pandas. Drop these columns/ops to avoid this warning.\n",
      "<magic-timeit>:1: FutureWarning: ['timestamp', 'quadrant_cat', 'quadrant_enum'] did not aggregate successfully. If any error is raised this will raise in a future version of pandas. Drop these columns/ops to avoid this warning.\n",
      "<magic-timeit>:1: FutureWarning: ['timestamp', 'quadrant_cat', 'quadrant_enum'] did not aggregate successfully. If any error is raised this will raise in a future version of pandas. Drop these columns/ops to avoid this warning.\n",
      "<magic-timeit>:1: FutureWarning: ['timestamp', 'quadrant_cat', 'quadrant_enum'] did not aggregate successfully. If any error is raised this will raise in a future version of pandas. Drop these columns/ops to avoid this warning.\n",
      "<magic-timeit>:1: FutureWarning: ['timestamp', 'quadrant_cat', 'quadrant_enum'] did not aggregate successfully. If any error is raised this will raise in a future version of pandas. Drop these columns/ops to avoid this warning.\n",
      "<magic-timeit>:1: FutureWarning: ['timestamp', 'quadrant_cat', 'quadrant_enum'] did not aggregate successfully. If any error is raised this will raise in a future version of pandas. Drop these columns/ops to avoid this warning.\n",
      "<magic-timeit>:1: FutureWarning: ['timestamp', 'quadrant_cat', 'quadrant_enum'] did not aggregate successfully. If any error is raised this will raise in a future version of pandas. Drop these columns/ops to avoid this warning.\n",
      "<magic-timeit>:1: FutureWarning: ['timestamp', 'quadrant_cat', 'quadrant_enum'] did not aggregate successfully. If any error is raised this will raise in a future version of pandas. Drop these columns/ops to avoid this warning.\n",
      "<magic-timeit>:1: FutureWarning: ['timestamp', 'quadrant_cat', 'quadrant_enum'] did not aggregate successfully. If any error is raised this will raise in a future version of pandas. Drop these columns/ops to avoid this warning.\n",
      "<magic-timeit>:1: FutureWarning: ['timestamp', 'quadrant_cat', 'quadrant_enum'] did not aggregate successfully. If any error is raised this will raise in a future version of pandas. Drop these columns/ops to avoid this warning.\n",
      "<magic-timeit>:1: FutureWarning: ['timestamp', 'quadrant_cat', 'quadrant_enum'] did not aggregate successfully. If any error is raised this will raise in a future version of pandas. Drop these columns/ops to avoid this warning.\n",
      "<magic-timeit>:1: FutureWarning: ['timestamp', 'quadrant_cat', 'quadrant_enum'] did not aggregate successfully. If any error is raised this will raise in a future version of pandas. Drop these columns/ops to avoid this warning.\n",
      "<magic-timeit>:1: FutureWarning: ['timestamp', 'quadrant_cat', 'quadrant_enum'] did not aggregate successfully. If any error is raised this will raise in a future version of pandas. Drop these columns/ops to avoid this warning.\n",
      "<magic-timeit>:1: FutureWarning: ['timestamp', 'quadrant_cat', 'quadrant_enum'] did not aggregate successfully. If any error is raised this will raise in a future version of pandas. Drop these columns/ops to avoid this warning.\n",
      "<magic-timeit>:1: FutureWarning: ['timestamp', 'quadrant_cat', 'quadrant_enum'] did not aggregate successfully. If any error is raised this will raise in a future version of pandas. Drop these columns/ops to avoid this warning.\n",
      "<magic-timeit>:1: FutureWarning: ['timestamp', 'quadrant_cat', 'quadrant_enum'] did not aggregate successfully. If any error is raised this will raise in a future version of pandas. Drop these columns/ops to avoid this warning.\n",
      "<magic-timeit>:1: FutureWarning: ['timestamp', 'quadrant_cat', 'quadrant_enum'] did not aggregate successfully. If any error is raised this will raise in a future version of pandas. Drop these columns/ops to avoid this warning.\n",
      "<magic-timeit>:1: FutureWarning: ['timestamp', 'quadrant_cat', 'quadrant_enum'] did not aggregate successfully. If any error is raised this will raise in a future version of pandas. Drop these columns/ops to avoid this warning.\n",
      "<magic-timeit>:1: FutureWarning: ['timestamp', 'quadrant_cat', 'quadrant_enum'] did not aggregate successfully. If any error is raised this will raise in a future version of pandas. Drop these columns/ops to avoid this warning.\n",
      "<magic-timeit>:1: FutureWarning: ['timestamp', 'quadrant_cat', 'quadrant_enum'] did not aggregate successfully. If any error is raised this will raise in a future version of pandas. Drop these columns/ops to avoid this warning.\n",
      "<magic-timeit>:1: FutureWarning: ['timestamp', 'quadrant_cat', 'quadrant_enum'] did not aggregate successfully. If any error is raised this will raise in a future version of pandas. Drop these columns/ops to avoid this warning.\n",
      "<magic-timeit>:1: FutureWarning: ['timestamp', 'quadrant_cat', 'quadrant_enum'] did not aggregate successfully. If any error is raised this will raise in a future version of pandas. Drop these columns/ops to avoid this warning.\n",
      "<magic-timeit>:1: FutureWarning: ['timestamp', 'quadrant_cat', 'quadrant_enum'] did not aggregate successfully. If any error is raised this will raise in a future version of pandas. Drop these columns/ops to avoid this warning.\n",
      "<magic-timeit>:1: FutureWarning: ['timestamp', 'quadrant_cat', 'quadrant_enum'] did not aggregate successfully. If any error is raised this will raise in a future version of pandas. Drop these columns/ops to avoid this warning.\n",
      "<magic-timeit>:1: FutureWarning: ['timestamp', 'quadrant_cat', 'quadrant_enum'] did not aggregate successfully. If any error is raised this will raise in a future version of pandas. Drop these columns/ops to avoid this warning.\n",
      "<magic-timeit>:1: FutureWarning: ['timestamp', 'quadrant_cat', 'quadrant_enum'] did not aggregate successfully. If any error is raised this will raise in a future version of pandas. Drop these columns/ops to avoid this warning.\n",
      "<magic-timeit>:1: FutureWarning: ['timestamp', 'quadrant_cat', 'quadrant_enum'] did not aggregate successfully. If any error is raised this will raise in a future version of pandas. Drop these columns/ops to avoid this warning.\n",
      "<magic-timeit>:1: FutureWarning: ['timestamp', 'quadrant_cat', 'quadrant_enum'] did not aggregate successfully. If any error is raised this will raise in a future version of pandas. Drop these columns/ops to avoid this warning.\n",
      "<magic-timeit>:1: FutureWarning: ['timestamp', 'quadrant_cat', 'quadrant_enum'] did not aggregate successfully. If any error is raised this will raise in a future version of pandas. Drop these columns/ops to avoid this warning.\n",
      "<magic-timeit>:1: FutureWarning: ['timestamp', 'quadrant_cat', 'quadrant_enum'] did not aggregate successfully. If any error is raised this will raise in a future version of pandas. Drop these columns/ops to avoid this warning.\n",
      "<magic-timeit>:1: FutureWarning: ['timestamp', 'quadrant_cat', 'quadrant_enum'] did not aggregate successfully. If any error is raised this will raise in a future version of pandas. Drop these columns/ops to avoid this warning.\n",
      "<magic-timeit>:1: FutureWarning: ['timestamp', 'quadrant_cat', 'quadrant_enum'] did not aggregate successfully. If any error is raised this will raise in a future version of pandas. Drop these columns/ops to avoid this warning.\n",
      "<magic-timeit>:1: FutureWarning: ['timestamp', 'quadrant_cat', 'quadrant_enum'] did not aggregate successfully. If any error is raised this will raise in a future version of pandas. Drop these columns/ops to avoid this warning.\n",
      "<magic-timeit>:1: FutureWarning: ['timestamp', 'quadrant_cat', 'quadrant_enum'] did not aggregate successfully. If any error is raised this will raise in a future version of pandas. Drop these columns/ops to avoid this warning.\n",
      "<magic-timeit>:1: FutureWarning: ['timestamp', 'quadrant_cat', 'quadrant_enum'] did not aggregate successfully. If any error is raised this will raise in a future version of pandas. Drop these columns/ops to avoid this warning.\n",
      "<magic-timeit>:1: FutureWarning: ['timestamp', 'quadrant_cat', 'quadrant_enum'] did not aggregate successfully. If any error is raised this will raise in a future version of pandas. Drop these columns/ops to avoid this warning.\n",
      "<magic-timeit>:1: FutureWarning: ['timestamp', 'quadrant_cat', 'quadrant_enum'] did not aggregate successfully. If any error is raised this will raise in a future version of pandas. Drop these columns/ops to avoid this warning.\n",
      "<magic-timeit>:1: FutureWarning: ['timestamp', 'quadrant_cat', 'quadrant_enum'] did not aggregate successfully. If any error is raised this will raise in a future version of pandas. Drop these columns/ops to avoid this warning.\n",
      "<magic-timeit>:1: FutureWarning: ['timestamp', 'quadrant_cat', 'quadrant_enum'] did not aggregate successfully. If any error is raised this will raise in a future version of pandas. Drop these columns/ops to avoid this warning.\n",
      "<magic-timeit>:1: FutureWarning: ['timestamp', 'quadrant_cat', 'quadrant_enum'] did not aggregate successfully. If any error is raised this will raise in a future version of pandas. Drop these columns/ops to avoid this warning.\n",
      "<magic-timeit>:1: FutureWarning: ['timestamp', 'quadrant_cat', 'quadrant_enum'] did not aggregate successfully. If any error is raised this will raise in a future version of pandas. Drop these columns/ops to avoid this warning.\n",
      "<magic-timeit>:1: FutureWarning: ['timestamp', 'quadrant_cat', 'quadrant_enum'] did not aggregate successfully. If any error is raised this will raise in a future version of pandas. Drop these columns/ops to avoid this warning.\n",
      "<magic-timeit>:1: FutureWarning: ['timestamp', 'quadrant_cat', 'quadrant_enum'] did not aggregate successfully. If any error is raised this will raise in a future version of pandas. Drop these columns/ops to avoid this warning.\n",
      "<magic-timeit>:1: FutureWarning: ['timestamp', 'quadrant_cat', 'quadrant_enum'] did not aggregate successfully. If any error is raised this will raise in a future version of pandas. Drop these columns/ops to avoid this warning.\n",
      "<magic-timeit>:1: FutureWarning: ['timestamp', 'quadrant_cat', 'quadrant_enum'] did not aggregate successfully. If any error is raised this will raise in a future version of pandas. Drop these columns/ops to avoid this warning.\n",
      "<magic-timeit>:1: FutureWarning: ['timestamp', 'quadrant_cat', 'quadrant_enum'] did not aggregate successfully. If any error is raised this will raise in a future version of pandas. Drop these columns/ops to avoid this warning.\n",
      "<magic-timeit>:1: FutureWarning: ['timestamp', 'quadrant_cat', 'quadrant_enum'] did not aggregate successfully. If any error is raised this will raise in a future version of pandas. Drop these columns/ops to avoid this warning.\n",
      "<magic-timeit>:1: FutureWarning: ['timestamp', 'quadrant_cat', 'quadrant_enum'] did not aggregate successfully. If any error is raised this will raise in a future version of pandas. Drop these columns/ops to avoid this warning.\n",
      "<magic-timeit>:1: FutureWarning: ['timestamp', 'quadrant_cat', 'quadrant_enum'] did not aggregate successfully. If any error is raised this will raise in a future version of pandas. Drop these columns/ops to avoid this warning.\n",
      "<magic-timeit>:1: FutureWarning: ['timestamp', 'quadrant_cat', 'quadrant_enum'] did not aggregate successfully. If any error is raised this will raise in a future version of pandas. Drop these columns/ops to avoid this warning.\n",
      "<magic-timeit>:1: FutureWarning: ['timestamp', 'quadrant_cat', 'quadrant_enum'] did not aggregate successfully. If any error is raised this will raise in a future version of pandas. Drop these columns/ops to avoid this warning.\n",
      "<magic-timeit>:1: FutureWarning: ['timestamp', 'quadrant_cat', 'quadrant_enum'] did not aggregate successfully. If any error is raised this will raise in a future version of pandas. Drop these columns/ops to avoid this warning.\n",
      "<magic-timeit>:1: FutureWarning: ['timestamp', 'quadrant_cat', 'quadrant_enum'] did not aggregate successfully. If any error is raised this will raise in a future version of pandas. Drop these columns/ops to avoid this warning.\n",
      "<magic-timeit>:1: FutureWarning: ['timestamp', 'quadrant_cat', 'quadrant_enum'] did not aggregate successfully. If any error is raised this will raise in a future version of pandas. Drop these columns/ops to avoid this warning.\n",
      "<magic-timeit>:1: FutureWarning: ['timestamp', 'quadrant_cat', 'quadrant_enum'] did not aggregate successfully. If any error is raised this will raise in a future version of pandas. Drop these columns/ops to avoid this warning.\n",
      "<magic-timeit>:1: FutureWarning: ['timestamp', 'quadrant_cat', 'quadrant_enum'] did not aggregate successfully. If any error is raised this will raise in a future version of pandas. Drop these columns/ops to avoid this warning.\n",
      "<magic-timeit>:1: FutureWarning: ['timestamp', 'quadrant_cat', 'quadrant_enum'] did not aggregate successfully. If any error is raised this will raise in a future version of pandas. Drop these columns/ops to avoid this warning.\n",
      "<magic-timeit>:1: FutureWarning: ['timestamp', 'quadrant_cat', 'quadrant_enum'] did not aggregate successfully. If any error is raised this will raise in a future version of pandas. Drop these columns/ops to avoid this warning.\n",
      "<magic-timeit>:1: FutureWarning: ['timestamp', 'quadrant_cat', 'quadrant_enum'] did not aggregate successfully. If any error is raised this will raise in a future version of pandas. Drop these columns/ops to avoid this warning.\n",
      "<magic-timeit>:1: FutureWarning: ['timestamp', 'quadrant_cat', 'quadrant_enum'] did not aggregate successfully. If any error is raised this will raise in a future version of pandas. Drop these columns/ops to avoid this warning.\n",
      "<magic-timeit>:1: FutureWarning: ['timestamp', 'quadrant_cat', 'quadrant_enum'] did not aggregate successfully. If any error is raised this will raise in a future version of pandas. Drop these columns/ops to avoid this warning.\n",
      "<magic-timeit>:1: FutureWarning: ['timestamp', 'quadrant_cat', 'quadrant_enum'] did not aggregate successfully. If any error is raised this will raise in a future version of pandas. Drop these columns/ops to avoid this warning.\n",
      "<magic-timeit>:1: FutureWarning: ['timestamp', 'quadrant_cat', 'quadrant_enum'] did not aggregate successfully. If any error is raised this will raise in a future version of pandas. Drop these columns/ops to avoid this warning.\n"
     ]
    },
    {
     "name": "stdout",
     "output_type": "stream",
     "text": [
      "39.4 ms ± 1.1 ms per loop (mean ± std. dev. of 7 runs, 10 loops each)\n"
     ]
    },
    {
     "name": "stderr",
     "output_type": "stream",
     "text": [
      "<magic-timeit>:1: FutureWarning: ['timestamp', 'quadrant_cat', 'quadrant_enum'] did not aggregate successfully. If any error is raised this will raise in a future version of pandas. Drop these columns/ops to avoid this warning.\n",
      "<magic-timeit>:1: FutureWarning: ['timestamp', 'quadrant_cat', 'quadrant_enum'] did not aggregate successfully. If any error is raised this will raise in a future version of pandas. Drop these columns/ops to avoid this warning.\n",
      "<magic-timeit>:1: FutureWarning: ['timestamp', 'quadrant_cat', 'quadrant_enum'] did not aggregate successfully. If any error is raised this will raise in a future version of pandas. Drop these columns/ops to avoid this warning.\n",
      "<magic-timeit>:1: FutureWarning: ['timestamp', 'quadrant_cat', 'quadrant_enum'] did not aggregate successfully. If any error is raised this will raise in a future version of pandas. Drop these columns/ops to avoid this warning.\n",
      "<magic-timeit>:1: FutureWarning: ['timestamp', 'quadrant_cat', 'quadrant_enum'] did not aggregate successfully. If any error is raised this will raise in a future version of pandas. Drop these columns/ops to avoid this warning.\n"
     ]
    }
   ],
   "source": [
    "%%timeit\n",
    "df.groupby('quadrant').agg(['count', 'mean', 'median'])"
   ]
  },
  {
   "cell_type": "code",
   "execution_count": 19,
   "metadata": {},
   "outputs": [
    {
     "name": "stderr",
     "output_type": "stream",
     "text": [
      "<magic-timeit>:1: FutureWarning: ['timestamp', 'quadrant', 'quadrant_enum'] did not aggregate successfully. If any error is raised this will raise in a future version of pandas. Drop these columns/ops to avoid this warning.\n",
      "<magic-timeit>:1: FutureWarning: ['timestamp', 'quadrant', 'quadrant_enum'] did not aggregate successfully. If any error is raised this will raise in a future version of pandas. Drop these columns/ops to avoid this warning.\n",
      "<magic-timeit>:1: FutureWarning: ['timestamp', 'quadrant', 'quadrant_enum'] did not aggregate successfully. If any error is raised this will raise in a future version of pandas. Drop these columns/ops to avoid this warning.\n",
      "<magic-timeit>:1: FutureWarning: ['timestamp', 'quadrant', 'quadrant_enum'] did not aggregate successfully. If any error is raised this will raise in a future version of pandas. Drop these columns/ops to avoid this warning.\n",
      "<magic-timeit>:1: FutureWarning: ['timestamp', 'quadrant', 'quadrant_enum'] did not aggregate successfully. If any error is raised this will raise in a future version of pandas. Drop these columns/ops to avoid this warning.\n",
      "<magic-timeit>:1: FutureWarning: ['timestamp', 'quadrant', 'quadrant_enum'] did not aggregate successfully. If any error is raised this will raise in a future version of pandas. Drop these columns/ops to avoid this warning.\n",
      "<magic-timeit>:1: FutureWarning: ['timestamp', 'quadrant', 'quadrant_enum'] did not aggregate successfully. If any error is raised this will raise in a future version of pandas. Drop these columns/ops to avoid this warning.\n",
      "<magic-timeit>:1: FutureWarning: ['timestamp', 'quadrant', 'quadrant_enum'] did not aggregate successfully. If any error is raised this will raise in a future version of pandas. Drop these columns/ops to avoid this warning.\n",
      "<magic-timeit>:1: FutureWarning: ['timestamp', 'quadrant', 'quadrant_enum'] did not aggregate successfully. If any error is raised this will raise in a future version of pandas. Drop these columns/ops to avoid this warning.\n",
      "<magic-timeit>:1: FutureWarning: ['timestamp', 'quadrant', 'quadrant_enum'] did not aggregate successfully. If any error is raised this will raise in a future version of pandas. Drop these columns/ops to avoid this warning.\n",
      "<magic-timeit>:1: FutureWarning: ['timestamp', 'quadrant', 'quadrant_enum'] did not aggregate successfully. If any error is raised this will raise in a future version of pandas. Drop these columns/ops to avoid this warning.\n",
      "<magic-timeit>:1: FutureWarning: ['timestamp', 'quadrant', 'quadrant_enum'] did not aggregate successfully. If any error is raised this will raise in a future version of pandas. Drop these columns/ops to avoid this warning.\n",
      "<magic-timeit>:1: FutureWarning: ['timestamp', 'quadrant', 'quadrant_enum'] did not aggregate successfully. If any error is raised this will raise in a future version of pandas. Drop these columns/ops to avoid this warning.\n",
      "<magic-timeit>:1: FutureWarning: ['timestamp', 'quadrant', 'quadrant_enum'] did not aggregate successfully. If any error is raised this will raise in a future version of pandas. Drop these columns/ops to avoid this warning.\n",
      "<magic-timeit>:1: FutureWarning: ['timestamp', 'quadrant', 'quadrant_enum'] did not aggregate successfully. If any error is raised this will raise in a future version of pandas. Drop these columns/ops to avoid this warning.\n",
      "<magic-timeit>:1: FutureWarning: ['timestamp', 'quadrant', 'quadrant_enum'] did not aggregate successfully. If any error is raised this will raise in a future version of pandas. Drop these columns/ops to avoid this warning.\n",
      "<magic-timeit>:1: FutureWarning: ['timestamp', 'quadrant', 'quadrant_enum'] did not aggregate successfully. If any error is raised this will raise in a future version of pandas. Drop these columns/ops to avoid this warning.\n",
      "<magic-timeit>:1: FutureWarning: ['timestamp', 'quadrant', 'quadrant_enum'] did not aggregate successfully. If any error is raised this will raise in a future version of pandas. Drop these columns/ops to avoid this warning.\n",
      "<magic-timeit>:1: FutureWarning: ['timestamp', 'quadrant', 'quadrant_enum'] did not aggregate successfully. If any error is raised this will raise in a future version of pandas. Drop these columns/ops to avoid this warning.\n",
      "<magic-timeit>:1: FutureWarning: ['timestamp', 'quadrant', 'quadrant_enum'] did not aggregate successfully. If any error is raised this will raise in a future version of pandas. Drop these columns/ops to avoid this warning.\n",
      "<magic-timeit>:1: FutureWarning: ['timestamp', 'quadrant', 'quadrant_enum'] did not aggregate successfully. If any error is raised this will raise in a future version of pandas. Drop these columns/ops to avoid this warning.\n",
      "<magic-timeit>:1: FutureWarning: ['timestamp', 'quadrant', 'quadrant_enum'] did not aggregate successfully. If any error is raised this will raise in a future version of pandas. Drop these columns/ops to avoid this warning.\n",
      "<magic-timeit>:1: FutureWarning: ['timestamp', 'quadrant', 'quadrant_enum'] did not aggregate successfully. If any error is raised this will raise in a future version of pandas. Drop these columns/ops to avoid this warning.\n",
      "<magic-timeit>:1: FutureWarning: ['timestamp', 'quadrant', 'quadrant_enum'] did not aggregate successfully. If any error is raised this will raise in a future version of pandas. Drop these columns/ops to avoid this warning.\n",
      "<magic-timeit>:1: FutureWarning: ['timestamp', 'quadrant', 'quadrant_enum'] did not aggregate successfully. If any error is raised this will raise in a future version of pandas. Drop these columns/ops to avoid this warning.\n",
      "<magic-timeit>:1: FutureWarning: ['timestamp', 'quadrant', 'quadrant_enum'] did not aggregate successfully. If any error is raised this will raise in a future version of pandas. Drop these columns/ops to avoid this warning.\n",
      "<magic-timeit>:1: FutureWarning: ['timestamp', 'quadrant', 'quadrant_enum'] did not aggregate successfully. If any error is raised this will raise in a future version of pandas. Drop these columns/ops to avoid this warning.\n",
      "<magic-timeit>:1: FutureWarning: ['timestamp', 'quadrant', 'quadrant_enum'] did not aggregate successfully. If any error is raised this will raise in a future version of pandas. Drop these columns/ops to avoid this warning.\n",
      "<magic-timeit>:1: FutureWarning: ['timestamp', 'quadrant', 'quadrant_enum'] did not aggregate successfully. If any error is raised this will raise in a future version of pandas. Drop these columns/ops to avoid this warning.\n",
      "<magic-timeit>:1: FutureWarning: ['timestamp', 'quadrant', 'quadrant_enum'] did not aggregate successfully. If any error is raised this will raise in a future version of pandas. Drop these columns/ops to avoid this warning.\n",
      "<magic-timeit>:1: FutureWarning: ['timestamp', 'quadrant', 'quadrant_enum'] did not aggregate successfully. If any error is raised this will raise in a future version of pandas. Drop these columns/ops to avoid this warning.\n",
      "<magic-timeit>:1: FutureWarning: ['timestamp', 'quadrant', 'quadrant_enum'] did not aggregate successfully. If any error is raised this will raise in a future version of pandas. Drop these columns/ops to avoid this warning.\n",
      "<magic-timeit>:1: FutureWarning: ['timestamp', 'quadrant', 'quadrant_enum'] did not aggregate successfully. If any error is raised this will raise in a future version of pandas. Drop these columns/ops to avoid this warning.\n",
      "<magic-timeit>:1: FutureWarning: ['timestamp', 'quadrant', 'quadrant_enum'] did not aggregate successfully. If any error is raised this will raise in a future version of pandas. Drop these columns/ops to avoid this warning.\n",
      "<magic-timeit>:1: FutureWarning: ['timestamp', 'quadrant', 'quadrant_enum'] did not aggregate successfully. If any error is raised this will raise in a future version of pandas. Drop these columns/ops to avoid this warning.\n",
      "<magic-timeit>:1: FutureWarning: ['timestamp', 'quadrant', 'quadrant_enum'] did not aggregate successfully. If any error is raised this will raise in a future version of pandas. Drop these columns/ops to avoid this warning.\n",
      "<magic-timeit>:1: FutureWarning: ['timestamp', 'quadrant', 'quadrant_enum'] did not aggregate successfully. If any error is raised this will raise in a future version of pandas. Drop these columns/ops to avoid this warning.\n",
      "<magic-timeit>:1: FutureWarning: ['timestamp', 'quadrant', 'quadrant_enum'] did not aggregate successfully. If any error is raised this will raise in a future version of pandas. Drop these columns/ops to avoid this warning.\n",
      "<magic-timeit>:1: FutureWarning: ['timestamp', 'quadrant', 'quadrant_enum'] did not aggregate successfully. If any error is raised this will raise in a future version of pandas. Drop these columns/ops to avoid this warning.\n",
      "<magic-timeit>:1: FutureWarning: ['timestamp', 'quadrant', 'quadrant_enum'] did not aggregate successfully. If any error is raised this will raise in a future version of pandas. Drop these columns/ops to avoid this warning.\n",
      "<magic-timeit>:1: FutureWarning: ['timestamp', 'quadrant', 'quadrant_enum'] did not aggregate successfully. If any error is raised this will raise in a future version of pandas. Drop these columns/ops to avoid this warning.\n",
      "<magic-timeit>:1: FutureWarning: ['timestamp', 'quadrant', 'quadrant_enum'] did not aggregate successfully. If any error is raised this will raise in a future version of pandas. Drop these columns/ops to avoid this warning.\n",
      "<magic-timeit>:1: FutureWarning: ['timestamp', 'quadrant', 'quadrant_enum'] did not aggregate successfully. If any error is raised this will raise in a future version of pandas. Drop these columns/ops to avoid this warning.\n",
      "<magic-timeit>:1: FutureWarning: ['timestamp', 'quadrant', 'quadrant_enum'] did not aggregate successfully. If any error is raised this will raise in a future version of pandas. Drop these columns/ops to avoid this warning.\n",
      "<magic-timeit>:1: FutureWarning: ['timestamp', 'quadrant', 'quadrant_enum'] did not aggregate successfully. If any error is raised this will raise in a future version of pandas. Drop these columns/ops to avoid this warning.\n",
      "<magic-timeit>:1: FutureWarning: ['timestamp', 'quadrant', 'quadrant_enum'] did not aggregate successfully. If any error is raised this will raise in a future version of pandas. Drop these columns/ops to avoid this warning.\n",
      "<magic-timeit>:1: FutureWarning: ['timestamp', 'quadrant', 'quadrant_enum'] did not aggregate successfully. If any error is raised this will raise in a future version of pandas. Drop these columns/ops to avoid this warning.\n",
      "<magic-timeit>:1: FutureWarning: ['timestamp', 'quadrant', 'quadrant_enum'] did not aggregate successfully. If any error is raised this will raise in a future version of pandas. Drop these columns/ops to avoid this warning.\n",
      "<magic-timeit>:1: FutureWarning: ['timestamp', 'quadrant', 'quadrant_enum'] did not aggregate successfully. If any error is raised this will raise in a future version of pandas. Drop these columns/ops to avoid this warning.\n",
      "<magic-timeit>:1: FutureWarning: ['timestamp', 'quadrant', 'quadrant_enum'] did not aggregate successfully. If any error is raised this will raise in a future version of pandas. Drop these columns/ops to avoid this warning.\n",
      "<magic-timeit>:1: FutureWarning: ['timestamp', 'quadrant', 'quadrant_enum'] did not aggregate successfully. If any error is raised this will raise in a future version of pandas. Drop these columns/ops to avoid this warning.\n",
      "<magic-timeit>:1: FutureWarning: ['timestamp', 'quadrant', 'quadrant_enum'] did not aggregate successfully. If any error is raised this will raise in a future version of pandas. Drop these columns/ops to avoid this warning.\n",
      "<magic-timeit>:1: FutureWarning: ['timestamp', 'quadrant', 'quadrant_enum'] did not aggregate successfully. If any error is raised this will raise in a future version of pandas. Drop these columns/ops to avoid this warning.\n",
      "<magic-timeit>:1: FutureWarning: ['timestamp', 'quadrant', 'quadrant_enum'] did not aggregate successfully. If any error is raised this will raise in a future version of pandas. Drop these columns/ops to avoid this warning.\n",
      "<magic-timeit>:1: FutureWarning: ['timestamp', 'quadrant', 'quadrant_enum'] did not aggregate successfully. If any error is raised this will raise in a future version of pandas. Drop these columns/ops to avoid this warning.\n",
      "<magic-timeit>:1: FutureWarning: ['timestamp', 'quadrant', 'quadrant_enum'] did not aggregate successfully. If any error is raised this will raise in a future version of pandas. Drop these columns/ops to avoid this warning.\n",
      "<magic-timeit>:1: FutureWarning: ['timestamp', 'quadrant', 'quadrant_enum'] did not aggregate successfully. If any error is raised this will raise in a future version of pandas. Drop these columns/ops to avoid this warning.\n",
      "<magic-timeit>:1: FutureWarning: ['timestamp', 'quadrant', 'quadrant_enum'] did not aggregate successfully. If any error is raised this will raise in a future version of pandas. Drop these columns/ops to avoid this warning.\n",
      "<magic-timeit>:1: FutureWarning: ['timestamp', 'quadrant', 'quadrant_enum'] did not aggregate successfully. If any error is raised this will raise in a future version of pandas. Drop these columns/ops to avoid this warning.\n",
      "<magic-timeit>:1: FutureWarning: ['timestamp', 'quadrant', 'quadrant_enum'] did not aggregate successfully. If any error is raised this will raise in a future version of pandas. Drop these columns/ops to avoid this warning.\n",
      "<magic-timeit>:1: FutureWarning: ['timestamp', 'quadrant', 'quadrant_enum'] did not aggregate successfully. If any error is raised this will raise in a future version of pandas. Drop these columns/ops to avoid this warning.\n",
      "<magic-timeit>:1: FutureWarning: ['timestamp', 'quadrant', 'quadrant_enum'] did not aggregate successfully. If any error is raised this will raise in a future version of pandas. Drop these columns/ops to avoid this warning.\n",
      "<magic-timeit>:1: FutureWarning: ['timestamp', 'quadrant', 'quadrant_enum'] did not aggregate successfully. If any error is raised this will raise in a future version of pandas. Drop these columns/ops to avoid this warning.\n",
      "<magic-timeit>:1: FutureWarning: ['timestamp', 'quadrant', 'quadrant_enum'] did not aggregate successfully. If any error is raised this will raise in a future version of pandas. Drop these columns/ops to avoid this warning.\n",
      "<magic-timeit>:1: FutureWarning: ['timestamp', 'quadrant', 'quadrant_enum'] did not aggregate successfully. If any error is raised this will raise in a future version of pandas. Drop these columns/ops to avoid this warning.\n",
      "<magic-timeit>:1: FutureWarning: ['timestamp', 'quadrant', 'quadrant_enum'] did not aggregate successfully. If any error is raised this will raise in a future version of pandas. Drop these columns/ops to avoid this warning.\n",
      "<magic-timeit>:1: FutureWarning: ['timestamp', 'quadrant', 'quadrant_enum'] did not aggregate successfully. If any error is raised this will raise in a future version of pandas. Drop these columns/ops to avoid this warning.\n",
      "<magic-timeit>:1: FutureWarning: ['timestamp', 'quadrant', 'quadrant_enum'] did not aggregate successfully. If any error is raised this will raise in a future version of pandas. Drop these columns/ops to avoid this warning.\n",
      "<magic-timeit>:1: FutureWarning: ['timestamp', 'quadrant', 'quadrant_enum'] did not aggregate successfully. If any error is raised this will raise in a future version of pandas. Drop these columns/ops to avoid this warning.\n",
      "<magic-timeit>:1: FutureWarning: ['timestamp', 'quadrant', 'quadrant_enum'] did not aggregate successfully. If any error is raised this will raise in a future version of pandas. Drop these columns/ops to avoid this warning.\n",
      "<magic-timeit>:1: FutureWarning: ['timestamp', 'quadrant', 'quadrant_enum'] did not aggregate successfully. If any error is raised this will raise in a future version of pandas. Drop these columns/ops to avoid this warning.\n",
      "<magic-timeit>:1: FutureWarning: ['timestamp', 'quadrant', 'quadrant_enum'] did not aggregate successfully. If any error is raised this will raise in a future version of pandas. Drop these columns/ops to avoid this warning.\n",
      "<magic-timeit>:1: FutureWarning: ['timestamp', 'quadrant', 'quadrant_enum'] did not aggregate successfully. If any error is raised this will raise in a future version of pandas. Drop these columns/ops to avoid this warning.\n",
      "<magic-timeit>:1: FutureWarning: ['timestamp', 'quadrant', 'quadrant_enum'] did not aggregate successfully. If any error is raised this will raise in a future version of pandas. Drop these columns/ops to avoid this warning.\n",
      "<magic-timeit>:1: FutureWarning: ['timestamp', 'quadrant', 'quadrant_enum'] did not aggregate successfully. If any error is raised this will raise in a future version of pandas. Drop these columns/ops to avoid this warning.\n",
      "<magic-timeit>:1: FutureWarning: ['timestamp', 'quadrant', 'quadrant_enum'] did not aggregate successfully. If any error is raised this will raise in a future version of pandas. Drop these columns/ops to avoid this warning.\n",
      "<magic-timeit>:1: FutureWarning: ['timestamp', 'quadrant', 'quadrant_enum'] did not aggregate successfully. If any error is raised this will raise in a future version of pandas. Drop these columns/ops to avoid this warning.\n",
      "<magic-timeit>:1: FutureWarning: ['timestamp', 'quadrant', 'quadrant_enum'] did not aggregate successfully. If any error is raised this will raise in a future version of pandas. Drop these columns/ops to avoid this warning.\n",
      "<magic-timeit>:1: FutureWarning: ['timestamp', 'quadrant', 'quadrant_enum'] did not aggregate successfully. If any error is raised this will raise in a future version of pandas. Drop these columns/ops to avoid this warning.\n"
     ]
    },
    {
     "name": "stdout",
     "output_type": "stream",
     "text": [
      "42.7 ms ± 664 µs per loop (mean ± std. dev. of 7 runs, 10 loops each)\n"
     ]
    },
    {
     "name": "stderr",
     "output_type": "stream",
     "text": [
      "<magic-timeit>:1: FutureWarning: ['timestamp', 'quadrant', 'quadrant_enum'] did not aggregate successfully. If any error is raised this will raise in a future version of pandas. Drop these columns/ops to avoid this warning.\n",
      "<magic-timeit>:1: FutureWarning: ['timestamp', 'quadrant', 'quadrant_enum'] did not aggregate successfully. If any error is raised this will raise in a future version of pandas. Drop these columns/ops to avoid this warning.\n"
     ]
    }
   ],
   "source": [
    "%%timeit\n",
    "df.groupby('quadrant_cat').agg(['count', 'mean', 'median'])\n"
   ]
  },
  {
   "cell_type": "code",
   "execution_count": 20,
   "metadata": {},
   "outputs": [
    {
     "name": "stderr",
     "output_type": "stream",
     "text": [
      "<magic-timeit>:1: FutureWarning: ['timestamp', 'quadrant', 'quadrant_cat'] did not aggregate successfully. If any error is raised this will raise in a future version of pandas. Drop these columns/ops to avoid this warning.\n",
      "<magic-timeit>:1: FutureWarning: ['timestamp', 'quadrant', 'quadrant_cat'] did not aggregate successfully. If any error is raised this will raise in a future version of pandas. Drop these columns/ops to avoid this warning.\n",
      "<magic-timeit>:1: FutureWarning: ['timestamp', 'quadrant', 'quadrant_cat'] did not aggregate successfully. If any error is raised this will raise in a future version of pandas. Drop these columns/ops to avoid this warning.\n",
      "<magic-timeit>:1: FutureWarning: ['timestamp', 'quadrant', 'quadrant_cat'] did not aggregate successfully. If any error is raised this will raise in a future version of pandas. Drop these columns/ops to avoid this warning.\n",
      "<magic-timeit>:1: FutureWarning: ['timestamp', 'quadrant', 'quadrant_cat'] did not aggregate successfully. If any error is raised this will raise in a future version of pandas. Drop these columns/ops to avoid this warning.\n",
      "<magic-timeit>:1: FutureWarning: ['timestamp', 'quadrant', 'quadrant_cat'] did not aggregate successfully. If any error is raised this will raise in a future version of pandas. Drop these columns/ops to avoid this warning.\n",
      "<magic-timeit>:1: FutureWarning: ['timestamp', 'quadrant', 'quadrant_cat'] did not aggregate successfully. If any error is raised this will raise in a future version of pandas. Drop these columns/ops to avoid this warning.\n",
      "<magic-timeit>:1: FutureWarning: ['timestamp', 'quadrant', 'quadrant_cat'] did not aggregate successfully. If any error is raised this will raise in a future version of pandas. Drop these columns/ops to avoid this warning.\n",
      "<magic-timeit>:1: FutureWarning: ['timestamp', 'quadrant', 'quadrant_cat'] did not aggregate successfully. If any error is raised this will raise in a future version of pandas. Drop these columns/ops to avoid this warning.\n",
      "<magic-timeit>:1: FutureWarning: ['timestamp', 'quadrant', 'quadrant_cat'] did not aggregate successfully. If any error is raised this will raise in a future version of pandas. Drop these columns/ops to avoid this warning.\n",
      "<magic-timeit>:1: FutureWarning: ['timestamp', 'quadrant', 'quadrant_cat'] did not aggregate successfully. If any error is raised this will raise in a future version of pandas. Drop these columns/ops to avoid this warning.\n",
      "<magic-timeit>:1: FutureWarning: ['timestamp', 'quadrant', 'quadrant_cat'] did not aggregate successfully. If any error is raised this will raise in a future version of pandas. Drop these columns/ops to avoid this warning.\n",
      "<magic-timeit>:1: FutureWarning: ['timestamp', 'quadrant', 'quadrant_cat'] did not aggregate successfully. If any error is raised this will raise in a future version of pandas. Drop these columns/ops to avoid this warning.\n",
      "<magic-timeit>:1: FutureWarning: ['timestamp', 'quadrant', 'quadrant_cat'] did not aggregate successfully. If any error is raised this will raise in a future version of pandas. Drop these columns/ops to avoid this warning.\n",
      "<magic-timeit>:1: FutureWarning: ['timestamp', 'quadrant', 'quadrant_cat'] did not aggregate successfully. If any error is raised this will raise in a future version of pandas. Drop these columns/ops to avoid this warning.\n",
      "<magic-timeit>:1: FutureWarning: ['timestamp', 'quadrant', 'quadrant_cat'] did not aggregate successfully. If any error is raised this will raise in a future version of pandas. Drop these columns/ops to avoid this warning.\n",
      "<magic-timeit>:1: FutureWarning: ['timestamp', 'quadrant', 'quadrant_cat'] did not aggregate successfully. If any error is raised this will raise in a future version of pandas. Drop these columns/ops to avoid this warning.\n",
      "<magic-timeit>:1: FutureWarning: ['timestamp', 'quadrant', 'quadrant_cat'] did not aggregate successfully. If any error is raised this will raise in a future version of pandas. Drop these columns/ops to avoid this warning.\n",
      "<magic-timeit>:1: FutureWarning: ['timestamp', 'quadrant', 'quadrant_cat'] did not aggregate successfully. If any error is raised this will raise in a future version of pandas. Drop these columns/ops to avoid this warning.\n",
      "<magic-timeit>:1: FutureWarning: ['timestamp', 'quadrant', 'quadrant_cat'] did not aggregate successfully. If any error is raised this will raise in a future version of pandas. Drop these columns/ops to avoid this warning.\n",
      "<magic-timeit>:1: FutureWarning: ['timestamp', 'quadrant', 'quadrant_cat'] did not aggregate successfully. If any error is raised this will raise in a future version of pandas. Drop these columns/ops to avoid this warning.\n",
      "<magic-timeit>:1: FutureWarning: ['timestamp', 'quadrant', 'quadrant_cat'] did not aggregate successfully. If any error is raised this will raise in a future version of pandas. Drop these columns/ops to avoid this warning.\n",
      "<magic-timeit>:1: FutureWarning: ['timestamp', 'quadrant', 'quadrant_cat'] did not aggregate successfully. If any error is raised this will raise in a future version of pandas. Drop these columns/ops to avoid this warning.\n",
      "<magic-timeit>:1: FutureWarning: ['timestamp', 'quadrant', 'quadrant_cat'] did not aggregate successfully. If any error is raised this will raise in a future version of pandas. Drop these columns/ops to avoid this warning.\n",
      "<magic-timeit>:1: FutureWarning: ['timestamp', 'quadrant', 'quadrant_cat'] did not aggregate successfully. If any error is raised this will raise in a future version of pandas. Drop these columns/ops to avoid this warning.\n",
      "<magic-timeit>:1: FutureWarning: ['timestamp', 'quadrant', 'quadrant_cat'] did not aggregate successfully. If any error is raised this will raise in a future version of pandas. Drop these columns/ops to avoid this warning.\n",
      "<magic-timeit>:1: FutureWarning: ['timestamp', 'quadrant', 'quadrant_cat'] did not aggregate successfully. If any error is raised this will raise in a future version of pandas. Drop these columns/ops to avoid this warning.\n",
      "<magic-timeit>:1: FutureWarning: ['timestamp', 'quadrant', 'quadrant_cat'] did not aggregate successfully. If any error is raised this will raise in a future version of pandas. Drop these columns/ops to avoid this warning.\n",
      "<magic-timeit>:1: FutureWarning: ['timestamp', 'quadrant', 'quadrant_cat'] did not aggregate successfully. If any error is raised this will raise in a future version of pandas. Drop these columns/ops to avoid this warning.\n",
      "<magic-timeit>:1: FutureWarning: ['timestamp', 'quadrant', 'quadrant_cat'] did not aggregate successfully. If any error is raised this will raise in a future version of pandas. Drop these columns/ops to avoid this warning.\n",
      "<magic-timeit>:1: FutureWarning: ['timestamp', 'quadrant', 'quadrant_cat'] did not aggregate successfully. If any error is raised this will raise in a future version of pandas. Drop these columns/ops to avoid this warning.\n",
      "<magic-timeit>:1: FutureWarning: ['timestamp', 'quadrant', 'quadrant_cat'] did not aggregate successfully. If any error is raised this will raise in a future version of pandas. Drop these columns/ops to avoid this warning.\n",
      "<magic-timeit>:1: FutureWarning: ['timestamp', 'quadrant', 'quadrant_cat'] did not aggregate successfully. If any error is raised this will raise in a future version of pandas. Drop these columns/ops to avoid this warning.\n",
      "<magic-timeit>:1: FutureWarning: ['timestamp', 'quadrant', 'quadrant_cat'] did not aggregate successfully. If any error is raised this will raise in a future version of pandas. Drop these columns/ops to avoid this warning.\n",
      "<magic-timeit>:1: FutureWarning: ['timestamp', 'quadrant', 'quadrant_cat'] did not aggregate successfully. If any error is raised this will raise in a future version of pandas. Drop these columns/ops to avoid this warning.\n",
      "<magic-timeit>:1: FutureWarning: ['timestamp', 'quadrant', 'quadrant_cat'] did not aggregate successfully. If any error is raised this will raise in a future version of pandas. Drop these columns/ops to avoid this warning.\n",
      "<magic-timeit>:1: FutureWarning: ['timestamp', 'quadrant', 'quadrant_cat'] did not aggregate successfully. If any error is raised this will raise in a future version of pandas. Drop these columns/ops to avoid this warning.\n",
      "<magic-timeit>:1: FutureWarning: ['timestamp', 'quadrant', 'quadrant_cat'] did not aggregate successfully. If any error is raised this will raise in a future version of pandas. Drop these columns/ops to avoid this warning.\n",
      "<magic-timeit>:1: FutureWarning: ['timestamp', 'quadrant', 'quadrant_cat'] did not aggregate successfully. If any error is raised this will raise in a future version of pandas. Drop these columns/ops to avoid this warning.\n",
      "<magic-timeit>:1: FutureWarning: ['timestamp', 'quadrant', 'quadrant_cat'] did not aggregate successfully. If any error is raised this will raise in a future version of pandas. Drop these columns/ops to avoid this warning.\n",
      "<magic-timeit>:1: FutureWarning: ['timestamp', 'quadrant', 'quadrant_cat'] did not aggregate successfully. If any error is raised this will raise in a future version of pandas. Drop these columns/ops to avoid this warning.\n",
      "<magic-timeit>:1: FutureWarning: ['timestamp', 'quadrant', 'quadrant_cat'] did not aggregate successfully. If any error is raised this will raise in a future version of pandas. Drop these columns/ops to avoid this warning.\n",
      "<magic-timeit>:1: FutureWarning: ['timestamp', 'quadrant', 'quadrant_cat'] did not aggregate successfully. If any error is raised this will raise in a future version of pandas. Drop these columns/ops to avoid this warning.\n",
      "<magic-timeit>:1: FutureWarning: ['timestamp', 'quadrant', 'quadrant_cat'] did not aggregate successfully. If any error is raised this will raise in a future version of pandas. Drop these columns/ops to avoid this warning.\n",
      "<magic-timeit>:1: FutureWarning: ['timestamp', 'quadrant', 'quadrant_cat'] did not aggregate successfully. If any error is raised this will raise in a future version of pandas. Drop these columns/ops to avoid this warning.\n",
      "<magic-timeit>:1: FutureWarning: ['timestamp', 'quadrant', 'quadrant_cat'] did not aggregate successfully. If any error is raised this will raise in a future version of pandas. Drop these columns/ops to avoid this warning.\n",
      "<magic-timeit>:1: FutureWarning: ['timestamp', 'quadrant', 'quadrant_cat'] did not aggregate successfully. If any error is raised this will raise in a future version of pandas. Drop these columns/ops to avoid this warning.\n",
      "<magic-timeit>:1: FutureWarning: ['timestamp', 'quadrant', 'quadrant_cat'] did not aggregate successfully. If any error is raised this will raise in a future version of pandas. Drop these columns/ops to avoid this warning.\n",
      "<magic-timeit>:1: FutureWarning: ['timestamp', 'quadrant', 'quadrant_cat'] did not aggregate successfully. If any error is raised this will raise in a future version of pandas. Drop these columns/ops to avoid this warning.\n",
      "<magic-timeit>:1: FutureWarning: ['timestamp', 'quadrant', 'quadrant_cat'] did not aggregate successfully. If any error is raised this will raise in a future version of pandas. Drop these columns/ops to avoid this warning.\n",
      "<magic-timeit>:1: FutureWarning: ['timestamp', 'quadrant', 'quadrant_cat'] did not aggregate successfully. If any error is raised this will raise in a future version of pandas. Drop these columns/ops to avoid this warning.\n",
      "<magic-timeit>:1: FutureWarning: ['timestamp', 'quadrant', 'quadrant_cat'] did not aggregate successfully. If any error is raised this will raise in a future version of pandas. Drop these columns/ops to avoid this warning.\n",
      "<magic-timeit>:1: FutureWarning: ['timestamp', 'quadrant', 'quadrant_cat'] did not aggregate successfully. If any error is raised this will raise in a future version of pandas. Drop these columns/ops to avoid this warning.\n",
      "<magic-timeit>:1: FutureWarning: ['timestamp', 'quadrant', 'quadrant_cat'] did not aggregate successfully. If any error is raised this will raise in a future version of pandas. Drop these columns/ops to avoid this warning.\n",
      "<magic-timeit>:1: FutureWarning: ['timestamp', 'quadrant', 'quadrant_cat'] did not aggregate successfully. If any error is raised this will raise in a future version of pandas. Drop these columns/ops to avoid this warning.\n",
      "<magic-timeit>:1: FutureWarning: ['timestamp', 'quadrant', 'quadrant_cat'] did not aggregate successfully. If any error is raised this will raise in a future version of pandas. Drop these columns/ops to avoid this warning.\n",
      "<magic-timeit>:1: FutureWarning: ['timestamp', 'quadrant', 'quadrant_cat'] did not aggregate successfully. If any error is raised this will raise in a future version of pandas. Drop these columns/ops to avoid this warning.\n",
      "<magic-timeit>:1: FutureWarning: ['timestamp', 'quadrant', 'quadrant_cat'] did not aggregate successfully. If any error is raised this will raise in a future version of pandas. Drop these columns/ops to avoid this warning.\n",
      "<magic-timeit>:1: FutureWarning: ['timestamp', 'quadrant', 'quadrant_cat'] did not aggregate successfully. If any error is raised this will raise in a future version of pandas. Drop these columns/ops to avoid this warning.\n",
      "<magic-timeit>:1: FutureWarning: ['timestamp', 'quadrant', 'quadrant_cat'] did not aggregate successfully. If any error is raised this will raise in a future version of pandas. Drop these columns/ops to avoid this warning.\n",
      "<magic-timeit>:1: FutureWarning: ['timestamp', 'quadrant', 'quadrant_cat'] did not aggregate successfully. If any error is raised this will raise in a future version of pandas. Drop these columns/ops to avoid this warning.\n",
      "<magic-timeit>:1: FutureWarning: ['timestamp', 'quadrant', 'quadrant_cat'] did not aggregate successfully. If any error is raised this will raise in a future version of pandas. Drop these columns/ops to avoid this warning.\n",
      "<magic-timeit>:1: FutureWarning: ['timestamp', 'quadrant', 'quadrant_cat'] did not aggregate successfully. If any error is raised this will raise in a future version of pandas. Drop these columns/ops to avoid this warning.\n",
      "<magic-timeit>:1: FutureWarning: ['timestamp', 'quadrant', 'quadrant_cat'] did not aggregate successfully. If any error is raised this will raise in a future version of pandas. Drop these columns/ops to avoid this warning.\n",
      "<magic-timeit>:1: FutureWarning: ['timestamp', 'quadrant', 'quadrant_cat'] did not aggregate successfully. If any error is raised this will raise in a future version of pandas. Drop these columns/ops to avoid this warning.\n",
      "<magic-timeit>:1: FutureWarning: ['timestamp', 'quadrant', 'quadrant_cat'] did not aggregate successfully. If any error is raised this will raise in a future version of pandas. Drop these columns/ops to avoid this warning.\n",
      "<magic-timeit>:1: FutureWarning: ['timestamp', 'quadrant', 'quadrant_cat'] did not aggregate successfully. If any error is raised this will raise in a future version of pandas. Drop these columns/ops to avoid this warning.\n",
      "<magic-timeit>:1: FutureWarning: ['timestamp', 'quadrant', 'quadrant_cat'] did not aggregate successfully. If any error is raised this will raise in a future version of pandas. Drop these columns/ops to avoid this warning.\n",
      "<magic-timeit>:1: FutureWarning: ['timestamp', 'quadrant', 'quadrant_cat'] did not aggregate successfully. If any error is raised this will raise in a future version of pandas. Drop these columns/ops to avoid this warning.\n",
      "<magic-timeit>:1: FutureWarning: ['timestamp', 'quadrant', 'quadrant_cat'] did not aggregate successfully. If any error is raised this will raise in a future version of pandas. Drop these columns/ops to avoid this warning.\n",
      "<magic-timeit>:1: FutureWarning: ['timestamp', 'quadrant', 'quadrant_cat'] did not aggregate successfully. If any error is raised this will raise in a future version of pandas. Drop these columns/ops to avoid this warning.\n",
      "<magic-timeit>:1: FutureWarning: ['timestamp', 'quadrant', 'quadrant_cat'] did not aggregate successfully. If any error is raised this will raise in a future version of pandas. Drop these columns/ops to avoid this warning.\n",
      "<magic-timeit>:1: FutureWarning: ['timestamp', 'quadrant', 'quadrant_cat'] did not aggregate successfully. If any error is raised this will raise in a future version of pandas. Drop these columns/ops to avoid this warning.\n",
      "<magic-timeit>:1: FutureWarning: ['timestamp', 'quadrant', 'quadrant_cat'] did not aggregate successfully. If any error is raised this will raise in a future version of pandas. Drop these columns/ops to avoid this warning.\n",
      "<magic-timeit>:1: FutureWarning: ['timestamp', 'quadrant', 'quadrant_cat'] did not aggregate successfully. If any error is raised this will raise in a future version of pandas. Drop these columns/ops to avoid this warning.\n",
      "<magic-timeit>:1: FutureWarning: ['timestamp', 'quadrant', 'quadrant_cat'] did not aggregate successfully. If any error is raised this will raise in a future version of pandas. Drop these columns/ops to avoid this warning.\n",
      "<magic-timeit>:1: FutureWarning: ['timestamp', 'quadrant', 'quadrant_cat'] did not aggregate successfully. If any error is raised this will raise in a future version of pandas. Drop these columns/ops to avoid this warning.\n",
      "<magic-timeit>:1: FutureWarning: ['timestamp', 'quadrant', 'quadrant_cat'] did not aggregate successfully. If any error is raised this will raise in a future version of pandas. Drop these columns/ops to avoid this warning.\n"
     ]
    },
    {
     "name": "stdout",
     "output_type": "stream",
     "text": [
      "55.1 ms ± 614 µs per loop (mean ± std. dev. of 7 runs, 10 loops each)\n"
     ]
    },
    {
     "name": "stderr",
     "output_type": "stream",
     "text": [
      "<magic-timeit>:1: FutureWarning: ['timestamp', 'quadrant', 'quadrant_cat'] did not aggregate successfully. If any error is raised this will raise in a future version of pandas. Drop these columns/ops to avoid this warning.\n",
      "<magic-timeit>:1: FutureWarning: ['timestamp', 'quadrant', 'quadrant_cat'] did not aggregate successfully. If any error is raised this will raise in a future version of pandas. Drop these columns/ops to avoid this warning.\n",
      "<magic-timeit>:1: FutureWarning: ['timestamp', 'quadrant', 'quadrant_cat'] did not aggregate successfully. If any error is raised this will raise in a future version of pandas. Drop these columns/ops to avoid this warning.\n"
     ]
    }
   ],
   "source": [
    "%%timeit\n",
    "df.groupby('quadrant_enum').agg(['count', 'mean', 'median'])"
   ]
  }
 ],
 "metadata": {
  "kernelspec": {
   "display_name": "Python 3",
   "language": "python",
   "name": "python3"
  },
  "language_info": {
   "codemirror_mode": {
    "name": "ipython",
    "version": 3
   },
   "file_extension": ".py",
   "mimetype": "text/x-python",
   "name": "python",
   "nbconvert_exporter": "python",
   "pygments_lexer": "ipython3",
   "version": "3.10.4"
  },
  "orig_nbformat": 4,
  "vscode": {
   "interpreter": {
    "hash": "369f2c481f4da34e4445cda3fffd2e751bd1c4d706f27375911949ba6bb62e1c"
   }
  }
 },
 "nbformat": 4,
 "nbformat_minor": 2
}
