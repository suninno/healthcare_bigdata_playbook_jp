{
 "cells": [
  {
   "attachments": {},
   "cell_type": "markdown",
   "id": "1d6715b9",
   "metadata": {},
   "source": [
    "## 7.8 時間系列データの取り扱い"
   ]
  },
  {
   "attachments": {},
   "cell_type": "markdown",
   "id": "e690420e",
   "metadata": {},
   "source": [
    "### 7.8.2 DatetimeIndexの作成"
   ]
  },
  {
   "cell_type": "code",
   "execution_count": 1,
   "id": "0083a142",
   "metadata": {
    "scrolled": false
   },
   "outputs": [
    {
     "data": {
      "text/plain": [
       "DatetimeIndex(['2023-01-01', '2023-01-02', '2023-01-03', '2023-01-04',\n",
       "               '2023-01-05', '2023-01-06', '2023-01-07', '2023-01-08',\n",
       "               '2023-01-09', '2023-01-10', '2023-01-11', '2023-01-12',\n",
       "               '2023-01-13', '2023-01-14', '2023-01-15'],\n",
       "              dtype='datetime64[ns]', freq='D')"
      ]
     },
     "execution_count": 1,
     "metadata": {},
     "output_type": "execute_result"
    }
   ],
   "source": [
    "import numpy as np\n",
    "import pandas as pd\n",
    "from datetime import datetime\n",
    "\n",
    "pd.set_option('display.notebook_repr_html', False)\n",
    "\n",
    "# DatetimeIndex作成 – 範囲指定\n",
    "dtidx1 = pd.date_range('2023-01-01', '2023-01-15')\n",
    "dtidx1"
   ]
  },
  {
   "cell_type": "code",
   "execution_count": 2,
   "id": "30778e8e",
   "metadata": {},
   "outputs": [
    {
     "data": {
      "text/plain": [
       "DatetimeIndex(['2023-01-01', '2023-01-08', '2023-01-15', '2023-01-22',\n",
       "               '2023-01-29', '2023-02-05', '2023-02-12'],\n",
       "              dtype='datetime64[ns]', freq='W-SUN')"
      ]
     },
     "execution_count": 2,
     "metadata": {},
     "output_type": "execute_result"
    }
   ],
   "source": [
    "# DatetimeIndex作成 – freq指定\n",
    "dtidx2 = pd.date_range('2023-01-01', periods=7, freq='W')\n",
    "dtidx2"
   ]
  },
  {
   "cell_type": "code",
   "execution_count": 3,
   "id": "76e001b2",
   "metadata": {},
   "outputs": [
    {
     "data": {
      "text/plain": [
       "DatetimeIndex(['2023-01-01', '2023-01-02', '2023-01-03', '2023-01-04'], dtype='datetime64[ns]', freq=None)"
      ]
     },
     "execution_count": 3,
     "metadata": {},
     "output_type": "execute_result"
    }
   ],
   "source": [
    "# DatetimeIndex作成 - to_datetime関数\n",
    "dtidx3 = pd.to_datetime( ['2023-01-01', '2023-01-02', '2023-01-03', '2023-01-04'])\n",
    "dtidx3"
   ]
  },
  {
   "attachments": {},
   "cell_type": "markdown",
   "id": "45e9b01f",
   "metadata": {},
   "source": [
    "### 7.8.3 PeriodIndexの作成"
   ]
  },
  {
   "cell_type": "code",
   "execution_count": 4,
   "id": "005aa68d",
   "metadata": {},
   "outputs": [
    {
     "data": {
      "text/plain": [
       "PeriodIndex(['2022-12-26/2023-01-01', '2023-01-02/2023-01-08',\n",
       "             '2023-01-09/2023-01-15', '2023-01-16/2023-01-22',\n",
       "             '2023-01-23/2023-01-29', '2023-01-30/2023-02-05',\n",
       "             '2023-02-06/2023-02-12'],\n",
       "            dtype='period[W-SUN]')"
      ]
     },
     "execution_count": 4,
     "metadata": {},
     "output_type": "execute_result"
    }
   ],
   "source": [
    "# PeriodIndex作成 – period_range関数\n",
    "ridx1 = pd.period_range('2023-01-01', periods=7, freq='W')\n",
    "ridx1"
   ]
  },
  {
   "cell_type": "code",
   "execution_count": 5,
   "id": "fd70195f",
   "metadata": {},
   "outputs": [
    {
     "data": {
      "text/plain": [
       "PeriodIndex(['2023-01', '2023-02', '2023-03', '2023-04', '2023-05', '2023-06',\n",
       "             '2023-07'],\n",
       "            dtype='period[M]')"
      ]
     },
     "execution_count": 5,
     "metadata": {},
     "output_type": "execute_result"
    }
   ],
   "source": [
    "# PeriodIndex作成 – period_range関数\n",
    "ridx2 = pd.period_range('2023-01-01', periods=7, freq='M')\n",
    "ridx2"
   ]
  },
  {
   "attachments": {},
   "cell_type": "markdown",
   "id": "a94aadcc",
   "metadata": {},
   "source": [
    "### 7.8.4 TimedeltaIndexの作成"
   ]
  },
  {
   "cell_type": "code",
   "execution_count": 6,
   "id": "5b05c0b9",
   "metadata": {},
   "outputs": [
    {
     "data": {
      "text/plain": [
       "TimedeltaIndex(['0 days 00:00:00', '0 days 04:00:00', '0 days 08:00:00',\n",
       "                '0 days 12:00:00', '0 days 16:00:00', '0 days 20:00:00',\n",
       "                '1 days 00:00:00', '1 days 04:00:00', '1 days 08:00:00',\n",
       "                '1 days 12:00:00', '1 days 16:00:00', '1 days 20:00:00',\n",
       "                '2 days 00:00:00'],\n",
       "               dtype='timedelta64[ns]', freq='4H')"
      ]
     },
     "execution_count": 6,
     "metadata": {},
     "output_type": "execute_result"
    }
   ],
   "source": [
    "# TimedeltaIndex作成 - timedelta_range関数\n",
    "tdidx1 = pd.timedelta_range(start='0', end='2days', freq='4H')\n",
    "tdidx1"
   ]
  },
  {
   "cell_type": "code",
   "execution_count": 7,
   "id": "b242de18",
   "metadata": {},
   "outputs": [
    {
     "data": {
      "text/plain": [
       "TimedeltaIndex(['0 days 00:00:00', '0 days 04:00:00', '0 days 08:00:00',\n",
       "                '0 days 12:00:00', '0 days 16:00:00', '0 days 20:00:00',\n",
       "                '1 days 00:00:00', '1 days 04:00:00', '1 days 08:00:00',\n",
       "                '1 days 12:00:00', '1 days 16:00:00', '1 days 20:00:00'],\n",
       "               dtype='timedelta64[ns]', freq='4H')"
      ]
     },
     "execution_count": 7,
     "metadata": {},
     "output_type": "execute_result"
    }
   ],
   "source": [
    "# TimedeltaIndex作成 - timedelta_range関数, left\n",
    "pd.timedelta_range(start='0', end='2days', freq='4H', closed='left')"
   ]
  },
  {
   "cell_type": "code",
   "execution_count": 8,
   "id": "ddb296c5",
   "metadata": {},
   "outputs": [
    {
     "data": {
      "text/plain": [
       "TimedeltaIndex(['0 days 04:00:00', '0 days 08:00:00', '0 days 12:00:00',\n",
       "                '0 days 16:00:00', '0 days 20:00:00', '1 days 00:00:00',\n",
       "                '1 days 04:00:00', '1 days 08:00:00', '1 days 12:00:00',\n",
       "                '1 days 16:00:00', '1 days 20:00:00', '2 days 00:00:00'],\n",
       "               dtype='timedelta64[ns]', freq='4H')"
      ]
     },
     "execution_count": 8,
     "metadata": {},
     "output_type": "execute_result"
    }
   ],
   "source": [
    "# TimedeltaIndex作成 - timedelta_range関数, right\n",
    "pd.timedelta_range(start='0', end='2days', freq='4H', closed='right')"
   ]
  },
  {
   "cell_type": "markdown",
   "id": "ee72f7a4",
   "metadata": {},
   "source": [
    "### 7.8.5 リサンプリング"
   ]
  },
  {
   "cell_type": "code",
   "execution_count": 9,
   "id": "e5adff4f",
   "metadata": {},
   "outputs": [
    {
     "data": {
      "text/plain": [
       "            name  val\n",
       "2023-01-01     0    8\n",
       "2023-01-02     1   11\n",
       "2023-01-03     2    3\n",
       "2023-01-04     3    0\n",
       "2023-01-05     4    9"
      ]
     },
     "execution_count": 9,
     "metadata": {},
     "output_type": "execute_result"
    }
   ],
   "source": [
    "# 簡単な時系列データの作成\n",
    "data = {\"name\": np.arange(15), \"val\": np.random.randint(15, size=15)}\n",
    "df1 = pd.DataFrame(data, index=dtidx1 )\n",
    "df1.head()"
   ]
  },
  {
   "cell_type": "markdown",
   "id": "abb5aa37",
   "metadata": {},
   "source": [
    "#### resampleメソッド"
   ]
  },
  {
   "cell_type": "code",
   "execution_count": 10,
   "id": "4fe0df95",
   "metadata": {},
   "outputs": [
    {
     "data": {
      "text/plain": [
       "            name  val\n",
       "2023-01-01     0    8\n",
       "2023-01-08    28   33\n",
       "2023-01-15    77   41"
      ]
     },
     "execution_count": 10,
     "metadata": {},
     "output_type": "execute_result"
    }
   ],
   "source": [
    "# resampleを用いて、「週」単位で合計を計算\n",
    "df1.resample('w').sum()"
   ]
  },
  {
   "cell_type": "code",
   "execution_count": 11,
   "id": "fe82149c",
   "metadata": {},
   "outputs": [
    {
     "data": {
      "text/plain": [
       "      name  val\n",
       "week           \n",
       "1       28   33\n",
       "2       77   41\n",
       "52       0    8"
      ]
     },
     "execution_count": 11,
     "metadata": {},
     "output_type": "execute_result"
    }
   ],
   "source": [
    "# groupbyを用いて、「週」単位で合計を計算\n",
    "df1.groupby(df1.index.isocalendar().week).sum()"
   ]
  },
  {
   "cell_type": "markdown",
   "id": "bd1e6029",
   "metadata": {},
   "source": [
    "#### asfreqメソッド"
   ]
  },
  {
   "cell_type": "code",
   "execution_count": 12,
   "id": "426e9688",
   "metadata": {},
   "outputs": [
    {
     "data": {
      "text/plain": [
       "            name  val\n",
       "2023-01-01     0    8\n",
       "2023-01-02     1   11\n",
       "2023-01-03     2    3\n",
       "2023-01-04     3    0\n",
       "2023-01-05     4    9\n",
       "2023-01-06     5    1\n",
       "2023-01-07     6    5\n",
       "2023-01-08     7    4\n",
       "2023-01-09     8    9\n",
       "2023-01-10     9    0\n",
       "2023-01-11    10   11\n",
       "2023-01-12    11    3\n",
       "2023-01-13    12    8\n",
       "2023-01-14    13    4\n",
       "2023-01-15    14    6"
      ]
     },
     "execution_count": 12,
     "metadata": {},
     "output_type": "execute_result"
    }
   ],
   "source": [
    "df1"
   ]
  },
  {
   "cell_type": "code",
   "execution_count": 13,
   "id": "7052a28e",
   "metadata": {},
   "outputs": [
    {
     "data": {
      "text/plain": [
       "            name  val\n",
       "2023-01-01     0    8\n",
       "2023-01-08     7    4\n",
       "2023-01-15    14    6"
      ]
     },
     "execution_count": 13,
     "metadata": {},
     "output_type": "execute_result"
    }
   ],
   "source": [
    "# asfreqを用いて「週」単位でデータ選択\n",
    "df1.asfreq('W')"
   ]
  },
  {
   "cell_type": "code",
   "execution_count": 14,
   "id": "2b4167dd",
   "metadata": {},
   "outputs": [
    {
     "data": {
      "text/plain": [
       "                     name  val\n",
       "2023-01-01 00:00:00   0.0  8.0\n",
       "2023-01-01 20:00:00   NaN  NaN\n",
       "2023-01-02 16:00:00   NaN  NaN\n",
       "2023-01-03 12:00:00   NaN  NaN\n",
       "2023-01-04 08:00:00   NaN  NaN"
      ]
     },
     "execution_count": 14,
     "metadata": {},
     "output_type": "execute_result"
    }
   ],
   "source": [
    "df1.asfreq('20H', normalize=False).head()"
   ]
  },
  {
   "cell_type": "code",
   "execution_count": 15,
   "id": "fe46bc3b",
   "metadata": {},
   "outputs": [
    {
     "data": {
      "text/plain": [
       "            name  val\n",
       "2023-01-01   0.0  8.0\n",
       "2023-01-01   NaN  NaN\n",
       "2023-01-02   NaN  NaN\n",
       "2023-01-03   NaN  NaN\n",
       "2023-01-04   NaN  NaN"
      ]
     },
     "execution_count": 15,
     "metadata": {},
     "output_type": "execute_result"
    }
   ],
   "source": [
    "df1.asfreq('20H', normalize=True).head()"
   ]
  },
  {
   "cell_type": "code",
   "execution_count": 16,
   "id": "7f728787",
   "metadata": {},
   "outputs": [
    {
     "data": {
      "text/plain": [
       "                 timestamp   X   Y   Z\n",
       "0  2022-01-01 00:01:40.363  33  76  56\n",
       "1  2022-01-01 00:01:42.961  34  87  56\n",
       "2  2022-01-01 00:01:45.562  25  89  47\n",
       "3  2022-01-01 00:01:48.163  11  70  50\n",
       "4  2022-01-01 00:02:08.864  33  72  58"
      ]
     },
     "execution_count": 16,
     "metadata": {},
     "output_type": "execute_result"
    }
   ],
   "source": [
    "import numpy as np\n",
    "import pandas as pd\n",
    "import matplotlib.pyplot as plt\n",
    "from datetime import datetime\n",
    "\n",
    "act = pd.read_csv('OTg6QzA_activities.csv')\n",
    "act.shape\n",
    "act.head()"
   ]
  },
  {
   "cell_type": "code",
   "execution_count": 17,
   "id": "e95587e8",
   "metadata": {},
   "outputs": [
    {
     "name": "stdout",
     "output_type": "stream",
     "text": [
      "<class 'pandas.core.frame.DataFrame'>\n",
      "RangeIndex: 66281 entries, 0 to 66280\n",
      "Data columns (total 4 columns):\n",
      " #   Column     Non-Null Count  Dtype \n",
      "---  ------     --------------  ----- \n",
      " 0   timestamp  66281 non-null  object\n",
      " 1   X          66281 non-null  int64 \n",
      " 2   Y          66281 non-null  int64 \n",
      " 3   Z          66281 non-null  int64 \n",
      "dtypes: int64(3), object(1)\n",
      "memory usage: 2.0+ MB\n"
     ]
    }
   ],
   "source": [
    "act.info()"
   ]
  },
  {
   "cell_type": "code",
   "execution_count": 18,
   "id": "fed33d5d",
   "metadata": {},
   "outputs": [
    {
     "ename": "TypeError",
     "evalue": "Only valid with DatetimeIndex, TimedeltaIndex or PeriodIndex, but got an instance of 'RangeIndex'",
     "output_type": "error",
     "traceback": [
      "\u001b[1;31m---------------------------------------------------------------------------\u001b[0m",
      "\u001b[1;31mTypeError\u001b[0m                                 Traceback (most recent call last)",
      "\u001b[1;32mc:\\works\\healthcare_bigdata\\ch07\\ch07_08_timeseries.ipynb Cell 25\u001b[0m line \u001b[0;36m1\n\u001b[1;32m----> <a href='vscode-notebook-cell:/c%3A/works/healthcare_bigdata/ch07/ch07_08_timeseries.ipynb#X32sZmlsZQ%3D%3D?line=0'>1</a>\u001b[0m act\u001b[39m.\u001b[39;49mresample(\u001b[39m'\u001b[39;49m\u001b[39mD\u001b[39;49m\u001b[39m'\u001b[39;49m)\u001b[39m.\u001b[39mmean() \u001b[39m# 失敗. indexがない.\u001b[39;00m\n",
      "File \u001b[1;32mc:\\Python310\\lib\\site-packages\\pandas\\core\\frame.py:11389\u001b[0m, in \u001b[0;36mDataFrame.resample\u001b[1;34m(self, rule, axis, closed, label, convention, kind, loffset, base, on, level, origin, offset, group_keys)\u001b[0m\n\u001b[0;32m  11372\u001b[0m \u001b[39m@doc\u001b[39m(NDFrame\u001b[39m.\u001b[39mresample, \u001b[39m*\u001b[39m\u001b[39m*\u001b[39m_shared_doc_kwargs)\n\u001b[0;32m  11373\u001b[0m \u001b[39mdef\u001b[39;00m \u001b[39mresample\u001b[39m(\n\u001b[0;32m  11374\u001b[0m     \u001b[39mself\u001b[39m,\n\u001b[1;32m   (...)\u001b[0m\n\u001b[0;32m  11387\u001b[0m     group_keys: \u001b[39mbool\u001b[39m \u001b[39m|\u001b[39m lib\u001b[39m.\u001b[39mNoDefault \u001b[39m=\u001b[39m no_default,\n\u001b[0;32m  11388\u001b[0m ) \u001b[39m-\u001b[39m\u001b[39m>\u001b[39m Resampler:\n\u001b[1;32m> 11389\u001b[0m     \u001b[39mreturn\u001b[39;00m \u001b[39msuper\u001b[39;49m()\u001b[39m.\u001b[39;49mresample(\n\u001b[0;32m  11390\u001b[0m         rule\u001b[39m=\u001b[39;49mrule,\n\u001b[0;32m  11391\u001b[0m         axis\u001b[39m=\u001b[39;49maxis,\n\u001b[0;32m  11392\u001b[0m         closed\u001b[39m=\u001b[39;49mclosed,\n\u001b[0;32m  11393\u001b[0m         label\u001b[39m=\u001b[39;49mlabel,\n\u001b[0;32m  11394\u001b[0m         convention\u001b[39m=\u001b[39;49mconvention,\n\u001b[0;32m  11395\u001b[0m         kind\u001b[39m=\u001b[39;49mkind,\n\u001b[0;32m  11396\u001b[0m         loffset\u001b[39m=\u001b[39;49mloffset,\n\u001b[0;32m  11397\u001b[0m         base\u001b[39m=\u001b[39;49mbase,\n\u001b[0;32m  11398\u001b[0m         on\u001b[39m=\u001b[39;49mon,\n\u001b[0;32m  11399\u001b[0m         level\u001b[39m=\u001b[39;49mlevel,\n\u001b[0;32m  11400\u001b[0m         origin\u001b[39m=\u001b[39;49morigin,\n\u001b[0;32m  11401\u001b[0m         offset\u001b[39m=\u001b[39;49moffset,\n\u001b[0;32m  11402\u001b[0m         group_keys\u001b[39m=\u001b[39;49mgroup_keys,\n\u001b[0;32m  11403\u001b[0m     )\n",
      "File \u001b[1;32mc:\\Python310\\lib\\site-packages\\pandas\\core\\generic.py:8858\u001b[0m, in \u001b[0;36mNDFrame.resample\u001b[1;34m(self, rule, axis, closed, label, convention, kind, loffset, base, on, level, origin, offset, group_keys)\u001b[0m\n\u001b[0;32m   8855\u001b[0m \u001b[39mfrom\u001b[39;00m \u001b[39mpandas\u001b[39;00m\u001b[39m.\u001b[39;00m\u001b[39mcore\u001b[39;00m\u001b[39m.\u001b[39;00m\u001b[39mresample\u001b[39;00m \u001b[39mimport\u001b[39;00m get_resampler\n\u001b[0;32m   8857\u001b[0m axis \u001b[39m=\u001b[39m \u001b[39mself\u001b[39m\u001b[39m.\u001b[39m_get_axis_number(axis)\n\u001b[1;32m-> 8858\u001b[0m \u001b[39mreturn\u001b[39;00m get_resampler(\n\u001b[0;32m   8859\u001b[0m     \u001b[39mself\u001b[39;49m,\n\u001b[0;32m   8860\u001b[0m     freq\u001b[39m=\u001b[39;49mrule,\n\u001b[0;32m   8861\u001b[0m     label\u001b[39m=\u001b[39;49mlabel,\n\u001b[0;32m   8862\u001b[0m     closed\u001b[39m=\u001b[39;49mclosed,\n\u001b[0;32m   8863\u001b[0m     axis\u001b[39m=\u001b[39;49maxis,\n\u001b[0;32m   8864\u001b[0m     kind\u001b[39m=\u001b[39;49mkind,\n\u001b[0;32m   8865\u001b[0m     loffset\u001b[39m=\u001b[39;49mloffset,\n\u001b[0;32m   8866\u001b[0m     convention\u001b[39m=\u001b[39;49mconvention,\n\u001b[0;32m   8867\u001b[0m     base\u001b[39m=\u001b[39;49mbase,\n\u001b[0;32m   8868\u001b[0m     key\u001b[39m=\u001b[39;49mon,\n\u001b[0;32m   8869\u001b[0m     level\u001b[39m=\u001b[39;49mlevel,\n\u001b[0;32m   8870\u001b[0m     origin\u001b[39m=\u001b[39;49morigin,\n\u001b[0;32m   8871\u001b[0m     offset\u001b[39m=\u001b[39;49moffset,\n\u001b[0;32m   8872\u001b[0m     group_keys\u001b[39m=\u001b[39;49mgroup_keys,\n\u001b[0;32m   8873\u001b[0m )\n",
      "File \u001b[1;32mc:\\Python310\\lib\\site-packages\\pandas\\core\\resample.py:1544\u001b[0m, in \u001b[0;36mget_resampler\u001b[1;34m(obj, kind, **kwds)\u001b[0m\n\u001b[0;32m   1540\u001b[0m \u001b[39m\"\"\"\u001b[39;00m\n\u001b[0;32m   1541\u001b[0m \u001b[39mCreate a TimeGrouper and return our resampler.\u001b[39;00m\n\u001b[0;32m   1542\u001b[0m \u001b[39m\"\"\"\u001b[39;00m\n\u001b[0;32m   1543\u001b[0m tg \u001b[39m=\u001b[39m TimeGrouper(\u001b[39m*\u001b[39m\u001b[39m*\u001b[39mkwds)\n\u001b[1;32m-> 1544\u001b[0m \u001b[39mreturn\u001b[39;00m tg\u001b[39m.\u001b[39;49m_get_resampler(obj, kind\u001b[39m=\u001b[39;49mkind)\n",
      "File \u001b[1;32mc:\\Python310\\lib\\site-packages\\pandas\\core\\resample.py:1725\u001b[0m, in \u001b[0;36mTimeGrouper._get_resampler\u001b[1;34m(self, obj, kind)\u001b[0m\n\u001b[0;32m   1720\u001b[0m \u001b[39melif\u001b[39;00m \u001b[39misinstance\u001b[39m(ax, TimedeltaIndex):\n\u001b[0;32m   1721\u001b[0m     \u001b[39mreturn\u001b[39;00m TimedeltaIndexResampler(\n\u001b[0;32m   1722\u001b[0m         obj, groupby\u001b[39m=\u001b[39m\u001b[39mself\u001b[39m, axis\u001b[39m=\u001b[39m\u001b[39mself\u001b[39m\u001b[39m.\u001b[39maxis, group_keys\u001b[39m=\u001b[39m\u001b[39mself\u001b[39m\u001b[39m.\u001b[39mgroup_keys\n\u001b[0;32m   1723\u001b[0m     )\n\u001b[1;32m-> 1725\u001b[0m \u001b[39mraise\u001b[39;00m \u001b[39mTypeError\u001b[39;00m(\n\u001b[0;32m   1726\u001b[0m     \u001b[39m\"\u001b[39m\u001b[39mOnly valid with DatetimeIndex, \u001b[39m\u001b[39m\"\u001b[39m\n\u001b[0;32m   1727\u001b[0m     \u001b[39m\"\u001b[39m\u001b[39mTimedeltaIndex or PeriodIndex, \u001b[39m\u001b[39m\"\u001b[39m\n\u001b[0;32m   1728\u001b[0m     \u001b[39mf\u001b[39m\u001b[39m\"\u001b[39m\u001b[39mbut got an instance of \u001b[39m\u001b[39m'\u001b[39m\u001b[39m{\u001b[39;00m\u001b[39mtype\u001b[39m(ax)\u001b[39m.\u001b[39m\u001b[39m__name__\u001b[39m\u001b[39m}\u001b[39;00m\u001b[39m'\u001b[39m\u001b[39m\"\u001b[39m\n\u001b[0;32m   1729\u001b[0m )\n",
      "\u001b[1;31mTypeError\u001b[0m: Only valid with DatetimeIndex, TimedeltaIndex or PeriodIndex, but got an instance of 'RangeIndex'"
     ]
    }
   ],
   "source": [
    "act.resample('D').mean() # 失敗. indexがない."
   ]
  },
  {
   "cell_type": "code",
   "execution_count": 19,
   "id": "5606cd80",
   "metadata": {},
   "outputs": [],
   "source": [
    "# 時間情報文字列をdatetime64データ型に変換する\n",
    "act['new_time']  = pd.to_datetime(act['timestamp'],\n",
    "                                  format='%Y-%m-%d %H:%M:%S.%f')"
   ]
  },
  {
   "cell_type": "code",
   "execution_count": 20,
   "id": "a7a87b90",
   "metadata": {},
   "outputs": [
    {
     "name": "stdout",
     "output_type": "stream",
     "text": [
      "<class 'pandas.core.frame.DataFrame'>\n",
      "RangeIndex: 66281 entries, 0 to 66280\n",
      "Data columns (total 5 columns):\n",
      " #   Column     Non-Null Count  Dtype         \n",
      "---  ------     --------------  -----         \n",
      " 0   timestamp  66281 non-null  object        \n",
      " 1   X          66281 non-null  int64         \n",
      " 2   Y          66281 non-null  int64         \n",
      " 3   Z          66281 non-null  int64         \n",
      " 4   new_time   66281 non-null  datetime64[ns]\n",
      "dtypes: datetime64[ns](1), int64(3), object(1)\n",
      "memory usage: 2.5+ MB\n"
     ]
    }
   ],
   "source": [
    "# infoメソッドで「列」情報を確認します。\n",
    "act.info()"
   ]
  },
  {
   "cell_type": "code",
   "execution_count": 21,
   "id": "9820d41e",
   "metadata": {},
   "outputs": [
    {
     "name": "stdout",
     "output_type": "stream",
     "text": [
      "<class 'pandas.core.frame.DataFrame'>\n",
      "DatetimeIndex: 66281 entries, 2022-01-01 00:01:40.363000 to 2022-01-31 23:32:44.126000\n",
      "Data columns (total 4 columns):\n",
      " #   Column     Non-Null Count  Dtype \n",
      "---  ------     --------------  ----- \n",
      " 0   timestamp  66281 non-null  object\n",
      " 1   X          66281 non-null  int64 \n",
      " 2   Y          66281 non-null  int64 \n",
      " 3   Z          66281 non-null  int64 \n",
      "dtypes: int64(3), object(1)\n",
      "memory usage: 2.5+ MB\n"
     ]
    }
   ],
   "source": [
    "# RangeindexをDatetimeIndexに変更\n",
    "act.set_index('new_time', inplace=True)\n",
    "act.info()"
   ]
  },
  {
   "cell_type": "code",
   "execution_count": 22,
   "id": "ea8ee198",
   "metadata": {},
   "outputs": [
    {
     "name": "stderr",
     "output_type": "stream",
     "text": [
      "C:\\Users\\sunin\\AppData\\Local\\Temp\\ipykernel_16976\\235220001.py:2: FutureWarning: The default value of numeric_only in DataFrameGroupBy.mean is deprecated. In a future version, numeric_only will default to False. Either specify numeric_only or select only columns which should be valid for the function.\n",
      "  act.resample('D').mean()\n"
     ]
    },
    {
     "data": {
      "text/plain": [
       "                    X           Y           Z\n",
       "new_time                                     \n",
       "2022-01-01  45.181458  230.855784   79.015055\n",
       "2022-01-02  33.717431  167.839047  104.839408\n",
       "2022-01-03 -13.646741  187.623683  122.057785\n",
       "2022-01-04  22.882040  278.679604   80.347032\n",
       "2022-01-05  81.304762  182.480952  110.154762\n",
       "2022-01-06  47.897631  193.845178   97.742809\n",
       "2022-01-07  76.385113  134.345739  107.011866\n",
       "2022-01-08  28.479100  387.379421   62.295016\n",
       "2022-01-09  34.519963  288.278552   74.149489\n",
       "2022-01-10  41.457949  304.729839   86.016705\n",
       "2022-01-11  -6.569293  172.336113  132.938183\n",
       "2022-01-12 -55.713615  127.607869  135.265817\n",
       "2022-01-13 -59.560531  127.961396  127.032119\n",
       "2022-01-14  -1.931100   98.227938   76.258613\n",
       "2022-01-15 -33.231646  119.210264   99.346401\n",
       "2022-01-16 -54.670087  131.400365  111.469220\n",
       "2022-01-17   2.039523  111.096943   80.185682\n",
       "2022-01-18 -19.387573  110.610192   95.699598\n",
       "2022-01-19 -47.537708  149.645249  107.139123\n",
       "2022-01-20 -55.645864  145.939822  116.493066\n",
       "2022-01-21 -40.082825  121.519101  104.743178\n",
       "2022-01-22   9.263728   93.654986   81.253251\n",
       "2022-01-23  -0.038596  148.828070   81.901754\n",
       "2022-01-24  -0.846871  135.916112   87.817577\n",
       "2022-01-25  -7.387526  126.914110   85.981595\n",
       "2022-01-26 -27.490000  137.340000   98.085000\n",
       "2022-01-27  10.856315  113.894554   77.125145\n",
       "2022-01-28 -12.712274  102.646881   93.190141\n",
       "2022-01-29 -62.285688  129.760475  118.765480\n",
       "2022-01-30 -16.488204  116.824377   98.586501\n",
       "2022-01-31 -43.523156  143.596913  110.013722"
      ]
     },
     "execution_count": 22,
     "metadata": {},
     "output_type": "execute_result"
    }
   ],
   "source": [
    "# 日単位のX, Y, Zの平均位置を計算する\n",
    "act.resample('D').mean()"
   ]
  },
  {
   "cell_type": "code",
   "execution_count": 23,
   "id": "f5b63950",
   "metadata": {},
   "outputs": [
    {
     "data": {
      "text/plain": [
       "            timestamp     X     Y     Z\n",
       "new_time                               \n",
       "2022-01-01       1262  1262  1262  1262\n",
       "2022-01-02       2771  2771  2771  2771\n",
       "2022-01-03       3513  3513  3513  3513\n",
       "2022-01-04       2628  2628  2628  2628\n",
       "2022-01-05        420   420   420   420\n",
       "2022-01-06       1182  1182  1182  1182\n",
       "2022-01-07       1854  1854  1854  1854\n",
       "2022-01-08       1244  1244  1244  1244\n",
       "2022-01-09       1077  1077  1077  1077\n",
       "2022-01-10       1736  1736  1736  1736\n",
       "2022-01-11       3478  3478  3478  3478\n",
       "2022-01-12       4473  4473  4473  4473\n",
       "2022-01-13       3238  3238  3238  3238\n",
       "2022-01-14       2119  2119  2119  2119\n",
       "2022-01-15       1403  1403  1403  1403\n",
       "2022-01-16       4386  4386  4386  4386\n",
       "2022-01-17       1341  1341  1341  1341\n",
       "2022-01-18       2237  2237  2237  2237\n",
       "2022-01-19       3673  3673  3673  3673\n",
       "2022-01-20       4038  4038  4038  4038\n",
       "2022-01-21       3115  3115  3115  3115\n",
       "2022-01-22       2768  2768  2768  2768\n",
       "2022-01-23        285   285   285   285\n",
       "2022-01-24       1502  1502  1502  1502\n",
       "2022-01-25        978   978   978   978\n",
       "2022-01-26        200   200   200   200\n",
       "2022-01-27        863   863   863   863\n",
       "2022-01-28        994   994   994   994\n",
       "2022-01-29       5394  5394  5394  5394\n",
       "2022-01-30       1526  1526  1526  1526\n",
       "2022-01-31        583   583   583   583"
      ]
     },
     "execution_count": 23,
     "metadata": {},
     "output_type": "execute_result"
    }
   ],
   "source": [
    "act.resample('D').count()"
   ]
  },
  {
   "cell_type": "code",
   "execution_count": 24,
   "id": "26349083",
   "metadata": {},
   "outputs": [
    {
     "name": "stderr",
     "output_type": "stream",
     "text": [
      "C:\\Users\\sunin\\AppData\\Local\\Temp\\ipykernel_16976\\24447382.py:1: FutureWarning: The default value of numeric_only in DataFrameGroupBy.sum is deprecated. In a future version, numeric_only will default to False. Either specify numeric_only or select only columns which should be valid for the function.\n",
      "  act.resample('D').sum()\n"
     ]
    },
    {
     "data": {
      "text/plain": [
       "                 X       Y       Z\n",
       "new_time                          \n",
       "2022-01-01   57019  291340   99717\n",
       "2022-01-02   93431  465082  290510\n",
       "2022-01-03  -47941  659122  428789\n",
       "2022-01-04   60134  732370  211152\n",
       "2022-01-05   34148   76642   46265\n",
       "2022-01-06   56615  229125  115532\n",
       "2022-01-07  141618  249077  198400\n",
       "2022-01-08   35428  481900   77495\n",
       "2022-01-09   37178  310476   79859\n",
       "2022-01-10   71971  529011  149325\n",
       "2022-01-11  -22848  599385  462359\n",
       "2022-01-12 -249207  570790  605044\n",
       "2022-01-13 -192857  414339  411330\n",
       "2022-01-14   -4092  208145  161592\n",
       "2022-01-15  -46624  167252  139383\n",
       "2022-01-16 -239783  576322  488904\n",
       "2022-01-17    2735  148981  107529\n",
       "2022-01-18  -43370  247435  214080\n",
       "2022-01-19 -174606  549647  393522\n",
       "2022-01-20 -224698  589305  470399\n",
       "2022-01-21 -124858  378532  326275\n",
       "2022-01-22   25642  259237  224909\n",
       "2022-01-23     -11   42416   23342\n",
       "2022-01-24   -1272  204146  131902\n",
       "2022-01-25   -7225  124122   84090\n",
       "2022-01-26   -5498   27468   19617\n",
       "2022-01-27    9369   98291   66559\n",
       "2022-01-28  -12636  102031   92631\n",
       "2022-01-29 -335969  699928  640621\n",
       "2022-01-30  -25161  178274  150443\n",
       "2022-01-31  -25374   83717   64138"
      ]
     },
     "execution_count": 24,
     "metadata": {},
     "output_type": "execute_result"
    }
   ],
   "source": [
    "act.resample('D').sum()"
   ]
  },
  {
   "attachments": {},
   "cell_type": "markdown",
   "id": "0f0334a3",
   "metadata": {},
   "source": [
    "### 7.8.6 シフト(shift, tshift)"
   ]
  },
  {
   "cell_type": "code",
   "execution_count": 25,
   "id": "ebec6908",
   "metadata": {},
   "outputs": [
    {
     "name": "stderr",
     "output_type": "stream",
     "text": [
      "C:\\Users\\sunin\\AppData\\Local\\Temp\\ipykernel_16976\\13398565.py:1: FutureWarning: The default value of numeric_only in DataFrameGroupBy.mean is deprecated. In a future version, numeric_only will default to False. Either specify numeric_only or select only columns which should be valid for the function.\n",
      "  act.resample('d').mean()\n"
     ]
    },
    {
     "data": {
      "text/plain": [
       "                    X           Y           Z\n",
       "new_time                                     \n",
       "2022-01-01  45.181458  230.855784   79.015055\n",
       "2022-01-02  33.717431  167.839047  104.839408\n",
       "2022-01-03 -13.646741  187.623683  122.057785\n",
       "2022-01-04  22.882040  278.679604   80.347032\n",
       "2022-01-05  81.304762  182.480952  110.154762\n",
       "2022-01-06  47.897631  193.845178   97.742809\n",
       "2022-01-07  76.385113  134.345739  107.011866\n",
       "2022-01-08  28.479100  387.379421   62.295016\n",
       "2022-01-09  34.519963  288.278552   74.149489\n",
       "2022-01-10  41.457949  304.729839   86.016705\n",
       "2022-01-11  -6.569293  172.336113  132.938183\n",
       "2022-01-12 -55.713615  127.607869  135.265817\n",
       "2022-01-13 -59.560531  127.961396  127.032119\n",
       "2022-01-14  -1.931100   98.227938   76.258613\n",
       "2022-01-15 -33.231646  119.210264   99.346401\n",
       "2022-01-16 -54.670087  131.400365  111.469220\n",
       "2022-01-17   2.039523  111.096943   80.185682\n",
       "2022-01-18 -19.387573  110.610192   95.699598\n",
       "2022-01-19 -47.537708  149.645249  107.139123\n",
       "2022-01-20 -55.645864  145.939822  116.493066\n",
       "2022-01-21 -40.082825  121.519101  104.743178\n",
       "2022-01-22   9.263728   93.654986   81.253251\n",
       "2022-01-23  -0.038596  148.828070   81.901754\n",
       "2022-01-24  -0.846871  135.916112   87.817577\n",
       "2022-01-25  -7.387526  126.914110   85.981595\n",
       "2022-01-26 -27.490000  137.340000   98.085000\n",
       "2022-01-27  10.856315  113.894554   77.125145\n",
       "2022-01-28 -12.712274  102.646881   93.190141\n",
       "2022-01-29 -62.285688  129.760475  118.765480\n",
       "2022-01-30 -16.488204  116.824377   98.586501\n",
       "2022-01-31 -43.523156  143.596913  110.013722"
      ]
     },
     "execution_count": 25,
     "metadata": {},
     "output_type": "execute_result"
    }
   ],
   "source": [
    "act.resample('d').mean()"
   ]
  },
  {
   "cell_type": "code",
   "execution_count": 26,
   "id": "f16843d4",
   "metadata": {},
   "outputs": [
    {
     "name": "stderr",
     "output_type": "stream",
     "text": [
      "C:\\Users\\sunin\\AppData\\Local\\Temp\\ipykernel_16976\\2352540695.py:1: FutureWarning: The default value of numeric_only in DataFrameGroupBy.mean is deprecated. In a future version, numeric_only will default to False. Either specify numeric_only or select only columns which should be valid for the function.\n",
      "  act.resample('d').mean().shift(3, fill_value=0)\n"
     ]
    },
    {
     "data": {
      "text/plain": [
       "                    X           Y           Z\n",
       "new_time                                     \n",
       "2022-01-01   0.000000    0.000000    0.000000\n",
       "2022-01-02   0.000000    0.000000    0.000000\n",
       "2022-01-03   0.000000    0.000000    0.000000\n",
       "2022-01-04  45.181458  230.855784   79.015055\n",
       "2022-01-05  33.717431  167.839047  104.839408\n",
       "2022-01-06 -13.646741  187.623683  122.057785\n",
       "2022-01-07  22.882040  278.679604   80.347032\n",
       "2022-01-08  81.304762  182.480952  110.154762\n",
       "2022-01-09  47.897631  193.845178   97.742809\n",
       "2022-01-10  76.385113  134.345739  107.011866\n",
       "2022-01-11  28.479100  387.379421   62.295016\n",
       "2022-01-12  34.519963  288.278552   74.149489\n",
       "2022-01-13  41.457949  304.729839   86.016705\n",
       "2022-01-14  -6.569293  172.336113  132.938183\n",
       "2022-01-15 -55.713615  127.607869  135.265817\n",
       "2022-01-16 -59.560531  127.961396  127.032119\n",
       "2022-01-17  -1.931100   98.227938   76.258613\n",
       "2022-01-18 -33.231646  119.210264   99.346401\n",
       "2022-01-19 -54.670087  131.400365  111.469220\n",
       "2022-01-20   2.039523  111.096943   80.185682\n",
       "2022-01-21 -19.387573  110.610192   95.699598\n",
       "2022-01-22 -47.537708  149.645249  107.139123\n",
       "2022-01-23 -55.645864  145.939822  116.493066\n",
       "2022-01-24 -40.082825  121.519101  104.743178\n",
       "2022-01-25   9.263728   93.654986   81.253251\n",
       "2022-01-26  -0.038596  148.828070   81.901754\n",
       "2022-01-27  -0.846871  135.916112   87.817577\n",
       "2022-01-28  -7.387526  126.914110   85.981595\n",
       "2022-01-29 -27.490000  137.340000   98.085000\n",
       "2022-01-30  10.856315  113.894554   77.125145\n",
       "2022-01-31 -12.712274  102.646881   93.190141"
      ]
     },
     "execution_count": 26,
     "metadata": {},
     "output_type": "execute_result"
    }
   ],
   "source": [
    "act.resample('d').mean().shift(3, fill_value=0)"
   ]
  },
  {
   "cell_type": "code",
   "execution_count": 27,
   "id": "1ab12857",
   "metadata": {},
   "outputs": [
    {
     "name": "stderr",
     "output_type": "stream",
     "text": [
      "C:\\Users\\sunin\\AppData\\Local\\Temp\\ipykernel_16976\\4045743159.py:1: FutureWarning: The default value of numeric_only in DataFrameGroupBy.mean is deprecated. In a future version, numeric_only will default to False. Either specify numeric_only or select only columns which should be valid for the function.\n",
      "  act.resample('d').mean().tshift(3)\n",
      "C:\\Users\\sunin\\AppData\\Local\\Temp\\ipykernel_16976\\4045743159.py:1: FutureWarning: tshift is deprecated and will be removed in a future version. Please use shift instead.\n",
      "  act.resample('d').mean().tshift(3)\n"
     ]
    },
    {
     "data": {
      "text/plain": [
       "                    X           Y           Z\n",
       "new_time                                     \n",
       "2022-01-04  45.181458  230.855784   79.015055\n",
       "2022-01-05  33.717431  167.839047  104.839408\n",
       "2022-01-06 -13.646741  187.623683  122.057785\n",
       "2022-01-07  22.882040  278.679604   80.347032\n",
       "2022-01-08  81.304762  182.480952  110.154762\n",
       "2022-01-09  47.897631  193.845178   97.742809\n",
       "2022-01-10  76.385113  134.345739  107.011866\n",
       "2022-01-11  28.479100  387.379421   62.295016\n",
       "2022-01-12  34.519963  288.278552   74.149489\n",
       "2022-01-13  41.457949  304.729839   86.016705\n",
       "2022-01-14  -6.569293  172.336113  132.938183\n",
       "2022-01-15 -55.713615  127.607869  135.265817\n",
       "2022-01-16 -59.560531  127.961396  127.032119\n",
       "2022-01-17  -1.931100   98.227938   76.258613\n",
       "2022-01-18 -33.231646  119.210264   99.346401\n",
       "2022-01-19 -54.670087  131.400365  111.469220\n",
       "2022-01-20   2.039523  111.096943   80.185682\n",
       "2022-01-21 -19.387573  110.610192   95.699598\n",
       "2022-01-22 -47.537708  149.645249  107.139123\n",
       "2022-01-23 -55.645864  145.939822  116.493066\n",
       "2022-01-24 -40.082825  121.519101  104.743178\n",
       "2022-01-25   9.263728   93.654986   81.253251\n",
       "2022-01-26  -0.038596  148.828070   81.901754\n",
       "2022-01-27  -0.846871  135.916112   87.817577\n",
       "2022-01-28  -7.387526  126.914110   85.981595\n",
       "2022-01-29 -27.490000  137.340000   98.085000\n",
       "2022-01-30  10.856315  113.894554   77.125145\n",
       "2022-01-31 -12.712274  102.646881   93.190141\n",
       "2022-02-01 -62.285688  129.760475  118.765480\n",
       "2022-02-02 -16.488204  116.824377   98.586501\n",
       "2022-02-03 -43.523156  143.596913  110.013722"
      ]
     },
     "execution_count": 27,
     "metadata": {},
     "output_type": "execute_result"
    }
   ],
   "source": [
    "act.resample('d').mean().tshift(3)"
   ]
  },
  {
   "cell_type": "code",
   "execution_count": 28,
   "id": "8e819196",
   "metadata": {},
   "outputs": [
    {
     "name": "stderr",
     "output_type": "stream",
     "text": [
      "C:\\Users\\sunin\\AppData\\Local\\Temp\\ipykernel_16976\\3070876606.py:1: FutureWarning: The default value of numeric_only in DataFrameGroupBy.mean is deprecated. In a future version, numeric_only will default to False. Either specify numeric_only or select only columns which should be valid for the function.\n",
      "  act.resample('d').mean().shift(freq=\"3D\")\n"
     ]
    },
    {
     "data": {
      "text/plain": [
       "                    X           Y           Z\n",
       "new_time                                     \n",
       "2022-01-04  45.181458  230.855784   79.015055\n",
       "2022-01-05  33.717431  167.839047  104.839408\n",
       "2022-01-06 -13.646741  187.623683  122.057785\n",
       "2022-01-07  22.882040  278.679604   80.347032\n",
       "2022-01-08  81.304762  182.480952  110.154762\n",
       "2022-01-09  47.897631  193.845178   97.742809\n",
       "2022-01-10  76.385113  134.345739  107.011866\n",
       "2022-01-11  28.479100  387.379421   62.295016\n",
       "2022-01-12  34.519963  288.278552   74.149489\n",
       "2022-01-13  41.457949  304.729839   86.016705\n",
       "2022-01-14  -6.569293  172.336113  132.938183\n",
       "2022-01-15 -55.713615  127.607869  135.265817\n",
       "2022-01-16 -59.560531  127.961396  127.032119\n",
       "2022-01-17  -1.931100   98.227938   76.258613\n",
       "2022-01-18 -33.231646  119.210264   99.346401\n",
       "2022-01-19 -54.670087  131.400365  111.469220\n",
       "2022-01-20   2.039523  111.096943   80.185682\n",
       "2022-01-21 -19.387573  110.610192   95.699598\n",
       "2022-01-22 -47.537708  149.645249  107.139123\n",
       "2022-01-23 -55.645864  145.939822  116.493066\n",
       "2022-01-24 -40.082825  121.519101  104.743178\n",
       "2022-01-25   9.263728   93.654986   81.253251\n",
       "2022-01-26  -0.038596  148.828070   81.901754\n",
       "2022-01-27  -0.846871  135.916112   87.817577\n",
       "2022-01-28  -7.387526  126.914110   85.981595\n",
       "2022-01-29 -27.490000  137.340000   98.085000\n",
       "2022-01-30  10.856315  113.894554   77.125145\n",
       "2022-01-31 -12.712274  102.646881   93.190141\n",
       "2022-02-01 -62.285688  129.760475  118.765480\n",
       "2022-02-02 -16.488204  116.824377   98.586501\n",
       "2022-02-03 -43.523156  143.596913  110.013722"
      ]
     },
     "execution_count": 28,
     "metadata": {},
     "output_type": "execute_result"
    }
   ],
   "source": [
    "act.resample('d').mean().shift(freq=\"3D\")"
   ]
  },
  {
   "cell_type": "code",
   "execution_count": 29,
   "id": "a4cfa213",
   "metadata": {},
   "outputs": [
    {
     "name": "stderr",
     "output_type": "stream",
     "text": [
      "C:\\Users\\sunin\\AppData\\Local\\Temp\\ipykernel_16976\\2887927394.py:3: FutureWarning: The default value of numeric_only in DataFrameGroupBy.mean is deprecated. In a future version, numeric_only will default to False. Either specify numeric_only or select only columns which should be valid for the function.\n",
      "  act.resample('d').mean()['X'].plot(style=\":\", label=\"X\", figsize=(10,8))\n",
      "C:\\Users\\sunin\\AppData\\Local\\Temp\\ipykernel_16976\\2887927394.py:4: FutureWarning: The default value of numeric_only in DataFrameGroupBy.mean is deprecated. In a future version, numeric_only will default to False. Either specify numeric_only or select only columns which should be valid for the function.\n",
      "  act.resample('d').mean()['X'].shift(3, fill_value=50).plot(\n",
      "C:\\Users\\sunin\\AppData\\Local\\Temp\\ipykernel_16976\\2887927394.py:6: FutureWarning: The default value of numeric_only in DataFrameGroupBy.mean is deprecated. In a future version, numeric_only will default to False. Either specify numeric_only or select only columns which should be valid for the function.\n",
      "  act.resample('d').mean()['X'].tshift(3).plot(\n",
      "C:\\Users\\sunin\\AppData\\Local\\Temp\\ipykernel_16976\\2887927394.py:6: FutureWarning: tshift is deprecated and will be removed in a future version. Please use shift instead.\n",
      "  act.resample('d').mean()['X'].tshift(3).plot(\n"
     ]
    },
    {
     "data": {
      "image/png": "[encoded data removed]",
      "text/plain": [
       "<Figure size 1000x800 with 1 Axes>"
      ]
     },
     "metadata": {},
     "output_type": "display_data"
    }
   ],
   "source": [
    "plt.style.use('grayscale')\n",
    "plt.figure(facecolor='white')\n",
    "act.resample('d').mean()['X'].plot(style=\":\", label=\"X\", figsize=(10,8))\n",
    "act.resample('d').mean()['X'].shift(3, fill_value=50).plot(\n",
    "  style=\"-\", label=\"X shift(3)\")\n",
    "act.resample('d').mean()['X'].tshift(3).plot(\n",
    "  style=\"--\", label=\"X tshift(3)\")\n",
    "plt.legend(loc=\"best\")\n",
    "plt.show()"
   ]
  }
 ],
 "metadata": {
  "kernelspec": {
   "display_name": "Python 3",
   "language": "python",
   "name": "python3"
  },
  "language_info": {
   "codemirror_mode": {
    "name": "ipython",
    "version": 3
   },
   "file_extension": ".py",
   "mimetype": "text/x-python",
   "name": "python",
   "nbconvert_exporter": "python",
   "pygments_lexer": "ipython3",
   "version": "3.10.4"
  },
  "vscode": {
   "interpreter": {
    "hash": "369f2c481f4da34e4445cda3fffd2e751bd1c4d706f27375911949ba6bb62e1c"
   }
  }
 },
 "nbformat": 4,
 "nbformat_minor": 5
}
