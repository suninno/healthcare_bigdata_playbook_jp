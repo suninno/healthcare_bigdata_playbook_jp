{
 "cells": [
  {
   "attachments": {},
   "cell_type": "markdown",
   "id": "b7412be7",
   "metadata": {},
   "source": [
    "## 7.5 データのピボットとピボットテーブルの作成"
   ]
  },
  {
   "attachments": {},
   "cell_type": "markdown",
   "id": "de07acd9",
   "metadata": {},
   "source": [
    "### 7.5.1 pivotメソッド"
   ]
  },
  {
   "cell_type": "code",
   "execution_count": 1,
   "id": "62aef096",
   "metadata": {},
   "outputs": [
    {
     "name": "stdout",
     "output_type": "stream",
     "text": [
      "      deviceId      Date  Act\n",
      "0   id_RTA6NEM  20230102   92\n",
      "1   id_RTA6NEM  20230103   75\n",
      "2   id_RTA6NEM  20230104   65\n",
      "3   id_RTA6NEM  20230105   96\n",
      "4   id_RTA6NEM  20230106   94\n",
      "5   id_RTA6NEM  20230107   97\n",
      "6   id_RTA6NEM  20230108   92\n",
      "7   id_RTA6NEM  20230109   91\n",
      "8   id_OTc6RjQ  20230102   82\n",
      "9   id_OTc6RjQ  20230103   65\n",
      "10  id_OTc6RjQ  20230104   55\n",
      "11  id_OTc6RjQ  20230105   86\n",
      "12  id_OTc6RjQ  20230106   84\n",
      "13  id_OTc6RjQ  20230107   87\n",
      "14  id_OTc6RjQ  20230108   82\n",
      "15  id_OTc6RjQ  20230109   81\n"
     ]
    }
   ],
   "source": [
    "import pandas as pd\n",
    "import numpy as np\n",
    "\n",
    "pd.set_option('display.notebook_repr_html', False)\n",
    "\n",
    "N201_act = pd.DataFrame(\n",
    "                [\n",
    "                  ['id_RTA6NEM','20230102', 92],\n",
    "                  ['id_RTA6NEM','20230103', 75],\n",
    "                  ['id_RTA6NEM','20230104', 65],\n",
    "                  ['id_RTA6NEM','20230105', 96],\n",
    "                  ['id_RTA6NEM','20230106', 94],\n",
    "                  ['id_RTA6NEM','20230107', 97],\n",
    "                  ['id_RTA6NEM','20230108', 92],\n",
    "                  ['id_RTA6NEM','20230109', 91],\n",
    "\n",
    "                  ['id_OTc6RjQ','20230102', 82],\n",
    "                  ['id_OTc6RjQ','20230103', 65],\n",
    "                  ['id_OTc6RjQ','20230104', 55],\n",
    "                  ['id_OTc6RjQ','20230105', 86],\n",
    "                  ['id_OTc6RjQ','20230106', 84],\n",
    "                  ['id_OTc6RjQ','20230107', 87],\n",
    "                  ['id_OTc6RjQ','20230108', 82],\n",
    "                  ['id_OTc6RjQ','20230109', 81],\n",
    "                ],\n",
    "                columns=['deviceId', 'Date', 'Act'])\n",
    "print(N201_act)"
   ]
  },
  {
   "cell_type": "code",
   "execution_count": 2,
   "id": "b68e057f",
   "metadata": {},
   "outputs": [
    {
     "name": "stdout",
     "output_type": "stream",
     "text": [
      "<class 'pandas.core.frame.DataFrame'>\n",
      "RangeIndex: 16 entries, 0 to 15\n",
      "Data columns (total 3 columns):\n",
      " #   Column    Non-Null Count  Dtype \n",
      "---  ------    --------------  ----- \n",
      " 0   deviceId  16 non-null     object\n",
      " 1   Date      16 non-null     object\n",
      " 2   Act       16 non-null     int64 \n",
      "dtypes: int64(1), object(2)\n",
      "memory usage: 512.0+ bytes\n"
     ]
    }
   ],
   "source": [
    "N201_act.info()"
   ]
  },
  {
   "cell_type": "code",
   "execution_count": 3,
   "id": "604ac402",
   "metadata": {},
   "outputs": [
    {
     "data": {
      "text/plain": [
       "Date        20230102  20230103  20230104  20230105  20230106  20230107  \\\n",
       "deviceId                                                                 \n",
       "id_OTc6RjQ        82        65        55        86        84        87   \n",
       "id_RTA6NEM        92        75        65        96        94        97   \n",
       "\n",
       "Date        20230108  20230109  \n",
       "deviceId                        \n",
       "id_OTc6RjQ        82        81  \n",
       "id_RTA6NEM        92        91  "
      ]
     },
     "execution_count": 3,
     "metadata": {},
     "output_type": "execute_result"
    }
   ],
   "source": [
    "N201_act.pivot(index='deviceId', columns='Date', values='Act')"
   ]
  },
  {
   "cell_type": "code",
   "execution_count": 4,
   "id": "c3a4eb7b",
   "metadata": {},
   "outputs": [
    {
     "data": {
      "text/plain": [
       "Date        20230102  20230103  20230104  20230105  20230106  20230107  \\\n",
       "deviceId                                                                 \n",
       "id_OTc6RjQ        82        65        55        86        84        87   \n",
       "id_RTA6NEM        92        75        65        96        94        97   \n",
       "\n",
       "Date        20230108  20230109  \n",
       "deviceId                        \n",
       "id_OTc6RjQ        82        81  \n",
       "id_RTA6NEM        92        91  "
      ]
     },
     "execution_count": 4,
     "metadata": {},
     "output_type": "execute_result"
    }
   ],
   "source": [
    "N201_act_pivot = N201_act.pivot(index='deviceId', columns='Date', values='Act')\n",
    "N201_act_pivot"
   ]
  },
  {
   "cell_type": "code",
   "execution_count": 5,
   "id": "6df74275",
   "metadata": {},
   "outputs": [
    {
     "name": "stdout",
     "output_type": "stream",
     "text": [
      "<class 'pandas.core.frame.DataFrame'>\n",
      "Index: 2 entries, id_OTc6RjQ to id_RTA6NEM\n",
      "Data columns (total 8 columns):\n",
      " #   Column    Non-Null Count  Dtype\n",
      "---  ------    --------------  -----\n",
      " 0   20230102  2 non-null      int64\n",
      " 1   20230103  2 non-null      int64\n",
      " 2   20230104  2 non-null      int64\n",
      " 3   20230105  2 non-null      int64\n",
      " 4   20230106  2 non-null      int64\n",
      " 5   20230107  2 non-null      int64\n",
      " 6   20230108  2 non-null      int64\n",
      " 7   20230109  2 non-null      int64\n",
      "dtypes: int64(8)\n",
      "memory usage: 144.0+ bytes\n"
     ]
    }
   ],
   "source": [
    "N201_act_pivot.info()"
   ]
  },
  {
   "attachments": {},
   "cell_type": "markdown",
   "id": "8884c67e",
   "metadata": {},
   "source": [
    "### 7.5.2 pivot_tableメソッド"
   ]
  },
  {
   "cell_type": "code",
   "execution_count": 6,
   "id": "7fb75205",
   "metadata": {},
   "outputs": [
    {
     "data": {
      "text/plain": [
       "     deviceId        date   status  cnt\n",
       "0  id_RTA6NEM  2022-09-01      ACT    5\n",
       "1  id_RTA6NEM  2022-09-01  NOT_ACT    4\n",
       "2  id_RTA6NEM  2022-09-01      ACT   10\n",
       "3  id_RTA6NEM  2022-09-01  NOT_ACT    3\n",
       "4  id_RTA6NEM  2022-09-01  NOT_ACT    8"
      ]
     },
     "execution_count": 6,
     "metadata": {},
     "output_type": "execute_result"
    }
   ],
   "source": [
    "import numpy as np\n",
    "import pandas as pd\n",
    "import matplotlib.pyplot as plt\n",
    "\n",
    "df1 = pd.read_csv('stackPerDevice_datetime.csv')\n",
    "df1.head()"
   ]
  },
  {
   "cell_type": "code",
   "execution_count": 7,
   "id": "85095984",
   "metadata": {},
   "outputs": [
    {
     "data": {
      "text/plain": [
       "deviceId    date        status \n",
       "id_OTc6RjQ  2022-09-01  ACT        808\n",
       "                        NOT_ACT    211\n",
       "            2022-09-02  ABSENCE      9\n",
       "                        ACT        809\n",
       "                        NOT_ACT     97\n",
       "                                  ... \n",
       "id_RTA6NEM  2022-09-27  NOT_ACT     82\n",
       "            2022-09-28  ACT        363\n",
       "                        NOT_ACT    316\n",
       "            2022-09-29  ACT         40\n",
       "                        NOT_ACT     91\n",
       "Name: cnt, Length: 76, dtype: int64"
      ]
     },
     "execution_count": 7,
     "metadata": {},
     "output_type": "execute_result"
    }
   ],
   "source": [
    "df1.groupby(['deviceId','date', 'status'])['cnt'].sum()"
   ]
  },
  {
   "cell_type": "code",
   "execution_count": 8,
   "id": "21d32f51",
   "metadata": {},
   "outputs": [
    {
     "data": {
      "text/plain": [
       "status                 ABSENCE     ACT  NOT_ACT\n",
       "deviceId   date                                \n",
       "id_OTc6RjQ 2022-09-01      NaN   808.0    211.0\n",
       "           2022-09-02      9.0   809.0     97.0\n",
       "           2022-09-03      NaN   894.0     33.0\n",
       "           2022-09-04      NaN   316.0    138.0\n",
       "           2022-09-05      NaN   356.0    191.0\n",
       "id_RTA6NEM 2022-09-01      NaN  2365.0    916.0\n",
       "           2022-09-02     24.0  1860.0    964.0\n",
       "           2022-09-03      NaN  1726.0    479.0\n",
       "           2022-09-04      NaN  1951.0    237.0\n",
       "           2022-09-05      NaN   302.0    141.0\n",
       "           2022-09-06      NaN   687.0    434.0\n",
       "           2022-09-07      NaN  1602.0    288.0\n",
       "           2022-09-08      NaN  1345.0    509.0\n",
       "           2022-09-09      3.0  1217.0    782.0\n",
       "           2022-09-10     25.0  1508.0   1148.0\n",
       "           2022-09-11      NaN  1058.0   1337.0\n",
       "           2022-09-12      NaN  1338.0   1469.0\n",
       "           2022-09-13     17.0  1950.0    855.0\n",
       "           2022-09-14     25.0   925.0    907.0\n",
       "           2022-09-15      8.0   171.0    279.0\n",
       "           2022-09-16      8.0    90.0     23.0\n",
       "           2022-09-17      NaN     9.0     15.0\n",
       "           2022-09-19      NaN    44.0     74.0\n",
       "           2022-09-20      NaN   904.0    653.0\n",
       "           2022-09-21      1.0    39.0    101.0\n",
       "           2022-09-22      NaN     NaN      5.0\n",
       "           2022-09-23      4.0    84.0    213.0\n",
       "           2022-09-24      NaN   316.0    122.0\n",
       "           2022-09-25      1.0   175.0     69.0\n",
       "           2022-09-26      NaN    25.0     13.0\n",
       "           2022-09-27      NaN    96.0     82.0\n",
       "           2022-09-28      NaN   363.0    316.0\n",
       "           2022-09-29      NaN    40.0     91.0"
      ]
     },
     "execution_count": 8,
     "metadata": {},
     "output_type": "execute_result"
    }
   ],
   "source": [
    "df1.groupby(['deviceId','date', 'status'])['cnt'].sum().unstack()"
   ]
  },
  {
   "cell_type": "code",
   "execution_count": 9,
   "id": "676b5d17",
   "metadata": {},
   "outputs": [
    {
     "data": {
      "text/plain": [
       "status                 ABSENCE     ACT  NOT_ACT\n",
       "deviceId   date                                \n",
       "id_OTc6RjQ 2022-09-01      NaN   808.0    211.0\n",
       "           2022-09-02      9.0   809.0     97.0\n",
       "           2022-09-03      NaN   894.0     33.0\n",
       "           2022-09-04      NaN   316.0    138.0\n",
       "           2022-09-05      NaN   356.0    191.0\n",
       "id_RTA6NEM 2022-09-01      NaN  2365.0    916.0\n",
       "           2022-09-02     24.0  1860.0    964.0\n",
       "           2022-09-03      NaN  1726.0    479.0\n",
       "           2022-09-04      NaN  1951.0    237.0\n",
       "           2022-09-05      NaN   302.0    141.0\n",
       "           2022-09-06      NaN   687.0    434.0\n",
       "           2022-09-07      NaN  1602.0    288.0\n",
       "           2022-09-08      NaN  1345.0    509.0\n",
       "           2022-09-09      3.0  1217.0    782.0\n",
       "           2022-09-10     25.0  1508.0   1148.0\n",
       "           2022-09-11      NaN  1058.0   1337.0\n",
       "           2022-09-12      NaN  1338.0   1469.0\n",
       "           2022-09-13     17.0  1950.0    855.0\n",
       "           2022-09-14     25.0   925.0    907.0\n",
       "           2022-09-15      8.0   171.0    279.0\n",
       "           2022-09-16      8.0    90.0     23.0\n",
       "           2022-09-17      NaN     9.0     15.0\n",
       "           2022-09-19      NaN    44.0     74.0\n",
       "           2022-09-20      NaN   904.0    653.0\n",
       "           2022-09-21      1.0    39.0    101.0\n",
       "           2022-09-22      NaN     NaN      5.0\n",
       "           2022-09-23      4.0    84.0    213.0\n",
       "           2022-09-24      NaN   316.0    122.0\n",
       "           2022-09-25      1.0   175.0     69.0\n",
       "           2022-09-26      NaN    25.0     13.0\n",
       "           2022-09-27      NaN    96.0     82.0\n",
       "           2022-09-28      NaN   363.0    316.0\n",
       "           2022-09-29      NaN    40.0     91.0"
      ]
     },
     "execution_count": 9,
     "metadata": {},
     "output_type": "execute_result"
    }
   ],
   "source": [
    "df1.pivot_table('cnt', index=['deviceId','date'],\n",
    "                columns='status', aggfunc='sum')"
   ]
  },
  {
   "cell_type": "code",
   "execution_count": 10,
   "id": "c1c89cf2",
   "metadata": {},
   "outputs": [
    {
     "data": {
      "text/plain": [
       "                          cnt                  status              \n",
       "status                ABSENCE     ACT NOT_ACT ABSENCE   ACT NOT_ACT\n",
       "deviceId   date                                                    \n",
       "id_OTc6RjQ 2022-09-01     NaN   808.0   211.0     NaN  31.0    14.0\n",
       "           2022-09-02     9.0   809.0    97.0     1.0  30.0     9.0\n",
       "           2022-09-03     NaN   894.0    33.0     NaN  25.0    10.0\n",
       "           2022-09-04     NaN   316.0   138.0     NaN  19.0    12.0\n",
       "           2022-09-05     NaN   356.0   191.0     NaN  11.0    18.0\n",
       "id_RTA6NEM 2022-09-01     NaN  2365.0   916.0     NaN  63.0    48.0\n",
       "           2022-09-02    24.0  1860.0   964.0     1.0  40.0    48.0\n",
       "           2022-09-03     NaN  1726.0   479.0     NaN  46.0    44.0\n",
       "           2022-09-04     NaN  1951.0   237.0     NaN  51.0    30.0\n",
       "           2022-09-05     NaN   302.0   141.0     NaN  26.0    24.0\n",
       "           2022-09-06     NaN   687.0   434.0     NaN  28.0    19.0\n",
       "           2022-09-07     NaN  1602.0   288.0     NaN  34.0    23.0\n",
       "           2022-09-08     NaN  1345.0   509.0     NaN  39.0    47.0\n",
       "           2022-09-09     3.0  1217.0   782.0     1.0  47.0    48.0\n",
       "           2022-09-10    25.0  1508.0  1148.0     1.0  41.0    52.0\n",
       "           2022-09-11     NaN  1058.0  1337.0     NaN  35.0    66.0\n",
       "           2022-09-12     NaN  1338.0  1469.0     NaN  53.0    58.0\n",
       "           2022-09-13    17.0  1950.0   855.0     1.0  53.0    58.0\n",
       "           2022-09-14    25.0   925.0   907.0     3.0  27.0    50.0\n",
       "           2022-09-15     8.0   171.0   279.0     2.0  10.0    20.0\n",
       "           2022-09-16     8.0    90.0    23.0     1.0   5.0     6.0\n",
       "           2022-09-17     NaN     9.0    15.0     NaN   2.0     2.0\n",
       "           2022-09-19     NaN    44.0    74.0     NaN   5.0     6.0\n",
       "           2022-09-20     NaN   904.0   653.0     NaN  27.0    38.0\n",
       "           2022-09-21     1.0    39.0   101.0     1.0   2.0    21.0\n",
       "           2022-09-22     NaN     NaN     5.0     NaN   NaN     3.0\n",
       "           2022-09-23     4.0    84.0   213.0     1.0   5.0    28.0\n",
       "           2022-09-24     NaN   316.0   122.0     NaN  12.0    21.0\n",
       "           2022-09-25     1.0   175.0    69.0     1.0   4.0    15.0\n",
       "           2022-09-26     NaN    25.0    13.0     NaN   1.0     4.0\n",
       "           2022-09-27     NaN    96.0    82.0     NaN   4.0    21.0\n",
       "           2022-09-28     NaN   363.0   316.0     NaN  17.0    29.0\n",
       "           2022-09-29     NaN    40.0    91.0     NaN   3.0    18.0"
      ]
     },
     "execution_count": 10,
     "metadata": {},
     "output_type": "execute_result"
    }
   ],
   "source": [
    "df1.pivot_table(index=['deviceId','date'], columns='status',\n",
    "                aggfunc={'cnt': sum, 'status': 'count'})"
   ]
  },
  {
   "attachments": {},
   "cell_type": "markdown",
   "id": "52ec7dd3",
   "metadata": {},
   "source": [
    "### 7.5.3 meltメソッド"
   ]
  },
  {
   "cell_type": "code",
   "execution_count": 11,
   "id": "a3e82c96",
   "metadata": {},
   "outputs": [
    {
     "data": {
      "text/plain": [
       "        deviceId        date variable    value\n",
       "0     id_RTA6NEM  2022-09-01   status      ACT\n",
       "1     id_RTA6NEM  2022-09-01   status  NOT_ACT\n",
       "2     id_RTA6NEM  2022-09-01   status      ACT\n",
       "3     id_RTA6NEM  2022-09-01   status  NOT_ACT\n",
       "4     id_RTA6NEM  2022-09-01   status  NOT_ACT\n",
       "...          ...         ...      ...      ...\n",
       "1715  id_OTc6RjQ  2022-09-05   status  NOT_ACT\n",
       "1716  id_OTc6RjQ  2022-09-05   status      ACT\n",
       "1717  id_OTc6RjQ  2022-09-05   status  NOT_ACT\n",
       "1718  id_OTc6RjQ  2022-09-05   status      ACT\n",
       "1719  id_OTc6RjQ  2022-09-05   status      ACT\n",
       "\n",
       "[1720 rows x 4 columns]"
      ]
     },
     "execution_count": 11,
     "metadata": {},
     "output_type": "execute_result"
    }
   ],
   "source": [
    "df1.melt(id_vars=['deviceId','date'], value_vars=['status'])"
   ]
  },
  {
   "cell_type": "code",
   "execution_count": 12,
   "id": "d43e2dca",
   "metadata": {},
   "outputs": [
    {
     "data": {
      "text/plain": [
       "      deviceId      Date  Act\n",
       "0   id_RTA6NEM  20230102   92\n",
       "1   id_RTA6NEM  20230103   75\n",
       "2   id_RTA6NEM  20230104   65\n",
       "3   id_RTA6NEM  20230105   96\n",
       "4   id_RTA6NEM  20230106   94\n",
       "5   id_RTA6NEM  20230107   97\n",
       "6   id_RTA6NEM  20230108   92\n",
       "7   id_RTA6NEM  20230109   91\n",
       "8   id_OTc6RjQ  20230102   82\n",
       "9   id_OTc6RjQ  20230103   65\n",
       "10  id_OTc6RjQ  20230104   55\n",
       "11  id_OTc6RjQ  20230105   86\n",
       "12  id_OTc6RjQ  20230106   84\n",
       "13  id_OTc6RjQ  20230107   87\n",
       "14  id_OTc6RjQ  20230108   82\n",
       "15  id_OTc6RjQ  20230109   81"
      ]
     },
     "execution_count": 12,
     "metadata": {},
     "output_type": "execute_result"
    }
   ],
   "source": [
    "N201_act"
   ]
  },
  {
   "cell_type": "code",
   "execution_count": 13,
   "id": "7bcac805",
   "metadata": {},
   "outputs": [
    {
     "data": {
      "text/plain": [
       "        Date  value\n",
       "0   20230102     82\n",
       "1   20230102     92\n",
       "2   20230103     65\n",
       "3   20230103     75\n",
       "4   20230104     55\n",
       "5   20230104     65\n",
       "6   20230105     86\n",
       "7   20230105     96\n",
       "8   20230106     84\n",
       "9   20230106     94\n",
       "10  20230107     87\n",
       "11  20230107     97\n",
       "12  20230108     82\n",
       "13  20230108     92\n",
       "14  20230109     81\n",
       "15  20230109     91"
      ]
     },
     "execution_count": 13,
     "metadata": {},
     "output_type": "execute_result"
    }
   ],
   "source": [
    "N201_act.pivot(index='deviceId', columns='Date', values='Act').melt()"
   ]
  }
 ],
 "metadata": {
  "kernelspec": {
   "display_name": "Python 3",
   "language": "python",
   "name": "python3"
  },
  "language_info": {
   "codemirror_mode": {
    "name": "ipython",
    "version": 3
   },
   "file_extension": ".py",
   "mimetype": "text/x-python",
   "name": "python",
   "nbconvert_exporter": "python",
   "pygments_lexer": "ipython3",
   "version": "3.10.4"
  },
  "vscode": {
   "interpreter": {
    "hash": "369f2c481f4da34e4445cda3fffd2e751bd1c4d706f27375911949ba6bb62e1c"
   }
  }
 },
 "nbformat": 4,
 "nbformat_minor": 5
}
