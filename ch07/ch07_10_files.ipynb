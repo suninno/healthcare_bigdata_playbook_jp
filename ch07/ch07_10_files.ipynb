{
 "cells": [
  {
   "cell_type": "markdown",
   "metadata": {},
   "source": [
    "## 7.10. ファイルから読み込む/保存する"
   ]
  },
  {
   "cell_type": "markdown",
   "metadata": {},
   "source": [
    "### 7.10.1 ファイルから読み込む"
   ]
  },
  {
   "cell_type": "code",
   "execution_count": 1,
   "metadata": {},
   "outputs": [
    {
     "data": {
      "text/plain": [
       "                         t   x   y   z\n",
       "0  2022-01-01 00:01:40.363  33  76  56\n",
       "1  2022-01-01 00:01:42.961  34  87  56\n",
       "2  2022-01-01 00:01:45.562  25  89  47\n",
       "3  2022-01-01 00:01:48.163  11  70  50\n",
       "4  2022-01-01 00:02:08.864  33  72  58"
      ]
     },
     "execution_count": 1,
     "metadata": {},
     "output_type": "execute_result"
    }
   ],
   "source": [
    "import pandas as pd\n",
    "pd.set_option('display.notebook_repr_html', False)\n",
    "\n",
    "df = pd.read_csv('OTg6QzA_activities.csv', header=0, names=['t','x','y','z'])\n",
    "df.head()"
   ]
  },
  {
   "cell_type": "code",
   "execution_count": 2,
   "metadata": {},
   "outputs": [
    {
     "data": {
      "text/plain": [
       "                         t   y   z\n",
       "0  2022-01-01 00:01:40.363  76  56\n",
       "1  2022-01-01 00:01:42.961  87  56\n",
       "2  2022-01-01 00:01:45.562  89  47\n",
       "3  2022-01-01 00:01:48.163  70  50\n",
       "4  2022-01-01 00:02:08.864  72  58"
      ]
     },
     "execution_count": 2,
     "metadata": {},
     "output_type": "execute_result"
    }
   ],
   "source": [
    "# usecolsで必要な列データだけを読み込むことができる\n",
    "df = pd.read_csv('OTg6QzA_activities.csv', header=0, names=['t','y','z'], usecols=[0,2,3])\n",
    "df.head()"
   ]
  },
  {
   "cell_type": "code",
   "execution_count": 3,
   "metadata": {},
   "outputs": [
    {
     "data": {
      "text/plain": [
       "                          x   y   z\n",
       "t                                  \n",
       "2022-01-01 00:01:40.363  33  76  56\n",
       "2022-01-01 00:01:42.961  34  87  56\n",
       "2022-01-01 00:01:45.562  25  89  47\n",
       "2022-01-01 00:01:48.163  11  70  50\n",
       "2022-01-01 00:02:08.864  33  72  58"
      ]
     },
     "execution_count": 3,
     "metadata": {},
     "output_type": "execute_result"
    }
   ],
   "source": [
    "# index_colを用いてインデックスを生成できる\n",
    "df = pd.read_csv('OTg6QzA_activities.csv', header=0, names=['t','x','y','z'], index_col='t')\n",
    "df.head()"
   ]
  },
  {
   "cell_type": "code",
   "execution_count": 4,
   "metadata": {},
   "outputs": [
    {
     "data": {
      "text/plain": [
       "Index(['2022-01-01 00:01:40.363', '2022-01-01 00:01:42.961',\n",
       "       '2022-01-01 00:01:45.562', '2022-01-01 00:01:48.163',\n",
       "       '2022-01-01 00:02:08.864', '2022-01-01 00:02:21.765',\n",
       "       '2022-01-01 00:02:32.092', '2022-01-01 00:02:37.297',\n",
       "       '2022-01-01 00:03:10.795', '2022-01-01 00:03:31.301',\n",
       "       ...\n",
       "       '2022-01-31 23:25:15.974', '2022-01-31 23:27:32.381',\n",
       "       '2022-01-31 23:27:42.580', '2022-01-31 23:27:50.282',\n",
       "       '2022-01-31 23:27:55.381', '2022-01-31 23:28:00.481',\n",
       "       '2022-01-31 23:28:41.683', '2022-01-31 23:28:49.383',\n",
       "       '2022-01-31 23:32:36.426', '2022-01-31 23:32:44.126'],\n",
       "      dtype='object', name='t', length=66281)"
      ]
     },
     "execution_count": 4,
     "metadata": {},
     "output_type": "execute_result"
    }
   ],
   "source": [
    "df.index"
   ]
  },
  {
   "cell_type": "code",
   "execution_count": 5,
   "metadata": {},
   "outputs": [
    {
     "data": {
      "text/plain": [
       "                             t   x    y    z\n",
       "0      2022-01-01 00:01:40.363  33   76   56\n",
       "1      2022-01-01 00:01:42.961  34   87   56\n",
       "2      2022-01-01 00:01:45.562  25   89   47\n",
       "3      2022-01-01 00:01:48.163  11   70   50\n",
       "4      2022-01-01 00:02:08.864  33   72   58\n",
       "...                        ...  ..  ...  ...\n",
       "66276  2022-01-31 23:28:00.481 -91  143  136\n",
       "66277  2022-01-31 23:28:41.683 -89  145  138\n",
       "66278  2022-01-31 23:28:49.383 -93  138  137\n",
       "66279  2022-01-31 23:32:36.426 -93  131  137\n",
       "66280  2022-01-31 23:32:44.126 -91  129  138\n",
       "\n",
       "[66281 rows x 4 columns]"
      ]
     },
     "execution_count": 5,
     "metadata": {},
     "output_type": "execute_result"
    }
   ],
   "source": [
    "df1 = pd.read_csv('OTg6QzA_activities.csv', header=0,\n",
    "                  names=['t','x','y','z'])\n",
    "df1"
   ]
  },
  {
   "cell_type": "code",
   "execution_count": 6,
   "metadata": {},
   "outputs": [
    {
     "data": {
      "text/plain": [
       "                             t   x    y    z\n",
       "60000  2022-01-29 11:33:16.265 -94  112  140\n",
       "60001  2022-01-29 11:33:18.866 -92  121  141\n",
       "60002  2022-01-29 11:33:21.466 -82  115  143\n",
       "60003  2022-01-29 11:33:24.066 -96  120  141\n",
       "60004  2022-01-29 11:33:26.666 -94  120  142\n",
       "...                        ...  ..  ...  ...\n",
       "66276  2022-01-31 23:28:00.481 -91  143  136\n",
       "66277  2022-01-31 23:28:41.683 -89  145  138\n",
       "66278  2022-01-31 23:28:49.383 -93  138  137\n",
       "66279  2022-01-31 23:32:36.426 -93  131  137\n",
       "66280  2022-01-31 23:32:44.126 -91  129  138\n",
       "\n",
       "[6281 rows x 4 columns]"
      ]
     },
     "execution_count": 6,
     "metadata": {},
     "output_type": "execute_result"
    }
   ],
   "source": [
    "df1[60000:]"
   ]
  },
  {
   "cell_type": "code",
   "execution_count": 7,
   "metadata": {},
   "outputs": [
    {
     "data": {
      "text/plain": [
       "                            t   x    y    z\n",
       "0     2022-01-29 11:33:16.265 -94  112  140\n",
       "1     2022-01-29 11:33:18.866 -92  121  141\n",
       "2     2022-01-29 11:33:21.466 -82  115  143\n",
       "3     2022-01-29 11:33:24.066 -96  120  141\n",
       "4     2022-01-29 11:33:26.666 -94  120  142\n",
       "...                       ...  ..  ...  ...\n",
       "6276  2022-01-31 23:28:00.481 -91  143  136\n",
       "6277  2022-01-31 23:28:41.683 -89  145  138\n",
       "6278  2022-01-31 23:28:49.383 -93  138  137\n",
       "6279  2022-01-31 23:32:36.426 -93  131  137\n",
       "6280  2022-01-31 23:32:44.126 -91  129  138\n",
       "\n",
       "[6281 rows x 4 columns]"
      ]
     },
     "execution_count": 7,
     "metadata": {},
     "output_type": "execute_result"
    }
   ],
   "source": [
    "# skiprows引数を付与し、一部のデータのみを読み込む\n",
    "df2 = pd.read_csv('OTg6QzA_activities.csv', header=0,\n",
    "                  names=['t','x','y','z'], skiprows=60000)\n",
    "df2"
   ]
  },
  {
   "cell_type": "code",
   "execution_count": 8,
   "metadata": {},
   "outputs": [
    {
     "data": {
      "text/plain": [
       "                         t   x   y   z\n",
       "0  2022-01-01 00:01:40.363  33  76  56\n",
       "1  2022-01-01 00:01:42.961  34  87  56\n",
       "2  2022-01-01 00:01:45.562  25  89  47\n",
       "3  2022-01-01 00:01:48.163  11  70  50\n",
       "4  2022-01-01 00:02:08.864  33  72  58\n",
       "5  2022-01-01 00:02:21.765  21  68  58\n",
       "6  2022-01-01 00:02:32.092  24  69  56\n",
       "7  2022-01-01 00:02:37.297  27  74  56\n",
       "8  2022-01-01 00:03:10.795  29  66  58\n",
       "9  2022-01-01 00:03:31.301  27  78  57"
      ]
     },
     "execution_count": 8,
     "metadata": {},
     "output_type": "execute_result"
    }
   ],
   "source": [
    "df3 = pd.read_csv('OTg6QzA_activities.csv', header=0,\n",
    "                  names=['t','x','y','z'])\n",
    "df3[:10]"
   ]
  },
  {
   "cell_type": "code",
   "execution_count": 9,
   "metadata": {},
   "outputs": [
    {
     "data": {
      "text/plain": [
       "                         t   x   y   z\n",
       "0  2022-01-01 00:01:42.961  34  87  56\n",
       "1  2022-01-01 00:01:48.163  11  70  50\n",
       "2  2022-01-01 00:02:21.765  21  68  58\n",
       "3  2022-01-01 00:02:32.092  24  69  56\n",
       "4  2022-01-01 00:02:37.297  27  74  56\n",
       "5  2022-01-01 00:03:10.795  29  66  58\n",
       "6  2022-01-01 00:03:31.301  27  78  57\n",
       "7  2022-01-01 00:03:41.495  19  62  51\n",
       "8  2022-01-01 00:03:43.995  29  69  59\n",
       "9  2022-01-01 00:04:30.098  25  74  52"
      ]
     },
     "execution_count": 9,
     "metadata": {},
     "output_type": "execute_result"
    }
   ],
   "source": [
    "# skiprows引数を付与し、一部のデータのみを読み込む\n",
    "df4 = pd.read_csv('OTg6QzA_activities.csv', header=0,\n",
    "                  names=['t','x','y','z'], skiprows=[1,3,5] )\n",
    "df4[:10]"
   ]
  },
  {
   "cell_type": "code",
   "execution_count": 10,
   "metadata": {},
   "outputs": [
    {
     "data": {
      "text/plain": [
       "   2022-01-29 11:33:13.665  -92  118  142\n",
       "0  2022-01-29 11:33:16.265  -94  112  140\n",
       "1  2022-01-29 11:33:18.866  -92  121  141\n",
       "2  2022-01-29 11:33:21.466  -82  115  143\n",
       "3  2022-01-29 11:33:24.066  -96  120  141\n",
       "4  2022-01-29 11:33:26.666  -94  120  142"
      ]
     },
     "execution_count": 10,
     "metadata": {},
     "output_type": "execute_result"
    }
   ],
   "source": [
    "df5 = pd.read_csv('OTg6QzA_activities.csv', header=0, skiprows=60000,\n",
    "                  nrows=5)\n",
    "df5"
   ]
  },
  {
   "attachments": {},
   "cell_type": "markdown",
   "metadata": {},
   "source": [
    "### 7.10.2 ファイルの保存"
   ]
  },
  {
   "cell_type": "code",
   "execution_count": 11,
   "metadata": {},
   "outputs": [
    {
     "data": {
      "text/plain": [
       "                             t   x    y    z\n",
       "0      2022-01-01 00:01:40.363  33   76   56\n",
       "1      2022-01-01 00:01:42.961  34   87   56\n",
       "2      2022-01-01 00:01:45.562  25   89   47\n",
       "3      2022-01-01 00:01:48.163  11   70   50\n",
       "4      2022-01-01 00:02:08.864  33   72   58\n",
       "...                        ...  ..  ...  ...\n",
       "66276  2022-01-31 23:28:00.481 -91  143  136\n",
       "66277  2022-01-31 23:28:41.683 -89  145  138\n",
       "66278  2022-01-31 23:28:49.383 -93  138  137\n",
       "66279  2022-01-31 23:32:36.426 -93  131  137\n",
       "66280  2022-01-31 23:32:44.126 -91  129  138\n",
       "\n",
       "[66281 rows x 4 columns]"
      ]
     },
     "execution_count": 11,
     "metadata": {},
     "output_type": "execute_result"
    }
   ],
   "source": [
    "df = pd.read_csv('OTg6QzA_activities.csv', header=0, names=['t','x','y','z'])\n",
    "df"
   ]
  },
  {
   "cell_type": "code",
   "execution_count": 12,
   "metadata": {},
   "outputs": [],
   "source": [
    "df.eval('FQ = (x >= 0 and y >= 200)', inplace=True)"
   ]
  },
  {
   "cell_type": "code",
   "execution_count": 13,
   "metadata": {},
   "outputs": [
    {
     "data": {
      "text/plain": [
       "                             t    x    y    z    FQ\n",
       "78     2022-01-01 04:05:01.958   62  559    5  True\n",
       "79     2022-01-01 04:05:09.559   61  551    4  True\n",
       "80     2022-01-01 04:34:16.548   17  469   20  True\n",
       "81     2022-01-01 04:34:19.148   16  476   24  True\n",
       "82     2022-01-01 04:34:21.751    4  473   31  True\n",
       "...                        ...  ...  ...  ...   ...\n",
       "65876  2022-01-31 15:18:52.945   96  233  114  True\n",
       "65877  2022-01-31 15:18:55.545   75  239   80  True\n",
       "65878  2022-01-31 15:18:58.144   95  243   90  True\n",
       "65879  2022-01-31 15:19:00.746  111  255   78  True\n",
       "66220  2022-01-31 22:36:03.919    1  234  101  True\n",
       "\n",
       "[7823 rows x 5 columns]"
      ]
     },
     "execution_count": 13,
     "metadata": {},
     "output_type": "execute_result"
    }
   ],
   "source": [
    "df.query('FQ == True')"
   ]
  },
  {
   "cell_type": "code",
   "execution_count": 14,
   "metadata": {},
   "outputs": [
    {
     "data": {
      "text/plain": [
       "                             t   x    y    z     FQ\n",
       "0      2022-01-01 00:01:40.363  33   76   56  False\n",
       "1      2022-01-01 00:01:42.961  34   87   56  False\n",
       "2      2022-01-01 00:01:45.562  25   89   47  False\n",
       "3      2022-01-01 00:01:48.163  11   70   50  False\n",
       "4      2022-01-01 00:02:08.864  33   72   58  False\n",
       "...                        ...  ..  ...  ...    ...\n",
       "66276  2022-01-31 23:28:00.481 -91  143  136  False\n",
       "66277  2022-01-31 23:28:41.683 -89  145  138  False\n",
       "66278  2022-01-31 23:28:49.383 -93  138  137  False\n",
       "66279  2022-01-31 23:32:36.426 -93  131  137  False\n",
       "66280  2022-01-31 23:32:44.126 -91  129  138  False\n",
       "\n",
       "[66281 rows x 5 columns]"
      ]
     },
     "execution_count": 14,
     "metadata": {},
     "output_type": "execute_result"
    }
   ],
   "source": [
    "df"
   ]
  },
  {
   "cell_type": "code",
   "execution_count": 15,
   "metadata": {},
   "outputs": [],
   "source": [
    "# df.query('FQ == True')"
   ]
  },
  {
   "cell_type": "code",
   "execution_count": 16,
   "metadata": {},
   "outputs": [],
   "source": [
    "df.to_csv('OTg6QzA_FQ.csv' , index_label='No')"
   ]
  },
  {
   "cell_type": "code",
   "execution_count": 17,
   "metadata": {},
   "outputs": [],
   "source": [
    "df = pd.read_csv('OTg6QzA_activities.csv', header=0, names=['t','x','y','z'])\n",
    "df.to_json('OTg6QzA_FQ.json')"
   ]
  }
 ],
 "metadata": {
  "kernelspec": {
   "display_name": "Python 3",
   "language": "python",
   "name": "python3"
  },
  "language_info": {
   "codemirror_mode": {
    "name": "ipython",
    "version": 3
   },
   "file_extension": ".py",
   "mimetype": "text/x-python",
   "name": "python",
   "nbconvert_exporter": "python",
   "pygments_lexer": "ipython3",
   "version": "3.10.4"
  },
  "orig_nbformat": 4,
  "vscode": {
   "interpreter": {
    "hash": "369f2c481f4da34e4445cda3fffd2e751bd1c4d706f27375911949ba6bb62e1c"
   }
  }
 },
 "nbformat": 4,
 "nbformat_minor": 2
}
