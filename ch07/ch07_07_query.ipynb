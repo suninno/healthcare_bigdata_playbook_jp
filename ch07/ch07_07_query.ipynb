{
 "cells": [
  {
   "cell_type": "markdown",
   "metadata": {},
   "source": [
    "## 7.7 queryとevalメソッド"
   ]
  },
  {
   "attachments": {},
   "cell_type": "markdown",
   "metadata": {},
   "source": [
    "### 7.7.1 queryメソッド"
   ]
  },
  {
   "cell_type": "code",
   "execution_count": 2,
   "metadata": {},
   "outputs": [
    {
     "data": {
      "text/plain": [
       "                 timestamp   X   Y   Z\n",
       "0  2022-01-01 00:01:40.363  33  76  56\n",
       "1  2022-01-01 00:01:42.961  34  87  56\n",
       "2  2022-01-01 00:01:45.562  25  89  47\n",
       "3  2022-01-01 00:01:48.163  11  70  50\n",
       "4  2022-01-01 00:02:08.864  33  72  58"
      ]
     },
     "execution_count": 2,
     "metadata": {},
     "output_type": "execute_result"
    }
   ],
   "source": [
    "import numpy as np\n",
    "import pandas as pd\n",
    "import matplotlib.pyplot as plt\n",
    "from datetime import datetime\n",
    "\n",
    "pd.set_option('display.notebook_repr_html', False)\n",
    "\n",
    "df = pd.read_csv('OTg6QzA_activities.csv')\n",
    "df.shape # 形状\n",
    "df.head()"
   ]
  },
  {
   "cell_type": "code",
   "execution_count": 3,
   "metadata": {},
   "outputs": [
    {
     "data": {
      "text/plain": [
       "                     timestamp   X    Y   Z\n",
       "78     2022-01-01 04:05:01.958  62  559   5\n",
       "79     2022-01-01 04:05:09.559  61  551   4\n",
       "80     2022-01-01 04:34:16.548  17  469  20\n",
       "81     2022-01-01 04:34:19.148  16  476  24\n",
       "82     2022-01-01 04:34:21.751   4  473  31\n",
       "...                        ...  ..  ...  ..\n",
       "65410  2022-01-30 17:37:36.335  36  242  36\n",
       "65739  2022-01-31 06:53:21.576  17  225  33\n",
       "65740  2022-01-31 06:53:21.778   1  226  29\n",
       "65778  2022-01-31 09:31:17.124  91  250  35\n",
       "65791  2022-01-31 12:45:01.908  67  234  41\n",
       "\n",
       "[2474 rows x 4 columns]"
      ]
     },
     "execution_count": 3,
     "metadata": {},
     "output_type": "execute_result"
    }
   ],
   "source": [
    "# X > 0 and Y > 200 and Z < 50のデータのみ抽出\n",
    "df[ (df['X'] > 0) & (df['Y'] > 200) & (df['Z'] < 50)]"
   ]
  },
  {
   "cell_type": "code",
   "execution_count": 4,
   "metadata": {},
   "outputs": [
    {
     "data": {
      "text/plain": [
       "                     timestamp   X    Y   Z\n",
       "78     2022-01-01 04:05:01.958  62  559   5\n",
       "79     2022-01-01 04:05:09.559  61  551   4\n",
       "80     2022-01-01 04:34:16.548  17  469  20\n",
       "81     2022-01-01 04:34:19.148  16  476  24\n",
       "82     2022-01-01 04:34:21.751   4  473  31\n",
       "...                        ...  ..  ...  ..\n",
       "65410  2022-01-30 17:37:36.335  36  242  36\n",
       "65739  2022-01-31 06:53:21.576  17  225  33\n",
       "65740  2022-01-31 06:53:21.778   1  226  29\n",
       "65778  2022-01-31 09:31:17.124  91  250  35\n",
       "65791  2022-01-31 12:45:01.908  67  234  41\n",
       "\n",
       "[2474 rows x 4 columns]"
      ]
     },
     "execution_count": 4,
     "metadata": {},
     "output_type": "execute_result"
    }
   ],
   "source": [
    "THRESHOLD_Y = 200\n",
    "df.query('X > 0 and Y > @THRESHOLD_Y and Z < 50')"
   ]
  },
  {
   "attachments": {},
   "cell_type": "markdown",
   "metadata": {},
   "source": [
    "### 7.7.2 evalメソッド"
   ]
  },
  {
   "cell_type": "code",
   "execution_count": 5,
   "metadata": {},
   "outputs": [
    {
     "data": {
      "text/plain": [
       "0        False\n",
       "1        False\n",
       "2        False\n",
       "3        False\n",
       "4        False\n",
       "         ...  \n",
       "66276    False\n",
       "66277    False\n",
       "66278    False\n",
       "66279    False\n",
       "66280    False\n",
       "Length: 66281, dtype: bool"
      ]
     },
     "execution_count": 5,
     "metadata": {},
     "output_type": "execute_result"
    }
   ],
   "source": [
    "df.eval(' X > 0 and Y > 200 and Z < 50')"
   ]
  },
  {
   "cell_type": "markdown",
   "metadata": {},
   "source": [
    "#### eval論理演算と代入"
   ]
  },
  {
   "cell_type": "code",
   "execution_count": 6,
   "metadata": {},
   "outputs": [],
   "source": [
    "df.eval('FQ = (X > 0 and Y > 200)', inplace=True)"
   ]
  },
  {
   "cell_type": "code",
   "execution_count": 7,
   "metadata": {},
   "outputs": [
    {
     "data": {
      "text/plain": [
       "                     timestamp    X    Y    Z    FQ\n",
       "78     2022-01-01 04:05:01.958   62  559    5  True\n",
       "79     2022-01-01 04:05:09.559   61  551    4  True\n",
       "80     2022-01-01 04:34:16.548   17  469   20  True\n",
       "81     2022-01-01 04:34:19.148   16  476   24  True\n",
       "82     2022-01-01 04:34:21.751    4  473   31  True\n",
       "...                        ...  ...  ...  ...   ...\n",
       "65876  2022-01-31 15:18:52.945   96  233  114  True\n",
       "65877  2022-01-31 15:18:55.545   75  239   80  True\n",
       "65878  2022-01-31 15:18:58.144   95  243   90  True\n",
       "65879  2022-01-31 15:19:00.746  111  255   78  True\n",
       "66220  2022-01-31 22:36:03.919    1  234  101  True\n",
       "\n",
       "[7646 rows x 5 columns]"
      ]
     },
     "execution_count": 7,
     "metadata": {},
     "output_type": "execute_result"
    }
   ],
   "source": [
    "df.query('FQ == True')"
   ]
  },
  {
   "cell_type": "code",
   "execution_count": 8,
   "metadata": {},
   "outputs": [
    {
     "data": {
      "text/plain": [
       "                     timestamp    X    Y    Z    FQ\n",
       "78     2022-01-01 04:05:01.958   62  559    5  True\n",
       "79     2022-01-01 04:05:09.559   61  551    4  True\n",
       "80     2022-01-01 04:34:16.548   17  469   20  True\n",
       "81     2022-01-01 04:34:19.148   16  476   24  True\n",
       "82     2022-01-01 04:34:21.751    4  473   31  True\n",
       "...                        ...  ...  ...  ...   ...\n",
       "65876  2022-01-31 15:18:52.945   96  233  114  True\n",
       "65877  2022-01-31 15:18:55.545   75  239   80  True\n",
       "65878  2022-01-31 15:18:58.144   95  243   90  True\n",
       "65879  2022-01-31 15:19:00.746  111  255   78  True\n",
       "66220  2022-01-31 22:36:03.919    1  234  101  True\n",
       "\n",
       "[7646 rows x 5 columns]"
      ]
     },
     "execution_count": 8,
     "metadata": {},
     "output_type": "execute_result"
    }
   ],
   "source": [
    "df[ (df['X'] > 0) & (df['Y'] > 200) ]"
   ]
  },
  {
   "cell_type": "markdown",
   "metadata": {},
   "source": [
    "#### eval数値演算と代入"
   ]
  },
  {
   "cell_type": "code",
   "execution_count": 9,
   "metadata": {},
   "outputs": [
    {
     "data": {
      "text/plain": [
       "                     timestamp   X    Y    Z     FQ    X2\n",
       "0      2022-01-01 00:01:40.363  33   76   56  False  1089\n",
       "1      2022-01-01 00:01:42.961  34   87   56  False  1156\n",
       "2      2022-01-01 00:01:45.562  25   89   47  False   625\n",
       "3      2022-01-01 00:01:48.163  11   70   50  False   121\n",
       "4      2022-01-01 00:02:08.864  33   72   58  False  1089\n",
       "...                        ...  ..  ...  ...    ...   ...\n",
       "66276  2022-01-31 23:28:00.481 -91  143  136  False  8281\n",
       "66277  2022-01-31 23:28:41.683 -89  145  138  False  7921\n",
       "66278  2022-01-31 23:28:49.383 -93  138  137  False  8649\n",
       "66279  2022-01-31 23:32:36.426 -93  131  137  False  8649\n",
       "66280  2022-01-31 23:32:44.126 -91  129  138  False  8281\n",
       "\n",
       "[66281 rows x 6 columns]"
      ]
     },
     "execution_count": 9,
     "metadata": {},
     "output_type": "execute_result"
    }
   ],
   "source": [
    "df.eval('X2 = X ** 2', inplace=True)\n",
    "df"
   ]
  },
  {
   "cell_type": "code",
   "execution_count": 10,
   "metadata": {},
   "outputs": [
    {
     "data": {
      "text/plain": [
       "                     timestamp   X    Y    Z     FQ    X2   X^2\n",
       "0      2022-01-01 00:01:40.363  33   76   56  False  1089  1089\n",
       "1      2022-01-01 00:01:42.961  34   87   56  False  1156  1156\n",
       "2      2022-01-01 00:01:45.562  25   89   47  False   625   625\n",
       "3      2022-01-01 00:01:48.163  11   70   50  False   121   121\n",
       "4      2022-01-01 00:02:08.864  33   72   58  False  1089  1089\n",
       "...                        ...  ..  ...  ...    ...   ...   ...\n",
       "66276  2022-01-31 23:28:00.481 -91  143  136  False  8281  8281\n",
       "66277  2022-01-31 23:28:41.683 -89  145  138  False  7921  7921\n",
       "66278  2022-01-31 23:28:49.383 -93  138  137  False  8649  8649\n",
       "66279  2022-01-31 23:32:36.426 -93  131  137  False  8649  8649\n",
       "66280  2022-01-31 23:32:44.126 -91  129  138  False  8281  8281\n",
       "\n",
       "[66281 rows x 7 columns]"
      ]
     },
     "execution_count": 10,
     "metadata": {},
     "output_type": "execute_result"
    }
   ],
   "source": [
    "df['X^2'] = df['X'] ** 2\n",
    "df"
   ]
  }
 ],
 "metadata": {
  "kernelspec": {
   "display_name": "Python 3",
   "language": "python",
   "name": "python3"
  },
  "language_info": {
   "codemirror_mode": {
    "name": "ipython",
    "version": 3
   },
   "file_extension": ".py",
   "mimetype": "text/x-python",
   "name": "python",
   "nbconvert_exporter": "python",
   "pygments_lexer": "ipython3",
   "version": "3.10.4"
  },
  "orig_nbformat": 4,
  "vscode": {
   "interpreter": {
    "hash": "369f2c481f4da34e4445cda3fffd2e751bd1c4d706f27375911949ba6bb62e1c"
   }
  }
 },
 "nbformat": 4,
 "nbformat_minor": 2
}
