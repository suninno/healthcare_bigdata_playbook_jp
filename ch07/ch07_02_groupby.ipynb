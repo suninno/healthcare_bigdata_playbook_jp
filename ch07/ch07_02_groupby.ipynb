{
 "cells": [
  {
   "cell_type": "markdown",
   "metadata": {},
   "source": [
    "## 7.2 GroupByメソッド"
   ]
  },
  {
   "cell_type": "code",
   "execution_count": 2,
   "metadata": {},
   "outputs": [
    {
     "name": "stdout",
     "output_type": "stream",
     "text": [
      "       Date  Act  Breath\n",
      "0  20230102   92      76\n",
      "1  20230102   89      75\n",
      "2  20230102   81      69\n",
      "3  20230103   65      87\n",
      "4  20230104   96      76\n"
     ]
    }
   ],
   "source": [
    "import pandas as pd\n",
    "import numpy as np\n",
    "\n",
    "pd.set_option('display.notebook_repr_html', False)\n",
    "\n",
    "adams_act = pd.DataFrame(\n",
    "                [\n",
    "                  ['20230102', 92, 76],\n",
    "                  ['20230102', 89, 75], # 新規\n",
    "                  ['20230102', 81, 69], # 新規\n",
    "                  ['20230103', 65, 87],\n",
    "                  ['20230104', 96, 76]\n",
    "                ],\n",
    "                columns=['Date', 'Act', 'Breath'])\n",
    "print(adams_act)"
   ]
  },
  {
   "cell_type": "code",
   "execution_count": 3,
   "metadata": {},
   "outputs": [
    {
     "data": {
      "text/plain": [
       "<pandas.core.groupby.generic.DataFrameGroupBy object at 0x0000022062CCF610>"
      ]
     },
     "execution_count": 3,
     "metadata": {},
     "output_type": "execute_result"
    }
   ],
   "source": [
    "adams_act.groupby('Date')"
   ]
  },
  {
   "cell_type": "code",
   "execution_count": 4,
   "metadata": {},
   "outputs": [
    {
     "data": {
      "text/plain": [
       "           Act                                                    Breath  \\\n",
       "         count       mean       std   min   25%   50%   75%   max  count   \n",
       "Date                                                                       \n",
       "20230102   3.0  87.333333  5.686241  81.0  85.0  89.0  90.5  92.0    3.0   \n",
       "20230103   1.0  65.000000       NaN  65.0  65.0  65.0  65.0  65.0    1.0   \n",
       "20230104   1.0  96.000000       NaN  96.0  96.0  96.0  96.0  96.0    1.0   \n",
       "\n",
       "                                                             \n",
       "               mean       std   min   25%   50%   75%   max  \n",
       "Date                                                         \n",
       "20230102  73.333333  3.785939  69.0  72.0  75.0  75.5  76.0  \n",
       "20230103  87.000000       NaN  87.0  87.0  87.0  87.0  87.0  \n",
       "20230104  76.000000       NaN  76.0  76.0  76.0  76.0  76.0  "
      ]
     },
     "execution_count": 4,
     "metadata": {},
     "output_type": "execute_result"
    }
   ],
   "source": [
    "adams_act.groupby('Date').describe()"
   ]
  },
  {
   "cell_type": "code",
   "execution_count": 5,
   "metadata": {},
   "outputs": [
    {
     "data": {
      "text/plain": [
       "          Act  Breath\n",
       "Date                 \n",
       "20230102    3       3\n",
       "20230103    1       1\n",
       "20230104    1       1"
      ]
     },
     "execution_count": 5,
     "metadata": {},
     "output_type": "execute_result"
    }
   ],
   "source": [
    "adams_act.groupby('Date').count()"
   ]
  },
  {
   "cell_type": "code",
   "execution_count": 6,
   "metadata": {},
   "outputs": [
    {
     "data": {
      "text/plain": [
       "Date\n",
       "20230102    3\n",
       "20230103    1\n",
       "20230104    1\n",
       "dtype: int64"
      ]
     },
     "execution_count": 6,
     "metadata": {},
     "output_type": "execute_result"
    }
   ],
   "source": [
    "adams_act.groupby('Date').size()"
   ]
  },
  {
   "cell_type": "code",
   "execution_count": 7,
   "metadata": {},
   "outputs": [
    {
     "data": {
      "text/plain": [
       "          Act  Breath\n",
       "Date                 \n",
       "20230102   81      69"
      ]
     },
     "execution_count": 7,
     "metadata": {},
     "output_type": "execute_result"
    }
   ],
   "source": [
    "adams_act.groupby('Date').nth(2)"
   ]
  },
  {
   "cell_type": "code",
   "execution_count": 8,
   "metadata": {},
   "outputs": [
    {
     "data": {
      "text/plain": [
       "Date\n",
       "20230102    262\n",
       "20230103     65\n",
       "20230104     96\n",
       "Name: Act, dtype: int64"
      ]
     },
     "execution_count": 8,
     "metadata": {},
     "output_type": "execute_result"
    }
   ],
   "source": [
    "adams_act.groupby('Date')['Act'].sum()"
   ]
  },
  {
   "cell_type": "code",
   "execution_count": 9,
   "metadata": {},
   "outputs": [
    {
     "data": {
      "text/plain": [
       "          Act  Breath\n",
       "Date                 \n",
       "20230102  262     220\n",
       "20230103   65      87\n",
       "20230104   96      76"
      ]
     },
     "execution_count": 9,
     "metadata": {},
     "output_type": "execute_result"
    }
   ],
   "source": [
    "adams_act.groupby('Date').sum()"
   ]
  },
  {
   "cell_type": "code",
   "execution_count": 10,
   "metadata": {},
   "outputs": [
    {
     "data": {
      "text/plain": [
       "                Act     Breath\n",
       "Date                          \n",
       "20230102  87.333333  73.333333\n",
       "20230103  65.000000  87.000000\n",
       "20230104  96.000000  76.000000"
      ]
     },
     "execution_count": 10,
     "metadata": {},
     "output_type": "execute_result"
    }
   ],
   "source": [
    "adams_act.groupby('Date').mean()"
   ]
  },
  {
   "cell_type": "code",
   "execution_count": 11,
   "metadata": {},
   "outputs": [
    {
     "data": {
      "text/plain": [
       "           Act  Breath\n",
       "Date                  \n",
       "20230102  89.0    75.0\n",
       "20230103  65.0    87.0\n",
       "20230104  96.0    76.0"
      ]
     },
     "execution_count": 11,
     "metadata": {},
     "output_type": "execute_result"
    }
   ],
   "source": [
    "adams_act.groupby('Date').median()"
   ]
  },
  {
   "cell_type": "code",
   "execution_count": 12,
   "metadata": {},
   "outputs": [
    {
     "data": {
      "text/plain": [
       "          Act  Breath\n",
       "Date                 \n",
       "20230102   81      69\n",
       "20230103   65      87\n",
       "20230104   96      76"
      ]
     },
     "execution_count": 12,
     "metadata": {},
     "output_type": "execute_result"
    }
   ],
   "source": [
    "adams_act.groupby('Date').min()"
   ]
  },
  {
   "cell_type": "code",
   "execution_count": 13,
   "metadata": {},
   "outputs": [
    {
     "data": {
      "text/plain": [
       "          Act  Breath\n",
       "Date                 \n",
       "20230102   92      76\n",
       "20230103   65      87\n",
       "20230104   96      76"
      ]
     },
     "execution_count": 13,
     "metadata": {},
     "output_type": "execute_result"
    }
   ],
   "source": [
    "adams_act.groupby('Date').max()"
   ]
  },
  {
   "attachments": {},
   "cell_type": "markdown",
   "metadata": {},
   "source": [
    "### 7.2.1 aggregate/aggメソッド"
   ]
  },
  {
   "cell_type": "code",
   "execution_count": 14,
   "metadata": {},
   "outputs": [
    {
     "data": {
      "text/plain": [
       "         Act                     Breath                    \n",
       "         min max       mean  sum    min max       mean  sum\n",
       "Date                                                       \n",
       "20230102  81  92  87.333333  262     69  76  73.333333  220\n",
       "20230103  65  65  65.000000   65     87  87  87.000000   87\n",
       "20230104  96  96  96.000000   96     76  76  76.000000   76"
      ]
     },
     "execution_count": 14,
     "metadata": {},
     "output_type": "execute_result"
    }
   ],
   "source": [
    "adams_act.groupby('Date').aggregate([min, max, np.mean, sum])"
   ]
  },
  {
   "attachments": {},
   "cell_type": "markdown",
   "metadata": {},
   "source": [
    "### 7.2.2 filterメソッド"
   ]
  },
  {
   "cell_type": "code",
   "execution_count": 15,
   "metadata": {},
   "outputs": [
    {
     "data": {
      "text/plain": [
       "       Date  Act  Breath\n",
       "0  20230102   92      76\n",
       "1  20230102   89      75\n",
       "2  20230102   81      69"
      ]
     },
     "execution_count": 15,
     "metadata": {},
     "output_type": "execute_result"
    }
   ],
   "source": [
    "def filter_f(a):\n",
    "  return a['Date'].count() > 1\n",
    "\n",
    "adams_act.groupby('Date').filter(filter_f)"
   ]
  },
  {
   "cell_type": "code",
   "execution_count": 16,
   "metadata": {},
   "outputs": [
    {
     "data": {
      "text/plain": [
       "   Act  Breath\n",
       "0   92      76\n",
       "1   89      75\n",
       "2   81      69\n",
       "3   65      87\n",
       "4   96      76"
      ]
     },
     "execution_count": 16,
     "metadata": {},
     "output_type": "execute_result"
    }
   ],
   "source": [
    "adams_act.filter(items=['Act', 'Breath'])"
   ]
  },
  {
   "cell_type": "code",
   "execution_count": 17,
   "metadata": {},
   "outputs": [
    {
     "data": {
      "text/plain": [
       "   Act\n",
       "0   92\n",
       "1   89\n",
       "2   81\n",
       "3   65\n",
       "4   96"
      ]
     },
     "execution_count": 17,
     "metadata": {},
     "output_type": "execute_result"
    }
   ],
   "source": [
    "# likeパラメータ\n",
    "adams_act.filter(like='Ac')"
   ]
  },
  {
   "attachments": {},
   "cell_type": "markdown",
   "metadata": {},
   "source": [
    "### 7.2.3 applyメソッド"
   ]
  },
  {
   "cell_type": "code",
   "execution_count": 18,
   "metadata": {},
   "outputs": [
    {
     "data": {
      "text/plain": [
       "                              Date  Act  Breath\n",
       "Date                                           \n",
       "20230102  202301022023010220230102  262     220\n",
       "20230103                  20230103   65      87\n",
       "20230104                  20230104   96      76"
      ]
     },
     "execution_count": 18,
     "metadata": {},
     "output_type": "execute_result"
    }
   ],
   "source": [
    "adams_act.groupby('Date').apply(np.sum)"
   ]
  },
  {
   "cell_type": "code",
   "execution_count": 19,
   "metadata": {},
   "outputs": [
    {
     "name": "stderr",
     "output_type": "stream",
     "text": [
      "C:\\Users\\sunin\\AppData\\Local\\Temp\\ipykernel_10420\\872680869.py:4: FutureWarning: Not prepending group keys to the result index of transform-like apply. In the future, the group keys will be included in the index, regardless of whether the applied function returns a like-indexed object.\n",
      "To preserve the previous behavior, use\n",
      "\n",
      "\t>>> .groupby(..., group_keys=False)\n",
      "\n",
      "To adopt the future behavior and silence this warning, use \n",
      "\n",
      "\t>>> .groupby(..., group_keys=True)\n",
      "  adams_act.groupby('Date').apply(apply_func, n=3)\n"
     ]
    },
    {
     "data": {
      "text/plain": [
       "      Act  Breath\n",
       "0  778688  438976\n",
       "1  704969  421875\n",
       "2  531441  328509\n",
       "3  274625  658503\n",
       "4  884736  438976"
      ]
     },
     "execution_count": 19,
     "metadata": {},
     "output_type": "execute_result"
    }
   ],
   "source": [
    "def apply_func(a, n):\n",
    "  return a**n\n",
    "\n",
    "adams_act.groupby('Date').apply(apply_func, n=3)"
   ]
  },
  {
   "cell_type": "code",
   "execution_count": 20,
   "metadata": {},
   "outputs": [
    {
     "name": "stderr",
     "output_type": "stream",
     "text": [
      "C:\\Users\\sunin\\AppData\\Local\\Temp\\ipykernel_10420\\108174572.py:5: FutureWarning: Not prepending group keys to the result index of transform-like apply. In the future, the group keys will be included in the index, regardless of whether the applied function returns a like-indexed object.\n",
      "To preserve the previous behavior, use\n",
      "\n",
      "\t>>> .groupby(..., group_keys=False)\n",
      "\n",
      "To adopt the future behavior and silence this warning, use \n",
      "\n",
      "\t>>> .groupby(..., group_keys=True)\n",
      "  adams_act.groupby('Date').apply(apply_func)\n"
     ]
    },
    {
     "data": {
      "text/plain": [
       "       Date  Act  Breath  Act2\n",
       "0  20230102   92      76  8464\n",
       "1  20230102   89      75  7921\n",
       "2  20230102   81      69  6561\n",
       "3  20230103   65      87  4225\n",
       "4  20230104   96      76  9216"
      ]
     },
     "execution_count": 20,
     "metadata": {},
     "output_type": "execute_result"
    }
   ],
   "source": [
    "def apply_func(a):\n",
    "  a['Act2'] = a['Act']**2\n",
    "  return a\n",
    "\n",
    "adams_act.groupby('Date').apply(apply_func)"
   ]
  },
  {
   "attachments": {},
   "cell_type": "markdown",
   "metadata": {},
   "source": [
    "### 7.2.5 applymapメソッド"
   ]
  },
  {
   "cell_type": "code",
   "execution_count": 21,
   "metadata": {},
   "outputs": [
    {
     "data": {
      "text/plain": [
       "           Act  Breath\n",
       "Date                  \n",
       "20230102  8464    5776\n",
       "20230102  7921    5625\n",
       "20230102  6561    4761\n",
       "20230103  4225    7569\n",
       "20230104  9216    5776"
      ]
     },
     "execution_count": 21,
     "metadata": {},
     "output_type": "execute_result"
    }
   ],
   "source": [
    "adams_act_wo_date = adams_act.set_index('Date')\n",
    "adams_act_wo_date.applymap(lambda x: x**2)"
   ]
  },
  {
   "attachments": {},
   "cell_type": "markdown",
   "metadata": {},
   "source": [
    "### 7.2.6 transformメソッド"
   ]
  },
  {
   "cell_type": "code",
   "execution_count": 22,
   "metadata": {},
   "outputs": [
    {
     "data": {
      "text/plain": [
       "   Act  Breath\n",
       "0  262     220\n",
       "1  262     220\n",
       "2  262     220\n",
       "3   65      87\n",
       "4   96      76"
      ]
     },
     "execution_count": 22,
     "metadata": {},
     "output_type": "execute_result"
    }
   ],
   "source": [
    "adams_act.groupby('Date').transform(np.sum)"
   ]
  }
 ],
 "metadata": {
  "kernelspec": {
   "display_name": "Python 3",
   "language": "python",
   "name": "python3"
  },
  "language_info": {
   "codemirror_mode": {
    "name": "ipython",
    "version": 3
   },
   "file_extension": ".py",
   "mimetype": "text/x-python",
   "name": "python",
   "nbconvert_exporter": "python",
   "pygments_lexer": "ipython3",
   "version": "3.10.4"
  },
  "orig_nbformat": 4,
  "vscode": {
   "interpreter": {
    "hash": "369f2c481f4da34e4445cda3fffd2e751bd1c4d706f27375911949ba6bb62e1c"
   }
  }
 },
 "nbformat": 4,
 "nbformat_minor": 2
}
